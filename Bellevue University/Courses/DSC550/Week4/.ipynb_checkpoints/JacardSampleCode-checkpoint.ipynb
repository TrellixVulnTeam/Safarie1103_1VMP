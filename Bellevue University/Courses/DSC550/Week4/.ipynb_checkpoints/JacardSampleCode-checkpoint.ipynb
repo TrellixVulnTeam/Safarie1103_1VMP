{
 "cells": [
  {
   "cell_type": "code",
   "execution_count": 1,
   "metadata": {},
   "outputs": [],
   "source": [
    "#jacard  - comparing words\n",
    "\n",
    "import collections"
   ]
  },
  {
   "cell_type": "code",
   "execution_count": 2,
   "metadata": {
    "pycharm": {
     "name": "#%%\n"
    }
   },
   "outputs": [],
   "source": [
    "def jaccard(a, b):\n",
    "    c = a.intersection(b)\n",
    "    print(\"this is intersection\", c)\n",
    "    d=a.union(b)\n",
    "    print(\"this is union\", d)\n",
    "    _a = collections.Counter(a)\n",
    "    _b = collections.Counter(b)\n",
    "    c = (_a - _b) + (_b - _a)\n",
    "    print(\"c\", c)\n",
    "    n = sum(c.values())\n",
    "    print(_a)\n",
    "    print(_b)\n",
    "    print(\"_a and _b\")\n",
    "    print (\"n\", n)\n",
    "    return float(len(c)) / (len(a) + len(b) - len(c))"
   ]
  },
  {
   "cell_type": "code",
   "execution_count": 3,
   "metadata": {
    "pycharm": {
     "name": "#%%\n"
    }
   },
   "outputs": [
    {
     "name": "stdout",
     "output_type": "stream",
     "text": [
      "words1:   {'rat', 'cat', 'gerbil', 'dog'}\n",
      "words2:   {'mouse', 'dog', 'cow', 'horse', 'rat', 'cat'}\n",
      "this is intersection {'rat', 'cat', 'dog'}\n",
      "this is union {'gerbil', 'mouse', 'dog', 'cow', 'horse', 'rat', 'cat'}\n",
      "c Counter({'gerbil': 1, 'mouse': 1, 'cow': 1, 'horse': 1})\n",
      "Counter({'rat': 1, 'cat': 1, 'gerbil': 1, 'dog': 1})\n",
      "Counter({'mouse': 1, 'dog': 1, 'cow': 1, 'horse': 1, 'rat': 1, 'cat': 1})\n",
      "_a and _b\n",
      "n 4\n",
      "this is z 66.66666666666666\n"
     ]
    }
   ],
   "source": [
    "list1 = ['dog', 'cat', 'rat', 'gerbil', 'rat', 'rat']\n",
    "list2 = ['dog', 'cat', 'mouse', 'cow', 'horse', 'rat']\n",
    "\n",
    "words1 = set(list1)\n",
    "words2 = set(list2)\n",
    "print(\"words1:  \", words1)\n",
    "print(\"words2:  \", words2)\n",
    "z = jaccard(words1, words2)\n",
    "print(\"this is z\", z*100)\n",
    "\n"
   ]
  }
 ],
 "metadata": {
  "kernelspec": {
   "display_name": "Python 3",
   "language": "python",
   "name": "python3"
  },
  "language_info": {
   "codemirror_mode": {
    "name": "ipython",
    "version": 3
   },
   "file_extension": ".py",
   "mimetype": "text/x-python",
   "name": "python",
   "nbconvert_exporter": "python",
   "pygments_lexer": "ipython3",
   "version": "3.7.4"
  },
  "pycharm": {
   "stem_cell": {
    "cell_type": "raw",
    "metadata": {
     "collapsed": false
    },
    "source": []
   }
  }
 },
 "nbformat": 4,
 "nbformat_minor": 1
}
