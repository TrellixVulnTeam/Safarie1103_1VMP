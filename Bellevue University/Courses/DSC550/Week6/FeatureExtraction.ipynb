{
 "cells": [
  {
   "cell_type": "code",
   "execution_count": 14,
   "metadata": {},
   "outputs": [],
   "source": [
    "\n",
    "import pandas as pd\n",
    "import lxml\n",
    "import requests\n",
    "from sklearn.feature_extraction.text import CountVectorizer\n",
    "from sklearn.model_selection import train_test_split\n",
    "from sklearn.naive_bayes import MultinomialNB\n",
    "import warnings\n",
    "import lxml.etree\n",
    "import xml.etree.ElementTree as ET\n",
    "\n",
    "warnings.filterwarnings(\"ignore\")"
   ]
  },
  {
   "cell_type": "code",
   "execution_count": 17,
   "metadata": {},
   "outputs": [
    {
     "name": "stdout",
     "output_type": "stream",
     "text": [
      "<lxml.etree.XMLParser object at 0x05484810>\n"
     ]
    }
   ],
   "source": [
    "url_list = [\"http://feeds.reuters.com.reuters/bussinessNews\",\n",
    "            \"http://feeds.reuters.com.reuters/technologyNews\",\n",
    "           \"http://feeds.reuters.com.reuters/sportsNews\"]\n",
    "url_list = [\"https://ir.thomsonreuters.com/rss/news-releases.xml\"]\n",
    "documents = []\n",
    "for url in url_list:\n",
    "    response = requests.get(url)\n",
    "    xml_page = response.text\n",
    "    #print(xml_page)\n",
    "    parser = lxml.etree.XMLParser(recover=True,encoding='utf-8')\n",
    "    #print(parser)\n",
    "    documents.append(lxml.etree.fromstring(xml_page.encode(\"utf-8\"),parser=parser))"
   ]
  },
  {
   "cell_type": "code",
   "execution_count": null,
   "metadata": {},
   "outputs": [],
   "source": []
  },
  {
   "cell_type": "code",
   "execution_count": null,
   "metadata": {},
   "outputs": [],
   "source": []
  },
  {
   "cell_type": "code",
   "execution_count": null,
   "metadata": {},
   "outputs": [],
   "source": []
  }
 ],
 "metadata": {
  "kernelspec": {
   "display_name": "Python 3",
   "language": "python",
   "name": "python3"
  },
  "language_info": {
   "codemirror_mode": {
    "name": "ipython",
    "version": 3
   },
   "file_extension": ".py",
   "mimetype": "text/x-python",
   "name": "python",
   "nbconvert_exporter": "python",
   "pygments_lexer": "ipython3",
   "version": "3.7.4"
  }
 },
 "nbformat": 4,
 "nbformat_minor": 1
}