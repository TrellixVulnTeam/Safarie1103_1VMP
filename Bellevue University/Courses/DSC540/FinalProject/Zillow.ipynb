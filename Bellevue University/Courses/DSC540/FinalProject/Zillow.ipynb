{
 "cells": [
  {
   "cell_type": "code",
   "execution_count": 27,
   "metadata": {},
   "outputs": [],
   "source": [
    "\n",
    "\n",
    "from lxml import html\n",
    "import requests\n",
    "import unicodecsv as csv\n",
    "import argparse\n",
    "import json\n",
    "from bs4 import BeautifulSoup"
   ]
  },
  {
   "cell_type": "code",
   "execution_count": 28,
   "metadata": {
    "pycharm": {
     "name": "#%%\n"
    }
   },
   "outputs": [],
   "source": [
    "def clean(text):\n",
    "    if text:\n",
    "        return ' '.join(' '.join(text).split())\n",
    "    return None\n",
    "\n",
    "\n",
    "def get_headers():\n",
    "    # Creating headers.\n",
    "    headers = {'accept': 'text/html,application/xhtml+xml,application/xml;q=0.9,image/webp,*/*;q=0.8',\n",
    "               'accept-encoding': 'gzip, deflate, sdch, br',\n",
    "               'accept-language': 'en-GB,en;q=0.8,en-US;q=0.6,ml;q=0.4',\n",
    "               'cache-control': 'max-age=0',\n",
    "               'upgrade-insecure-requests': '1',\n",
    "               'user-agent': 'Mozilla/5.0 (X11; Linux x86_64) AppleWebKit/537.36 (KHTML, like Gecko) Chrome/74.0.3729.131 Safari/537.36'}\n",
    "    return headers\n",
    "\n",
    "\n",
    "def create_url(zipcode, filter):\n",
    "    # Creating Zillow URL based on the filter.\n",
    "\n",
    "    if filter == \"newest\":\n",
    "        url = \"https://www.zillow.com/homes/for_sale/{0}/0_singlestory/days_sort\".format(zipcode)\n",
    "    elif filter == \"cheapest\":\n",
    "        url = \"https://www.zillow.com/homes/for_sale/{0}/0_singlestory/pricea_sort/\".format(zipcode)\n",
    "    else:\n",
    "        url = \"https://www.zillow.com/homes/for_sale/{0}_rb/?fromHomePage=true&shouldFireSellPageImplicitClaimGA=false&fromHomePageTab=buy\".format(zipcode)\n",
    "    print(url)\n",
    "    return url\n",
    "\n",
    "\n",
    "def save_to_file(response):\n",
    "    # saving response to `response.html`\n",
    "\n",
    "    with open(\"response.html\", 'w') as fp:\n",
    "        fp.write(response.text)\n",
    "\n",
    "\n",
    "def write_data_to_csv(data):\n",
    "    # saving scraped data to csv.\n",
    "\n",
    "    with open(\"properties-%s.csv\" % (zipcode), 'wb') as csvfile:\n",
    "        fieldnames = ['title', 'address', 'city', 'state', 'postal_code', 'price', 'facts and features', 'real estate provider', 'url']\n",
    "        writer = csv.DictWriter(csvfile, fieldnames=fieldnames)\n",
    "        writer.writeheader()\n",
    "        for row in data:\n",
    "            writer.writerow(row)\n",
    "\n",
    "\n",
    "def get_response(url):\n",
    "    # Getting response from zillow.com.\n",
    "\n",
    "    for i in range(5):\n",
    "        response = requests.get(url, headers=get_headers())\n",
    "        print(\"status code received:\", response.status_code)\n",
    "        if response.status_code != 200:\n",
    "            # saving response to file for debugging purpose.\n",
    "            save_to_file(response)\n",
    "            continue\n",
    "        else:\n",
    "            save_to_file(response)\n",
    "            return response\n",
    "    return None\n",
    "\n",
    "def get_data_from_json(raw_json_data):\n",
    "    # getting data from json (type 2 of their A/B testing page)\n",
    "\n",
    "    cleaned_data = clean(raw_json_data).replace('<!--', \"\").replace(\"-->\", \"\")\n",
    "    properties_list = []\n",
    "\n",
    "    try:\n",
    "        json_data = json.loads(cleaned_data)\n",
    "        search_results = json_data.get('searchResults').get('listResults', [])\n",
    "\n",
    "        for properties in search_results:\n",
    "            address = properties.get('addressWithZip')\n",
    "            property_info = properties.get('hdpData', {}).get('homeInfo')\n",
    "            city = property_info.get('city')\n",
    "            state = property_info.get('state')\n",
    "            postal_code = property_info.get('zipcode')\n",
    "            price = properties.get('price')\n",
    "            bedrooms = properties.get('beds')\n",
    "            bathrooms = properties.get('baths')\n",
    "            area = properties.get('area')\n",
    "            info = f'{bedrooms} bds, {bathrooms} ba ,{area} sqft'\n",
    "            broker = properties.get('brokerName')\n",
    "            property_url = properties.get('detailUrl')\n",
    "            title = properties.get('statusText')\n",
    "\n",
    "            data = {'address': address,\n",
    "                    'city': city,\n",
    "                    'state': state,\n",
    "                    'postal_code': postal_code,\n",
    "                    'price': price,\n",
    "                    'facts and features': info,\n",
    "                    'real estate provider': broker,\n",
    "                    'url': property_url,\n",
    "                    'title': title}\n",
    "            properties_list.append(data)\n",
    "\n",
    "        return properties_list\n",
    "\n",
    "    except ValueError:\n",
    "        print(\"Invalid json\")\n",
    "        return None\n",
    "\n",
    "\n",
    "def parse(zipcode, filter=None):\n",
    "    url = create_url(zipcode, filter)\n",
    "    response = get_response(url)\n",
    "\n",
    "    if not response:\n",
    "        print(\"Failed to fetch the page, please check `response.html` to see the response received from zillow.com.\")\n",
    "        return None\n",
    "\n",
    "    parser = html.fromstring(response.text)\n",
    "    search_results = parser.xpath(\"//div[@id='search-results']//article\")\n",
    "\n",
    "    if not search_results:\n",
    "        print(\"parsing from json data\")\n",
    "        # identified as type 2 page\n",
    "        raw_json_data = parser.xpath('//script[@data-zrr-shared-data-key=\"mobileSearchPageStore\"]//text()')\n",
    "        return get_data_from_json(raw_json_data)\n",
    "\n",
    "    print(\"parsing from html page\")\n",
    "    properties_list = []\n",
    "    for properties in search_results:\n",
    "        raw_address = properties.xpath(\".//span[@itemprop='address']//span[@itemprop='streetAddress']//text()\")\n",
    "        raw_city = properties.xpath(\".//span[@itemprop='address']//span[@itemprop='addressLocality']//text()\")\n",
    "        raw_state = properties.xpath(\".//span[@itemprop='address']//span[@itemprop='addressRegion']//text()\")\n",
    "        raw_postal_code = properties.xpath(\".//span[@itemprop='address']//span[@itemprop='postalCode']//text()\")\n",
    "        raw_price = properties.xpath(\".//span[@class='zsg-photo-card-price']//text()\")\n",
    "        raw_info = properties.xpath(\".//span[@class='zsg-photo-card-info']//text()\")\n",
    "        raw_broker_name = properties.xpath(\".//span[@class='zsg-photo-card-broker-name']//text()\")\n",
    "        url = properties.xpath(\".//a[contains(@class,'overlay-link')]/@href\")\n",
    "        raw_title = properties.xpath(\".//h4//text()\")\n",
    "\n",
    "        address = clean(raw_address)\n",
    "        city = clean(raw_city)\n",
    "        state = clean(raw_state)\n",
    "        postal_code = clean(raw_postal_code)\n",
    "        price = clean(raw_price)\n",
    "        info = clean(raw_info).replace(u\"\\xb7\", ',')\n",
    "        broker = clean(raw_broker_name)\n",
    "        title = clean(raw_title)\n",
    "        property_url = \"https://www.zillow.com\" + url[0] if url else None\n",
    "        is_forsale = properties.xpath('.//span[@class=\"zsg-icon-for-sale\"]')\n",
    "\n",
    "        properties = {'address': address,\n",
    "                      'city': city,\n",
    "                      'state': state,\n",
    "                      'postal_code': postal_code,\n",
    "                      'price': price,\n",
    "                      'facts and features': info,\n",
    "                      'real estate provider': broker,\n",
    "                      'url': property_url,\n",
    "                      'title': title}\n",
    "        if is_forsale:\n",
    "            properties_list.append(properties)\n",
    "    return properties_list"
   ]
  },
  {
   "cell_type": "code",
   "execution_count": 30,
   "metadata": {},
   "outputs": [
    {
     "name": "stdout",
     "output_type": "stream",
     "text": [
      "https://www.zillow.com/homes/for_sale/78133_rb/?fromHomePage=true&shouldFireSellPageImplicitClaimGA=false&fromHomePageTab=buy\n"
     ]
    }
   ],
   "source": [
    "url = create_url(\"78133\",\"\")"
   ]
  },
  {
   "cell_type": "code",
   "execution_count": 34,
   "metadata": {},
   "outputs": [
    {
     "name": "stdout",
     "output_type": "stream",
     "text": [
      "status code received: 200\n",
      "<html><head><meta name=\"robots\" content=\"noindex, nofollow\"/><link href=\"https://www.zillowstatic.com/vstatic/80d5e73/static/css/z-pages/captcha.css\" type=\"text/css\" rel=\"stylesheet\" media=\"screen\"/><script>\n",
      "        window._pxAppId = 'PXHYx10rg3';\n",
      "        window._pxJsClientSrc = '/HYx10rg3/init.js';\n",
      "        window._pxHostUrl = '/HYx10rg3/xhr';\n",
      "        window._pxFirstPartyEnabled = true;\n",
      "        window._pxreCaptchaTheme='light';\n",
      "    </script><script type=\"text/javascript\" src=\"https://captcha.px-cdn.net/PXHYx10rg3/captcha.js?a=c&amp;m=0\"></script>\n",
      "    <script>\n",
      "        function getQueryString(name, url) {\n",
      "            if (!url) url = window.location.href;\n",
      "            name = name.replace(/[\\[\\]]/g, \"\\\\$&\");\n",
      "            var regex = new RegExp(\"[?&]\" + name + \"(=([^&#]*)|&|#|$)\"),\n",
      "                results = regex.exec(url);\n",
      "            if (!results) return null;\n",
      "            if (!results[2]) return '';\n",
      "            return decodeURIComponent(results[2].replace(/\\+/g, \" \"));\n",
      "        }\n",
      "        document.addEventListener(\"DOMContentLoaded\", function(e) {\n",
      "            var uuidVerifyRegExp = /^\\{?[0-9a-fA-F]{8}-[0-9a-fA-F]{4}-[0-9a-fA-F]{4}-[0-9a-fA-F]{4}-[0-9a-fA-F]{12}\\}?$/i;\n",
      "            document.getElementById(\"uuid\").innerText = \"UUID: \" + uuidVerifyRegExp.exec(getQueryString(\"uuid\"));\n",
      "        });\n",
      "\n",
      "        function handleCaptcha(response) {\n",
      "            var vid = getQueryString(\"vid\"); // getQueryString is implemented below\n",
      "            var uuid = getQueryString(\"uuid\");\n",
      "            var name = '_pxCaptcha';\n",
      "            var cookieValue =  btoa(JSON.stringify({r:response,v:vid,u:uuid}));\n",
      "            var cookieParts = [name, '=', cookieValue, '; path=/'];\n",
      "            cookieParts.push('; domain=' + window.location.hostname);\n",
      "            cookieParts.push('; max-age=10');//expire after 10 seconds\n",
      "            document.cookie = cookieParts.join('');\n",
      "            var originalURL = getOriginalUrl(\"url\");\n",
      "            var originalHost = window.location.host;\n",
      "            var newHref = window.location.protocol + \"//\" + originalHost;\n",
      "            originalURL = originalURL || '/';\n",
      "            newHref = newHref + originalURL;\n",
      "            window.location.href = newHref;\n",
      "        }\n",
      "\n",
      "        function getOriginalUrl(name) {\n",
      "            var url = getQueryString(name);\n",
      "            if (!url) return null;\n",
      "            var regExMatcher = new RegExp(\"(([^&#@]*)|&|#|$)\");\n",
      "            var matches = regExMatcher.exec(url);\n",
      "            if (!matches) return null;\n",
      "            return matches[0];\n",
      "        }\n",
      "    </script></head><body><main class=\"zsg-layout-content\"><div class=\"error-content-block\"><div class=\"error-text-content\"><!-- <h1>Captcha</h1> --><h5>Please verify you're a human to continue.</h5><div id=\"content\" class=\"captcha-container\"><div id=\"px-captcha\" data-callback=\"handleCaptcha\"></div><img src=\"https://www.zillowstatic.com/static/logos/logo-65x14.png\" width=\"65\" alt=\"Zillow\" height=\"14\"></img></div></div></div></main><h4 id=\"uuid\" class=\"uuid-string zsg-fineprint\"></h4></body></html><!-- H:039  T:1ms  S:2605  R:Fri May 01 12:06:58 PDT 2020  B:5.0.64787-master.9969509~delivery_ready.1ff4e2d1 -->\n"
     ]
    }
   ],
   "source": [
    "response = get_response(url)\n",
    "print(response.text)"
   ]
  },
  {
   "cell_type": "code",
   "execution_count": 21,
   "metadata": {},
   "outputs": [
    {
     "name": "stdout",
     "output_type": "stream",
     "text": [
      "[]\n"
     ]
    }
   ],
   "source": [
    "parser = html.fromstring(response.text)\n",
    "search_results = parser.xpath(\"//div[@id='search-results']//article\")\n",
    "print(search_results)"
   ]
  },
  {
   "cell_type": "code",
   "execution_count": 18,
   "metadata": {},
   "outputs": [
    {
     "name": "stdout",
     "output_type": "stream",
     "text": [
      "parsing from json data\n"
     ]
    }
   ],
   "source": [
    "if not search_results:\n",
    "        print(\"parsing from json data\")"
   ]
  },
  {
   "cell_type": "code",
   "execution_count": 23,
   "metadata": {
    "pycharm": {
     "name": "#%%\n"
    }
   },
   "outputs": [],
   "source": [
    "zipcode = \"02126\"\n",
    "sort = \"newest\"\n",
    "#scraped_data = parse(zipcode, sort)\n",
    "#if scraped_data:\n",
    "#    print (\"Writing data to output file\")\n",
    "#    write_data_to_csv(scraped_data)"
   ]
  },
  {
   "cell_type": "code",
   "execution_count": 31,
   "metadata": {},
   "outputs": [],
   "source": [
    "#!/usr/bin/python\n",
    "# -*- coding: utf-8 -*-\n",
    "\n",
    "import urllib.request\n",
    "import urllib.parse\n",
    "import urllib.error\n",
    "from bs4 import BeautifulSoup\n",
    "import ssl\n",
    "import json\n",
    "import ast\n",
    "import os\n",
    "from urllib.request import Request, urlopen\n",
    "\n"
   ]
  },
  {
   "cell_type": "code",
   "execution_count": 32,
   "metadata": {},
   "outputs": [
    {
     "ename": "JSONDecodeError",
     "evalue": "Expecting value: line 1 column 1 (char 0)",
     "output_type": "error",
     "traceback": [
      "\u001B[1;31m---------------------------------------------------------------------------\u001B[0m",
      "\u001B[1;31mJSONDecodeError\u001B[0m                           Traceback (most recent call last)",
      "\u001B[1;32m<ipython-input-32-5a663371c711>\u001B[0m in \u001B[0;36m<module>\u001B[1;34m\u001B[0m\n\u001B[0;32m     37\u001B[0m                              attrs={'type': 'application/ld+json'})):\n\u001B[0;32m     38\u001B[0m     \u001B[1;32mif\u001B[0m \u001B[0mi\u001B[0m \u001B[1;33m==\u001B[0m \u001B[1;36m0\u001B[0m\u001B[1;33m:\u001B[0m\u001B[1;33m\u001B[0m\u001B[1;33m\u001B[0m\u001B[0m\n\u001B[1;32m---> 39\u001B[1;33m         \u001B[0mjson_data\u001B[0m \u001B[1;33m=\u001B[0m \u001B[0mjson\u001B[0m\u001B[1;33m.\u001B[0m\u001B[0mloads\u001B[0m\u001B[1;33m(\u001B[0m\u001B[0mscript\u001B[0m\u001B[1;33m.\u001B[0m\u001B[0mtext\u001B[0m\u001B[1;33m)\u001B[0m\u001B[1;33m\u001B[0m\u001B[1;33m\u001B[0m\u001B[0m\n\u001B[0m\u001B[0;32m     40\u001B[0m         \u001B[0mproperty_json\u001B[0m\u001B[1;33m[\u001B[0m\u001B[1;34m'Details_Broad'\u001B[0m\u001B[1;33m]\u001B[0m\u001B[1;33m[\u001B[0m\u001B[1;34m'Number of Rooms'\u001B[0m\u001B[1;33m]\u001B[0m \u001B[1;33m=\u001B[0m \u001B[0mjson_data\u001B[0m\u001B[1;33m[\u001B[0m\u001B[1;34m'numberOfRooms'\u001B[0m\u001B[1;33m]\u001B[0m\u001B[1;33m\u001B[0m\u001B[1;33m\u001B[0m\u001B[0m\n\u001B[0;32m     41\u001B[0m         \u001B[0mproperty_json\u001B[0m\u001B[1;33m[\u001B[0m\u001B[1;34m'Details_Broad'\u001B[0m\u001B[1;33m]\u001B[0m\u001B[1;33m[\u001B[0m\u001B[1;34m'Floor Size (in sqft)'\u001B[0m\u001B[1;33m]\u001B[0m \u001B[1;33m=\u001B[0m \u001B[0mjson_data\u001B[0m\u001B[1;33m[\u001B[0m\u001B[1;34m'floorSize'\u001B[0m\u001B[1;33m]\u001B[0m\u001B[1;33m[\u001B[0m\u001B[1;34m'value'\u001B[0m\u001B[1;33m]\u001B[0m\u001B[1;33m\u001B[0m\u001B[1;33m\u001B[0m\u001B[0m\n",
      "\u001B[1;32m~\\AppData\\Local\\Programs\\Python\\Python37-32\\lib\\json\\__init__.py\u001B[0m in \u001B[0;36mloads\u001B[1;34m(s, encoding, cls, object_hook, parse_float, parse_int, parse_constant, object_pairs_hook, **kw)\u001B[0m\n\u001B[0;32m    346\u001B[0m             \u001B[0mparse_int\u001B[0m \u001B[1;32mis\u001B[0m \u001B[1;32mNone\u001B[0m \u001B[1;32mand\u001B[0m \u001B[0mparse_float\u001B[0m \u001B[1;32mis\u001B[0m \u001B[1;32mNone\u001B[0m \u001B[1;32mand\u001B[0m\u001B[1;33m\u001B[0m\u001B[1;33m\u001B[0m\u001B[0m\n\u001B[0;32m    347\u001B[0m             parse_constant is None and object_pairs_hook is None and not kw):\n\u001B[1;32m--> 348\u001B[1;33m         \u001B[1;32mreturn\u001B[0m \u001B[0m_default_decoder\u001B[0m\u001B[1;33m.\u001B[0m\u001B[0mdecode\u001B[0m\u001B[1;33m(\u001B[0m\u001B[0ms\u001B[0m\u001B[1;33m)\u001B[0m\u001B[1;33m\u001B[0m\u001B[1;33m\u001B[0m\u001B[0m\n\u001B[0m\u001B[0;32m    349\u001B[0m     \u001B[1;32mif\u001B[0m \u001B[0mcls\u001B[0m \u001B[1;32mis\u001B[0m \u001B[1;32mNone\u001B[0m\u001B[1;33m:\u001B[0m\u001B[1;33m\u001B[0m\u001B[1;33m\u001B[0m\u001B[0m\n\u001B[0;32m    350\u001B[0m         \u001B[0mcls\u001B[0m \u001B[1;33m=\u001B[0m \u001B[0mJSONDecoder\u001B[0m\u001B[1;33m\u001B[0m\u001B[1;33m\u001B[0m\u001B[0m\n",
      "\u001B[1;32m~\\AppData\\Local\\Programs\\Python\\Python37-32\\lib\\json\\decoder.py\u001B[0m in \u001B[0;36mdecode\u001B[1;34m(self, s, _w)\u001B[0m\n\u001B[0;32m    335\u001B[0m \u001B[1;33m\u001B[0m\u001B[0m\n\u001B[0;32m    336\u001B[0m         \"\"\"\n\u001B[1;32m--> 337\u001B[1;33m         \u001B[0mobj\u001B[0m\u001B[1;33m,\u001B[0m \u001B[0mend\u001B[0m \u001B[1;33m=\u001B[0m \u001B[0mself\u001B[0m\u001B[1;33m.\u001B[0m\u001B[0mraw_decode\u001B[0m\u001B[1;33m(\u001B[0m\u001B[0ms\u001B[0m\u001B[1;33m,\u001B[0m \u001B[0midx\u001B[0m\u001B[1;33m=\u001B[0m\u001B[0m_w\u001B[0m\u001B[1;33m(\u001B[0m\u001B[0ms\u001B[0m\u001B[1;33m,\u001B[0m \u001B[1;36m0\u001B[0m\u001B[1;33m)\u001B[0m\u001B[1;33m.\u001B[0m\u001B[0mend\u001B[0m\u001B[1;33m(\u001B[0m\u001B[1;33m)\u001B[0m\u001B[1;33m)\u001B[0m\u001B[1;33m\u001B[0m\u001B[1;33m\u001B[0m\u001B[0m\n\u001B[0m\u001B[0;32m    338\u001B[0m         \u001B[0mend\u001B[0m \u001B[1;33m=\u001B[0m \u001B[0m_w\u001B[0m\u001B[1;33m(\u001B[0m\u001B[0ms\u001B[0m\u001B[1;33m,\u001B[0m \u001B[0mend\u001B[0m\u001B[1;33m)\u001B[0m\u001B[1;33m.\u001B[0m\u001B[0mend\u001B[0m\u001B[1;33m(\u001B[0m\u001B[1;33m)\u001B[0m\u001B[1;33m\u001B[0m\u001B[1;33m\u001B[0m\u001B[0m\n\u001B[0;32m    339\u001B[0m         \u001B[1;32mif\u001B[0m \u001B[0mend\u001B[0m \u001B[1;33m!=\u001B[0m \u001B[0mlen\u001B[0m\u001B[1;33m(\u001B[0m\u001B[0ms\u001B[0m\u001B[1;33m)\u001B[0m\u001B[1;33m:\u001B[0m\u001B[1;33m\u001B[0m\u001B[1;33m\u001B[0m\u001B[0m\n",
      "\u001B[1;32m~\\AppData\\Local\\Programs\\Python\\Python37-32\\lib\\json\\decoder.py\u001B[0m in \u001B[0;36mraw_decode\u001B[1;34m(self, s, idx)\u001B[0m\n\u001B[0;32m    353\u001B[0m             \u001B[0mobj\u001B[0m\u001B[1;33m,\u001B[0m \u001B[0mend\u001B[0m \u001B[1;33m=\u001B[0m \u001B[0mself\u001B[0m\u001B[1;33m.\u001B[0m\u001B[0mscan_once\u001B[0m\u001B[1;33m(\u001B[0m\u001B[0ms\u001B[0m\u001B[1;33m,\u001B[0m \u001B[0midx\u001B[0m\u001B[1;33m)\u001B[0m\u001B[1;33m\u001B[0m\u001B[1;33m\u001B[0m\u001B[0m\n\u001B[0;32m    354\u001B[0m         \u001B[1;32mexcept\u001B[0m \u001B[0mStopIteration\u001B[0m \u001B[1;32mas\u001B[0m \u001B[0merr\u001B[0m\u001B[1;33m:\u001B[0m\u001B[1;33m\u001B[0m\u001B[1;33m\u001B[0m\u001B[0m\n\u001B[1;32m--> 355\u001B[1;33m             \u001B[1;32mraise\u001B[0m \u001B[0mJSONDecodeError\u001B[0m\u001B[1;33m(\u001B[0m\u001B[1;34m\"Expecting value\"\u001B[0m\u001B[1;33m,\u001B[0m \u001B[0ms\u001B[0m\u001B[1;33m,\u001B[0m \u001B[0merr\u001B[0m\u001B[1;33m.\u001B[0m\u001B[0mvalue\u001B[0m\u001B[1;33m)\u001B[0m \u001B[1;32mfrom\u001B[0m \u001B[1;32mNone\u001B[0m\u001B[1;33m\u001B[0m\u001B[1;33m\u001B[0m\u001B[0m\n\u001B[0m\u001B[0;32m    356\u001B[0m         \u001B[1;32mreturn\u001B[0m \u001B[0mobj\u001B[0m\u001B[1;33m,\u001B[0m \u001B[0mend\u001B[0m\u001B[1;33m\u001B[0m\u001B[1;33m\u001B[0m\u001B[0m\n",
      "\u001B[1;31mJSONDecodeError\u001B[0m: Expecting value: line 1 column 1 (char 0)"
     ]
    }
   ],
   "source": [
    "# For ignoring SSL certificate errors\n",
    "\n",
    "ctx = ssl.create_default_context()\n",
    "ctx.check_hostname = False\n",
    "ctx.verify_mode = ssl.CERT_NONE\n",
    "\n",
    "# Input from user\n",
    "\n",
    "# url = input('Enter Zillow House Listing Url- ')\n",
    "url = \"https://www.zillow.com/homedetails/638-Grant-Ave-North-Baldwin-NY-11510/31220792_zpid/\"\n",
    "# Making the website believe that you are accessing it using a mozilla browser\n",
    "\n",
    "req = Request(url, headers={'User-Agent': 'Mozilla/5.0'})\n",
    "webpage = urlopen(req).read()\n",
    "\n",
    "# Creating a BeautifulSoup object of the html page for easy extraction of data.\n",
    "\n",
    "soup = BeautifulSoup(webpage, 'html.parser')\n",
    "html = soup.prettify('utf-8')\n",
    "property_json = {}\n",
    "property_json['Details_Broad'] = {}\n",
    "property_json['Address'] = {}\n",
    "\n",
    "# Extract Title of the property listing\n",
    "\n",
    "for title in soup.findAll('title'):\n",
    "    property_json['Title'] = title.text.strip()\n",
    "    break\n",
    "\n",
    "for meta in soup.findAll('meta', attrs={'name': 'description'}):\n",
    "    property_json['Detail_Short'] = meta['content'].strip()\n",
    "\n",
    "for div in soup.findAll('div', attrs={'class': 'character-count-truncated'}):\n",
    "    property_json['Details_Broad']['Description'] = div.text.strip()\n",
    "\n",
    "for (i, script) in enumerate(soup.findAll('script',\n",
    "                             attrs={'type': 'application/ld+json'})):\n",
    "    if i == 0:\n",
    "        json_data = json.loads(script.text)\n",
    "        property_json['Details_Broad']['Number of Rooms'] = json_data['numberOfRooms']\n",
    "        property_json['Details_Broad']['Floor Size (in sqft)'] = json_data['floorSize']['value']\n",
    "        property_json['Address']['Street'] = json_data['address']['streetAddress']\n",
    "        property_json['Address']['Locality'] = json_data['address']['addressLocality']\n",
    "        property_json['Address']['Region'] = json_data['address']['addressRegion']\n",
    "        property_json['Address']['Postal Code'] = json_data['address']['postalCode']\n",
    "    if i == 1:\n",
    "        json_data = json.loads(script.text)\n",
    "        property_json['Price in $'] = json_data['offers']['price']\n",
    "        property_json['Image'] = json_data['image']\n",
    "        break\n",
    "\n",
    "with open('data.json', 'w') as outfile:\n",
    "    json.dump(property_json, outfile, indent=4)\n",
    "\n",
    "with open('output_file.html', 'wb') as file:\n",
    "    file.write(html)\n",
    "\n",
    "print ('----------Extraction of data is complete. Check json file.----------')"
   ]
  },
  {
   "cell_type": "code",
   "execution_count": 38,
   "metadata": {
    "pycharm": {
     "name": "#%%\n"
    }
   },
   "outputs": [],
   "source": [
    "key=\"X1-ZWz1hrldoe5b0r_8z2s9\""
   ]
  },
  {
   "cell_type": "code",
   "execution_count": 43,
   "metadata": {},
   "outputs": [
    {
     "ename": "AttributeError",
     "evalue": "module 'zillow' has no attribute 'ValuationApi'",
     "output_type": "error",
     "traceback": [
      "\u001B[1;31m---------------------------------------------------------------------------\u001B[0m",
      "\u001B[1;31mAttributeError\u001B[0m                            Traceback (most recent call last)",
      "\u001B[1;32m<ipython-input-43-3648a160d8fb>\u001B[0m in \u001B[0;36m<module>\u001B[1;34m\u001B[0m\n\u001B[0;32m      1\u001B[0m \u001B[1;32mimport\u001B[0m \u001B[0mzillow\u001B[0m\u001B[1;33m\u001B[0m\u001B[1;33m\u001B[0m\u001B[0m\n\u001B[1;32m----> 2\u001B[1;33m \u001B[0mapi\u001B[0m\u001B[1;33m=\u001B[0m\u001B[0mzillow\u001B[0m\u001B[1;33m.\u001B[0m\u001B[0mValuationApi\u001B[0m\u001B[1;33m(\u001B[0m\u001B[1;33m)\u001B[0m\u001B[1;33m\u001B[0m\u001B[1;33m\u001B[0m\u001B[0m\n\u001B[0m",
      "\u001B[1;31mAttributeError\u001B[0m: module 'zillow' has no attribute 'ValuationApi'"
     ]
    }
   ],
   "source": [
    "import zillow\n",
    "api=zillow.ValuationApi()"
   ]
  }
 ],
 "metadata": {
  "kernelspec": {
   "display_name": "Python 3",
   "language": "python",
   "name": "python3"
  },
  "language_info": {
   "codemirror_mode": {
    "name": "ipython",
    "version": 3
   },
   "file_extension": ".py",
   "mimetype": "text/x-python",
   "name": "python",
   "nbconvert_exporter": "python",
   "pygments_lexer": "ipython3",
   "version": "3.7.4"
  }
 },
 "nbformat": 4,
 "nbformat_minor": 1
}