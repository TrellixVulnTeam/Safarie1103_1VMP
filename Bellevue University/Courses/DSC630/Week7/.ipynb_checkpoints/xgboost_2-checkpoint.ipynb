{
 "cells": [
  {
   "cell_type": "code",
   "execution_count": null,
   "metadata": {},
   "outputs": [
    {
     "name": "stdout",
     "output_type": "stream",
     "text": [
      "Rows loaded: 1.0mn\n",
      "Rows loaded: 2.0mn\n",
      "Rows loaded: 3.0mn\n",
      "Rows loaded: 4.0mn\n",
      "Rows loaded: 5.0mn\n",
      "Rows loaded: 6.0mn\n",
      "Rows loaded: 7.0mn\n",
      "Rows loaded: 8.0mn\n",
      "Rows loaded: 9.0mn\n",
      "Rows loaded: 10.0mn\n",
      "Rows loaded: 11.0mn\n",
      "Rows loaded: 12.0mn\n",
      "Rows loaded: 13.0mn\n",
      "Rows loaded: 14.0mn\n"
     ]
    }
   ],
   "source": [
    "# Experimental script - does not produce prediction file yet\n",
    "\n",
    "import numpy as np\n",
    "import pandas as pd\n",
    "\n",
    "import sys\n",
    "\n",
    "trainloc = \"data/train.csv\"\n",
    "testloc = \"data/test.csv\"\n",
    "ssloc = \"data/sample_submission.csv\"\n",
    "train_cols = ['site_name', 'user_location_region', 'is_package', 'srch_adults_cnt', 'srch_children_cnt', 'srch_destination_id', 'hotel_market', 'hotel_country', 'hotel_cluster']\n",
    "\n",
    "params = {}\n",
    "params['objective'] = 'multi:softprob'\n",
    "params['eval_metric'] = 'map@5'\n",
    "params['num_class'] = 100\n",
    "\n",
    "df_train = pd.DataFrame(columns=train_cols)\n",
    "train_chunk = pd.read_csv(trainloc, chunksize=100000)\n",
    "i = 0\n",
    "for chunk in train_chunk:\n",
    "    df_train = pd.concat([df_train, chunk[chunk['is_booking']==1][train_cols]])\n",
    "    i = i + 1\n",
    "    if i % 10 == 0:\n",
    "        print(\"Rows loaded: \" + str(i/10) + \"mn\")\n",
    "\n",
    "print(df_train.head())\n",
    "#print(df_train.shape())\n",
    "\n"
   ]
  },
  {
   "cell_type": "code",
   "execution_count": null,
   "metadata": {},
   "outputs": [],
   "source": [
    "x_train = df_train.drop(['hotel_cluster'])\n",
    "y_train = df_train['hotel_cluster'].values\n"
   ]
  }
 ],
 "metadata": {
  "kernelspec": {
   "display_name": "Python 3",
   "language": "python",
   "name": "python3"
  },
  "language_info": {
   "codemirror_mode": {
    "name": "ipython",
    "version": 3
   },
   "file_extension": ".py",
   "mimetype": "text/x-python",
   "name": "python",
   "nbconvert_exporter": "python",
   "pygments_lexer": "ipython3",
   "version": "3.7.4"
  },
  "pycharm": {
   "stem_cell": {
    "cell_type": "raw",
    "metadata": {
     "collapsed": false
    },
    "source": []
   }
  }
 },
 "nbformat": 4,
 "nbformat_minor": 1
}
