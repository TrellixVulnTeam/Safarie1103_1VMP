{
 "cells": [
  {
   "cell_type": "markdown",
   "metadata": {},
   "source": [
    "# Final Project Milestone2\n",
    "## Data Cleaning/formatting flat file source\n",
    "\n",
    "#### In this phase of the project, we will  cleanup the properties dataset. The transactions dataset and properties datasets have an ID that is common between them, so we will merge them by that index.\n",
    "\n",
    "##### Please note the webscraping and API sections have been pushed further down to allow room for documenting this phase of the project. \n",
    "\n"
   ]
  },
  {
   "cell_type": "markdown",
   "metadata": {
    "pycharm": {
     "name": "#%%\n"
    }
   },
   "source": [
    "## Dataset from file\n",
    "### Data Source\n",
    "#### https://www.kaggle.com/c/zillow-prize-1\n",
    "\n",
    "#### Description\n",
    "There are two data sets with over 1 million records each and 58 columns. properties_2016 and properties_2017 datasets contain data for each year. The data we will use for this project will be a small sample of the master data. \n",
    "\n",
    "The two datasets are linked by parcleid.\n",
    "\n",
    "I transactions dataset, the trabsaction date shows the date the property was sold and logerror is the log10( estimated price - price sold).\n",
    "\n",
    "Properties dataset has the physical information about the properities. The columns on the properties dataset will have to be renamed. Subsets of data can be used to group by region, and other features such as number of bedrooms, square footage, etc.\n"
   ]
  },
  {
   "cell_type": "code",
   "execution_count": 75,
   "metadata": {
    "pycharm": {
     "name": "#%%\n"
    }
   },
   "outputs": [
    {
     "name": "stderr",
     "output_type": "stream",
     "text": [
      "c:\\users\\safar\\documents\\github\\safarie1103\\bellevue university\\courses\\dsc540\\finalproject\\venv\\lib\\site-packages\\IPython\\core\\interactiveshell.py:3063: DtypeWarning: Columns (50) have mixed types.Specify dtype option on import or set low_memory=False.\n",
      "  interactivity=interactivity, compiler=compiler, result=result)\n",
      "c:\\users\\safar\\documents\\github\\safarie1103\\bellevue university\\courses\\dsc540\\finalproject\\venv\\lib\\site-packages\\IPython\\core\\interactiveshell.py:3063: DtypeWarning: Columns (23,50) have mixed types.Specify dtype option on import or set low_memory=False.\n",
      "  interactivity=interactivity, compiler=compiler, result=result)\n"
     ]
    }
   ],
   "source": [
    "# Load Libraries\n",
    "import pandas as pd\n",
    "import matplotlib.pyplot as plt\n",
    "import xlrd\n",
    "\n",
    "# Load Data\n",
    "transactions_2016 = \"Data/transactions_2016.json\"\n",
    "transactions_2017 = \"Data/transactions_2017.json\"\n",
    "\n",
    "properties_2016  =  \"Data/properties_2016.csv\"\n",
    "properties_2017  =  \"Data/properties_2017.csv\"\n",
    "data_dictionary = \"Data/data_dictionary.xlsx\"\n",
    "\n",
    "transactions_2016 = pd.read_json(transactions_2016)\n",
    "transactions_2017 = pd.read_json(transactions_2017)\n",
    "properties_2016 = pd.read_csv(properties_2016)\n",
    "properties_2017 = pd.read_csv(properties_2017)\n",
    "data_dictionary = pd.read_excel(data_dictionary)"
   ]
  },
  {
   "cell_type": "code",
   "execution_count": 76,
   "metadata": {},
   "outputs": [
    {
     "data": {
      "text/html": [
       "<div>\n",
       "<style scoped>\n",
       "    .dataframe tbody tr th:only-of-type {\n",
       "        vertical-align: middle;\n",
       "    }\n",
       "\n",
       "    .dataframe tbody tr th {\n",
       "        vertical-align: top;\n",
       "    }\n",
       "\n",
       "    .dataframe thead th {\n",
       "        text-align: right;\n",
       "    }\n",
       "</style>\n",
       "<table border=\"1\" class=\"dataframe\">\n",
       "  <thead>\n",
       "    <tr style=\"text-align: right;\">\n",
       "      <th></th>\n",
       "      <th>parcelid</th>\n",
       "      <th>logerror</th>\n",
       "      <th>transactiondate</th>\n",
       "    </tr>\n",
       "  </thead>\n",
       "  <tbody>\n",
       "    <tr>\n",
       "      <th>0</th>\n",
       "      <td>11016594</td>\n",
       "      <td>0.0276</td>\n",
       "      <td>2016-01-01</td>\n",
       "    </tr>\n",
       "    <tr>\n",
       "      <th>1</th>\n",
       "      <td>14366692</td>\n",
       "      <td>-0.1684</td>\n",
       "      <td>2016-01-01</td>\n",
       "    </tr>\n",
       "    <tr>\n",
       "      <th>2</th>\n",
       "      <td>12098116</td>\n",
       "      <td>-0.0040</td>\n",
       "      <td>2016-01-01</td>\n",
       "    </tr>\n",
       "    <tr>\n",
       "      <th>3</th>\n",
       "      <td>12643413</td>\n",
       "      <td>0.0218</td>\n",
       "      <td>2016-01-02</td>\n",
       "    </tr>\n",
       "    <tr>\n",
       "      <th>4</th>\n",
       "      <td>14432541</td>\n",
       "      <td>-0.0050</td>\n",
       "      <td>2016-01-02</td>\n",
       "    </tr>\n",
       "  </tbody>\n",
       "</table>\n",
       "</div>"
      ],
      "text/plain": [
       "   parcelid  logerror transactiondate\n",
       "0  11016594    0.0276      2016-01-01\n",
       "1  14366692   -0.1684      2016-01-01\n",
       "2  12098116   -0.0040      2016-01-01\n",
       "3  12643413    0.0218      2016-01-02\n",
       "4  14432541   -0.0050      2016-01-02"
      ]
     },
     "execution_count": 76,
     "metadata": {},
     "output_type": "execute_result"
    }
   ],
   "source": [
    "transactions_2016.head()"
   ]
  },
  {
   "cell_type": "code",
   "execution_count": 77,
   "metadata": {},
   "outputs": [
    {
     "data": {
      "text/html": [
       "<div>\n",
       "<style scoped>\n",
       "    .dataframe tbody tr th:only-of-type {\n",
       "        vertical-align: middle;\n",
       "    }\n",
       "\n",
       "    .dataframe tbody tr th {\n",
       "        vertical-align: top;\n",
       "    }\n",
       "\n",
       "    .dataframe thead th {\n",
       "        text-align: right;\n",
       "    }\n",
       "</style>\n",
       "<table border=\"1\" class=\"dataframe\">\n",
       "  <thead>\n",
       "    <tr style=\"text-align: right;\">\n",
       "      <th></th>\n",
       "      <th>Unnamed: 0</th>\n",
       "      <th>parcelid</th>\n",
       "      <th>airconditioningtypeid</th>\n",
       "      <th>architecturalstyletypeid</th>\n",
       "      <th>basementsqft</th>\n",
       "      <th>bathroomcnt</th>\n",
       "      <th>bedroomcnt</th>\n",
       "      <th>buildingclasstypeid</th>\n",
       "      <th>buildingqualitytypeid</th>\n",
       "      <th>calculatedbathnbr</th>\n",
       "      <th>...</th>\n",
       "      <th>numberofstories</th>\n",
       "      <th>fireplaceflag</th>\n",
       "      <th>structuretaxvaluedollarcnt</th>\n",
       "      <th>taxvaluedollarcnt</th>\n",
       "      <th>assessmentyear</th>\n",
       "      <th>landtaxvaluedollarcnt</th>\n",
       "      <th>taxamount</th>\n",
       "      <th>taxdelinquencyflag</th>\n",
       "      <th>taxdelinquencyyear</th>\n",
       "      <th>censustractandblock</th>\n",
       "    </tr>\n",
       "  </thead>\n",
       "  <tbody>\n",
       "    <tr>\n",
       "      <th>0</th>\n",
       "      <td>0</td>\n",
       "      <td>10754147</td>\n",
       "      <td>NaN</td>\n",
       "      <td>NaN</td>\n",
       "      <td>NaN</td>\n",
       "      <td>0.0</td>\n",
       "      <td>0.0</td>\n",
       "      <td>NaN</td>\n",
       "      <td>NaN</td>\n",
       "      <td>NaN</td>\n",
       "      <td>...</td>\n",
       "      <td>NaN</td>\n",
       "      <td>NaN</td>\n",
       "      <td>NaN</td>\n",
       "      <td>9.0</td>\n",
       "      <td>2015</td>\n",
       "      <td>9.0</td>\n",
       "      <td>NaN</td>\n",
       "      <td>NaN</td>\n",
       "      <td>NaN</td>\n",
       "      <td>NaN</td>\n",
       "    </tr>\n",
       "    <tr>\n",
       "      <th>1</th>\n",
       "      <td>1</td>\n",
       "      <td>10759547</td>\n",
       "      <td>NaN</td>\n",
       "      <td>NaN</td>\n",
       "      <td>NaN</td>\n",
       "      <td>0.0</td>\n",
       "      <td>0.0</td>\n",
       "      <td>NaN</td>\n",
       "      <td>NaN</td>\n",
       "      <td>NaN</td>\n",
       "      <td>...</td>\n",
       "      <td>NaN</td>\n",
       "      <td>NaN</td>\n",
       "      <td>NaN</td>\n",
       "      <td>27516.0</td>\n",
       "      <td>2015</td>\n",
       "      <td>27516.0</td>\n",
       "      <td>NaN</td>\n",
       "      <td>NaN</td>\n",
       "      <td>NaN</td>\n",
       "      <td>NaN</td>\n",
       "    </tr>\n",
       "    <tr>\n",
       "      <th>2</th>\n",
       "      <td>2</td>\n",
       "      <td>10843547</td>\n",
       "      <td>NaN</td>\n",
       "      <td>NaN</td>\n",
       "      <td>NaN</td>\n",
       "      <td>0.0</td>\n",
       "      <td>0.0</td>\n",
       "      <td>NaN</td>\n",
       "      <td>NaN</td>\n",
       "      <td>NaN</td>\n",
       "      <td>...</td>\n",
       "      <td>NaN</td>\n",
       "      <td>NaN</td>\n",
       "      <td>650756.0</td>\n",
       "      <td>1413387.0</td>\n",
       "      <td>2015</td>\n",
       "      <td>762631.0</td>\n",
       "      <td>20800.37</td>\n",
       "      <td>NaN</td>\n",
       "      <td>NaN</td>\n",
       "      <td>NaN</td>\n",
       "    </tr>\n",
       "    <tr>\n",
       "      <th>3</th>\n",
       "      <td>3</td>\n",
       "      <td>10859147</td>\n",
       "      <td>NaN</td>\n",
       "      <td>NaN</td>\n",
       "      <td>NaN</td>\n",
       "      <td>0.0</td>\n",
       "      <td>0.0</td>\n",
       "      <td>3.0</td>\n",
       "      <td>7.0</td>\n",
       "      <td>NaN</td>\n",
       "      <td>...</td>\n",
       "      <td>1.0</td>\n",
       "      <td>NaN</td>\n",
       "      <td>571346.0</td>\n",
       "      <td>1156834.0</td>\n",
       "      <td>2015</td>\n",
       "      <td>585488.0</td>\n",
       "      <td>14557.57</td>\n",
       "      <td>NaN</td>\n",
       "      <td>NaN</td>\n",
       "      <td>NaN</td>\n",
       "    </tr>\n",
       "    <tr>\n",
       "      <th>4</th>\n",
       "      <td>4</td>\n",
       "      <td>10879947</td>\n",
       "      <td>NaN</td>\n",
       "      <td>NaN</td>\n",
       "      <td>NaN</td>\n",
       "      <td>0.0</td>\n",
       "      <td>0.0</td>\n",
       "      <td>4.0</td>\n",
       "      <td>NaN</td>\n",
       "      <td>NaN</td>\n",
       "      <td>...</td>\n",
       "      <td>NaN</td>\n",
       "      <td>NaN</td>\n",
       "      <td>193796.0</td>\n",
       "      <td>433491.0</td>\n",
       "      <td>2015</td>\n",
       "      <td>239695.0</td>\n",
       "      <td>5725.17</td>\n",
       "      <td>NaN</td>\n",
       "      <td>NaN</td>\n",
       "      <td>NaN</td>\n",
       "    </tr>\n",
       "  </tbody>\n",
       "</table>\n",
       "<p>5 rows × 59 columns</p>\n",
       "</div>"
      ],
      "text/plain": [
       "   Unnamed: 0  parcelid  airconditioningtypeid  architecturalstyletypeid  \\\n",
       "0           0  10754147                    NaN                       NaN   \n",
       "1           1  10759547                    NaN                       NaN   \n",
       "2           2  10843547                    NaN                       NaN   \n",
       "3           3  10859147                    NaN                       NaN   \n",
       "4           4  10879947                    NaN                       NaN   \n",
       "\n",
       "   basementsqft  bathroomcnt  bedroomcnt  buildingclasstypeid  \\\n",
       "0           NaN          0.0         0.0                  NaN   \n",
       "1           NaN          0.0         0.0                  NaN   \n",
       "2           NaN          0.0         0.0                  NaN   \n",
       "3           NaN          0.0         0.0                  3.0   \n",
       "4           NaN          0.0         0.0                  4.0   \n",
       "\n",
       "   buildingqualitytypeid  calculatedbathnbr  ...  numberofstories  \\\n",
       "0                    NaN                NaN  ...              NaN   \n",
       "1                    NaN                NaN  ...              NaN   \n",
       "2                    NaN                NaN  ...              NaN   \n",
       "3                    7.0                NaN  ...              1.0   \n",
       "4                    NaN                NaN  ...              NaN   \n",
       "\n",
       "   fireplaceflag  structuretaxvaluedollarcnt  taxvaluedollarcnt  \\\n",
       "0            NaN                         NaN                9.0   \n",
       "1            NaN                         NaN            27516.0   \n",
       "2            NaN                    650756.0          1413387.0   \n",
       "3            NaN                    571346.0          1156834.0   \n",
       "4            NaN                    193796.0           433491.0   \n",
       "\n",
       "   assessmentyear  landtaxvaluedollarcnt  taxamount  taxdelinquencyflag  \\\n",
       "0            2015                    9.0        NaN                 NaN   \n",
       "1            2015                27516.0        NaN                 NaN   \n",
       "2            2015               762631.0   20800.37                 NaN   \n",
       "3            2015               585488.0   14557.57                 NaN   \n",
       "4            2015               239695.0    5725.17                 NaN   \n",
       "\n",
       "   taxdelinquencyyear  censustractandblock  \n",
       "0                 NaN                  NaN  \n",
       "1                 NaN                  NaN  \n",
       "2                 NaN                  NaN  \n",
       "3                 NaN                  NaN  \n",
       "4                 NaN                  NaN  \n",
       "\n",
       "[5 rows x 59 columns]"
      ]
     },
     "execution_count": 77,
     "metadata": {},
     "output_type": "execute_result"
    }
   ],
   "source": [
    "properties_2016.head()"
   ]
  },
  {
   "cell_type": "code",
   "execution_count": 78,
   "metadata": {},
   "outputs": [
    {
     "name": "stdout",
     "output_type": "stream",
     "text": [
      "59\n",
      "Index(['Unnamed: 0', 'parcelid', 'airconditioningtypeid',\n",
      "       'architecturalstyletypeid', 'basementsqft', 'bathroomcnt', 'bedroomcnt',\n",
      "       'buildingclasstypeid', 'buildingqualitytypeid', 'calculatedbathnbr',\n",
      "       'decktypeid', 'finishedfloor1squarefeet',\n",
      "       'calculatedfinishedsquarefeet', 'finishedsquarefeet12',\n",
      "       'finishedsquarefeet13', 'finishedsquarefeet15', 'finishedsquarefeet50',\n",
      "       'finishedsquarefeet6', 'fips', 'fireplacecnt', 'fullbathcnt',\n",
      "       'garagecarcnt', 'garagetotalsqft', 'hashottuborspa',\n",
      "       'heatingorsystemtypeid', 'latitude', 'longitude', 'lotsizesquarefeet',\n",
      "       'poolcnt', 'poolsizesum', 'pooltypeid10', 'pooltypeid2', 'pooltypeid7',\n",
      "       'propertycountylandusecode', 'propertylandusetypeid',\n",
      "       'propertyzoningdesc', 'rawcensustractandblock', 'regionidcity',\n",
      "       'regionidcounty', 'regionidneighborhood', 'regionidzip', 'roomcnt',\n",
      "       'storytypeid', 'threequarterbathnbr', 'typeconstructiontypeid',\n",
      "       'unitcnt', 'yardbuildingsqft17', 'yardbuildingsqft26', 'yearbuilt',\n",
      "       'numberofstories', 'fireplaceflag', 'structuretaxvaluedollarcnt',\n",
      "       'taxvaluedollarcnt', 'assessmentyear', 'landtaxvaluedollarcnt',\n",
      "       'taxamount', 'taxdelinquencyflag', 'taxdelinquencyyear',\n",
      "       'censustractandblock'],\n",
      "      dtype='object')\n"
     ]
    }
   ],
   "source": [
    "print(len(properties_2016.columns))\n",
    "print(properties_2016.columns)"
   ]
  },
  {
   "cell_type": "code",
   "execution_count": 79,
   "metadata": {},
   "outputs": [
    {
     "name": "stdout",
     "output_type": "stream",
     "text": [
      "59\n",
      "Index(['Unnamed: 0', 'parcelid', 'airconditioningtypeid',\n",
      "       'architecturalstyletypeid', 'basementsqft', 'bathroomcnt', 'bedroomcnt',\n",
      "       'buildingclasstypeid', 'buildingqualitytypeid', 'calculatedbathnbr',\n",
      "       'decktypeid', 'finishedfloor1squarefeet',\n",
      "       'calculatedfinishedsquarefeet', 'finishedsquarefeet12',\n",
      "       'finishedsquarefeet13', 'finishedsquarefeet15', 'finishedsquarefeet50',\n",
      "       'finishedsquarefeet6', 'fips', 'fireplacecnt', 'fullbathcnt',\n",
      "       'garagecarcnt', 'garagetotalsqft', 'hashottuborspa',\n",
      "       'heatingorsystemtypeid', 'latitude', 'longitude', 'lotsizesquarefeet',\n",
      "       'poolcnt', 'poolsizesum', 'pooltypeid10', 'pooltypeid2', 'pooltypeid7',\n",
      "       'propertycountylandusecode', 'propertylandusetypeid',\n",
      "       'propertyzoningdesc', 'rawcensustractandblock', 'regionidcity',\n",
      "       'regionidcounty', 'regionidneighborhood', 'regionidzip', 'roomcnt',\n",
      "       'storytypeid', 'threequarterbathnbr', 'typeconstructiontypeid',\n",
      "       'unitcnt', 'yardbuildingsqft17', 'yardbuildingsqft26', 'yearbuilt',\n",
      "       'numberofstories', 'fireplaceflag', 'structuretaxvaluedollarcnt',\n",
      "       'taxvaluedollarcnt', 'assessmentyear', 'landtaxvaluedollarcnt',\n",
      "       'taxamount', 'taxdelinquencyflag', 'taxdelinquencyyear',\n",
      "       'censustractandblock'],\n",
      "      dtype='object')\n"
     ]
    }
   ],
   "source": [
    "print(len(properties_2017.columns))\n",
    "print(properties_2017.columns)"
   ]
  },
  {
   "cell_type": "code",
   "execution_count": 80,
   "metadata": {},
   "outputs": [
    {
     "name": "stdout",
     "output_type": "stream",
     "text": [
      "3\n",
      "Index(['parcelid', 'logerror', 'transactiondate'], dtype='object')\n"
     ]
    }
   ],
   "source": [
    "print(len(transactions_2016.columns))\n",
    "print(transactions_2016.columns)"
   ]
  },
  {
   "cell_type": "code",
   "execution_count": 81,
   "metadata": {},
   "outputs": [
    {
     "name": "stdout",
     "output_type": "stream",
     "text": [
      "3\n",
      "Index(['parcelid', 'logerror', 'transactiondate'], dtype='object')\n"
     ]
    }
   ],
   "source": [
    "print(len(transactions_2017.columns))\n",
    "print(transactions_2017.columns)"
   ]
  },
  {
   "cell_type": "code",
   "execution_count": 82,
   "metadata": {},
   "outputs": [
    {
     "data": {
      "text/html": [
       "<div>\n",
       "<style scoped>\n",
       "    .dataframe tbody tr th:only-of-type {\n",
       "        vertical-align: middle;\n",
       "    }\n",
       "\n",
       "    .dataframe tbody tr th {\n",
       "        vertical-align: top;\n",
       "    }\n",
       "\n",
       "    .dataframe thead th {\n",
       "        text-align: right;\n",
       "    }\n",
       "</style>\n",
       "<table border=\"1\" class=\"dataframe\">\n",
       "  <thead>\n",
       "    <tr style=\"text-align: right;\">\n",
       "      <th></th>\n",
       "      <th>Feature</th>\n",
       "      <th>Description</th>\n",
       "    </tr>\n",
       "  </thead>\n",
       "  <tbody>\n",
       "    <tr>\n",
       "      <th>0</th>\n",
       "      <td>'airconditioningtypeid'</td>\n",
       "      <td>Type of cooling system present in the home (i...</td>\n",
       "    </tr>\n",
       "    <tr>\n",
       "      <th>1</th>\n",
       "      <td>'architecturalstyletypeid'</td>\n",
       "      <td>Architectural style of the home (i.e. ranch, ...</td>\n",
       "    </tr>\n",
       "    <tr>\n",
       "      <th>2</th>\n",
       "      <td>'basementsqft'</td>\n",
       "      <td>Finished living area below or partially below...</td>\n",
       "    </tr>\n",
       "    <tr>\n",
       "      <th>3</th>\n",
       "      <td>'bathroomcnt'</td>\n",
       "      <td>Number of bathrooms in home including fractio...</td>\n",
       "    </tr>\n",
       "    <tr>\n",
       "      <th>4</th>\n",
       "      <td>'bedroomcnt'</td>\n",
       "      <td>Number of bedrooms in home</td>\n",
       "    </tr>\n",
       "  </tbody>\n",
       "</table>\n",
       "</div>"
      ],
      "text/plain": [
       "                      Feature  \\\n",
       "0     'airconditioningtypeid'   \n",
       "1  'architecturalstyletypeid'   \n",
       "2              'basementsqft'   \n",
       "3               'bathroomcnt'   \n",
       "4                'bedroomcnt'   \n",
       "\n",
       "                                         Description  \n",
       "0   Type of cooling system present in the home (i...  \n",
       "1   Architectural style of the home (i.e. ranch, ...  \n",
       "2   Finished living area below or partially below...  \n",
       "3   Number of bathrooms in home including fractio...  \n",
       "4                        Number of bedrooms in home   "
      ]
     },
     "execution_count": 82,
     "metadata": {},
     "output_type": "execute_result"
    }
   ],
   "source": [
    "data_dictionary.head()"
   ]
  },
  {
   "cell_type": "markdown",
   "metadata": {},
   "source": [
    "## Cleaning/formatting flat file sources\n",
    "\n"
   ]
  },
  {
   "cell_type": "markdown",
   "metadata": {},
   "source": [
    "We will first combine the properties_2016 and properties_2017 and calle the result properties. We will also combine the two transactions datasets.\n"
   ]
  },
  {
   "cell_type": "code",
   "execution_count": 83,
   "metadata": {},
   "outputs": [
    {
     "name": "stdout",
     "output_type": "stream",
     "text": [
      "(20000, 59)\n",
      "(20000, 59)\n",
      "(40000, 59)\n"
     ]
    }
   ],
   "source": [
    "properties = pd.concat([properties_2016,properties_2017],axis=0)\n",
    "print(properties_2016.shape)\n",
    "print(properties_2017.shape)\n",
    "print(properties.shape)"
   ]
  },
  {
   "cell_type": "code",
   "execution_count": 84,
   "metadata": {},
   "outputs": [
    {
     "name": "stdout",
     "output_type": "stream",
     "text": [
      "(20000, 59)\n",
      "(20000, 59)\n",
      "(40000, 59)\n"
     ]
    }
   ],
   "source": [
    "transactions = pd.concat([transactions_2016,transactions_2017],axis=0)\n",
    "print(properties_2016.shape)\n",
    "print(properties_2017.shape)\n",
    "print(properties.shape)"
   ]
  },
  {
   "cell_type": "code",
   "execution_count": 85,
   "metadata": {},
   "outputs": [
    {
     "data": {
      "text/plain": [
       "Index(['Unnamed: 0', 'parcelid', 'airconditioningtypeid',\n",
       "       'architecturalstyletypeid', 'basementsqft', 'bathroomcnt', 'bedroomcnt',\n",
       "       'buildingclasstypeid', 'buildingqualitytypeid', 'calculatedbathnbr',\n",
       "       'decktypeid', 'finishedfloor1squarefeet',\n",
       "       'calculatedfinishedsquarefeet', 'finishedsquarefeet12',\n",
       "       'finishedsquarefeet13', 'finishedsquarefeet15', 'finishedsquarefeet50',\n",
       "       'finishedsquarefeet6', 'fips', 'fireplacecnt', 'fullbathcnt',\n",
       "       'garagecarcnt', 'garagetotalsqft', 'hashottuborspa',\n",
       "       'heatingorsystemtypeid', 'latitude', 'longitude', 'lotsizesquarefeet',\n",
       "       'poolcnt', 'poolsizesum', 'pooltypeid10', 'pooltypeid2', 'pooltypeid7',\n",
       "       'propertycountylandusecode', 'propertylandusetypeid',\n",
       "       'propertyzoningdesc', 'rawcensustractandblock', 'regionidcity',\n",
       "       'regionidcounty', 'regionidneighborhood', 'regionidzip', 'roomcnt',\n",
       "       'storytypeid', 'threequarterbathnbr', 'typeconstructiontypeid',\n",
       "       'unitcnt', 'yardbuildingsqft17', 'yardbuildingsqft26', 'yearbuilt',\n",
       "       'numberofstories', 'fireplaceflag', 'structuretaxvaluedollarcnt',\n",
       "       'taxvaluedollarcnt', 'assessmentyear', 'landtaxvaluedollarcnt',\n",
       "       'taxamount', 'taxdelinquencyflag', 'taxdelinquencyyear',\n",
       "       'censustractandblock'],\n",
       "      dtype='object')"
      ]
     },
     "execution_count": 85,
     "metadata": {},
     "output_type": "execute_result"
    }
   ],
   "source": [
    "properties.columns"
   ]
  },
  {
   "cell_type": "markdown",
   "metadata": {},
   "source": [
    "Get rid of the Unamed column."
   ]
  },
  {
   "cell_type": "code",
   "execution_count": 86,
   "metadata": {},
   "outputs": [
    {
     "data": {
      "text/plain": [
       "Index(['parcelid', 'airconditioningtypeid', 'architecturalstyletypeid',\n",
       "       'basementsqft', 'bathroomcnt', 'bedroomcnt', 'buildingclasstypeid',\n",
       "       'buildingqualitytypeid', 'calculatedbathnbr', 'decktypeid',\n",
       "       'finishedfloor1squarefeet', 'calculatedfinishedsquarefeet',\n",
       "       'finishedsquarefeet12', 'finishedsquarefeet13', 'finishedsquarefeet15',\n",
       "       'finishedsquarefeet50', 'finishedsquarefeet6', 'fips', 'fireplacecnt',\n",
       "       'fullbathcnt', 'garagecarcnt', 'garagetotalsqft', 'hashottuborspa',\n",
       "       'heatingorsystemtypeid', 'latitude', 'longitude', 'lotsizesquarefeet',\n",
       "       'poolcnt', 'poolsizesum', 'pooltypeid10', 'pooltypeid2', 'pooltypeid7',\n",
       "       'propertycountylandusecode', 'propertylandusetypeid',\n",
       "       'propertyzoningdesc', 'rawcensustractandblock', 'regionidcity',\n",
       "       'regionidcounty', 'regionidneighborhood', 'regionidzip', 'roomcnt',\n",
       "       'storytypeid', 'threequarterbathnbr', 'typeconstructiontypeid',\n",
       "       'unitcnt', 'yardbuildingsqft17', 'yardbuildingsqft26', 'yearbuilt',\n",
       "       'numberofstories', 'fireplaceflag', 'structuretaxvaluedollarcnt',\n",
       "       'taxvaluedollarcnt', 'assessmentyear', 'landtaxvaluedollarcnt',\n",
       "       'taxamount', 'taxdelinquencyflag', 'taxdelinquencyyear',\n",
       "       'censustractandblock'],\n",
       "      dtype='object')"
      ]
     },
     "execution_count": 86,
     "metadata": {},
     "output_type": "execute_result"
    }
   ],
   "source": [
    "properties = properties.loc[:, ~properties.columns.str.contains('^Unnamed')]\n",
    "properties.columns"
   ]
  },
  {
   "cell_type": "markdown",
   "metadata": {},
   "source": [
    "Rename column names in properties dataset."
   ]
  },
  {
   "cell_type": "code",
   "execution_count": 87,
   "metadata": {},
   "outputs": [],
   "source": [
    "properties = properties.rename(columns=\n",
    "                        {\n",
    "  'parcelid':'parcelid', \n",
    "  'yearbuilt':'build_year', \n",
    "  'basementsqft':'area_basement', \n",
    "  'yardbuildingsqft17':'area_patio', \n",
    "  'yardbuildingsqft26':'area_shed',  \n",
    "  'poolsizesum':'area_pool', \n",
    "  'lotsizesquarefeet':'area_lot', \n",
    "  'garagetotalsqft':'area_garage', \n",
    "  'finishedfloor1squarefeet':'area_firstfloor_finished', \n",
    "  'calculatedfinishedsquarefeet':'area_total_calc', \n",
    "  'finishedsquarefeet6':'area_base', \n",
    "  'finishedsquarefeet12':'area_live_finished', \n",
    "  'finishedsquarefeet13':'area_liveperi_finished', \n",
    "  'finishedsquarefeet15':'area_total_finished',  \n",
    "  'finishedsquarefeet50':'area_unknown', \n",
    "  'unitcnt': 'num_unit', \n",
    "  'numberofstories': 'num_story',  \n",
    "  'roomcnt':'num_room', \n",
    "  'bathroomcnt':'num_bathroom', \n",
    "  'bedroomcnt':'num_bedroom', \n",
    "  'calculatedbathnbr':'num_bathroom_calc', \n",
    "  'fullbathcnt':'num_bath', \n",
    "  'threequarterbathnbr':'num_75_bath',  \n",
    "  'fireplacecnt':'num_fireplace', \n",
    "  'poolcnt': 'num_pool',  \n",
    "  'garagecarcnt':'num_garage', \n",
    "  'regionidcounty':'region_county', \n",
    "  'regionidcity':'region_city', \n",
    "  'regionidzip':'region_zip', \n",
    "  'regionidneighborhood':'region_neighbor', \n",
    "  'taxvaluedollarcnt':'tax_total', \n",
    "  'structuretaxvaluedollarcnt':'tax_building', \n",
    "  'landtaxvaluedollarcnt':'tax_land', \n",
    "  'taxamount':'tax_property', \n",
    "  'assessmentyear':'tax_year', \n",
    "  'taxdelinquencyflag':'tax_delinquency', \n",
    "  'taxdelinquencyyear':'tax_delinquency_year', \n",
    "  'propertyzoningdesc':'zoning_property', \n",
    "  'propertylandusetypeid':'zoning_landuse', \n",
    "  'propertycountylandusecode':'zoning_landuse_county', \n",
    "  'fireplaceflag':'flag_fireplace', \n",
    "  'hashottuborspa':'flag_tub', \n",
    "  'buildingqualitytypeid':'quality', \n",
    "  'buildingclasstypeid':'framing', \n",
    "  'typeconstructiontypeid':'material', \n",
    "  'decktypeid':'deck', \n",
    "  'storytypeid':'story', \n",
    "  'heatingorsystemtypeid':'heating', \n",
    "  'airconditioningtypeid':'aircon', \n",
    "  'architecturalstyletypeid':'architectural_style' \n",
    "})"
   ]
  },
  {
   "cell_type": "code",
   "execution_count": 88,
   "metadata": {},
   "outputs": [
    {
     "data": {
      "text/plain": [
       "Index(['parcelid', 'aircon', 'architectural_style', 'area_basement',\n",
       "       'num_bathroom', 'num_bedroom', 'framing', 'quality',\n",
       "       'num_bathroom_calc', 'deck', 'area_firstfloor_finished',\n",
       "       'area_total_calc', 'area_live_finished', 'area_liveperi_finished',\n",
       "       'area_total_finished', 'area_unknown', 'area_base', 'fips',\n",
       "       'num_fireplace', 'num_bath', 'num_garage', 'area_garage', 'flag_tub',\n",
       "       'heating', 'latitude', 'longitude', 'area_lot', 'num_pool', 'area_pool',\n",
       "       'pooltypeid10', 'pooltypeid2', 'pooltypeid7', 'zoning_landuse_county',\n",
       "       'zoning_landuse', 'zoning_property', 'rawcensustractandblock',\n",
       "       'region_city', 'region_county', 'region_neighbor', 'region_zip',\n",
       "       'num_room', 'story', 'num_75_bath', 'material', 'num_unit',\n",
       "       'area_patio', 'area_shed', 'build_year', 'num_story', 'flag_fireplace',\n",
       "       'tax_building', 'tax_total', 'tax_year', 'tax_land', 'tax_property',\n",
       "       'tax_delinquency', 'tax_delinquency_year', 'censustractandblock'],\n",
       "      dtype='object')"
      ]
     },
     "execution_count": 88,
     "metadata": {},
     "output_type": "execute_result"
    }
   ],
   "source": [
    "properties.columns"
   ]
  },
  {
   "cell_type": "code",
   "execution_count": 89,
   "metadata": {},
   "outputs": [
    {
     "data": {
      "text/html": [
       "<div>\n",
       "<style scoped>\n",
       "    .dataframe tbody tr th:only-of-type {\n",
       "        vertical-align: middle;\n",
       "    }\n",
       "\n",
       "    .dataframe tbody tr th {\n",
       "        vertical-align: top;\n",
       "    }\n",
       "\n",
       "    .dataframe thead th {\n",
       "        text-align: right;\n",
       "    }\n",
       "</style>\n",
       "<table border=\"1\" class=\"dataframe\">\n",
       "  <thead>\n",
       "    <tr style=\"text-align: right;\">\n",
       "      <th></th>\n",
       "      <th>num_bedroom</th>\n",
       "      <th>num_bathroom</th>\n",
       "    </tr>\n",
       "  </thead>\n",
       "  <tbody>\n",
       "    <tr>\n",
       "      <th>0</th>\n",
       "      <td>0.0</td>\n",
       "      <td>0.0</td>\n",
       "    </tr>\n",
       "    <tr>\n",
       "      <th>1</th>\n",
       "      <td>0.0</td>\n",
       "      <td>0.0</td>\n",
       "    </tr>\n",
       "    <tr>\n",
       "      <th>2</th>\n",
       "      <td>0.0</td>\n",
       "      <td>0.0</td>\n",
       "    </tr>\n",
       "    <tr>\n",
       "      <th>3</th>\n",
       "      <td>0.0</td>\n",
       "      <td>0.0</td>\n",
       "    </tr>\n",
       "    <tr>\n",
       "      <th>4</th>\n",
       "      <td>0.0</td>\n",
       "      <td>0.0</td>\n",
       "    </tr>\n",
       "    <tr>\n",
       "      <th>...</th>\n",
       "      <td>...</td>\n",
       "      <td>...</td>\n",
       "    </tr>\n",
       "    <tr>\n",
       "      <th>19995</th>\n",
       "      <td>2.0</td>\n",
       "      <td>1.0</td>\n",
       "    </tr>\n",
       "    <tr>\n",
       "      <th>19996</th>\n",
       "      <td>5.0</td>\n",
       "      <td>3.0</td>\n",
       "    </tr>\n",
       "    <tr>\n",
       "      <th>19997</th>\n",
       "      <td>8.0</td>\n",
       "      <td>5.0</td>\n",
       "    </tr>\n",
       "    <tr>\n",
       "      <th>19998</th>\n",
       "      <td>4.0</td>\n",
       "      <td>2.0</td>\n",
       "    </tr>\n",
       "    <tr>\n",
       "      <th>19999</th>\n",
       "      <td>2.0</td>\n",
       "      <td>1.0</td>\n",
       "    </tr>\n",
       "  </tbody>\n",
       "</table>\n",
       "<p>40000 rows × 2 columns</p>\n",
       "</div>"
      ],
      "text/plain": [
       "       num_bedroom  num_bathroom\n",
       "0              0.0           0.0\n",
       "1              0.0           0.0\n",
       "2              0.0           0.0\n",
       "3              0.0           0.0\n",
       "4              0.0           0.0\n",
       "...            ...           ...\n",
       "19995          2.0           1.0\n",
       "19996          5.0           3.0\n",
       "19997          8.0           5.0\n",
       "19998          4.0           2.0\n",
       "19999          2.0           1.0\n",
       "\n",
       "[40000 rows x 2 columns]"
      ]
     },
     "execution_count": 89,
     "metadata": {},
     "output_type": "execute_result"
    }
   ],
   "source": [
    "# Check new column names\n",
    "properties[['num_bedroom','num_bathroom']]"
   ]
  },
  {
   "cell_type": "markdown",
   "metadata": {},
   "source": [
    "Rename column names in transactions dataset."
   ]
  },
  {
   "cell_type": "code",
   "execution_count": 90,
   "metadata": {},
   "outputs": [],
   "source": [
    "transactions = transactions.rename(columns={'parcelid':'parcelid','date':'transactiondate'})"
   ]
  },
  {
   "cell_type": "code",
   "execution_count": 91,
   "metadata": {},
   "outputs": [
    {
     "data": {
      "text/plain": [
       "Index(['parcelid', 'logerror', 'transactiondate'], dtype='object')"
      ]
     },
     "execution_count": 91,
     "metadata": {},
     "output_type": "execute_result"
    }
   ],
   "source": [
    "transactions.columns"
   ]
  },
  {
   "cell_type": "markdown",
   "metadata": {},
   "source": [
    "Check out the new columns"
   ]
  },
  {
   "cell_type": "code",
   "execution_count": 92,
   "metadata": {},
   "outputs": [
    {
     "data": {
      "text/html": [
       "<div>\n",
       "<style scoped>\n",
       "    .dataframe tbody tr th:only-of-type {\n",
       "        vertical-align: middle;\n",
       "    }\n",
       "\n",
       "    .dataframe tbody tr th {\n",
       "        vertical-align: top;\n",
       "    }\n",
       "\n",
       "    .dataframe thead th {\n",
       "        text-align: right;\n",
       "    }\n",
       "</style>\n",
       "<table border=\"1\" class=\"dataframe\">\n",
       "  <thead>\n",
       "    <tr style=\"text-align: right;\">\n",
       "      <th></th>\n",
       "      <th>parcelid</th>\n",
       "      <th>transactiondate</th>\n",
       "    </tr>\n",
       "  </thead>\n",
       "  <tbody>\n",
       "    <tr>\n",
       "      <th>0</th>\n",
       "      <td>11016594</td>\n",
       "      <td>2016-01-01</td>\n",
       "    </tr>\n",
       "    <tr>\n",
       "      <th>1</th>\n",
       "      <td>14366692</td>\n",
       "      <td>2016-01-01</td>\n",
       "    </tr>\n",
       "    <tr>\n",
       "      <th>2</th>\n",
       "      <td>12098116</td>\n",
       "      <td>2016-01-01</td>\n",
       "    </tr>\n",
       "    <tr>\n",
       "      <th>3</th>\n",
       "      <td>12643413</td>\n",
       "      <td>2016-01-02</td>\n",
       "    </tr>\n",
       "    <tr>\n",
       "      <th>4</th>\n",
       "      <td>14432541</td>\n",
       "      <td>2016-01-02</td>\n",
       "    </tr>\n",
       "    <tr>\n",
       "      <th>...</th>\n",
       "      <td>...</td>\n",
       "      <td>...</td>\n",
       "    </tr>\n",
       "    <tr>\n",
       "      <th>77608</th>\n",
       "      <td>10833991</td>\n",
       "      <td>2017-09-20</td>\n",
       "    </tr>\n",
       "    <tr>\n",
       "      <th>77609</th>\n",
       "      <td>11000655</td>\n",
       "      <td>2017-09-20</td>\n",
       "    </tr>\n",
       "    <tr>\n",
       "      <th>77610</th>\n",
       "      <td>17239384</td>\n",
       "      <td>2017-09-21</td>\n",
       "    </tr>\n",
       "    <tr>\n",
       "      <th>77611</th>\n",
       "      <td>12773139</td>\n",
       "      <td>2017-09-21</td>\n",
       "    </tr>\n",
       "    <tr>\n",
       "      <th>77612</th>\n",
       "      <td>12826780</td>\n",
       "      <td>2017-09-25</td>\n",
       "    </tr>\n",
       "  </tbody>\n",
       "</table>\n",
       "<p>167888 rows × 2 columns</p>\n",
       "</div>"
      ],
      "text/plain": [
       "       parcelid transactiondate\n",
       "0      11016594      2016-01-01\n",
       "1      14366692      2016-01-01\n",
       "2      12098116      2016-01-01\n",
       "3      12643413      2016-01-02\n",
       "4      14432541      2016-01-02\n",
       "...         ...             ...\n",
       "77608  10833991      2017-09-20\n",
       "77609  11000655      2017-09-20\n",
       "77610  17239384      2017-09-21\n",
       "77611  12773139      2017-09-21\n",
       "77612  12826780      2017-09-25\n",
       "\n",
       "[167888 rows x 2 columns]"
      ]
     },
     "execution_count": 92,
     "metadata": {},
     "output_type": "execute_result"
    }
   ],
   "source": [
    "transactions[['parcelid','transactiondate']]"
   ]
  },
  {
   "cell_type": "code",
   "execution_count": 93,
   "metadata": {},
   "outputs": [],
   "source": [
    "propertiesAndTransactions = pd.merge(properties,transactions,on='parcelid')\n"
   ]
  },
  {
   "cell_type": "markdown",
   "metadata": {},
   "source": [
    "check out the merge"
   ]
  },
  {
   "cell_type": "code",
   "execution_count": 146,
   "metadata": {},
   "outputs": [
    {
     "data": {
      "text/html": [
       "<div>\n",
       "<style scoped>\n",
       "    .dataframe tbody tr th:only-of-type {\n",
       "        vertical-align: middle;\n",
       "    }\n",
       "\n",
       "    .dataframe tbody tr th {\n",
       "        vertical-align: top;\n",
       "    }\n",
       "\n",
       "    .dataframe thead th {\n",
       "        text-align: right;\n",
       "    }\n",
       "</style>\n",
       "<table border=\"1\" class=\"dataframe\">\n",
       "  <thead>\n",
       "    <tr style=\"text-align: right;\">\n",
       "      <th></th>\n",
       "      <th>parcelid</th>\n",
       "      <th>num_bedroom</th>\n",
       "      <th>transactiondate</th>\n",
       "      <th>logerror</th>\n",
       "    </tr>\n",
       "  </thead>\n",
       "  <tbody>\n",
       "    <tr>\n",
       "      <th>0</th>\n",
       "      <td>17054981</td>\n",
       "      <td>4.0</td>\n",
       "      <td>2017-06-15</td>\n",
       "      <td>-0.013099</td>\n",
       "    </tr>\n",
       "    <tr>\n",
       "      <th>1</th>\n",
       "      <td>17054981</td>\n",
       "      <td>4.0</td>\n",
       "      <td>2017-06-15</td>\n",
       "      <td>-0.013099</td>\n",
       "    </tr>\n",
       "    <tr>\n",
       "      <th>2</th>\n",
       "      <td>17055743</td>\n",
       "      <td>3.0</td>\n",
       "      <td>2017-07-26</td>\n",
       "      <td>0.073985</td>\n",
       "    </tr>\n",
       "    <tr>\n",
       "      <th>3</th>\n",
       "      <td>17055743</td>\n",
       "      <td>3.0</td>\n",
       "      <td>2017-07-26</td>\n",
       "      <td>0.073985</td>\n",
       "    </tr>\n",
       "    <tr>\n",
       "      <th>4</th>\n",
       "      <td>17068109</td>\n",
       "      <td>3.0</td>\n",
       "      <td>2017-07-28</td>\n",
       "      <td>0.071886</td>\n",
       "    </tr>\n",
       "  </tbody>\n",
       "</table>\n",
       "</div>"
      ],
      "text/plain": [
       "   parcelid  num_bedroom transactiondate  logerror\n",
       "0  17054981          4.0      2017-06-15 -0.013099\n",
       "1  17054981          4.0      2017-06-15 -0.013099\n",
       "2  17055743          3.0      2017-07-26  0.073985\n",
       "3  17055743          3.0      2017-07-26  0.073985\n",
       "4  17068109          3.0      2017-07-28  0.071886"
      ]
     },
     "execution_count": 146,
     "metadata": {},
     "output_type": "execute_result"
    }
   ],
   "source": [
    "propertiesAndTransactions[['parcelid','num_bedroom','transactiondate','logerror']].head()"
   ]
  },
  {
   "cell_type": "markdown",
   "metadata": {},
   "source": [
    "let's take of missings"
   ]
  },
  {
   "cell_type": "code",
   "execution_count": 147,
   "metadata": {},
   "outputs": [
    {
     "name": "stdout",
     "output_type": "stream",
     "text": [
      "sum\n",
      " parcelid                       0\n",
      "aircon                      1485\n",
      "architectural_style         2234\n",
      "area_basement               2234\n",
      "num_bathroom                   0\n",
      "num_bedroom                    0\n",
      "framing                     2234\n",
      "quality                      705\n",
      "num_bathroom_calc             26\n",
      "deck                        2214\n",
      "area_firstfloor_finished    2000\n",
      "area_total_calc                9\n",
      "area_live_finished           102\n",
      "area_liveperi_finished      2234\n",
      "area_total_finished         2145\n",
      "area_unknown                2000\n",
      "area_base                   2230\n",
      "fips                           0\n",
      "num_fireplace               1982\n",
      "num_bath                      26\n",
      "num_garage                  1593\n",
      "area_garage                 1593\n",
      "flag_tub                    2192\n",
      "heating                      752\n",
      "latitude                       0\n",
      "longitude                      0\n",
      "area_lot                     216\n",
      "num_pool                    1708\n",
      "area_pool                   2206\n",
      "pooltypeid10                2216\n",
      "pooltypeid2                 2210\n",
      "pooltypeid7                 1732\n",
      "zoning_landuse_county          0\n",
      "zoning_landuse                 0\n",
      "zoning_property              678\n",
      "rawcensustractandblock         0\n",
      "region_city                   42\n",
      "region_county                  0\n",
      "region_neighbor             1186\n",
      "region_zip                     2\n",
      "num_room                       0\n",
      "story                       2234\n",
      "num_75_bath                 1984\n",
      "material                    2234\n",
      "num_unit                     679\n",
      "area_patio                  2137\n",
      "area_shed                   2234\n",
      "build_year                    11\n",
      "num_story                   1792\n",
      "flag_fireplace              2234\n",
      "tax_building                   6\n",
      "tax_total                      0\n",
      "tax_year                       0\n",
      "tax_land                       0\n",
      "tax_property                   0\n",
      "tax_delinquency             2166\n",
      "tax_delinquency_year        2166\n",
      "censustractandblock            8\n",
      "logerror                       0\n",
      "transactiondate                0\n",
      "dtype: int64\n"
     ]
    }
   ],
   "source": [
    "column_names = propertiesAndTransactions.columns\n",
    "print('sum\\n', propertiesAndTransactions.isnull()[column_names].sum())"
   ]
  },
  {
   "cell_type": "code",
   "execution_count": 148,
   "metadata": {},
   "outputs": [
    {
     "name": "stdout",
     "output_type": "stream",
     "text": [
      "mean\n",
      " parcelid                    0.000000\n",
      "aircon                      0.664727\n",
      "architectural_style         1.000000\n",
      "area_basement               1.000000\n",
      "num_bathroom                0.000000\n",
      "num_bedroom                 0.000000\n",
      "framing                     1.000000\n",
      "quality                     0.315577\n",
      "num_bathroom_calc           0.011638\n",
      "deck                        0.991047\n",
      "area_firstfloor_finished    0.895255\n",
      "area_total_calc             0.004029\n",
      "area_live_finished          0.045658\n",
      "area_liveperi_finished      1.000000\n",
      "area_total_finished         0.960161\n",
      "area_unknown                0.895255\n",
      "area_base                   0.998209\n",
      "fips                        0.000000\n",
      "num_fireplace               0.887198\n",
      "num_bath                    0.011638\n",
      "num_garage                  0.713071\n",
      "area_garage                 0.713071\n",
      "flag_tub                    0.981200\n",
      "heating                     0.336616\n",
      "latitude                    0.000000\n",
      "longitude                   0.000000\n",
      "area_lot                    0.096688\n",
      "num_pool                    0.764548\n",
      "area_pool                   0.987466\n",
      "pooltypeid10                0.991943\n",
      "pooltypeid2                 0.989257\n",
      "pooltypeid7                 0.775291\n",
      "zoning_landuse_county       0.000000\n",
      "zoning_landuse              0.000000\n",
      "zoning_property             0.303491\n",
      "rawcensustractandblock      0.000000\n",
      "region_city                 0.018800\n",
      "region_county               0.000000\n",
      "region_neighbor             0.530886\n",
      "region_zip                  0.000895\n",
      "num_room                    0.000000\n",
      "story                       1.000000\n",
      "num_75_bath                 0.888093\n",
      "material                    1.000000\n",
      "num_unit                    0.303939\n",
      "area_patio                  0.956580\n",
      "area_shed                   1.000000\n",
      "build_year                  0.004924\n",
      "num_story                   0.802149\n",
      "flag_fireplace              1.000000\n",
      "tax_building                0.002686\n",
      "tax_total                   0.000000\n",
      "tax_year                    0.000000\n",
      "tax_land                    0.000000\n",
      "tax_property                0.000000\n",
      "tax_delinquency             0.969561\n",
      "tax_delinquency_year        0.969561\n",
      "censustractandblock         0.003581\n",
      "logerror                    0.000000\n",
      "transactiondate             0.000000\n",
      "dtype: float64\n"
     ]
    }
   ],
   "source": [
    "print('mean\\n', propertiesAndTransactions.isnull()[column_names].mean())"
   ]
  },
  {
   "cell_type": "markdown",
   "metadata": {},
   "source": [
    "Let's look at columns woth more than 80% missing values"
   ]
  },
  {
   "cell_type": "code",
   "execution_count": 149,
   "metadata": {},
   "outputs": [
    {
     "data": {
      "text/plain": [
       "parcelid                       0\n",
       "aircon                      1485\n",
       "architectural_style         2234\n",
       "area_basement               2234\n",
       "num_bathroom                   0\n",
       "num_bedroom                    0\n",
       "framing                     2234\n",
       "quality                      705\n",
       "num_bathroom_calc             26\n",
       "deck                        2214\n",
       "area_firstfloor_finished    2000\n",
       "area_total_calc                9\n",
       "area_live_finished           102\n",
       "area_liveperi_finished      2234\n",
       "area_total_finished         2145\n",
       "area_unknown                2000\n",
       "area_base                   2230\n",
       "fips                           0\n",
       "num_fireplace               1982\n",
       "num_bath                      26\n",
       "num_garage                  1593\n",
       "area_garage                 1593\n",
       "flag_tub                    2192\n",
       "heating                      752\n",
       "latitude                       0\n",
       "longitude                      0\n",
       "area_lot                     216\n",
       "num_pool                    1708\n",
       "area_pool                   2206\n",
       "pooltypeid10                2216\n",
       "pooltypeid2                 2210\n",
       "pooltypeid7                 1732\n",
       "zoning_landuse_county          0\n",
       "zoning_landuse                 0\n",
       "zoning_property              678\n",
       "rawcensustractandblock         0\n",
       "region_city                   42\n",
       "region_county                  0\n",
       "region_neighbor             1186\n",
       "region_zip                     2\n",
       "num_room                       0\n",
       "story                       2234\n",
       "num_75_bath                 1984\n",
       "material                    2234\n",
       "num_unit                     679\n",
       "area_patio                  2137\n",
       "area_shed                   2234\n",
       "build_year                    11\n",
       "num_story                   1792\n",
       "flag_fireplace              2234\n",
       "tax_building                   6\n",
       "tax_total                      0\n",
       "tax_year                       0\n",
       "tax_land                       0\n",
       "tax_property                   0\n",
       "tax_delinquency             2166\n",
       "tax_delinquency_year        2166\n",
       "censustractandblock            8\n",
       "logerror                       0\n",
       "transactiondate                0\n",
       "dtype: int64"
      ]
     },
     "execution_count": 149,
     "metadata": {},
     "output_type": "execute_result"
    }
   ],
   "source": [
    "propertiesAndTransactions.isnull()[column_names].sum()\n",
    "# this shows columns and the number of NaN's.Note parcelID has no missing values."
   ]
  },
  {
   "cell_type": "markdown",
   "metadata": {
    "pycharm": {
     "name": "#%% md\n"
    }
   },
   "source": [
    "Make a list of columns with moe than 80% missing data"
   ]
  },
  {
   "cell_type": "code",
   "execution_count": 152,
   "metadata": {},
   "outputs": [
    {
     "name": "stdout",
     "output_type": "stream",
     "text": [
      "Index(['architectural_style', 'area_basement', 'framing', 'deck',\n",
      "       'area_firstfloor_finished', 'area_liveperi_finished',\n",
      "       'area_total_finished', 'area_unknown', 'area_base', 'num_fireplace',\n",
      "       'flag_tub', 'area_pool', 'pooltypeid10', 'pooltypeid2', 'story',\n",
      "       'num_75_bath', 'material', 'area_patio', 'area_shed', 'num_story',\n",
      "       'flag_fireplace', 'tax_delinquency', 'tax_delinquency_year'],\n",
      "      dtype='object')\n"
     ]
    }
   ],
   "source": [
    "remove_columns = propertiesAndTransactions.columns[propertiesAndTransactions.isnull().mean() > .8]\n",
    "print(remove_columns)"
   ]
  },
  {
   "cell_type": "markdown",
   "source": [
    "Drop the columns"
   ],
   "metadata": {
    "collapsed": false
   }
  },
  {
   "cell_type": "code",
   "execution_count": null,
   "outputs": [],
   "source": [
    "propertiesAndTransactions = propertiesAndTransactions.drop(columns = remove_columns)"
   ],
   "metadata": {
    "collapsed": false,
    "pycharm": {
     "name": "#%%\n"
    }
   }
  },
  {
   "cell_type": "markdown",
   "source": [
    "Check results"
   ],
   "metadata": {
    "collapsed": false
   }
  },
  {
   "cell_type": "markdown",
   "metadata": {},
   "source": [
    "print(len(propertiesAndTransactions.columns))\n",
    "print(propertiesAndTransactions.columns)"
   ]
  },
  {
   "cell_type": "code",
   "execution_count": 153,
   "metadata": {},
   "outputs": [],
   "source": [
    "propertiesAndTransactions = propertiesAndTransactions.drop(columns = remove_columns)"
   ]
  },
  {
   "cell_type": "markdown",
   "metadata": {},
   "source": [
    "Check results"
   ]
  },
  {
   "cell_type": "code",
   "execution_count": 154,
   "metadata": {},
   "outputs": [
    {
     "name": "stdout",
     "output_type": "stream",
     "text": [
      "37\n",
      "Index(['parcelid', 'aircon', 'num_bathroom', 'num_bedroom', 'quality',\n",
      "       'num_bathroom_calc', 'area_total_calc', 'area_live_finished', 'fips',\n",
      "       'num_bath', 'num_garage', 'area_garage', 'heating', 'latitude',\n",
      "       'longitude', 'area_lot', 'num_pool', 'pooltypeid7',\n",
      "       'zoning_landuse_county', 'zoning_landuse', 'zoning_property',\n",
      "       'rawcensustractandblock', 'region_city', 'region_county',\n",
      "       'region_neighbor', 'region_zip', 'num_room', 'num_unit', 'build_year',\n",
      "       'tax_building', 'tax_total', 'tax_year', 'tax_land', 'tax_property',\n",
      "       'censustractandblock', 'logerror', 'transactiondate'],\n",
      "      dtype='object')\n"
     ]
    }
   ],
   "source": [
    "print(len(propertiesAndTransactions.columns))\n",
    "print(propertiesAndTransactions.columns)"
   ]
  },
  {
   "cell_type": "markdown",
   "metadata": {},
   "source": [
    "Let's check the missing values mean"
   ]
  },
  {
   "cell_type": "code",
   "execution_count": 155,
   "metadata": {},
   "outputs": [
    {
     "name": "stdout",
     "output_type": "stream",
     "text": [
      "mean\n",
      " parcelid                  0.000000\n",
      "aircon                    0.664727\n",
      "num_bathroom              0.000000\n",
      "num_bedroom               0.000000\n",
      "quality                   0.315577\n",
      "num_bathroom_calc         0.011638\n",
      "area_total_calc           0.004029\n",
      "area_live_finished        0.045658\n",
      "fips                      0.000000\n",
      "num_bath                  0.011638\n",
      "num_garage                0.713071\n",
      "area_garage               0.713071\n",
      "heating                   0.336616\n",
      "latitude                  0.000000\n",
      "longitude                 0.000000\n",
      "area_lot                  0.096688\n",
      "num_pool                  0.764548\n",
      "pooltypeid7               0.775291\n",
      "zoning_landuse_county     0.000000\n",
      "zoning_landuse            0.000000\n",
      "zoning_property           0.303491\n",
      "rawcensustractandblock    0.000000\n",
      "region_city               0.018800\n",
      "region_county             0.000000\n",
      "region_neighbor           0.530886\n",
      "region_zip                0.000895\n",
      "num_room                  0.000000\n",
      "num_unit                  0.303939\n",
      "build_year                0.004924\n",
      "tax_building              0.002686\n",
      "tax_total                 0.000000\n",
      "tax_year                  0.000000\n",
      "tax_land                  0.000000\n",
      "tax_property              0.000000\n",
      "censustractandblock       0.003581\n",
      "logerror                  0.000000\n",
      "transactiondate           0.000000\n",
      "dtype: float64\n"
     ]
    }
   ],
   "source": [
    "print('mean\\n', propertiesAndTransactions.isnull()[propertiesAndTransactions.columns].mean())\n",
    "# we see the means to all be below 80%."
   ]
  },
  {
   "cell_type": "markdown",
   "metadata": {},
   "source": [
    "Are there any duplicate?"
   ]
  },
  {
   "cell_type": "code",
   "execution_count": 156,
   "metadata": {},
   "outputs": [
    {
     "data": {
      "text/html": [
       "<div>\n",
       "<style scoped>\n",
       "    .dataframe tbody tr th:only-of-type {\n",
       "        vertical-align: middle;\n",
       "    }\n",
       "\n",
       "    .dataframe tbody tr th {\n",
       "        vertical-align: top;\n",
       "    }\n",
       "\n",
       "    .dataframe thead th {\n",
       "        text-align: right;\n",
       "    }\n",
       "</style>\n",
       "<table border=\"1\" class=\"dataframe\">\n",
       "  <thead>\n",
       "    <tr style=\"text-align: right;\">\n",
       "      <th></th>\n",
       "      <th>parcelid</th>\n",
       "      <th>aircon</th>\n",
       "      <th>num_bathroom</th>\n",
       "      <th>num_bedroom</th>\n",
       "      <th>quality</th>\n",
       "      <th>num_bathroom_calc</th>\n",
       "      <th>area_total_calc</th>\n",
       "      <th>area_live_finished</th>\n",
       "      <th>fips</th>\n",
       "      <th>num_bath</th>\n",
       "      <th>...</th>\n",
       "      <th>num_unit</th>\n",
       "      <th>build_year</th>\n",
       "      <th>tax_building</th>\n",
       "      <th>tax_total</th>\n",
       "      <th>tax_year</th>\n",
       "      <th>tax_land</th>\n",
       "      <th>tax_property</th>\n",
       "      <th>censustractandblock</th>\n",
       "      <th>logerror</th>\n",
       "      <th>transactiondate</th>\n",
       "    </tr>\n",
       "  </thead>\n",
       "  <tbody>\n",
       "  </tbody>\n",
       "</table>\n",
       "<p>0 rows × 37 columns</p>\n",
       "</div>"
      ],
      "text/plain": [
       "Empty DataFrame\n",
       "Columns: [parcelid, aircon, num_bathroom, num_bedroom, quality, num_bathroom_calc, area_total_calc, area_live_finished, fips, num_bath, num_garage, area_garage, heating, latitude, longitude, area_lot, num_pool, pooltypeid7, zoning_landuse_county, zoning_landuse, zoning_property, rawcensustractandblock, region_city, region_county, region_neighbor, region_zip, num_room, num_unit, build_year, tax_building, tax_total, tax_year, tax_land, tax_property, censustractandblock, logerror, transactiondate]\n",
       "Index: []\n",
       "\n",
       "[0 rows x 37 columns]"
      ]
     },
     "execution_count": 156,
     "metadata": {},
     "output_type": "execute_result"
    }
   ],
   "source": [
    "propertiesAndTransactions[propertiesAndTransactions.duplicated(keep=False)]\n",
    "# There are no duplocates"
   ]
  },
  {
   "cell_type": "markdown",
   "metadata": {},
   "source": [
    "The two datasets have been merges, columns with more than 80% missing values were removed. The final dataset 'propertiesAndTransactions' will be used in the next milestone."
   ]
  },
  {
   "cell_type": "markdown",
   "metadata": {
    "pycharm": {
     "name": "#%% md\n"
    }
   },
   "source": [
    "## Webscaraping Data Source\n",
    "#### Description\n",
    "Using webscraping techniques, we will use 'latitude', 'longitude' from properties dataset to access properties and get current data for those locations. THe property description of homes in given region will be stored into a dataset with as many features as in properties dataset we can grab. This dataset can then be used to do some price comparision between properties in 2016 and 2017. Getting data from years prior(say 10 years), we will be able to create trend charts and see market fluctuations."
   ]
  },
  {
   "cell_type": "code",
   "execution_count": 29,
   "metadata": {},
   "outputs": [],
   "source": [
    "# Load Libraries\n",
    "from selenium import webdriver\n",
    "from bs4 import BeautifulSoup\n",
    "\n",
    "\n",
    "from selenium.webdriver import Chrome\n",
    "\n",
    "driver = Chrome(\"C:/Users/safar/Downloads/chromedriver_win32/chromedriver\")\n",
    "\n",
    "#with Chrome() as driver:\n",
    "products=[] #List to store name of the product\n",
    "prices=[] #List to store price of the product\n",
    "ratings=[] #List to store rating of the product\n",
    "# This open the chromium web browser. This web browswer will be under the control of this application\n",
    "driver.get(\"https://www.zillow.com\")\n",
    "\n",
    "# The field \"enter an address will be inspected and filled in for the queries\""
   ]
  },
  {
   "cell_type": "markdown",
   "metadata": {},
   "source": [
    "![ZillowMainScreen](ZillowMainScreen.png)"
   ]
  },
  {
   "cell_type": "markdown",
   "metadata": {},
   "source": [
    "## data from API\n",
    "#### Description\n",
    "\n",
    "Googlemap API and matplotlib or equivalant will be used to locate properties by zipcode and display them on the map of the Unites States. We will convert 'longitude' and 'latitude' columns in properties dataset to zip code and use the zipcode in the API call.We will show the density of homes sold in various regions in the dataset. We will also show the properties we extracted using webscraping techniques."
   ]
  },
  {
   "cell_type": "code",
   "execution_count": 26,
   "metadata": {},
   "outputs": [],
   "source": [
    "# This is a sample code and does not pertain to this project. We will try to implement a function s\n",
    "import googlemaps\n",
    "from datetime import datetime\n",
    "\n",
    "gmaps = googlemaps.Client(key='I HAVE OBTAINED A KEY FROM GOOGLE WEB SITE')\n",
    "\n",
    "# Geocoding an address\n",
    "geocode_result = gmaps.geocode('1600 Amphitheatre Parkway, Mountain View, CA')\n",
    "\n",
    "# Look up an address with reverse geocoding\n",
    "reverse_geocode_result = gmaps.reverse_geocode((40.714224, -73.961452))\n",
    "\n",
    "# Request directions via public transit\n",
    "now = datetime.now()\n",
    "directions_result = gmaps.directions(\"Sydney Town Hall\",\n",
    "                                     \"Parramatta, NSW\",\n",
    "                                     mode=\"transit\",\n",
    "                                     departure_time=now)"
   ]
  }
 ],
 "metadata": {
  "kernelspec": {
   "display_name": "Python 3",
   "language": "python",
   "name": "python3"
  },
  "language_info": {
   "codemirror_mode": {
    "name": "ipython",
    "version": 3
   },
   "file_extension": ".py",
   "mimetype": "text/x-python",
   "name": "python",
   "nbconvert_exporter": "python",
   "pygments_lexer": "ipython3",
   "version": "3.7.4"
  }
 },
 "nbformat": 4,
 "nbformat_minor": 1
}