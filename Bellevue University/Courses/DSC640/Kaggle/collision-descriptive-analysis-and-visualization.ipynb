{
 "cells": [
  {
   "cell_type": "markdown",
   "metadata": {
    "_cell_guid": "9bc1e906-780a-4432-969e-ce9f090a01e4",
    "_uuid": "cd163f06361efd1771db957d0807e88e68c010e8"
   },
   "source": [
    "### This kernel was created in regards to the final term project for Foundations of Data Science course at University of Toronto. \n",
    "Course #: 3250 - 015 Foundations of Data Science (Winter 2018)<br>\n",
    "Instructor: Wilson So<br>\n",
    "Team: <br>\n",
    "Boris Korotkov<br>\n",
    "Chaewon Kim<br>\n",
    "Patricia Luo<br>\n",
    "Ryan He"
   ]
  },
  {
   "cell_type": "code",
   "execution_count": 1,
   "metadata": {
    "_cell_guid": "d2b4b80c-c4be-488a-96ab-6ab9ed16ded9",
    "_uuid": "191ef964d06d578f0855ebd035b240270fa8f789"
   },
   "outputs": [],
   "source": [
    "%matplotlib inline\n",
    "%precision 3\n",
    "\n",
    "import os\n",
    "import re\n",
    "import datetime\n",
    "\n",
    "import numpy as np\n",
    "np.set_printoptions(precision=3)\n",
    "np.random.seed(123)\n",
    "from numpy.random import randn\n",
    "from numpy import nan as NA\n",
    "\n",
    "import pandas as pd\n",
    "pd.options.display.max_rows = 6\n",
    "\n",
    "import matplotlib.pyplot as plt\n",
    "plt.rc('figure', figsize=(10, 6))\n",
    "\n",
    "from pandas.plotting import autocorrelation_plot\n",
    "from pylab import pcolor, show, colorbar, xticks, yticks\n",
    "from matplotlib.ticker import PercentFormatter\n",
    "\n",
    "import seaborn as sns"
   ]
  },
  {
   "cell_type": "code",
   "execution_count": 2,
   "metadata": {
    "_cell_guid": "23a9a769-9318-49de-89a2-02643f2bf372",
    "_uuid": "4a675506f4c3e739c08f3a399582a99641df64e1"
   },
   "outputs": [],
   "source": [
    "accident = pd.read_csv('Data/NCDB_1999_to_2014/NCDB_1999_to_2014.csv', engine = 'python')"
   ]
  },
  {
   "cell_type": "code",
   "execution_count": 3,
   "metadata": {
    "_cell_guid": "06165dab-a6cb-489b-b267-04322559f708",
    "_uuid": "58ee7117e82d8d3f2f682183fc3449b2bd3dbe90",
    "scrolled": true
   },
   "outputs": [
    {
     "data": {
      "text/html": [
       "<div>\n",
       "<style scoped>\n",
       "    .dataframe tbody tr th:only-of-type {\n",
       "        vertical-align: middle;\n",
       "    }\n",
       "\n",
       "    .dataframe tbody tr th {\n",
       "        vertical-align: top;\n",
       "    }\n",
       "\n",
       "    .dataframe thead th {\n",
       "        text-align: right;\n",
       "    }\n",
       "</style>\n",
       "<table border=\"1\" class=\"dataframe\">\n",
       "  <thead>\n",
       "    <tr style=\"text-align: right;\">\n",
       "      <th></th>\n",
       "      <th>c_year</th>\n",
       "      <th>c_mnth</th>\n",
       "      <th>c_wday</th>\n",
       "      <th>c_hour</th>\n",
       "      <th>c_sev</th>\n",
       "      <th>c_vehs</th>\n",
       "      <th>c_conf</th>\n",
       "      <th>c_rcfg</th>\n",
       "      <th>c_wthr</th>\n",
       "      <th>c_rsur</th>\n",
       "      <th>...</th>\n",
       "      <th>v_id</th>\n",
       "      <th>v_type</th>\n",
       "      <th>v_year</th>\n",
       "      <th>p_id</th>\n",
       "      <th>p_sex</th>\n",
       "      <th>p_age</th>\n",
       "      <th>p_psn</th>\n",
       "      <th>p_isev</th>\n",
       "      <th>p_safe</th>\n",
       "      <th>p_user</th>\n",
       "    </tr>\n",
       "  </thead>\n",
       "  <tbody>\n",
       "    <tr>\n",
       "      <th>0</th>\n",
       "      <td>1999</td>\n",
       "      <td>01</td>\n",
       "      <td>1</td>\n",
       "      <td>20</td>\n",
       "      <td>2</td>\n",
       "      <td>02</td>\n",
       "      <td>34</td>\n",
       "      <td>UU</td>\n",
       "      <td>1</td>\n",
       "      <td>5</td>\n",
       "      <td>...</td>\n",
       "      <td>01</td>\n",
       "      <td>06</td>\n",
       "      <td>1990</td>\n",
       "      <td>01</td>\n",
       "      <td>M</td>\n",
       "      <td>41</td>\n",
       "      <td>11</td>\n",
       "      <td>1</td>\n",
       "      <td>UU</td>\n",
       "      <td>1</td>\n",
       "    </tr>\n",
       "    <tr>\n",
       "      <th>1</th>\n",
       "      <td>1999</td>\n",
       "      <td>01</td>\n",
       "      <td>1</td>\n",
       "      <td>20</td>\n",
       "      <td>2</td>\n",
       "      <td>02</td>\n",
       "      <td>34</td>\n",
       "      <td>UU</td>\n",
       "      <td>1</td>\n",
       "      <td>5</td>\n",
       "      <td>...</td>\n",
       "      <td>02</td>\n",
       "      <td>01</td>\n",
       "      <td>1987</td>\n",
       "      <td>01</td>\n",
       "      <td>M</td>\n",
       "      <td>19</td>\n",
       "      <td>11</td>\n",
       "      <td>1</td>\n",
       "      <td>UU</td>\n",
       "      <td>1</td>\n",
       "    </tr>\n",
       "    <tr>\n",
       "      <th>2</th>\n",
       "      <td>1999</td>\n",
       "      <td>01</td>\n",
       "      <td>1</td>\n",
       "      <td>20</td>\n",
       "      <td>2</td>\n",
       "      <td>02</td>\n",
       "      <td>34</td>\n",
       "      <td>UU</td>\n",
       "      <td>1</td>\n",
       "      <td>5</td>\n",
       "      <td>...</td>\n",
       "      <td>02</td>\n",
       "      <td>01</td>\n",
       "      <td>1987</td>\n",
       "      <td>02</td>\n",
       "      <td>F</td>\n",
       "      <td>20</td>\n",
       "      <td>13</td>\n",
       "      <td>2</td>\n",
       "      <td>02</td>\n",
       "      <td>2</td>\n",
       "    </tr>\n",
       "    <tr>\n",
       "      <th>...</th>\n",
       "      <td>...</td>\n",
       "      <td>...</td>\n",
       "      <td>...</td>\n",
       "      <td>...</td>\n",
       "      <td>...</td>\n",
       "      <td>...</td>\n",
       "      <td>...</td>\n",
       "      <td>...</td>\n",
       "      <td>...</td>\n",
       "      <td>...</td>\n",
       "      <td>...</td>\n",
       "      <td>...</td>\n",
       "      <td>...</td>\n",
       "      <td>...</td>\n",
       "      <td>...</td>\n",
       "      <td>...</td>\n",
       "      <td>...</td>\n",
       "      <td>...</td>\n",
       "      <td>...</td>\n",
       "      <td>...</td>\n",
       "      <td>...</td>\n",
       "    </tr>\n",
       "    <tr>\n",
       "      <th>5860402</th>\n",
       "      <td>2014</td>\n",
       "      <td>UU</td>\n",
       "      <td>U</td>\n",
       "      <td>14</td>\n",
       "      <td>2</td>\n",
       "      <td>01</td>\n",
       "      <td>02</td>\n",
       "      <td>01</td>\n",
       "      <td>1</td>\n",
       "      <td>5</td>\n",
       "      <td>...</td>\n",
       "      <td>01</td>\n",
       "      <td>01</td>\n",
       "      <td>2006</td>\n",
       "      <td>01</td>\n",
       "      <td>F</td>\n",
       "      <td>UU</td>\n",
       "      <td>11</td>\n",
       "      <td>2</td>\n",
       "      <td>01</td>\n",
       "      <td>1</td>\n",
       "    </tr>\n",
       "    <tr>\n",
       "      <th>5860403</th>\n",
       "      <td>2014</td>\n",
       "      <td>UU</td>\n",
       "      <td>U</td>\n",
       "      <td>22</td>\n",
       "      <td>1</td>\n",
       "      <td>01</td>\n",
       "      <td>06</td>\n",
       "      <td>01</td>\n",
       "      <td>2</td>\n",
       "      <td>4</td>\n",
       "      <td>...</td>\n",
       "      <td>01</td>\n",
       "      <td>22</td>\n",
       "      <td>UUUU</td>\n",
       "      <td>01</td>\n",
       "      <td>M</td>\n",
       "      <td>67</td>\n",
       "      <td>12</td>\n",
       "      <td>3</td>\n",
       "      <td>01</td>\n",
       "      <td>U</td>\n",
       "    </tr>\n",
       "    <tr>\n",
       "      <th>5860404</th>\n",
       "      <td>2014</td>\n",
       "      <td>UU</td>\n",
       "      <td>U</td>\n",
       "      <td>22</td>\n",
       "      <td>1</td>\n",
       "      <td>01</td>\n",
       "      <td>06</td>\n",
       "      <td>01</td>\n",
       "      <td>2</td>\n",
       "      <td>4</td>\n",
       "      <td>...</td>\n",
       "      <td>01</td>\n",
       "      <td>22</td>\n",
       "      <td>UUUU</td>\n",
       "      <td>02</td>\n",
       "      <td>M</td>\n",
       "      <td>10</td>\n",
       "      <td>98</td>\n",
       "      <td>1</td>\n",
       "      <td>01</td>\n",
       "      <td>U</td>\n",
       "    </tr>\n",
       "  </tbody>\n",
       "</table>\n",
       "<p>5860405 rows × 22 columns</p>\n",
       "</div>"
      ],
      "text/plain": [
       "         c_year c_mnth c_wday c_hour  c_sev c_vehs c_conf c_rcfg c_wthr  \\\n",
       "0          1999     01      1     20      2     02     34     UU      1   \n",
       "1          1999     01      1     20      2     02     34     UU      1   \n",
       "2          1999     01      1     20      2     02     34     UU      1   \n",
       "...         ...    ...    ...    ...    ...    ...    ...    ...    ...   \n",
       "5860402    2014     UU      U     14      2     01     02     01      1   \n",
       "5860403    2014     UU      U     22      1     01     06     01      2   \n",
       "5860404    2014     UU      U     22      1     01     06     01      2   \n",
       "\n",
       "        c_rsur  ... v_id v_type v_year p_id p_sex p_age p_psn p_isev p_safe  \\\n",
       "0            5  ...   01     06   1990   01     M    41    11      1     UU   \n",
       "1            5  ...   02     01   1987   01     M    19    11      1     UU   \n",
       "2            5  ...   02     01   1987   02     F    20    13      2     02   \n",
       "...        ...  ...  ...    ...    ...  ...   ...   ...   ...    ...    ...   \n",
       "5860402      5  ...   01     01   2006   01     F    UU    11      2     01   \n",
       "5860403      4  ...   01     22   UUUU   01     M    67    12      3     01   \n",
       "5860404      4  ...   01     22   UUUU   02     M    10    98      1     01   \n",
       "\n",
       "        p_user  \n",
       "0            1  \n",
       "1            1  \n",
       "2            2  \n",
       "...        ...  \n",
       "5860402      1  \n",
       "5860403      U  \n",
       "5860404      U  \n",
       "\n",
       "[5860405 rows x 22 columns]"
      ]
     },
     "execution_count": 3,
     "metadata": {},
     "output_type": "execute_result"
    }
   ],
   "source": [
    "#Replace all column head to lower case.\n",
    "accident.columns = accident.columns.map(lambda x: x[:].lower())\n",
    "accident"
   ]
  },
  {
   "cell_type": "code",
   "execution_count": 5,
   "metadata": {
    "_cell_guid": "c816bed0-5596-46fe-9389-0eacbdb2eed7",
    "_uuid": "2810fed015b06c4581ab7e8e2557f20109cd11cf"
   },
   "outputs": [
    {
     "data": {
      "text/html": [
       "<div>\n",
       "<style scoped>\n",
       "    .dataframe tbody tr th:only-of-type {\n",
       "        vertical-align: middle;\n",
       "    }\n",
       "\n",
       "    .dataframe tbody tr th {\n",
       "        vertical-align: top;\n",
       "    }\n",
       "\n",
       "    .dataframe thead th {\n",
       "        text-align: right;\n",
       "    }\n",
       "</style>\n",
       "<table border=\"1\" class=\"dataframe\">\n",
       "  <thead>\n",
       "    <tr style=\"text-align: right;\">\n",
       "      <th></th>\n",
       "      <th>c_year</th>\n",
       "      <th>c_mnth</th>\n",
       "      <th>c_wday</th>\n",
       "      <th>c_hour</th>\n",
       "      <th>c_sev</th>\n",
       "      <th>c_vehs</th>\n",
       "      <th>c_conf</th>\n",
       "      <th>c_rcfg</th>\n",
       "      <th>c_wthr</th>\n",
       "      <th>c_rsur</th>\n",
       "      <th>...</th>\n",
       "      <th>v_id</th>\n",
       "      <th>v_type</th>\n",
       "      <th>v_year</th>\n",
       "      <th>p_id</th>\n",
       "      <th>p_sex</th>\n",
       "      <th>p_age</th>\n",
       "      <th>p_psn</th>\n",
       "      <th>p_isev</th>\n",
       "      <th>p_safe</th>\n",
       "      <th>p_user</th>\n",
       "    </tr>\n",
       "  </thead>\n",
       "  <tbody>\n",
       "    <tr>\n",
       "      <th>128</th>\n",
       "      <td>1999</td>\n",
       "      <td>01</td>\n",
       "      <td>1</td>\n",
       "      <td>UU</td>\n",
       "      <td>2</td>\n",
       "      <td>02</td>\n",
       "      <td>33</td>\n",
       "      <td>02</td>\n",
       "      <td>1</td>\n",
       "      <td>1</td>\n",
       "      <td>...</td>\n",
       "      <td>01</td>\n",
       "      <td>06</td>\n",
       "      <td>1990</td>\n",
       "      <td>01</td>\n",
       "      <td>M</td>\n",
       "      <td>57</td>\n",
       "      <td>11</td>\n",
       "      <td>1</td>\n",
       "      <td>02</td>\n",
       "      <td>1</td>\n",
       "    </tr>\n",
       "    <tr>\n",
       "      <th>129</th>\n",
       "      <td>1999</td>\n",
       "      <td>01</td>\n",
       "      <td>1</td>\n",
       "      <td>UU</td>\n",
       "      <td>2</td>\n",
       "      <td>02</td>\n",
       "      <td>33</td>\n",
       "      <td>02</td>\n",
       "      <td>1</td>\n",
       "      <td>1</td>\n",
       "      <td>...</td>\n",
       "      <td>02</td>\n",
       "      <td>01</td>\n",
       "      <td>1991</td>\n",
       "      <td>01</td>\n",
       "      <td>M</td>\n",
       "      <td>18</td>\n",
       "      <td>11</td>\n",
       "      <td>2</td>\n",
       "      <td>02</td>\n",
       "      <td>1</td>\n",
       "    </tr>\n",
       "    <tr>\n",
       "      <th>175</th>\n",
       "      <td>1999</td>\n",
       "      <td>01</td>\n",
       "      <td>1</td>\n",
       "      <td>UU</td>\n",
       "      <td>2</td>\n",
       "      <td>01</td>\n",
       "      <td>03</td>\n",
       "      <td>UU</td>\n",
       "      <td>1</td>\n",
       "      <td>4</td>\n",
       "      <td>...</td>\n",
       "      <td>01</td>\n",
       "      <td>01</td>\n",
       "      <td>1989</td>\n",
       "      <td>01</td>\n",
       "      <td>M</td>\n",
       "      <td>30</td>\n",
       "      <td>11</td>\n",
       "      <td>2</td>\n",
       "      <td>02</td>\n",
       "      <td>1</td>\n",
       "    </tr>\n",
       "    <tr>\n",
       "      <th>...</th>\n",
       "      <td>...</td>\n",
       "      <td>...</td>\n",
       "      <td>...</td>\n",
       "      <td>...</td>\n",
       "      <td>...</td>\n",
       "      <td>...</td>\n",
       "      <td>...</td>\n",
       "      <td>...</td>\n",
       "      <td>...</td>\n",
       "      <td>...</td>\n",
       "      <td>...</td>\n",
       "      <td>...</td>\n",
       "      <td>...</td>\n",
       "      <td>...</td>\n",
       "      <td>...</td>\n",
       "      <td>...</td>\n",
       "      <td>...</td>\n",
       "      <td>...</td>\n",
       "      <td>...</td>\n",
       "      <td>...</td>\n",
       "      <td>...</td>\n",
       "    </tr>\n",
       "    <tr>\n",
       "      <th>5860402</th>\n",
       "      <td>2014</td>\n",
       "      <td>UU</td>\n",
       "      <td>U</td>\n",
       "      <td>14</td>\n",
       "      <td>2</td>\n",
       "      <td>01</td>\n",
       "      <td>02</td>\n",
       "      <td>01</td>\n",
       "      <td>1</td>\n",
       "      <td>5</td>\n",
       "      <td>...</td>\n",
       "      <td>01</td>\n",
       "      <td>01</td>\n",
       "      <td>2006</td>\n",
       "      <td>01</td>\n",
       "      <td>F</td>\n",
       "      <td>UU</td>\n",
       "      <td>11</td>\n",
       "      <td>2</td>\n",
       "      <td>01</td>\n",
       "      <td>1</td>\n",
       "    </tr>\n",
       "    <tr>\n",
       "      <th>5860403</th>\n",
       "      <td>2014</td>\n",
       "      <td>UU</td>\n",
       "      <td>U</td>\n",
       "      <td>22</td>\n",
       "      <td>1</td>\n",
       "      <td>01</td>\n",
       "      <td>06</td>\n",
       "      <td>01</td>\n",
       "      <td>2</td>\n",
       "      <td>4</td>\n",
       "      <td>...</td>\n",
       "      <td>01</td>\n",
       "      <td>22</td>\n",
       "      <td>UUUU</td>\n",
       "      <td>01</td>\n",
       "      <td>M</td>\n",
       "      <td>67</td>\n",
       "      <td>12</td>\n",
       "      <td>3</td>\n",
       "      <td>01</td>\n",
       "      <td>U</td>\n",
       "    </tr>\n",
       "    <tr>\n",
       "      <th>5860404</th>\n",
       "      <td>2014</td>\n",
       "      <td>UU</td>\n",
       "      <td>U</td>\n",
       "      <td>22</td>\n",
       "      <td>1</td>\n",
       "      <td>01</td>\n",
       "      <td>06</td>\n",
       "      <td>01</td>\n",
       "      <td>2</td>\n",
       "      <td>4</td>\n",
       "      <td>...</td>\n",
       "      <td>01</td>\n",
       "      <td>22</td>\n",
       "      <td>UUUU</td>\n",
       "      <td>02</td>\n",
       "      <td>M</td>\n",
       "      <td>10</td>\n",
       "      <td>98</td>\n",
       "      <td>1</td>\n",
       "      <td>01</td>\n",
       "      <td>U</td>\n",
       "    </tr>\n",
       "  </tbody>\n",
       "</table>\n",
       "<p>60212 rows × 22 columns</p>\n",
       "</div>"
      ],
      "text/plain": [
       "         c_year c_mnth c_wday c_hour  c_sev c_vehs c_conf c_rcfg c_wthr  \\\n",
       "128        1999     01      1     UU      2     02     33     02      1   \n",
       "129        1999     01      1     UU      2     02     33     02      1   \n",
       "175        1999     01      1     UU      2     01     03     UU      1   \n",
       "...         ...    ...    ...    ...    ...    ...    ...    ...    ...   \n",
       "5860402    2014     UU      U     14      2     01     02     01      1   \n",
       "5860403    2014     UU      U     22      1     01     06     01      2   \n",
       "5860404    2014     UU      U     22      1     01     06     01      2   \n",
       "\n",
       "        c_rsur  ... v_id v_type v_year p_id p_sex p_age p_psn p_isev p_safe  \\\n",
       "128          1  ...   01     06   1990   01     M    57    11      1     02   \n",
       "129          1  ...   02     01   1991   01     M    18    11      2     02   \n",
       "175          4  ...   01     01   1989   01     M    30    11      2     02   \n",
       "...        ...  ...  ...    ...    ...  ...   ...   ...   ...    ...    ...   \n",
       "5860402      5  ...   01     01   2006   01     F    UU    11      2     01   \n",
       "5860403      4  ...   01     22   UUUU   01     M    67    12      3     01   \n",
       "5860404      4  ...   01     22   UUUU   02     M    10    98      1     01   \n",
       "\n",
       "        p_user  \n",
       "128          1  \n",
       "129          1  \n",
       "175          1  \n",
       "...        ...  \n",
       "5860402      1  \n",
       "5860403      U  \n",
       "5860404      U  \n",
       "\n",
       "[60212 rows x 22 columns]"
      ]
     },
     "execution_count": 5,
     "metadata": {},
     "output_type": "execute_result"
    }
   ],
   "source": [
    "#Check the non-numeric values in date-time columns\n",
    "accident[accident['c_mnth'].str.contains('[^0-9]')|\n",
    "         accident['c_wday'].str.contains('[^0-9]')|\n",
    "         accident['c_hour'].str.contains('[^0-9]')]"
   ]
  },
  {
   "cell_type": "markdown",
   "metadata": {
    "_cell_guid": "2ecab44d-e29c-47bf-9f1b-259eae9fd1bf",
    "_uuid": "f7a6dfc1dc5605dfc7983e90bb543d7d7431108f"
   },
   "source": [
    "#### Data cleaning and normalization"
   ]
  },
  {
   "cell_type": "code",
   "execution_count": 6,
   "metadata": {
    "_cell_guid": "e3b96766-eed7-4e96-8568-3328be145683",
    "_uuid": "5adde36fbe07d0f616ebc78dfb36b3f21686ba99"
   },
   "outputs": [
    {
     "data": {
      "text/html": [
       "<div>\n",
       "<style scoped>\n",
       "    .dataframe tbody tr th:only-of-type {\n",
       "        vertical-align: middle;\n",
       "    }\n",
       "\n",
       "    .dataframe tbody tr th {\n",
       "        vertical-align: top;\n",
       "    }\n",
       "\n",
       "    .dataframe thead th {\n",
       "        text-align: right;\n",
       "    }\n",
       "</style>\n",
       "<table border=\"1\" class=\"dataframe\">\n",
       "  <thead>\n",
       "    <tr style=\"text-align: right;\">\n",
       "      <th></th>\n",
       "      <th>c_year</th>\n",
       "      <th>c_mnth</th>\n",
       "      <th>c_wday</th>\n",
       "      <th>c_hour</th>\n",
       "      <th>c_sev</th>\n",
       "      <th>c_vehs</th>\n",
       "      <th>c_conf</th>\n",
       "      <th>c_rcfg</th>\n",
       "      <th>c_wthr</th>\n",
       "      <th>c_rsur</th>\n",
       "      <th>...</th>\n",
       "      <th>v_id</th>\n",
       "      <th>v_type</th>\n",
       "      <th>v_year</th>\n",
       "      <th>p_id</th>\n",
       "      <th>p_sex</th>\n",
       "      <th>p_age</th>\n",
       "      <th>p_psn</th>\n",
       "      <th>p_isev</th>\n",
       "      <th>p_safe</th>\n",
       "      <th>p_user</th>\n",
       "    </tr>\n",
       "  </thead>\n",
       "  <tbody>\n",
       "    <tr>\n",
       "      <th>0</th>\n",
       "      <td>1999</td>\n",
       "      <td>01</td>\n",
       "      <td>1</td>\n",
       "      <td>20</td>\n",
       "      <td>2</td>\n",
       "      <td>02</td>\n",
       "      <td>34</td>\n",
       "      <td>UU</td>\n",
       "      <td>1</td>\n",
       "      <td>5</td>\n",
       "      <td>...</td>\n",
       "      <td>01</td>\n",
       "      <td>06</td>\n",
       "      <td>1990</td>\n",
       "      <td>01</td>\n",
       "      <td>M</td>\n",
       "      <td>41</td>\n",
       "      <td>11</td>\n",
       "      <td>1</td>\n",
       "      <td>UU</td>\n",
       "      <td>1</td>\n",
       "    </tr>\n",
       "    <tr>\n",
       "      <th>1</th>\n",
       "      <td>1999</td>\n",
       "      <td>01</td>\n",
       "      <td>1</td>\n",
       "      <td>20</td>\n",
       "      <td>2</td>\n",
       "      <td>02</td>\n",
       "      <td>34</td>\n",
       "      <td>UU</td>\n",
       "      <td>1</td>\n",
       "      <td>5</td>\n",
       "      <td>...</td>\n",
       "      <td>02</td>\n",
       "      <td>01</td>\n",
       "      <td>1987</td>\n",
       "      <td>01</td>\n",
       "      <td>M</td>\n",
       "      <td>19</td>\n",
       "      <td>11</td>\n",
       "      <td>1</td>\n",
       "      <td>UU</td>\n",
       "      <td>1</td>\n",
       "    </tr>\n",
       "    <tr>\n",
       "      <th>2</th>\n",
       "      <td>1999</td>\n",
       "      <td>01</td>\n",
       "      <td>1</td>\n",
       "      <td>20</td>\n",
       "      <td>2</td>\n",
       "      <td>02</td>\n",
       "      <td>34</td>\n",
       "      <td>UU</td>\n",
       "      <td>1</td>\n",
       "      <td>5</td>\n",
       "      <td>...</td>\n",
       "      <td>02</td>\n",
       "      <td>01</td>\n",
       "      <td>1987</td>\n",
       "      <td>02</td>\n",
       "      <td>F</td>\n",
       "      <td>20</td>\n",
       "      <td>13</td>\n",
       "      <td>2</td>\n",
       "      <td>02</td>\n",
       "      <td>2</td>\n",
       "    </tr>\n",
       "    <tr>\n",
       "      <th>...</th>\n",
       "      <td>...</td>\n",
       "      <td>...</td>\n",
       "      <td>...</td>\n",
       "      <td>...</td>\n",
       "      <td>...</td>\n",
       "      <td>...</td>\n",
       "      <td>...</td>\n",
       "      <td>...</td>\n",
       "      <td>...</td>\n",
       "      <td>...</td>\n",
       "      <td>...</td>\n",
       "      <td>...</td>\n",
       "      <td>...</td>\n",
       "      <td>...</td>\n",
       "      <td>...</td>\n",
       "      <td>...</td>\n",
       "      <td>...</td>\n",
       "      <td>...</td>\n",
       "      <td>...</td>\n",
       "      <td>...</td>\n",
       "      <td>...</td>\n",
       "    </tr>\n",
       "    <tr>\n",
       "      <th>5860378</th>\n",
       "      <td>2014</td>\n",
       "      <td>12</td>\n",
       "      <td>7</td>\n",
       "      <td>19</td>\n",
       "      <td>2</td>\n",
       "      <td>01</td>\n",
       "      <td>03</td>\n",
       "      <td>01</td>\n",
       "      <td>1</td>\n",
       "      <td>3</td>\n",
       "      <td>...</td>\n",
       "      <td>01</td>\n",
       "      <td>01</td>\n",
       "      <td>2001</td>\n",
       "      <td>01</td>\n",
       "      <td>F</td>\n",
       "      <td>35</td>\n",
       "      <td>11</td>\n",
       "      <td>2</td>\n",
       "      <td>02</td>\n",
       "      <td>1</td>\n",
       "    </tr>\n",
       "    <tr>\n",
       "      <th>5860379</th>\n",
       "      <td>2014</td>\n",
       "      <td>12</td>\n",
       "      <td>7</td>\n",
       "      <td>19</td>\n",
       "      <td>2</td>\n",
       "      <td>01</td>\n",
       "      <td>03</td>\n",
       "      <td>01</td>\n",
       "      <td>1</td>\n",
       "      <td>3</td>\n",
       "      <td>...</td>\n",
       "      <td>01</td>\n",
       "      <td>01</td>\n",
       "      <td>2001</td>\n",
       "      <td>02</td>\n",
       "      <td>M</td>\n",
       "      <td>26</td>\n",
       "      <td>13</td>\n",
       "      <td>1</td>\n",
       "      <td>02</td>\n",
       "      <td>2</td>\n",
       "    </tr>\n",
       "    <tr>\n",
       "      <th>5860380</th>\n",
       "      <td>2014</td>\n",
       "      <td>12</td>\n",
       "      <td>7</td>\n",
       "      <td>19</td>\n",
       "      <td>2</td>\n",
       "      <td>01</td>\n",
       "      <td>03</td>\n",
       "      <td>01</td>\n",
       "      <td>1</td>\n",
       "      <td>3</td>\n",
       "      <td>...</td>\n",
       "      <td>01</td>\n",
       "      <td>01</td>\n",
       "      <td>2001</td>\n",
       "      <td>03</td>\n",
       "      <td>F</td>\n",
       "      <td>15</td>\n",
       "      <td>21</td>\n",
       "      <td>2</td>\n",
       "      <td>02</td>\n",
       "      <td>2</td>\n",
       "    </tr>\n",
       "  </tbody>\n",
       "</table>\n",
       "<p>5800193 rows × 22 columns</p>\n",
       "</div>"
      ],
      "text/plain": [
       "         c_year c_mnth c_wday c_hour  c_sev c_vehs c_conf c_rcfg c_wthr  \\\n",
       "0          1999     01      1     20      2     02     34     UU      1   \n",
       "1          1999     01      1     20      2     02     34     UU      1   \n",
       "2          1999     01      1     20      2     02     34     UU      1   \n",
       "...         ...    ...    ...    ...    ...    ...    ...    ...    ...   \n",
       "5860378    2014     12      7     19      2     01     03     01      1   \n",
       "5860379    2014     12      7     19      2     01     03     01      1   \n",
       "5860380    2014     12      7     19      2     01     03     01      1   \n",
       "\n",
       "        c_rsur  ... v_id v_type v_year p_id p_sex p_age p_psn p_isev p_safe  \\\n",
       "0            5  ...   01     06   1990   01     M    41    11      1     UU   \n",
       "1            5  ...   02     01   1987   01     M    19    11      1     UU   \n",
       "2            5  ...   02     01   1987   02     F    20    13      2     02   \n",
       "...        ...  ...  ...    ...    ...  ...   ...   ...   ...    ...    ...   \n",
       "5860378      3  ...   01     01   2001   01     F    35    11      2     02   \n",
       "5860379      3  ...   01     01   2001   02     M    26    13      1     02   \n",
       "5860380      3  ...   01     01   2001   03     F    15    21      2     02   \n",
       "\n",
       "        p_user  \n",
       "0            1  \n",
       "1            1  \n",
       "2            2  \n",
       "...        ...  \n",
       "5860378      1  \n",
       "5860379      2  \n",
       "5860380      2  \n",
       "\n",
       "[5800193 rows x 22 columns]"
      ]
     },
     "execution_count": 6,
     "metadata": {},
     "output_type": "execute_result"
    }
   ],
   "source": [
    "#Remove all special values (unknown to us) in date-time columns, prepare for using date series as index.\n",
    "#Make a copy \"df\" for further analysis, avoid mess up the original data \"accident\".\n",
    "\n",
    "df = accident[:]\n",
    "df[['c_mnth','c_wday','c_hour']] = df[['c_mnth','c_wday','c_hour']].replace('[^0-9]+',np.nan,regex=True)\n",
    "df.dropna(axis=0,subset=['c_mnth','c_wday','c_hour'],inplace=True)\n",
    "\n",
    "df"
   ]
  },
  {
   "cell_type": "code",
   "execution_count": 7,
   "metadata": {
    "_cell_guid": "bc742e33-3ace-4bd9-ae7a-5ed8b2b514b1",
    "_uuid": "0f2f88a437642910c266a8b70b153b8ed9260175",
    "scrolled": true
   },
   "outputs": [
    {
     "data": {
      "text/html": [
       "<div>\n",
       "<style scoped>\n",
       "    .dataframe tbody tr th:only-of-type {\n",
       "        vertical-align: middle;\n",
       "    }\n",
       "\n",
       "    .dataframe tbody tr th {\n",
       "        vertical-align: top;\n",
       "    }\n",
       "\n",
       "    .dataframe thead th {\n",
       "        text-align: right;\n",
       "    }\n",
       "</style>\n",
       "<table border=\"1\" class=\"dataframe\">\n",
       "  <thead>\n",
       "    <tr style=\"text-align: right;\">\n",
       "      <th></th>\n",
       "      <th>c_year</th>\n",
       "      <th>c_mnth</th>\n",
       "      <th>c_wday</th>\n",
       "      <th>c_hour</th>\n",
       "      <th>c_sev</th>\n",
       "      <th>c_vehs</th>\n",
       "      <th>c_conf</th>\n",
       "      <th>c_rcfg</th>\n",
       "      <th>c_wthr</th>\n",
       "      <th>c_rsur</th>\n",
       "      <th>...</th>\n",
       "      <th>v_type</th>\n",
       "      <th>v_year</th>\n",
       "      <th>p_id</th>\n",
       "      <th>p_sex</th>\n",
       "      <th>p_age</th>\n",
       "      <th>p_psn</th>\n",
       "      <th>p_isev</th>\n",
       "      <th>p_safe</th>\n",
       "      <th>p_user</th>\n",
       "      <th>date</th>\n",
       "    </tr>\n",
       "  </thead>\n",
       "  <tbody>\n",
       "    <tr>\n",
       "      <th>0</th>\n",
       "      <td>1999</td>\n",
       "      <td>01</td>\n",
       "      <td>1</td>\n",
       "      <td>20</td>\n",
       "      <td>2</td>\n",
       "      <td>02</td>\n",
       "      <td>34</td>\n",
       "      <td>UU</td>\n",
       "      <td>1</td>\n",
       "      <td>5</td>\n",
       "      <td>...</td>\n",
       "      <td>06</td>\n",
       "      <td>1990</td>\n",
       "      <td>01</td>\n",
       "      <td>M</td>\n",
       "      <td>41</td>\n",
       "      <td>11</td>\n",
       "      <td>1</td>\n",
       "      <td>UU</td>\n",
       "      <td>1</td>\n",
       "      <td>1999-01-01</td>\n",
       "    </tr>\n",
       "    <tr>\n",
       "      <th>1</th>\n",
       "      <td>1999</td>\n",
       "      <td>01</td>\n",
       "      <td>1</td>\n",
       "      <td>20</td>\n",
       "      <td>2</td>\n",
       "      <td>02</td>\n",
       "      <td>34</td>\n",
       "      <td>UU</td>\n",
       "      <td>1</td>\n",
       "      <td>5</td>\n",
       "      <td>...</td>\n",
       "      <td>01</td>\n",
       "      <td>1987</td>\n",
       "      <td>01</td>\n",
       "      <td>M</td>\n",
       "      <td>19</td>\n",
       "      <td>11</td>\n",
       "      <td>1</td>\n",
       "      <td>UU</td>\n",
       "      <td>1</td>\n",
       "      <td>1999-01-01</td>\n",
       "    </tr>\n",
       "    <tr>\n",
       "      <th>2</th>\n",
       "      <td>1999</td>\n",
       "      <td>01</td>\n",
       "      <td>1</td>\n",
       "      <td>20</td>\n",
       "      <td>2</td>\n",
       "      <td>02</td>\n",
       "      <td>34</td>\n",
       "      <td>UU</td>\n",
       "      <td>1</td>\n",
       "      <td>5</td>\n",
       "      <td>...</td>\n",
       "      <td>01</td>\n",
       "      <td>1987</td>\n",
       "      <td>02</td>\n",
       "      <td>F</td>\n",
       "      <td>20</td>\n",
       "      <td>13</td>\n",
       "      <td>2</td>\n",
       "      <td>02</td>\n",
       "      <td>2</td>\n",
       "      <td>1999-01-01</td>\n",
       "    </tr>\n",
       "    <tr>\n",
       "      <th>...</th>\n",
       "      <td>...</td>\n",
       "      <td>...</td>\n",
       "      <td>...</td>\n",
       "      <td>...</td>\n",
       "      <td>...</td>\n",
       "      <td>...</td>\n",
       "      <td>...</td>\n",
       "      <td>...</td>\n",
       "      <td>...</td>\n",
       "      <td>...</td>\n",
       "      <td>...</td>\n",
       "      <td>...</td>\n",
       "      <td>...</td>\n",
       "      <td>...</td>\n",
       "      <td>...</td>\n",
       "      <td>...</td>\n",
       "      <td>...</td>\n",
       "      <td>...</td>\n",
       "      <td>...</td>\n",
       "      <td>...</td>\n",
       "      <td>...</td>\n",
       "    </tr>\n",
       "    <tr>\n",
       "      <th>5860378</th>\n",
       "      <td>2014</td>\n",
       "      <td>12</td>\n",
       "      <td>7</td>\n",
       "      <td>19</td>\n",
       "      <td>2</td>\n",
       "      <td>01</td>\n",
       "      <td>03</td>\n",
       "      <td>01</td>\n",
       "      <td>1</td>\n",
       "      <td>3</td>\n",
       "      <td>...</td>\n",
       "      <td>01</td>\n",
       "      <td>2001</td>\n",
       "      <td>01</td>\n",
       "      <td>F</td>\n",
       "      <td>35</td>\n",
       "      <td>11</td>\n",
       "      <td>2</td>\n",
       "      <td>02</td>\n",
       "      <td>1</td>\n",
       "      <td>2014-12-01</td>\n",
       "    </tr>\n",
       "    <tr>\n",
       "      <th>5860379</th>\n",
       "      <td>2014</td>\n",
       "      <td>12</td>\n",
       "      <td>7</td>\n",
       "      <td>19</td>\n",
       "      <td>2</td>\n",
       "      <td>01</td>\n",
       "      <td>03</td>\n",
       "      <td>01</td>\n",
       "      <td>1</td>\n",
       "      <td>3</td>\n",
       "      <td>...</td>\n",
       "      <td>01</td>\n",
       "      <td>2001</td>\n",
       "      <td>02</td>\n",
       "      <td>M</td>\n",
       "      <td>26</td>\n",
       "      <td>13</td>\n",
       "      <td>1</td>\n",
       "      <td>02</td>\n",
       "      <td>2</td>\n",
       "      <td>2014-12-01</td>\n",
       "    </tr>\n",
       "    <tr>\n",
       "      <th>5860380</th>\n",
       "      <td>2014</td>\n",
       "      <td>12</td>\n",
       "      <td>7</td>\n",
       "      <td>19</td>\n",
       "      <td>2</td>\n",
       "      <td>01</td>\n",
       "      <td>03</td>\n",
       "      <td>01</td>\n",
       "      <td>1</td>\n",
       "      <td>3</td>\n",
       "      <td>...</td>\n",
       "      <td>01</td>\n",
       "      <td>2001</td>\n",
       "      <td>03</td>\n",
       "      <td>F</td>\n",
       "      <td>15</td>\n",
       "      <td>21</td>\n",
       "      <td>2</td>\n",
       "      <td>02</td>\n",
       "      <td>2</td>\n",
       "      <td>2014-12-01</td>\n",
       "    </tr>\n",
       "  </tbody>\n",
       "</table>\n",
       "<p>5800193 rows × 23 columns</p>\n",
       "</div>"
      ],
      "text/plain": [
       "         c_year c_mnth c_wday c_hour  c_sev c_vehs c_conf c_rcfg c_wthr  \\\n",
       "0          1999     01      1     20      2     02     34     UU      1   \n",
       "1          1999     01      1     20      2     02     34     UU      1   \n",
       "2          1999     01      1     20      2     02     34     UU      1   \n",
       "...         ...    ...    ...    ...    ...    ...    ...    ...    ...   \n",
       "5860378    2014     12      7     19      2     01     03     01      1   \n",
       "5860379    2014     12      7     19      2     01     03     01      1   \n",
       "5860380    2014     12      7     19      2     01     03     01      1   \n",
       "\n",
       "        c_rsur  ... v_type v_year p_id p_sex p_age p_psn p_isev p_safe p_user  \\\n",
       "0            5  ...     06   1990   01     M    41    11      1     UU      1   \n",
       "1            5  ...     01   1987   01     M    19    11      1     UU      1   \n",
       "2            5  ...     01   1987   02     F    20    13      2     02      2   \n",
       "...        ...  ...    ...    ...  ...   ...   ...   ...    ...    ...    ...   \n",
       "5860378      3  ...     01   2001   01     F    35    11      2     02      1   \n",
       "5860379      3  ...     01   2001   02     M    26    13      1     02      2   \n",
       "5860380      3  ...     01   2001   03     F    15    21      2     02      2   \n",
       "\n",
       "              date  \n",
       "0       1999-01-01  \n",
       "1       1999-01-01  \n",
       "2       1999-01-01  \n",
       "...            ...  \n",
       "5860378 2014-12-01  \n",
       "5860379 2014-12-01  \n",
       "5860380 2014-12-01  \n",
       "\n",
       "[5800193 rows x 23 columns]"
      ]
     },
     "execution_count": 7,
     "metadata": {},
     "output_type": "execute_result"
    }
   ],
   "source": [
    "#Generate the date-time column \"date\", which could be assigned as index later.\n",
    "#Notes: 'dfp' using 'PeriodIndex' to generate monthly index, which meke better sense, but very slow.\n",
    "dfp=df[:]\n",
    "df['date'] = pd.DatetimeIndex(df['c_year'].map(str) + '-' + df['c_mnth'])\n",
    "dfp['date'] = pd.PeriodIndex(dfp['c_year'].map(str) + '-' + dfp['c_mnth'], freq='M')\n",
    "\n",
    "df"
   ]
  },
  {
   "cell_type": "markdown",
   "metadata": {
    "_cell_guid": "a734d648-98fe-4eeb-bfb6-b73cfa26c29c",
    "_uuid": "e114128b24321e76eaa24a4e85bb0bc115835886"
   },
   "source": [
    "---\n",
    "### 1 Collision Severity & Time\n",
    "### 1.1) Trend over the whole period and seasonality identification"
   ]
  },
  {
   "cell_type": "code",
   "execution_count": 8,
   "metadata": {
    "_cell_guid": "8e124837-2821-4363-833e-d284f4c5c6f4",
    "_uuid": "84e18c5fef5977b2a648742f07afb87707c8a125"
   },
   "outputs": [
    {
     "data": {
      "text/html": [
       "<div>\n",
       "<style scoped>\n",
       "    .dataframe tbody tr th:only-of-type {\n",
       "        vertical-align: middle;\n",
       "    }\n",
       "\n",
       "    .dataframe tbody tr th {\n",
       "        vertical-align: top;\n",
       "    }\n",
       "\n",
       "    .dataframe thead th {\n",
       "        text-align: right;\n",
       "    }\n",
       "</style>\n",
       "<table border=\"1\" class=\"dataframe\">\n",
       "  <thead>\n",
       "    <tr style=\"text-align: right;\">\n",
       "      <th></th>\n",
       "      <th>c_year</th>\n",
       "      <th>c_mnth</th>\n",
       "      <th>c_wday</th>\n",
       "      <th>c_hour</th>\n",
       "      <th>c_sev</th>\n",
       "      <th>c_vehs</th>\n",
       "      <th>c_conf</th>\n",
       "      <th>c_rcfg</th>\n",
       "      <th>c_wthr</th>\n",
       "      <th>c_rsur</th>\n",
       "      <th>...</th>\n",
       "      <th>v_id</th>\n",
       "      <th>v_type</th>\n",
       "      <th>v_year</th>\n",
       "      <th>p_id</th>\n",
       "      <th>p_sex</th>\n",
       "      <th>p_age</th>\n",
       "      <th>p_psn</th>\n",
       "      <th>p_isev</th>\n",
       "      <th>p_safe</th>\n",
       "      <th>p_user</th>\n",
       "    </tr>\n",
       "    <tr>\n",
       "      <th>date</th>\n",
       "      <th></th>\n",
       "      <th></th>\n",
       "      <th></th>\n",
       "      <th></th>\n",
       "      <th></th>\n",
       "      <th></th>\n",
       "      <th></th>\n",
       "      <th></th>\n",
       "      <th></th>\n",
       "      <th></th>\n",
       "      <th></th>\n",
       "      <th></th>\n",
       "      <th></th>\n",
       "      <th></th>\n",
       "      <th></th>\n",
       "      <th></th>\n",
       "      <th></th>\n",
       "      <th></th>\n",
       "      <th></th>\n",
       "      <th></th>\n",
       "      <th></th>\n",
       "    </tr>\n",
       "  </thead>\n",
       "  <tbody>\n",
       "    <tr>\n",
       "      <th>1999-01</th>\n",
       "      <td>1999</td>\n",
       "      <td>01</td>\n",
       "      <td>1</td>\n",
       "      <td>15</td>\n",
       "      <td>2</td>\n",
       "      <td>01</td>\n",
       "      <td>QQ</td>\n",
       "      <td>01</td>\n",
       "      <td>1</td>\n",
       "      <td>1</td>\n",
       "      <td>...</td>\n",
       "      <td>01</td>\n",
       "      <td>01</td>\n",
       "      <td>1995</td>\n",
       "      <td>01</td>\n",
       "      <td>M</td>\n",
       "      <td>17</td>\n",
       "      <td>11</td>\n",
       "      <td>1</td>\n",
       "      <td>02</td>\n",
       "      <td>1</td>\n",
       "    </tr>\n",
       "    <tr>\n",
       "      <th>1999-01</th>\n",
       "      <td>1999</td>\n",
       "      <td>01</td>\n",
       "      <td>1</td>\n",
       "      <td>15</td>\n",
       "      <td>2</td>\n",
       "      <td>01</td>\n",
       "      <td>QQ</td>\n",
       "      <td>01</td>\n",
       "      <td>1</td>\n",
       "      <td>1</td>\n",
       "      <td>...</td>\n",
       "      <td>99</td>\n",
       "      <td>NN</td>\n",
       "      <td>NNNN</td>\n",
       "      <td>02</td>\n",
       "      <td>F</td>\n",
       "      <td>41</td>\n",
       "      <td>99</td>\n",
       "      <td>2</td>\n",
       "      <td>NN</td>\n",
       "      <td>3</td>\n",
       "    </tr>\n",
       "    <tr>\n",
       "      <th>1999-01</th>\n",
       "      <td>1999</td>\n",
       "      <td>01</td>\n",
       "      <td>1</td>\n",
       "      <td>09</td>\n",
       "      <td>2</td>\n",
       "      <td>02</td>\n",
       "      <td>34</td>\n",
       "      <td>02</td>\n",
       "      <td>1</td>\n",
       "      <td>1</td>\n",
       "      <td>...</td>\n",
       "      <td>01</td>\n",
       "      <td>01</td>\n",
       "      <td>1992</td>\n",
       "      <td>01</td>\n",
       "      <td>F</td>\n",
       "      <td>33</td>\n",
       "      <td>11</td>\n",
       "      <td>2</td>\n",
       "      <td>02</td>\n",
       "      <td>1</td>\n",
       "    </tr>\n",
       "    <tr>\n",
       "      <th>...</th>\n",
       "      <td>...</td>\n",
       "      <td>...</td>\n",
       "      <td>...</td>\n",
       "      <td>...</td>\n",
       "      <td>...</td>\n",
       "      <td>...</td>\n",
       "      <td>...</td>\n",
       "      <td>...</td>\n",
       "      <td>...</td>\n",
       "      <td>...</td>\n",
       "      <td>...</td>\n",
       "      <td>...</td>\n",
       "      <td>...</td>\n",
       "      <td>...</td>\n",
       "      <td>...</td>\n",
       "      <td>...</td>\n",
       "      <td>...</td>\n",
       "      <td>...</td>\n",
       "      <td>...</td>\n",
       "      <td>...</td>\n",
       "      <td>...</td>\n",
       "    </tr>\n",
       "    <tr>\n",
       "      <th>2014-12</th>\n",
       "      <td>2014</td>\n",
       "      <td>12</td>\n",
       "      <td>7</td>\n",
       "      <td>19</td>\n",
       "      <td>2</td>\n",
       "      <td>01</td>\n",
       "      <td>03</td>\n",
       "      <td>01</td>\n",
       "      <td>1</td>\n",
       "      <td>3</td>\n",
       "      <td>...</td>\n",
       "      <td>01</td>\n",
       "      <td>01</td>\n",
       "      <td>2001</td>\n",
       "      <td>01</td>\n",
       "      <td>F</td>\n",
       "      <td>35</td>\n",
       "      <td>11</td>\n",
       "      <td>2</td>\n",
       "      <td>02</td>\n",
       "      <td>1</td>\n",
       "    </tr>\n",
       "    <tr>\n",
       "      <th>2014-12</th>\n",
       "      <td>2014</td>\n",
       "      <td>12</td>\n",
       "      <td>7</td>\n",
       "      <td>19</td>\n",
       "      <td>2</td>\n",
       "      <td>01</td>\n",
       "      <td>03</td>\n",
       "      <td>01</td>\n",
       "      <td>1</td>\n",
       "      <td>3</td>\n",
       "      <td>...</td>\n",
       "      <td>01</td>\n",
       "      <td>01</td>\n",
       "      <td>2001</td>\n",
       "      <td>02</td>\n",
       "      <td>M</td>\n",
       "      <td>26</td>\n",
       "      <td>13</td>\n",
       "      <td>1</td>\n",
       "      <td>02</td>\n",
       "      <td>2</td>\n",
       "    </tr>\n",
       "    <tr>\n",
       "      <th>2014-12</th>\n",
       "      <td>2014</td>\n",
       "      <td>12</td>\n",
       "      <td>7</td>\n",
       "      <td>19</td>\n",
       "      <td>2</td>\n",
       "      <td>01</td>\n",
       "      <td>03</td>\n",
       "      <td>01</td>\n",
       "      <td>1</td>\n",
       "      <td>3</td>\n",
       "      <td>...</td>\n",
       "      <td>01</td>\n",
       "      <td>01</td>\n",
       "      <td>2001</td>\n",
       "      <td>03</td>\n",
       "      <td>F</td>\n",
       "      <td>15</td>\n",
       "      <td>21</td>\n",
       "      <td>2</td>\n",
       "      <td>02</td>\n",
       "      <td>2</td>\n",
       "    </tr>\n",
       "  </tbody>\n",
       "</table>\n",
       "<p>4843322 rows × 22 columns</p>\n",
       "</div>"
      ],
      "text/plain": [
       "         c_year c_mnth c_wday c_hour  c_sev c_vehs c_conf c_rcfg c_wthr  \\\n",
       "date                                                                      \n",
       "1999-01    1999     01      1     15      2     01     QQ     01      1   \n",
       "1999-01    1999     01      1     15      2     01     QQ     01      1   \n",
       "1999-01    1999     01      1     09      2     02     34     02      1   \n",
       "...         ...    ...    ...    ...    ...    ...    ...    ...    ...   \n",
       "2014-12    2014     12      7     19      2     01     03     01      1   \n",
       "2014-12    2014     12      7     19      2     01     03     01      1   \n",
       "2014-12    2014     12      7     19      2     01     03     01      1   \n",
       "\n",
       "        c_rsur  ... v_id v_type v_year p_id p_sex p_age p_psn p_isev p_safe  \\\n",
       "date            ...                                                           \n",
       "1999-01      1  ...   01     01   1995   01     M    17    11      1     02   \n",
       "1999-01      1  ...   99     NN   NNNN   02     F    41    99      2     NN   \n",
       "1999-01      1  ...   01     01   1992   01     F    33    11      2     02   \n",
       "...        ...  ...  ...    ...    ...  ...   ...   ...   ...    ...    ...   \n",
       "2014-12      3  ...   01     01   2001   01     F    35    11      2     02   \n",
       "2014-12      3  ...   01     01   2001   02     M    26    13      1     02   \n",
       "2014-12      3  ...   01     01   2001   03     F    15    21      2     02   \n",
       "\n",
       "        p_user  \n",
       "date            \n",
       "1999-01      1  \n",
       "1999-01      3  \n",
       "1999-01      1  \n",
       "...        ...  \n",
       "2014-12      1  \n",
       "2014-12      2  \n",
       "2014-12      2  \n",
       "\n",
       "[4843322 rows x 22 columns]"
      ]
     },
     "execution_count": 8,
     "metadata": {},
     "output_type": "execute_result"
    }
   ],
   "source": [
    "#From 'dfp' generating 'df_b', removed non-numeric strings from four other columns.\n",
    "df_b = dfp[:]\n",
    "df_b[['c_rcfg','c_wthr','c_rsur','c_traf']] =\\\n",
    "        df_b[['c_rcfg','c_wthr','c_rsur','c_traf']].replace('[^0-9]+',np.nan,regex=True)\n",
    "df_b.dropna(axis=0,subset=['c_rcfg','c_wthr','c_rsur','c_traf'],inplace=True)\n",
    "\n",
    "#This line use 'date' as index, meke 'df_b' becoming time series.\n",
    "df_b = df_b.set_index('date')\n",
    "df_b"
   ]
  },
  {
   "cell_type": "code",
   "execution_count": 8,
   "metadata": {
    "_cell_guid": "f0a1207b-2db9-45bb-97d5-25c7a5982362",
    "_uuid": "9a8087bf8b8f19632c67e75b390612260d158658"
   },
   "outputs": [
    {
     "name": "stderr",
     "output_type": "stream",
     "text": [
      "C:\\Users\\safar\\AppData\\Local\\Temp\\ipykernel_30956\\1821494432.py:4: FutureWarning: Indexing with multiple keys (implicitly converted to a tuple of keys) will be deprecated, use a list instead.\n",
      "  df1 = df_b.groupby('date')['fatal','non_fatal'].sum()\n"
     ]
    },
    {
     "data": {
      "text/html": [
       "<div>\n",
       "<style scoped>\n",
       "    .dataframe tbody tr th:only-of-type {\n",
       "        vertical-align: middle;\n",
       "    }\n",
       "\n",
       "    .dataframe tbody tr th {\n",
       "        vertical-align: top;\n",
       "    }\n",
       "\n",
       "    .dataframe thead th {\n",
       "        text-align: right;\n",
       "    }\n",
       "</style>\n",
       "<table border=\"1\" class=\"dataframe\">\n",
       "  <thead>\n",
       "    <tr style=\"text-align: right;\">\n",
       "      <th></th>\n",
       "      <th>fatal</th>\n",
       "      <th>non_fatal</th>\n",
       "    </tr>\n",
       "    <tr>\n",
       "      <th>date</th>\n",
       "      <th></th>\n",
       "      <th></th>\n",
       "    </tr>\n",
       "  </thead>\n",
       "  <tbody>\n",
       "    <tr>\n",
       "      <th>1999-01</th>\n",
       "      <td>335</td>\n",
       "      <td>25782</td>\n",
       "    </tr>\n",
       "    <tr>\n",
       "      <th>1999-02</th>\n",
       "      <td>365</td>\n",
       "      <td>20591</td>\n",
       "    </tr>\n",
       "    <tr>\n",
       "      <th>1999-03</th>\n",
       "      <td>519</td>\n",
       "      <td>23221</td>\n",
       "    </tr>\n",
       "    <tr>\n",
       "      <th>...</th>\n",
       "      <td>...</td>\n",
       "      <td>...</td>\n",
       "    </tr>\n",
       "    <tr>\n",
       "      <th>2014-10</th>\n",
       "      <td>367</td>\n",
       "      <td>22930</td>\n",
       "    </tr>\n",
       "    <tr>\n",
       "      <th>2014-11</th>\n",
       "      <td>287</td>\n",
       "      <td>20948</td>\n",
       "    </tr>\n",
       "    <tr>\n",
       "      <th>2014-12</th>\n",
       "      <td>281</td>\n",
       "      <td>19933</td>\n",
       "    </tr>\n",
       "  </tbody>\n",
       "</table>\n",
       "<p>192 rows × 2 columns</p>\n",
       "</div>"
      ],
      "text/plain": [
       "         fatal  non_fatal\n",
       "date                     \n",
       "1999-01    335      25782\n",
       "1999-02    365      20591\n",
       "1999-03    519      23221\n",
       "...        ...        ...\n",
       "2014-10    367      22930\n",
       "2014-11    287      20948\n",
       "2014-12    281      19933\n",
       "\n",
       "[192 rows x 2 columns]"
      ]
     },
     "execution_count": 8,
     "metadata": {},
     "output_type": "execute_result"
    }
   ],
   "source": [
    "df_b['fatal']=np.where(df_b['c_sev']==1,1,0)\n",
    "df_b['non_fatal']=np.where(df_b['c_sev']==2,1,0)\n",
    "\n",
    "df1 = df_b.groupby('date')['fatal','non_fatal'].sum()\n",
    "df1"
   ]
  },
  {
   "cell_type": "code",
   "execution_count": 9,
   "metadata": {
    "_cell_guid": "f8b8b2b2-ea25-4b98-9bcf-596bf5b6f604",
    "_uuid": "87ab247ceddb21f8fbe7444ffa772a1f48fa817f"
   },
   "outputs": [
    {
     "data": {
      "image/png": "[encoded data removed]",
      "text/plain": [
       "<Figure size 1080x360 with 1 Axes>"
      ]
     },
     "metadata": {
      "needs_background": "light"
     },
     "output_type": "display_data"
    }
   ],
   "source": [
    "#The overall diagram\n",
    "plot1 = df1.plot(figsize=(15,5),title='Collision overall statistics')\n",
    "plot1.set_xlabel(\"Date\")\n",
    "plot1.set_ylabel(\"Number of collisions\");"
   ]
  },
  {
   "cell_type": "code",
   "execution_count": 10,
   "metadata": {
    "_cell_guid": "fae79f2f-d25d-4cbe-a6ca-93c735958aad",
    "_uuid": "4a5a46cb0c529063e3f7c70125b6996098325238"
   },
   "outputs": [
    {
     "data": {
      "image/png": "[encoded data removed]",
      "text/plain": [
       "<Figure size 1080x360 with 1 Axes>"
      ]
     },
     "metadata": {
      "needs_background": "light"
     },
     "output_type": "display_data"
    }
   ],
   "source": [
    "# Since the dateset period is 15 year, it's diffucult to identify a seasonality pattern in this scale\n",
    "# Thus, a smaller period was selected to identify on-peak and off-peak of collisions\n",
    "plot1 = df1[-60:].plot(figsize=(15,5),\n",
    "                     title='Collision overall statistics (recent 5 year)')\n",
    "plot1.set_xlabel(\"Date\")\n",
    "plot1.set_ylabel(\"Number of collisions\");"
   ]
  },
  {
   "cell_type": "code",
   "execution_count": 11,
   "metadata": {
    "_cell_guid": "8e8ff12e-4f07-4c94-b991-85204ed32592",
    "_uuid": "37270f8c65c310a1436640c584a7c759a79688a8"
   },
   "outputs": [
    {
     "data": {
      "image/png": "[encoded data removed]",
      "text/plain": [
       "<Figure size 1080x360 with 1 Axes>"
      ]
     },
     "metadata": {
      "needs_background": "light"
     },
     "output_type": "display_data"
    }
   ],
   "source": [
    "#Due to a huge difference in number of fatal and non-fatal collisions,\n",
    "# fatal collisions trend was analyzed in its own scale.\n",
    "#Overall statistics\n",
    "plot2 = df1['fatal'].plot(figsize=(15,5),title='Fatal collision statistics')\n",
    "plot2.set_xlabel(\"Date\")\n",
    "plot2.set_ylabel(\"Number of collisions\");"
   ]
  },
  {
   "cell_type": "code",
   "execution_count": 12,
   "metadata": {
    "_cell_guid": "02aea34b-208a-4cbe-a056-6a9617a84004",
    "_uuid": "03a3451213028aeb0317da2ab989931cacaa73d1"
   },
   "outputs": [
    {
     "data": {
      "image/png": "[encoded data removed]",
      "text/plain": [
       "<Figure size 1080x360 with 1 Axes>"
      ]
     },
     "metadata": {
      "needs_background": "light"
     },
     "output_type": "display_data"
    }
   ],
   "source": [
    "# Fatal collision statistics for the recent 5 years\n",
    "plot1 = df1['fatal'][-60:].plot(figsize=(15,5),title='Fatal collision statistics (recent 5 year)')\n",
    "plot1.set_xlabel(\"Date\")\n",
    "plot1.set_ylabel(\"Number of collisions\");"
   ]
  },
  {
   "cell_type": "markdown",
   "metadata": {
    "_cell_guid": "9154e7e3-4753-45ee-95c6-df23e344557a",
    "_uuid": "e0f7e3aab16def23cf039c9cf28e76ee0e91e8e0"
   },
   "source": [
    "#### Conslusion:\n",
    "The  collision trend declines slightly over years and has pronounced seasonality pattern. The collision peak is in the middle of year and downturn is in Q1.\n",
    "\n",
    "### 1.2) Correlation between total number of collisions and fatal collisions\n",
    "Autocorrelation plot demostrates an obvious seasonality with period of 12 months."
   ]
  },
  {
   "cell_type": "code",
   "execution_count": 13,
   "metadata": {
    "_cell_guid": "e3aef40e-525f-4a78-8fae-db4dd8af619d",
    "_uuid": "1ac609bedd243552f83af9ea3e3f8602d293b3da"
   },
   "outputs": [
    {
     "data": {
      "image/png": "[encoded data removed]",
      "text/plain": [
       "<Figure size 1080x360 with 1 Axes>"
      ]
     },
     "metadata": {
      "needs_background": "light"
     },
     "output_type": "display_data"
    }
   ],
   "source": [
    "#To confirm the seasonality assumtion, the autocorrelation of fatal and\n",
    "# non-fatal collisions was performed for the recent 5 years.\n",
    "plt.figure(figsize=(15,5))\n",
    "for c in df1.columns:\n",
    "    autocorrelation_plot(df1[c][-60:],label=c);"
   ]
  },
  {
   "cell_type": "markdown",
   "metadata": {
    "_cell_guid": "420cc12a-467f-4b8d-aca4-2c33ab64b8a3",
    "_uuid": "c40a9e73def37b763581afed7f768636664b5fa0"
   },
   "source": [
    "#### Conlustion:\n",
    "The fatal and non-fatal collisions have strong positive correlation."
   ]
  },
  {
   "cell_type": "code",
   "execution_count": 14,
   "metadata": {
    "_cell_guid": "ecb76fc5-2995-4099-971f-b95877ac8e03",
    "_uuid": "4180ae7ccae94dcd590439551ac168999f38cd0f"
   },
   "outputs": [
    {
     "name": "stderr",
     "output_type": "stream",
     "text": [
      "c:\\users\\safar\\appdata\\local\\programs\\python\\python38-64\\lib\\site-packages\\seaborn\\_decorators.py:36: FutureWarning: Pass the following variables as keyword args: x, y. From version 0.12, the only valid positional argument will be `data`, and passing other arguments without an explicit keyword will result in an error or misinterpretation.\n",
      "  warnings.warn(\n"
     ]
    },
    {
     "data": {
      "image/png": "[encoded data removed]",
      "text/plain": [
       "<Figure size 720x432 with 1 Axes>"
      ]
     },
     "metadata": {
      "needs_background": "light"
     },
     "output_type": "display_data"
    }
   ],
   "source": [
    "sns.regplot('fatal', 'non_fatal', data=df1);"
   ]
  },
  {
   "cell_type": "markdown",
   "metadata": {
    "_cell_guid": "a9c6ac3a-96b6-4558-8597-f48f7c434558",
    "_uuid": "5df2f2cc48bb7326ddd947874bd565a4d7627c75"
   },
   "source": [
    "#### Conclusion:\n",
    "The  correlation coefficient between fatal and non fatal collisions is 0.87"
   ]
  },
  {
   "cell_type": "code",
   "execution_count": 15,
   "metadata": {
    "_cell_guid": "f6228bd6-02a3-4683-8b67-dcba75024980",
    "_uuid": "4f4e271d58647ba83a098aec2fbf2ff8f9765c8a"
   },
   "outputs": [
    {
     "data": {
      "text/html": [
       "<div>\n",
       "<style scoped>\n",
       "    .dataframe tbody tr th:only-of-type {\n",
       "        vertical-align: middle;\n",
       "    }\n",
       "\n",
       "    .dataframe tbody tr th {\n",
       "        vertical-align: top;\n",
       "    }\n",
       "\n",
       "    .dataframe thead th {\n",
       "        text-align: right;\n",
       "    }\n",
       "</style>\n",
       "<table border=\"1\" class=\"dataframe\">\n",
       "  <thead>\n",
       "    <tr style=\"text-align: right;\">\n",
       "      <th></th>\n",
       "      <th>fatal</th>\n",
       "      <th>non_fatal</th>\n",
       "    </tr>\n",
       "  </thead>\n",
       "  <tbody>\n",
       "    <tr>\n",
       "      <th>fatal</th>\n",
       "      <td>1.000000</td>\n",
       "      <td>0.870378</td>\n",
       "    </tr>\n",
       "    <tr>\n",
       "      <th>non_fatal</th>\n",
       "      <td>0.870378</td>\n",
       "      <td>1.000000</td>\n",
       "    </tr>\n",
       "  </tbody>\n",
       "</table>\n",
       "</div>"
      ],
      "text/plain": [
       "              fatal  non_fatal\n",
       "fatal      1.000000   0.870378\n",
       "non_fatal  0.870378   1.000000"
      ]
     },
     "execution_count": 15,
     "metadata": {},
     "output_type": "execute_result"
    }
   ],
   "source": [
    "corr = df1.corr()\n",
    "corr"
   ]
  },
  {
   "cell_type": "markdown",
   "metadata": {
    "_cell_guid": "a079c625-9cd5-4c20-8c30-d3c50ce48bea",
    "_uuid": "53b26dca3f7f1d85d90387234fc9e855bc87ab97"
   },
   "source": [
    "---\n",
    "### 2.Analysis of collision risk dependency on different week day and day hours"
   ]
  },
  {
   "cell_type": "code",
   "execution_count": 16,
   "metadata": {
    "_cell_guid": "9b5e21e9-f366-4bde-b2a8-04b370fe84f4",
    "_uuid": "34656c78310e76bfb23f404b959e7f422ebd5322"
   },
   "outputs": [
    {
     "data": {
      "image/png": "[encoded data removed]",
      "text/plain": [
       "<Figure size 720x432 with 1 Axes>"
      ]
     },
     "metadata": {
      "needs_background": "light"
     },
     "output_type": "display_data"
    }
   ],
   "source": [
    "#Collisions by weekday\n",
    "by_weekday = df_b.groupby('c_wday')['c_sev'].count()\n",
    "by_weekday.index = ['Mon', 'Tue', 'Wed', 'Thu', 'Fri', 'Sat', 'Sun']\n",
    "plot2 = by_weekday.plot(kind='bar',title='Collisions by week day');"
   ]
  },
  {
   "cell_type": "code",
   "execution_count": 17,
   "metadata": {
    "_cell_guid": "3e91ed4c-b38e-441a-9035-fdf57b73085b",
    "_uuid": "08fe9f6766006b63e9194c9d95e2b9a398436d03"
   },
   "outputs": [
    {
     "ename": "ValueError",
     "evalue": "Invalid color G",
     "output_type": "error",
     "traceback": [
      "\u001b[1;31m---------------------------------------------------------------------------\u001b[0m",
      "\u001b[1;31mValueError\u001b[0m                                Traceback (most recent call last)",
      "Input \u001b[1;32mIn [17]\u001b[0m, in \u001b[0;36m<cell line: 4>\u001b[1;34m()\u001b[0m\n\u001b[0;32m      2\u001b[0m plt\u001b[38;5;241m.\u001b[39mfigure(figsize\u001b[38;5;241m=\u001b[39m(\u001b[38;5;241m15\u001b[39m,\u001b[38;5;241m5\u001b[39m))\n\u001b[0;32m      3\u001b[0m by_hour \u001b[38;5;241m=\u001b[39m df_b\u001b[38;5;241m.\u001b[39mgroupby(\u001b[38;5;124m'\u001b[39m\u001b[38;5;124mc_hour\u001b[39m\u001b[38;5;124m'\u001b[39m)[\u001b[38;5;124m'\u001b[39m\u001b[38;5;124mc_sev\u001b[39m\u001b[38;5;124m'\u001b[39m]\u001b[38;5;241m.\u001b[39mcount()\n\u001b[1;32m----> 4\u001b[0m plot3 \u001b[38;5;241m=\u001b[39m \u001b[43mby_hour\u001b[49m\u001b[38;5;241;43m.\u001b[39;49m\u001b[43mplot\u001b[49m\u001b[43m(\u001b[49m\u001b[43mkind\u001b[49m\u001b[38;5;241;43m=\u001b[39;49m\u001b[38;5;124;43m'\u001b[39;49m\u001b[38;5;124;43mbar\u001b[39;49m\u001b[38;5;124;43m'\u001b[39;49m\u001b[43m,\u001b[49m\u001b[43mtitle\u001b[49m\u001b[38;5;241;43m=\u001b[39;49m\u001b[38;5;124;43m'\u001b[39;49m\u001b[38;5;124;43mCollisions by week hour\u001b[39;49m\u001b[38;5;124;43m'\u001b[39;49m\u001b[43m,\u001b[49m\u001b[43mcolor\u001b[49m\u001b[38;5;241;43m=\u001b[39;49m\u001b[38;5;124;43m'\u001b[39;49m\u001b[38;5;124;43mG\u001b[39;49m\u001b[38;5;124;43m'\u001b[39;49m\u001b[43m)\u001b[49m\n",
      "File \u001b[1;32mc:\\users\\safar\\appdata\\local\\programs\\python\\python38-64\\lib\\site-packages\\pandas\\plotting\\_core.py:972\u001b[0m, in \u001b[0;36mPlotAccessor.__call__\u001b[1;34m(self, *args, **kwargs)\u001b[0m\n\u001b[0;32m    969\u001b[0m             label_name \u001b[38;5;241m=\u001b[39m label_kw \u001b[38;5;129;01mor\u001b[39;00m data\u001b[38;5;241m.\u001b[39mcolumns\n\u001b[0;32m    970\u001b[0m             data\u001b[38;5;241m.\u001b[39mcolumns \u001b[38;5;241m=\u001b[39m label_name\n\u001b[1;32m--> 972\u001b[0m \u001b[38;5;28;01mreturn\u001b[39;00m \u001b[43mplot_backend\u001b[49m\u001b[38;5;241;43m.\u001b[39;49m\u001b[43mplot\u001b[49m\u001b[43m(\u001b[49m\u001b[43mdata\u001b[49m\u001b[43m,\u001b[49m\u001b[43m \u001b[49m\u001b[43mkind\u001b[49m\u001b[38;5;241;43m=\u001b[39;49m\u001b[43mkind\u001b[49m\u001b[43m,\u001b[49m\u001b[43m \u001b[49m\u001b[38;5;241;43m*\u001b[39;49m\u001b[38;5;241;43m*\u001b[39;49m\u001b[43mkwargs\u001b[49m\u001b[43m)\u001b[49m\n",
      "File \u001b[1;32mc:\\users\\safar\\appdata\\local\\programs\\python\\python38-64\\lib\\site-packages\\pandas\\plotting\\_matplotlib\\__init__.py:71\u001b[0m, in \u001b[0;36mplot\u001b[1;34m(data, kind, **kwargs)\u001b[0m\n\u001b[0;32m     69\u001b[0m         kwargs[\u001b[38;5;124m\"\u001b[39m\u001b[38;5;124max\u001b[39m\u001b[38;5;124m\"\u001b[39m] \u001b[38;5;241m=\u001b[39m \u001b[38;5;28mgetattr\u001b[39m(ax, \u001b[38;5;124m\"\u001b[39m\u001b[38;5;124mleft_ax\u001b[39m\u001b[38;5;124m\"\u001b[39m, ax)\n\u001b[0;32m     70\u001b[0m plot_obj \u001b[38;5;241m=\u001b[39m PLOT_CLASSES[kind](data, \u001b[38;5;241m*\u001b[39m\u001b[38;5;241m*\u001b[39mkwargs)\n\u001b[1;32m---> 71\u001b[0m \u001b[43mplot_obj\u001b[49m\u001b[38;5;241;43m.\u001b[39;49m\u001b[43mgenerate\u001b[49m\u001b[43m(\u001b[49m\u001b[43m)\u001b[49m\n\u001b[0;32m     72\u001b[0m plot_obj\u001b[38;5;241m.\u001b[39mdraw()\n\u001b[0;32m     73\u001b[0m \u001b[38;5;28;01mreturn\u001b[39;00m plot_obj\u001b[38;5;241m.\u001b[39mresult\n",
      "File \u001b[1;32mc:\\users\\safar\\appdata\\local\\programs\\python\\python38-64\\lib\\site-packages\\pandas\\plotting\\_matplotlib\\core.py:329\u001b[0m, in \u001b[0;36mMPLPlot.generate\u001b[1;34m(self)\u001b[0m\n\u001b[0;32m    327\u001b[0m \u001b[38;5;28mself\u001b[39m\u001b[38;5;241m.\u001b[39m_compute_plot_data()\n\u001b[0;32m    328\u001b[0m \u001b[38;5;28mself\u001b[39m\u001b[38;5;241m.\u001b[39m_setup_subplots()\n\u001b[1;32m--> 329\u001b[0m \u001b[38;5;28;43mself\u001b[39;49m\u001b[38;5;241;43m.\u001b[39;49m\u001b[43m_make_plot\u001b[49m\u001b[43m(\u001b[49m\u001b[43m)\u001b[49m\n\u001b[0;32m    330\u001b[0m \u001b[38;5;28mself\u001b[39m\u001b[38;5;241m.\u001b[39m_add_table()\n\u001b[0;32m    331\u001b[0m \u001b[38;5;28mself\u001b[39m\u001b[38;5;241m.\u001b[39m_make_legend()\n",
      "File \u001b[1;32mc:\\users\\safar\\appdata\\local\\programs\\python\\python38-64\\lib\\site-packages\\pandas\\plotting\\_matplotlib\\core.py:1497\u001b[0m, in \u001b[0;36mBarPlot._make_plot\u001b[1;34m(self)\u001b[0m\n\u001b[0;32m   1494\u001b[0m \u001b[38;5;28;01mdef\u001b[39;00m \u001b[38;5;21m_make_plot\u001b[39m(\u001b[38;5;28mself\u001b[39m):\n\u001b[0;32m   1495\u001b[0m     \u001b[38;5;28;01mimport\u001b[39;00m \u001b[38;5;21;01mmatplotlib\u001b[39;00m \u001b[38;5;28;01mas\u001b[39;00m \u001b[38;5;21;01mmpl\u001b[39;00m\n\u001b[1;32m-> 1497\u001b[0m     colors \u001b[38;5;241m=\u001b[39m \u001b[38;5;28;43mself\u001b[39;49m\u001b[38;5;241;43m.\u001b[39;49m\u001b[43m_get_colors\u001b[49m\u001b[43m(\u001b[49m\u001b[43m)\u001b[49m\n\u001b[0;32m   1498\u001b[0m     ncolors \u001b[38;5;241m=\u001b[39m \u001b[38;5;28mlen\u001b[39m(colors)\n\u001b[0;32m   1500\u001b[0m     pos_prior \u001b[38;5;241m=\u001b[39m neg_prior \u001b[38;5;241m=\u001b[39m np\u001b[38;5;241m.\u001b[39mzeros(\u001b[38;5;28mlen\u001b[39m(\u001b[38;5;28mself\u001b[39m\u001b[38;5;241m.\u001b[39mdata))\n",
      "File \u001b[1;32mc:\\users\\safar\\appdata\\local\\programs\\python\\python38-64\\lib\\site-packages\\pandas\\plotting\\_matplotlib\\core.py:842\u001b[0m, in \u001b[0;36mMPLPlot._get_colors\u001b[1;34m(self, num_colors, color_kwds)\u001b[0m\n\u001b[0;32m    839\u001b[0m \u001b[38;5;28;01mif\u001b[39;00m num_colors \u001b[38;5;129;01mis\u001b[39;00m \u001b[38;5;28;01mNone\u001b[39;00m:\n\u001b[0;32m    840\u001b[0m     num_colors \u001b[38;5;241m=\u001b[39m \u001b[38;5;28mself\u001b[39m\u001b[38;5;241m.\u001b[39mnseries\n\u001b[1;32m--> 842\u001b[0m \u001b[38;5;28;01mreturn\u001b[39;00m \u001b[43mget_standard_colors\u001b[49m\u001b[43m(\u001b[49m\n\u001b[0;32m    843\u001b[0m \u001b[43m    \u001b[49m\u001b[43mnum_colors\u001b[49m\u001b[38;5;241;43m=\u001b[39;49m\u001b[43mnum_colors\u001b[49m\u001b[43m,\u001b[49m\n\u001b[0;32m    844\u001b[0m \u001b[43m    \u001b[49m\u001b[43mcolormap\u001b[49m\u001b[38;5;241;43m=\u001b[39;49m\u001b[38;5;28;43mself\u001b[39;49m\u001b[38;5;241;43m.\u001b[39;49m\u001b[43mcolormap\u001b[49m\u001b[43m,\u001b[49m\n\u001b[0;32m    845\u001b[0m \u001b[43m    \u001b[49m\u001b[43mcolor\u001b[49m\u001b[38;5;241;43m=\u001b[39;49m\u001b[38;5;28;43mself\u001b[39;49m\u001b[38;5;241;43m.\u001b[39;49m\u001b[43mkwds\u001b[49m\u001b[38;5;241;43m.\u001b[39;49m\u001b[43mget\u001b[49m\u001b[43m(\u001b[49m\u001b[43mcolor_kwds\u001b[49m\u001b[43m)\u001b[49m\u001b[43m,\u001b[49m\n\u001b[0;32m    846\u001b[0m \u001b[43m\u001b[49m\u001b[43m)\u001b[49m\n",
      "File \u001b[1;32mc:\\users\\safar\\appdata\\local\\programs\\python\\python38-64\\lib\\site-packages\\pandas\\plotting\\_matplotlib\\style.py:70\u001b[0m, in \u001b[0;36mget_standard_colors\u001b[1;34m(num_colors, colormap, color_type, color)\u001b[0m\n\u001b[0;32m     67\u001b[0m \u001b[38;5;28;01mif\u001b[39;00m \u001b[38;5;28misinstance\u001b[39m(color, \u001b[38;5;28mdict\u001b[39m):\n\u001b[0;32m     68\u001b[0m     \u001b[38;5;28;01mreturn\u001b[39;00m color\n\u001b[1;32m---> 70\u001b[0m colors \u001b[38;5;241m=\u001b[39m \u001b[43m_derive_colors\u001b[49m\u001b[43m(\u001b[49m\n\u001b[0;32m     71\u001b[0m \u001b[43m    \u001b[49m\u001b[43mcolor\u001b[49m\u001b[38;5;241;43m=\u001b[39;49m\u001b[43mcolor\u001b[49m\u001b[43m,\u001b[49m\n\u001b[0;32m     72\u001b[0m \u001b[43m    \u001b[49m\u001b[43mcolormap\u001b[49m\u001b[38;5;241;43m=\u001b[39;49m\u001b[43mcolormap\u001b[49m\u001b[43m,\u001b[49m\n\u001b[0;32m     73\u001b[0m \u001b[43m    \u001b[49m\u001b[43mcolor_type\u001b[49m\u001b[38;5;241;43m=\u001b[39;49m\u001b[43mcolor_type\u001b[49m\u001b[43m,\u001b[49m\n\u001b[0;32m     74\u001b[0m \u001b[43m    \u001b[49m\u001b[43mnum_colors\u001b[49m\u001b[38;5;241;43m=\u001b[39;49m\u001b[43mnum_colors\u001b[49m\u001b[43m,\u001b[49m\n\u001b[0;32m     75\u001b[0m \u001b[43m\u001b[49m\u001b[43m)\u001b[49m\n\u001b[0;32m     77\u001b[0m \u001b[38;5;28;01mreturn\u001b[39;00m \u001b[38;5;28mlist\u001b[39m(_cycle_colors(colors, num_colors\u001b[38;5;241m=\u001b[39mnum_colors))\n",
      "File \u001b[1;32mc:\\users\\safar\\appdata\\local\\programs\\python\\python38-64\\lib\\site-packages\\pandas\\plotting\\_matplotlib\\style.py:126\u001b[0m, in \u001b[0;36m_derive_colors\u001b[1;34m(color, colormap, color_type, num_colors)\u001b[0m\n\u001b[0;32m    122\u001b[0m     \u001b[38;5;28;01mif\u001b[39;00m colormap \u001b[38;5;129;01mis\u001b[39;00m \u001b[38;5;129;01mnot\u001b[39;00m \u001b[38;5;28;01mNone\u001b[39;00m:\n\u001b[0;32m    123\u001b[0m         warnings\u001b[38;5;241m.\u001b[39mwarn(\n\u001b[0;32m    124\u001b[0m             \u001b[38;5;124m\"\u001b[39m\u001b[38;5;124m'\u001b[39m\u001b[38;5;124mcolor\u001b[39m\u001b[38;5;124m'\u001b[39m\u001b[38;5;124m and \u001b[39m\u001b[38;5;124m'\u001b[39m\u001b[38;5;124mcolormap\u001b[39m\u001b[38;5;124m'\u001b[39m\u001b[38;5;124m cannot be used simultaneously. Using \u001b[39m\u001b[38;5;124m'\u001b[39m\u001b[38;5;124mcolor\u001b[39m\u001b[38;5;124m'\u001b[39m\u001b[38;5;124m\"\u001b[39m\n\u001b[0;32m    125\u001b[0m         )\n\u001b[1;32m--> 126\u001b[0m     \u001b[38;5;28;01mreturn\u001b[39;00m \u001b[43m_get_colors_from_color\u001b[49m\u001b[43m(\u001b[49m\u001b[43mcolor\u001b[49m\u001b[43m)\u001b[49m\n\u001b[0;32m    127\u001b[0m \u001b[38;5;28;01melse\u001b[39;00m:\n\u001b[0;32m    128\u001b[0m     \u001b[38;5;28;01mreturn\u001b[39;00m _get_colors_from_color_type(color_type, num_colors\u001b[38;5;241m=\u001b[39mnum_colors)\n",
      "File \u001b[1;32mc:\\users\\safar\\appdata\\local\\programs\\python\\python38-64\\lib\\site-packages\\pandas\\plotting\\_matplotlib\\style.py:172\u001b[0m, in \u001b[0;36m_get_colors_from_color\u001b[1;34m(color)\u001b[0m\n\u001b[0;32m    169\u001b[0m     \u001b[38;5;28;01mreturn\u001b[39;00m [color]\n\u001b[0;32m    171\u001b[0m color \u001b[38;5;241m=\u001b[39m cast(Collection[Color], color)\n\u001b[1;32m--> 172\u001b[0m \u001b[38;5;28;01mreturn\u001b[39;00m \u001b[38;5;28;43mlist\u001b[39;49m\u001b[43m(\u001b[49m\u001b[43m_gen_list_of_colors_from_iterable\u001b[49m\u001b[43m(\u001b[49m\u001b[43mcolor\u001b[49m\u001b[43m)\u001b[49m\u001b[43m)\u001b[49m\n",
      "File \u001b[1;32mc:\\users\\safar\\appdata\\local\\programs\\python\\python38-64\\lib\\site-packages\\pandas\\plotting\\_matplotlib\\style.py:205\u001b[0m, in \u001b[0;36m_gen_list_of_colors_from_iterable\u001b[1;34m(color)\u001b[0m\n\u001b[0;32m    203\u001b[0m     \u001b[38;5;28;01myield\u001b[39;00m x\n\u001b[0;32m    204\u001b[0m \u001b[38;5;28;01melse\u001b[39;00m:\n\u001b[1;32m--> 205\u001b[0m     \u001b[38;5;28;01mraise\u001b[39;00m \u001b[38;5;167;01mValueError\u001b[39;00m(\u001b[38;5;124mf\u001b[39m\u001b[38;5;124m\"\u001b[39m\u001b[38;5;124mInvalid color \u001b[39m\u001b[38;5;132;01m{\u001b[39;00mx\u001b[38;5;132;01m}\u001b[39;00m\u001b[38;5;124m\"\u001b[39m)\n",
      "\u001b[1;31mValueError\u001b[0m: Invalid color G"
     ]
    },
    {
     "data": {
      "image/png": "[encoded data removed]",
      "text/plain": [
       "<Figure size 1080x360 with 1 Axes>"
      ]
     },
     "metadata": {
      "needs_background": "light"
     },
     "output_type": "display_data"
    }
   ],
   "source": [
    "#Collisions by hour\n",
    "plt.figure(figsize=(15,5))\n",
    "by_hour = df_b.groupby('c_hour')['c_sev'].count()\n",
    "plot3 = by_hour.plot(kind='bar',title='Collisions by week hour',color='G');"
   ]
  },
  {
   "cell_type": "markdown",
   "metadata": {
    "_cell_guid": "ba86a364-1c5b-41ce-9fbe-ea5b1bc95381",
    "_uuid": "e7b0d69fadd7c5cd49283362fdca8ec265d1b83f"
   },
   "source": [
    "#### Conclusion: \n",
    "The higher collision risk is on Friday and the lowest is on Sunday.\n",
    "The riskiest period is from 3 pm to 5 pm. Night hours have the lowest collision risk.\n",
    "\n",
    "---\n",
    "### 3.Analysis of the following factors to collision rate:\n",
    "### 3.1) Road configuration"
   ]
  },
  {
   "cell_type": "code",
   "execution_count": 18,
   "metadata": {
    "_cell_guid": "de99ecfe-2bab-4cad-97de-43a300b48f31",
    "_uuid": "f5fe996c0558cd609db6326fca28aa5320151cec"
   },
   "outputs": [
    {
     "ename": "ValueError",
     "evalue": "The number of FixedLocator locations (10), usually from a call to set_ticks, does not match the number of ticklabels (12).",
     "output_type": "error",
     "traceback": [
      "\u001b[1;31m---------------------------------------------------------------------------\u001b[0m",
      "\u001b[1;31mValueError\u001b[0m                                Traceback (most recent call last)",
      "Input \u001b[1;32mIn [18]\u001b[0m, in \u001b[0;36m<cell line: 21>\u001b[1;34m()\u001b[0m\n\u001b[0;32m     19\u001b[0m ax1\u001b[38;5;241m.\u001b[39mgrid(axis\u001b[38;5;241m=\u001b[39m\u001b[38;5;124m'\u001b[39m\u001b[38;5;124mboth\u001b[39m\u001b[38;5;124m'\u001b[39m)\n\u001b[0;32m     20\u001b[0m ax1\u001b[38;5;241m.\u001b[39mlegend([\u001b[38;5;124m'\u001b[39m\u001b[38;5;124m1.fatal\u001b[39m\u001b[38;5;124m'\u001b[39m,\u001b[38;5;124m'\u001b[39m\u001b[38;5;124m2.non-fatal\u001b[39m\u001b[38;5;124m'\u001b[39m])\n\u001b[1;32m---> 21\u001b[0m \u001b[43max1\u001b[49m\u001b[38;5;241;43m.\u001b[39;49m\u001b[43mset_xticklabels\u001b[49m\u001b[43m(\u001b[49m\u001b[43mrcfg_type\u001b[49m\u001b[43m,\u001b[49m\u001b[43mha\u001b[49m\u001b[38;5;241;43m=\u001b[39;49m\u001b[38;5;124;43m'\u001b[39;49m\u001b[38;5;124;43mright\u001b[39;49m\u001b[38;5;124;43m'\u001b[39;49m\u001b[43m)\u001b[49m\n\u001b[0;32m     22\u001b[0m ax1\u001b[38;5;241m.\u001b[39mset_xlabel(\u001b[38;5;124m'\u001b[39m\u001b[38;5;124mRoad Configuration\u001b[39m\u001b[38;5;124m'\u001b[39m)\n\u001b[0;32m     24\u001b[0m \u001b[38;5;66;03m#Calculate the percentage of fatal injury in all accidents by different road surface type,\u001b[39;00m\n\u001b[0;32m     25\u001b[0m \u001b[38;5;66;03m# and plot to right axis.\u001b[39;00m\n",
      "File \u001b[1;32mc:\\users\\safar\\appdata\\local\\programs\\python\\python38-64\\lib\\site-packages\\matplotlib\\axes\\_base.py:75\u001b[0m, in \u001b[0;36m_axis_method_wrapper.__set_name__.<locals>.wrapper\u001b[1;34m(self, *args, **kwargs)\u001b[0m\n\u001b[0;32m     74\u001b[0m \u001b[38;5;28;01mdef\u001b[39;00m \u001b[38;5;21mwrapper\u001b[39m(\u001b[38;5;28mself\u001b[39m, \u001b[38;5;241m*\u001b[39margs, \u001b[38;5;241m*\u001b[39m\u001b[38;5;241m*\u001b[39mkwargs):\n\u001b[1;32m---> 75\u001b[0m     \u001b[38;5;28;01mreturn\u001b[39;00m \u001b[43mget_method\u001b[49m\u001b[43m(\u001b[49m\u001b[38;5;28;43mself\u001b[39;49m\u001b[43m)\u001b[49m\u001b[43m(\u001b[49m\u001b[38;5;241;43m*\u001b[39;49m\u001b[43margs\u001b[49m\u001b[43m,\u001b[49m\u001b[43m \u001b[49m\u001b[38;5;241;43m*\u001b[39;49m\u001b[38;5;241;43m*\u001b[39;49m\u001b[43mkwargs\u001b[49m\u001b[43m)\u001b[49m\n",
      "File \u001b[1;32mc:\\users\\safar\\appdata\\local\\programs\\python\\python38-64\\lib\\site-packages\\matplotlib\\axis.py:1798\u001b[0m, in \u001b[0;36mAxis._set_ticklabels\u001b[1;34m(self, labels, fontdict, minor, **kwargs)\u001b[0m\n\u001b[0;32m   1796\u001b[0m \u001b[38;5;28;01mif\u001b[39;00m fontdict \u001b[38;5;129;01mis\u001b[39;00m \u001b[38;5;129;01mnot\u001b[39;00m \u001b[38;5;28;01mNone\u001b[39;00m:\n\u001b[0;32m   1797\u001b[0m     kwargs\u001b[38;5;241m.\u001b[39mupdate(fontdict)\n\u001b[1;32m-> 1798\u001b[0m \u001b[38;5;28;01mreturn\u001b[39;00m \u001b[38;5;28;43mself\u001b[39;49m\u001b[38;5;241;43m.\u001b[39;49m\u001b[43mset_ticklabels\u001b[49m\u001b[43m(\u001b[49m\u001b[43mlabels\u001b[49m\u001b[43m,\u001b[49m\u001b[43m \u001b[49m\u001b[43mminor\u001b[49m\u001b[38;5;241;43m=\u001b[39;49m\u001b[43mminor\u001b[49m\u001b[43m,\u001b[49m\u001b[43m \u001b[49m\u001b[38;5;241;43m*\u001b[39;49m\u001b[38;5;241;43m*\u001b[39;49m\u001b[43mkwargs\u001b[49m\u001b[43m)\u001b[49m\n",
      "File \u001b[1;32mc:\\users\\safar\\appdata\\local\\programs\\python\\python38-64\\lib\\site-packages\\matplotlib\\axis.py:1720\u001b[0m, in \u001b[0;36mAxis.set_ticklabels\u001b[1;34m(self, ticklabels, minor, **kwargs)\u001b[0m\n\u001b[0;32m   1716\u001b[0m \u001b[38;5;28;01mif\u001b[39;00m \u001b[38;5;28misinstance\u001b[39m(locator, mticker\u001b[38;5;241m.\u001b[39mFixedLocator):\n\u001b[0;32m   1717\u001b[0m     \u001b[38;5;66;03m# Passing [] as a list of ticklabels is often used as a way to\u001b[39;00m\n\u001b[0;32m   1718\u001b[0m     \u001b[38;5;66;03m# remove all tick labels, so only error for > 0 ticklabels\u001b[39;00m\n\u001b[0;32m   1719\u001b[0m     \u001b[38;5;28;01mif\u001b[39;00m \u001b[38;5;28mlen\u001b[39m(locator\u001b[38;5;241m.\u001b[39mlocs) \u001b[38;5;241m!=\u001b[39m \u001b[38;5;28mlen\u001b[39m(ticklabels) \u001b[38;5;129;01mand\u001b[39;00m \u001b[38;5;28mlen\u001b[39m(ticklabels) \u001b[38;5;241m!=\u001b[39m \u001b[38;5;241m0\u001b[39m:\n\u001b[1;32m-> 1720\u001b[0m         \u001b[38;5;28;01mraise\u001b[39;00m \u001b[38;5;167;01mValueError\u001b[39;00m(\n\u001b[0;32m   1721\u001b[0m             \u001b[38;5;124m\"\u001b[39m\u001b[38;5;124mThe number of FixedLocator locations\u001b[39m\u001b[38;5;124m\"\u001b[39m\n\u001b[0;32m   1722\u001b[0m             \u001b[38;5;124mf\u001b[39m\u001b[38;5;124m\"\u001b[39m\u001b[38;5;124m (\u001b[39m\u001b[38;5;132;01m{\u001b[39;00m\u001b[38;5;28mlen\u001b[39m(locator\u001b[38;5;241m.\u001b[39mlocs)\u001b[38;5;132;01m}\u001b[39;00m\u001b[38;5;124m), usually from a call to\u001b[39m\u001b[38;5;124m\"\u001b[39m\n\u001b[0;32m   1723\u001b[0m             \u001b[38;5;124m\"\u001b[39m\u001b[38;5;124m set_ticks, does not match\u001b[39m\u001b[38;5;124m\"\u001b[39m\n\u001b[0;32m   1724\u001b[0m             \u001b[38;5;124mf\u001b[39m\u001b[38;5;124m\"\u001b[39m\u001b[38;5;124m the number of ticklabels (\u001b[39m\u001b[38;5;132;01m{\u001b[39;00m\u001b[38;5;28mlen\u001b[39m(ticklabels)\u001b[38;5;132;01m}\u001b[39;00m\u001b[38;5;124m).\u001b[39m\u001b[38;5;124m\"\u001b[39m)\n\u001b[0;32m   1725\u001b[0m     tickd \u001b[38;5;241m=\u001b[39m {loc: lab \u001b[38;5;28;01mfor\u001b[39;00m loc, lab \u001b[38;5;129;01min\u001b[39;00m \u001b[38;5;28mzip\u001b[39m(locator\u001b[38;5;241m.\u001b[39mlocs, ticklabels)}\n\u001b[0;32m   1726\u001b[0m     func \u001b[38;5;241m=\u001b[39m functools\u001b[38;5;241m.\u001b[39mpartial(\u001b[38;5;28mself\u001b[39m\u001b[38;5;241m.\u001b[39m_format_with_dict, tickd)\n",
      "\u001b[1;31mValueError\u001b[0m: The number of FixedLocator locations (10), usually from a call to set_ticks, does not match the number of ticklabels (12)."
     ]
    },
    {
     "data": {
      "image/png": "[encoded data removed]",
      "text/plain": [
       "<Figure size 1080x360 with 2 Axes>"
      ]
     },
     "metadata": {
      "needs_background": "light"
     },
     "output_type": "display_data"
    }
   ],
   "source": [
    "#Collisions severity by road configuration (c_rcfg field)\n",
    "rcfg_type = ['Mid-block','At an intersection','Intersection with parking lot entrance/exit',\n",
    "            'Railroad crossing','Bridge','Tunnel','Passing or climbing lane',\n",
    "             'Ramp','Traffic circle','Highway express lane',\n",
    "             'Highway collector lane','Highway transfer lane']\n",
    "\n",
    "df2 = df_b.groupby(['c_rcfg','c_sev']).size().unstack().fillna(0)\n",
    "fig,ax1 = plt.subplots()\n",
    "ax2 = ax1.twinx()\n",
    "ax2.set_ylabel('Fatal Percentage (%)')\n",
    "ax2.spines['right'].set_color('b')\n",
    "ax2.yaxis.label.set_color('b')\n",
    "ax2.tick_params(axis='y',colors='b')\n",
    "\n",
    "#Plot the new dataframe in logarithm, since the gap between numbers are huge.\n",
    "\n",
    "df2.plot(kind='bar',rot=30,log=True,color=['red','coral'],figsize=(15,5),\n",
    "         title='Severity by  Road Configuration', ax=ax1)\n",
    "ax1.grid(axis='both')\n",
    "ax1.legend(['1.fatal','2.non-fatal'])\n",
    "ax1.set_xticklabels(rcfg_type,ha='right')\n",
    "ax1.set_xlabel('Road Configuration')\n",
    "\n",
    "#Calculate the percentage of fatal injury in all accidents by different road surface type,\n",
    "# and plot to right axis.\n",
    "se1 = df2[1]/(df2[1]+df2[2])*100\n",
    "se1.plot(c='b', style='o--', ax=ax2)\n",
    "\n",
    "plt.xticks(np.arange(0,10),rcfg_type); "
   ]
  },
  {
   "cell_type": "markdown",
   "metadata": {
    "_cell_guid": "a61da3ad-7b71-4801-93f3-b7df8ed2d42b",
    "_uuid": "5752a3c5d720628cb67b49d0b1fcefc7a6250893"
   },
   "source": [
    "#### Conclusion:\n",
    "It was noticed that majority of collisions occur at mid-block and intersection, the fatality rate is very high in collisions with passing or climbing lane ~12%.\n",
    "### 3.2) Weather"
   ]
  },
  {
   "cell_type": "code",
   "execution_count": 19,
   "metadata": {
    "_cell_guid": "3e0e625d-90e2-4b47-bc8c-f6c53e6a77d0",
    "_uuid": "3aa7feb71329844f53f9d4b2f1ec63013f47ee7d"
   },
   "outputs": [
    {
     "data": {
      "image/png": "[encoded data removed]",
      "text/plain": [
       "<Figure size 1080x360 with 2 Axes>"
      ]
     },
     "metadata": {
      "needs_background": "light"
     },
     "output_type": "display_data"
    }
   ],
   "source": [
    "#Collisions severity  by Weather Condition  (c_wthr field)\n",
    "wthr_type = ['Clear and sunny','Overcast','Raining','Snowing','Freezing rain, hail','Fog, smog, mist',\n",
    "            'Strong wind']\n",
    "\n",
    "df3 = df_b.groupby(['c_wthr','c_sev']).size().unstack().fillna(0)\n",
    "fig,ax1 = plt.subplots()\n",
    "ax2 = ax1.twinx()\n",
    "ax2.set_ylabel('Fatal Percentage (%)')\n",
    "ax2.spines['right'].set_color('b')\n",
    "ax2.yaxis.label.set_color('b')\n",
    "ax2.tick_params(axis='y',colors='b')\n",
    "\n",
    "#Plot the new dataframe in logarithm, since the gap between numbers are huge.\n",
    "\n",
    "df3.plot(kind='bar',rot=30,log=True,color=['red','coral'],figsize=(15,5),\n",
    "         title='Severity by Weather Condition', ax=ax1)\n",
    "ax1.grid(axis='both')\n",
    "ax1.legend(['1.fatal','2.non-fatal'])\n",
    "ax1.set_xticklabels(wthr_type,ha='right')\n",
    "ax1.set_xlabel('Weather Condition')\n",
    "\n",
    "#Calculate the percentage of fatal injury in all accidents by different road surface type,\n",
    "# and plot to right axis.\n",
    "se1 = df3[1]/(df3[1]+df3[2])*100\n",
    "se1.plot(c='b', style='o--', ax=ax2)\n",
    "\n",
    "plt.xticks(np.arange(0,7),wthr_type); "
   ]
  },
  {
   "cell_type": "markdown",
   "metadata": {
    "_cell_guid": "20ac2a52-a41e-415c-8124-032064ddeb99",
    "_uuid": "2f29014590cf2f0946a26b362969c0ae5cdb0ef4"
   },
   "source": [
    "#### Conclusion:\n",
    "It was noticed that majority of collisions occur on clean and sunny day. Howeverm a fatal collision rate is higher when visibility is limited (fog, mist) and when tehre is a strong wing. The fatality rate when last two conditions is about 4%.\n",
    "### 3.3) Road surface"
   ]
  },
  {
   "cell_type": "code",
   "execution_count": 20,
   "metadata": {
    "_cell_guid": "716c208a-04b7-4c2f-8dba-a9f3e43399ed",
    "_uuid": "e0d6147adb9282427c7222bf2fd0a6b84ad91b83"
   },
   "outputs": [
    {
     "data": {
      "image/png": "[encoded data removed]",
      "text/plain": [
       "<Figure size 1080x360 with 2 Axes>"
      ]
     },
     "metadata": {
      "needs_background": "light"
     },
     "output_type": "display_data"
    }
   ],
   "source": [
    "#Collision severity grouped by Road Surface (c_rsur field)\n",
    "rsur_type = ['Dry, normal','Wet','Snow','Slush ,wet snow','Icy','Sand/gravel/dirt','Muddy','Oil','Flooded']\n",
    "\n",
    "df4 = df_b.groupby(['c_rsur','c_sev']).size().unstack().fillna(0)\n",
    "fig,ax1 = plt.subplots()\n",
    "ax2 = ax1.twinx()\n",
    "ax2.set_ylabel('Fatal Percentage (%)')\n",
    "ax2.spines['right'].set_color('b')\n",
    "ax2.yaxis.label.set_color('b')\n",
    "ax2.tick_params(axis='y',colors='b')\n",
    "\n",
    "#Plot the new dataframe in logarithm, since the gap between numbers are huge.\n",
    "\n",
    "df4.plot(kind='bar',rot=30,log=True,color=['red','coral'],figsize=(15,5),\n",
    "         title='Severity by  Road Surface', ax=ax1)\n",
    "ax1.grid(axis='both')\n",
    "ax1.legend(['1.fatal','2.non-fatal'])\n",
    "ax1.set_xticklabels(rsur_type,ha='right')\n",
    "ax1.set_xlabel('Road Surface')\n",
    "\n",
    "#Calculate the percentage of fatal injury in all accidents by different road surface type,\n",
    "# and plot to right axis.\n",
    "se1 = df4[1]/(df4[1]+df4[2])*100\n",
    "se1.plot(c='b', style='o--', ax=ax2)\n",
    "\n",
    "plt.xticks(np.arange(0,9),rsur_type); "
   ]
  },
  {
   "cell_type": "markdown",
   "metadata": {
    "_cell_guid": "1fe3e598-745b-4055-afab-137c761ba53d",
    "_uuid": "12b08516c3bdff5a146a1e3f7350aa1df9f37d27"
   },
   "source": [
    "#### Conclusion:\n",
    "While the most of collisions occur on dry and normal road, the fatal collision rate is higher on sandy, dirty and muddy road. The fatality rate is up to 4.5%.\n",
    "### 3.4) Traffic control"
   ]
  },
  {
   "cell_type": "code",
   "execution_count": 21,
   "metadata": {
    "_cell_guid": "59270e8f-6926-4cc7-b24b-ad59d21efbaf",
    "_uuid": "19ad014b67685f11ca9824a129c59a0442586261"
   },
   "outputs": [
    {
     "data": {
      "image/png": "[encoded data removed]",
      "text/plain": [
       "<Figure size 1080x360 with 2 Axes>"
      ]
     },
     "metadata": {
      "needs_background": "light"
     },
     "output_type": "display_data"
    }
   ],
   "source": [
    "#Collisions severity  by Traffic Control (c_traf field)\n",
    "traf_type = ['Traffic signals fully operational','Traffic signals in flashing mode',\n",
    "             'Stop sign','Yield sign','Warning sign','Pedestrian crosswalk',\n",
    "             'Police officer','School guard','School crossing','Reduced speed zone',\n",
    "             'No passing zone sign','Markings on the road',\n",
    "             'School bus stopped,signal lights flashing','Railway crossing with signals and gates',\n",
    "             'Railway crossing with signs only','Control device not specified','No control present']\n",
    "\n",
    "df5 = df_b.groupby(['c_traf','c_sev']).size().unstack().fillna(0)\n",
    "fig,ax1 = plt.subplots()\n",
    "ax2 = ax1.twinx()\n",
    "ax2.set_ylabel('Fatal Percentage (%)')\n",
    "ax2.spines['right'].set_color('b')\n",
    "ax2.yaxis.label.set_color('b')\n",
    "ax2.tick_params(axis='y',colors='b')\n",
    "\n",
    "#Plot the new dataframe in logarithm, since the gap between numbers are huge.\n",
    "\n",
    "df5.plot(kind='bar',rot=30,log=True,color=['red','coral'],figsize=(15,5),\n",
    "         title='Severity by Traffic Control', ax=ax1)\n",
    "ax1.grid(axis='both')\n",
    "ax1.legend(['1.fatal','2.non-fatal'])\n",
    "ax1.set_xticklabels(traf_type,ha='right')\n",
    "ax1.set_xlabel('Traffic Control')\n",
    "\n",
    "#Calculate the percentage of fatal injury in all accidents by different road surface type,\n",
    "# and plot to right axis.\n",
    "se1 = df5[1]/(df5[1]+df5[2])*100\n",
    "se1.plot(c='b', style='o--', ax=ax2)\n",
    "\n",
    "plt.xticks(np.arange(0,17),traf_type); "
   ]
  },
  {
   "cell_type": "markdown",
   "metadata": {
    "_cell_guid": "074cb612-1d26-4b23-9a12-88307af320e4",
    "_uuid": "427b80b3df7a1da221621e4046d2c4eb8f248c40"
   },
   "source": [
    "#### Conclusion:\n",
    "The majority of collucions happened when traffic signals were fully operational and when no tracffic control present.\n",
    "The highest fatality rate is reported for collisions occered on railway crossing which is quite logical. Surprisingly, the fatality rate in reduced speed zone was very close to fatality rate for collisions near railway sign and reached 7%.\n",
    "\n",
    "---\n",
    "### 4 Road Alignment\n",
    "### 4.1) Road Alignment & Time relation"
   ]
  },
  {
   "cell_type": "code",
   "execution_count": 22,
   "metadata": {
    "_cell_guid": "ca215178-5490-4f26-a726-d8e666fe1082",
    "_uuid": "9f2bd4e6c54cf72f9c2a829b47b9f893a9db5fd2"
   },
   "outputs": [
    {
     "data": {
      "text/plain": [
       "1    4122257\n",
       "2     577823\n",
       "3     356454\n",
       "      ...   \n",
       "6      27283\n",
       "Q      27960\n",
       "U     430099\n",
       "Name: c_raln, Length: 8, dtype: int64"
      ]
     },
     "execution_count": 22,
     "metadata": {},
     "output_type": "execute_result"
    }
   ],
   "source": [
    "#Slice the columns I would analyse from original dataset.\n",
    "df_a = df.loc[:,['date','c_year','c_mnth','c_wday','c_hour',\n",
    "                'c_sev','c_vehs','c_conf','c_wthr','c_raln',\n",
    "                'v_type','v_year']]\n",
    "\n",
    "#Check how many unknown in road alignment.\n",
    "df_a['c_raln'].value_counts().sort_index()"
   ]
  },
  {
   "cell_type": "code",
   "execution_count": 23,
   "metadata": {
    "_cell_guid": "439c91b8-d60e-489d-afc5-b03225ba480b",
    "_uuid": "2ff1e5deae6e314fde20c4f5c272450f2a77686c",
    "scrolled": false
   },
   "outputs": [
    {
     "data": {
      "text/html": [
       "<div>\n",
       "<style scoped>\n",
       "    .dataframe tbody tr th:only-of-type {\n",
       "        vertical-align: middle;\n",
       "    }\n",
       "\n",
       "    .dataframe tbody tr th {\n",
       "        vertical-align: top;\n",
       "    }\n",
       "\n",
       "    .dataframe thead th {\n",
       "        text-align: right;\n",
       "    }\n",
       "</style>\n",
       "<table border=\"1\" class=\"dataframe\">\n",
       "  <thead>\n",
       "    <tr style=\"text-align: right;\">\n",
       "      <th>c_raln</th>\n",
       "      <th>1</th>\n",
       "      <th>2</th>\n",
       "      <th>3</th>\n",
       "      <th>4</th>\n",
       "      <th>5</th>\n",
       "      <th>6</th>\n",
       "      <th>Q</th>\n",
       "      <th>U</th>\n",
       "    </tr>\n",
       "    <tr>\n",
       "      <th>date</th>\n",
       "      <th></th>\n",
       "      <th></th>\n",
       "      <th></th>\n",
       "      <th></th>\n",
       "      <th></th>\n",
       "      <th></th>\n",
       "      <th></th>\n",
       "      <th></th>\n",
       "    </tr>\n",
       "  </thead>\n",
       "  <tbody>\n",
       "    <tr>\n",
       "      <th>1999-01-01</th>\n",
       "      <td>21795</td>\n",
       "      <td>4097</td>\n",
       "      <td>2319</td>\n",
       "      <td>1642</td>\n",
       "      <td>152</td>\n",
       "      <td>134</td>\n",
       "      <td>11</td>\n",
       "      <td>3012</td>\n",
       "    </tr>\n",
       "    <tr>\n",
       "      <th>1999-02-01</th>\n",
       "      <td>17319</td>\n",
       "      <td>3017</td>\n",
       "      <td>1874</td>\n",
       "      <td>1249</td>\n",
       "      <td>111</td>\n",
       "      <td>97</td>\n",
       "      <td>7</td>\n",
       "      <td>2588</td>\n",
       "    </tr>\n",
       "    <tr>\n",
       "      <th>1999-03-01</th>\n",
       "      <td>19831</td>\n",
       "      <td>3233</td>\n",
       "      <td>1920</td>\n",
       "      <td>1255</td>\n",
       "      <td>140</td>\n",
       "      <td>81</td>\n",
       "      <td>12</td>\n",
       "      <td>2685</td>\n",
       "    </tr>\n",
       "    <tr>\n",
       "      <th>...</th>\n",
       "      <td>...</td>\n",
       "      <td>...</td>\n",
       "      <td>...</td>\n",
       "      <td>...</td>\n",
       "      <td>...</td>\n",
       "      <td>...</td>\n",
       "      <td>...</td>\n",
       "      <td>...</td>\n",
       "    </tr>\n",
       "    <tr>\n",
       "      <th>2014-10-01</th>\n",
       "      <td>20778</td>\n",
       "      <td>2366</td>\n",
       "      <td>1319</td>\n",
       "      <td>780</td>\n",
       "      <td>214</td>\n",
       "      <td>206</td>\n",
       "      <td>65</td>\n",
       "      <td>1569</td>\n",
       "    </tr>\n",
       "    <tr>\n",
       "      <th>2014-11-01</th>\n",
       "      <td>19351</td>\n",
       "      <td>2400</td>\n",
       "      <td>1574</td>\n",
       "      <td>1053</td>\n",
       "      <td>385</td>\n",
       "      <td>276</td>\n",
       "      <td>40</td>\n",
       "      <td>1546</td>\n",
       "    </tr>\n",
       "    <tr>\n",
       "      <th>2014-12-01</th>\n",
       "      <td>18561</td>\n",
       "      <td>2120</td>\n",
       "      <td>1700</td>\n",
       "      <td>992</td>\n",
       "      <td>330</td>\n",
       "      <td>251</td>\n",
       "      <td>25</td>\n",
       "      <td>1425</td>\n",
       "    </tr>\n",
       "  </tbody>\n",
       "</table>\n",
       "<p>192 rows × 8 columns</p>\n",
       "</div>"
      ],
      "text/plain": [
       "c_raln          1     2     3     4    5    6   Q     U\n",
       "date                                                   \n",
       "1999-01-01  21795  4097  2319  1642  152  134  11  3012\n",
       "1999-02-01  17319  3017  1874  1249  111   97   7  2588\n",
       "1999-03-01  19831  3233  1920  1255  140   81  12  2685\n",
       "...           ...   ...   ...   ...  ...  ...  ..   ...\n",
       "2014-10-01  20778  2366  1319   780  214  206  65  1569\n",
       "2014-11-01  19351  2400  1574  1053  385  276  40  1546\n",
       "2014-12-01  18561  2120  1700   992  330  251  25  1425\n",
       "\n",
       "[192 rows x 8 columns]"
      ]
     },
     "execution_count": 23,
     "metadata": {},
     "output_type": "execute_result"
    }
   ],
   "source": [
    "#Make a slice only focusing on c_raln: road alignment.\n",
    "df1 = df_a.loc[:,['date','c_raln']]\n",
    "\n",
    "#Aggregate the events by month into a summarized dataframe.\n",
    "df2 = df1.groupby(['date','c_raln']).size().unstack()\n",
    "df2"
   ]
  },
  {
   "cell_type": "code",
   "execution_count": 24,
   "metadata": {
    "_cell_guid": "ac15d2e6-5083-4468-9448-e6d3b6a56064",
    "_uuid": "085553f14dd1ce38ad548c8bd36bf40df087b96d",
    "scrolled": false
   },
   "outputs": [
    {
     "data": {
      "image/png": "[encoded data removed]",
      "text/plain": [
       "<Figure size 1296x432 with 1 Axes>"
      ]
     },
     "metadata": {
      "needs_background": "light"
     },
     "output_type": "display_data"
    }
   ],
   "source": [
    "#Plot the dataframe into graph to visualize the result.\n",
    "c_raln=['1.Level straight','2.Gradient straight',\n",
    "        '3.Level curved','4.Gradient curved',\n",
    "        '5.Top hill','6.Bottom hill',\n",
    "        'Q.Other','U.Unknown']\n",
    "\n",
    "df2.iloc[:,:-2].plot(logy=True, style = 'o', figsize = (18,6),\n",
    "                     title = 'Collisions with Road Alignment')\n",
    "plt.legend(c_raln)\n",
    "plt.xlabel('Year')\n",
    "plt.ylabel('Number of Collisions')\n",
    "plt.grid(axis='y');\n"
   ]
  },
  {
   "cell_type": "code",
   "execution_count": 26,
   "metadata": {
    "_cell_guid": "af84b38b-5bbd-413d-9516-e1c762a51593",
    "_uuid": "6e400b5462f9a3c4c50bf9cdead54b9cde89062b"
   },
   "outputs": [
    {
     "data": {
      "image/png": "[encoded data removed]",
      "text/plain": [
       "<Figure size 1080x360 with 1 Axes>"
      ]
     },
     "metadata": {
      "needs_background": "light"
     },
     "output_type": "display_data"
    }
   ],
   "source": [
    "df3=df1.groupby('c_raln').size().sort_index(ascending=False)\n",
    "\n",
    "df3.plot.barh(log=True,color='slateblue',figsize=(15,5),\n",
    "              title='Collisions by Road Alignment')\n",
    "plt.xlabel('Number of Collisions')\n",
    "plt.yticks(np.arange(0,8),c_raln[::-1])\n",
    "plt.ylabel('Road Alignment')\n",
    "plt.grid(axis='x');\n"
   ]
  },
  {
   "cell_type": "markdown",
   "metadata": {
    "_cell_guid": "51f32cfd-9a4e-4580-ac31-59d34c024abc",
    "_uuid": "5df324047d14d29020dce00dd4f6d5fb1c9df1cd",
    "collapsed": true
   },
   "source": [
    "#### Conclusion:\n",
    "Most collisions happened on level and straight road, reason could be the vehicle of high speed, and driver not paying enough attention given the good road condition.  Also noted clear seasonal pattern, see the auto-correlation analysis for seasonal patterns.\n",
    "\n",
    "### 4.2) Road Alignment & Collision Severity\n"
   ]
  },
  {
   "cell_type": "code",
   "execution_count": 27,
   "metadata": {
    "_cell_guid": "01a98889-0c74-4a3e-a74e-cc1bcc418830",
    "_uuid": "a928e4f16033968d1e0f517ef4b9c844df464dd3"
   },
   "outputs": [],
   "source": [
    "#Use a new dataframe to analyze the relationship between Severity and Road Alignment.\n",
    "#For c_sev, 1 is fatal, and 2 is non-fatal.\n",
    "\n",
    "df1 = df_a.loc[:,['c_raln','c_sev']]\n",
    "df4 = df1.groupby(['c_raln','c_sev']).size().unstack()"
   ]
  },
  {
   "cell_type": "code",
   "execution_count": 28,
   "metadata": {
    "_cell_guid": "1b3defaf-c952-4be5-991e-ab95f0c6ee14",
    "_uuid": "c1b1938115f222b24924adaac99846ea25a63512",
    "scrolled": true
   },
   "outputs": [
    {
     "data": {
      "image/png": "[encoded data removed]",
      "text/plain": [
       "<Figure size 1080x360 with 2 Axes>"
      ]
     },
     "metadata": {
      "needs_background": "light"
     },
     "output_type": "display_data"
    }
   ],
   "source": [
    "#Plot the relationship between Severity and Road Alignment.\n",
    "\n",
    "#Create a twin y-axis plot area, and define axis parameters.\n",
    "fig,ax1 = plt.subplots()\n",
    "ax2 = ax1.twinx()\n",
    "\n",
    "#Plot the new dataframe in logarithm, since the gap between numbers are huge.\n",
    "df4.plot(kind='bar',rot=0,log=True,color=['red','coral'],figsize=(15,5),\n",
    "         title='Severity on Road Alignment', ax=ax1)\n",
    "ax1.set_ylabel('Number of Collisions')\n",
    "ax1.set_xlabel('Road Alignment')\n",
    "ax1.grid(axis='y')\n",
    "ax1.legend(['1.Fatal','2.Non-fatal'])\n",
    "\n",
    "#Calculate the percentage of fatal injury in all accidents by\n",
    "# different road alignment, and plot to right axis.\n",
    "se1 = df4[1]/(df4[1]+df4[2])*100\n",
    "se1.plot(c='b', style='o--', ax=ax2)\n",
    "ax2.set_ylabel('Fatal Percentage (%)')\n",
    "ax2.spines['right'].set_color('b')\n",
    "ax2.yaxis.label.set_color('b')\n",
    "ax2.tick_params(axis='y',colors='b')\n",
    "\n",
    "plt.xticks(np.arange(0,8),c_raln);\n"
   ]
  },
  {
   "cell_type": "markdown",
   "metadata": {
    "_cell_guid": "7c33d429-0ea8-4191-9677-e56e4d84909a",
    "_uuid": "86b50d6df1367cbb1bc002ae0667d8280a2b5d17",
    "collapsed": true
   },
   "source": [
    "#### Conclusion:\n",
    "Fatal injury represent a very small portion of all accident (less than 4% in any given cases).  It's also obvious that the level-straight road has less fatal injury, though the total number is much more than other cases; instead, the uneven condition (straight and curved) may produce severe accident.  This could be caused by limited sight.\n",
    "\n",
    "### 4.3) Road Alignment & Number of Vehicles Involved in Collision\n"
   ]
  },
  {
   "cell_type": "code",
   "execution_count": null,
   "metadata": {
    "_cell_guid": "d89a3e49-04b6-46f5-9e8e-92a2cfb3b286",
    "_uuid": "7c5977c66436961349cf3a9779fa034e90ee47f1",
    "collapsed": true
   },
   "outputs": [],
   "source": [
    "df1 = df_a.loc[:,['c_raln','c_vehs']]\n",
    "df1.c_vehs.replace('UU',np.nan, inplace=True)\n",
    "df1.dropna(inplace=True)\n",
    "df1.c_vehs=df1.c_vehs.astype(int)\n",
    "df1.c_vehs.value_counts().sort_index()\n",
    "\n",
    "#Calculate accident portion of each event, considering 58 records that have 57 vehicle involved,\n",
    "# that should be just one accident, every relevant record should be only about 1/57.\n",
    "df1['acc']= 1/df1.c_vehs\n",
    "\n",
    "#Categorize number of involved vehicles into bins.\n",
    "bins = [0,5,10,20,40,60]\n",
    "df1['cats'] = pd.cut(df1.c_vehs,bins)\n",
    "\n",
    "#Summarize the collisions on road alignment and number of involved vehicles.\n",
    "df5 = df1.groupby(['cats','c_raln'])['acc'].sum().unstack()\n",
    "df5.dropna(how='all', inplace=True)\n",
    "df5.fillna(0, inplace=True)\n",
    "df5"
   ]
  },
  {
   "cell_type": "code",
   "execution_count": null,
   "metadata": {
    "_cell_guid": "5033c3a1-faba-4af6-9bfd-b61338254eda",
    "_uuid": "590155cfd70d5316b01f8d973938be277f043eb2",
    "collapsed": true,
    "scrolled": true
   },
   "outputs": [],
   "source": [
    "#Plot the result.\n",
    "\n",
    "df5.plot(logy=True,figsize=(15,5),style='o--',\n",
    "         title='Number of Involved Vehicles and Road Alignment')\n",
    "plt.xticks(np.arange(-0.5,5.5),bins)\n",
    "plt.xlabel('Number of Vehicles Involved in Each Accident')\n",
    "plt.ylabel('Number of Accidents')\n",
    "plt.legend(c_raln)\n",
    "plt.grid(axis='y');"
   ]
  },
  {
   "cell_type": "markdown",
   "metadata": {
    "_cell_guid": "13697e88-c6cd-4c87-9c6e-531af5a47489",
    "_uuid": "ceda180cb7e9c2b8dfc42db990ab05ef2462dc23"
   },
   "source": [
    "#### Conclusion:\n",
    "Majority accident are involving less than 5 cars.  As the plots are very similar for different road alignments, no specific relationship observed between the two variables.\n",
    "\n",
    "### 4.4) Road Alignment & Collision Configuration"
   ]
  },
  {
   "cell_type": "code",
   "execution_count": null,
   "metadata": {
    "_cell_guid": "e03b1e74-bfd0-4655-84bb-4c28e1d9e9e2",
    "_uuid": "ba909fbd56f8c78a26feedd0ffda0b82ee5a02e1",
    "collapsed": true
   },
   "outputs": [],
   "source": [
    "#Prepare the dataset for analyse, replace non-numeric value into number to use in scatter plot.\n",
    "df1 = df_a.loc[:,['c_raln','c_conf']]\n",
    "df1.c_raln = df1.c_raln.replace({'Q':7,'U':8}).astype(int)\n",
    "df1.c_conf = df1.c_conf.replace({'QQ':42,'UU':43,'XX':43}).astype(int)"
   ]
  },
  {
   "cell_type": "code",
   "execution_count": null,
   "metadata": {
    "_cell_guid": "70ca0e1b-db93-44c9-b020-e462d837e7d5",
    "_uuid": "4007a17e0531466cd0e1734b469bc84217a935b4",
    "collapsed": true
   },
   "outputs": [],
   "source": [
    "#Too many collision configuration involved, iterate a list of dateframes to\n",
    "# separate different collision config.\n",
    "df6 = []\n",
    "df6.append( df1[df1.c_conf < 10] )\n",
    "df6.append( df1[(df1.c_conf > 20)&(df1.c_conf < 30)] )\n",
    "df6.append( df1[(df1.c_conf > 30)&(df1.c_conf < 40)] )\n",
    "df6.append( df1[df1.c_conf > 40] )\n"
   ]
  },
  {
   "cell_type": "code",
   "execution_count": null,
   "metadata": {
    "_cell_guid": "156f58d4-fe8b-4d65-b6fb-36cf4147201f",
    "_uuid": "66c8676fe7511675c22fb76ef42e08c2c3aa8424",
    "collapsed": true
   },
   "outputs": [],
   "source": [
    "#Reformat the dataframe, to summarize the collision numbers in different situation,\n",
    "# and store in another list of dataframe 'df7'\n",
    "\n",
    "se6 = []; df7 = []\n",
    "for i in range(0,4):\n",
    "    se6.append( df6[i].groupby(['c_raln','c_conf']).size() )\n",
    "    se6[i].name = 'collision'\n",
    "    df7.append( pd.DataFrame(se6[i]).reset_index() )\n",
    "\n",
    "df7[3]"
   ]
  },
  {
   "cell_type": "code",
   "execution_count": null,
   "metadata": {
    "_cell_guid": "abcf2239-a22e-4b82-a52d-af413cd4936f",
    "_uuid": "530ad396fec838eaefc93b08307361c76ecabe06",
    "collapsed": true
   },
   "outputs": [],
   "source": [
    "#Draw four subplots to show the relation between the road alignment\n",
    "# and different collision situations.\n",
    "\n",
    "fig = plt.figure(figsize=(15, 10))\n",
    "fig.suptitle(\"The Relation between Road-alignment and Collision-configuration\",\n",
    "             fontsize = 16)\n",
    "\n",
    "#---------------------- Only one car involved in collision. ---------------------- \n",
    "ax1 = fig.add_subplot(2,2,1)\n",
    "ax1.set_xticks(range(1,9))\n",
    "ax1.set_xticklabels([1,2,3,4,5,6,'Q','U'])\n",
    "ax1.set_xlabel(\"Road Alignment\")\n",
    "\n",
    "ax1.set_yticks(range(1,7))\n",
    "ax1.set_yticklabels(['Person/animal','Station/tree','Left-roll',\n",
    "                     'Right-roll','Rollover','Other'])\n",
    "ax1.set_ylabel(\"Collision Configure\")\n",
    "\n",
    "ax1.set_title(\"Single Vehicle in Motion\")\n",
    "ax1.scatter(df7[0].c_raln,df7[0].c_conf,\n",
    "            df7[0].collision*.01,\n",
    "            alpha=0.5,color='r')\n",
    "plt.grid(which='major')\n",
    "\n",
    "#---------------------- Two car same direction. ---------------------- \n",
    "ax2 = fig.add_subplot(2,2,2)\n",
    "ax2.set_xticks(range(1,9))\n",
    "ax2.set_xticklabels([1,2,3,4,5,6,'Q','U'])\n",
    "ax2.set_xlabel(\"Road Alignment\")\n",
    "\n",
    "\n",
    "ax2.set_ylim([19.5,25.5])\n",
    "ax2.set_yticks(range(21,26))\n",
    "ax2.set_yticklabels(['Rear-end','Side-swipe','Left-turn','Right-turn','Other'])\n",
    "ax2.set_ylabel(\"Collision Configure\")\n",
    "\n",
    "ax2.set_title(\"Two Vehicle Same Direction\")\n",
    "ax2.scatter(df7[1].c_raln,df7[1].c_conf,\n",
    "            df7[1].collision*.01,\n",
    "            alpha=0.5,color='r')\n",
    "plt.grid(which='major')\n",
    "\n",
    "#---------------------- Two car different direction. ---------------------- \n",
    "ax3 = fig.add_subplot(2,2,3)\n",
    "ax3.set_xticks(range(1,9))\n",
    "ax3.set_xticklabels(c_raln,rotation=30,ha='right')\n",
    "ax3.set_xlabel(\"Road Alignment\")\n",
    "\n",
    "ax3.set_ylim([30.5,37])\n",
    "ax3.set_yticks(range(31,37))\n",
    "ax3.set_yticklabels(['Head-on','Side-swipe','Left-turn','Right-turn',\n",
    "                     'Right-angle','Other'])\n",
    "ax3.set_ylabel(\"Collision Configure\")\n",
    "\n",
    "ax3.set_title(\"Two Vehicle Different Direction\")\n",
    "ax3.scatter(df7[2].c_raln,df7[2].c_conf,\n",
    "            df7[2].collision*.01,\n",
    "            alpha=0.5,color='r')\n",
    "plt.grid(which='major')\n",
    "\n",
    "#---------------------- Other situation. ---------------------- \n",
    "ax4 = fig.add_subplot(2,2,4)\n",
    "ax4.set_xticks(range(1,9))\n",
    "ax4.set_xticklabels(c_raln,rotation=30,ha='right')\n",
    "ax4.set_xlabel(\"Road Alignment\")\n",
    "\n",
    "ax4.set_ylim([40.7,43.3])\n",
    "ax4.set_yticks(range(41,44))\n",
    "ax4.set_yticklabels(['Parked car','Other','Unknown'])\n",
    "ax4.set_ylabel(\"Collision Configure\")\n",
    "\n",
    "ax4.set_title(\"Other Situation\")\n",
    "ax4.scatter(df7[3].c_raln,df7[3].c_conf,\n",
    "            df7[3].collision*.01,\n",
    "            alpha=0.5,color='r')\n",
    "plt.grid(which='major');"
   ]
  },
  {
   "cell_type": "markdown",
   "metadata": {
    "_cell_guid": "86a7381b-c604-4788-a780-096865d3a1c6",
    "_uuid": "1fb22034e9d8d3355f2fab94bf5ca9817a09d0a3"
   },
   "source": [
    "#### Conclusion:\n",
    "The size of each dot indicate the collision numbers in each setting, same scale factor used for all subplots, which makes the number in each plot comparable to its neighbour.  In all cases, clear trend shows that the collision chance increases when road-alignment getting better, due to higher speed and less caution.  Except the unknown or \"other\" conditions, we can see in each cases:\n",
    "1. most collision for one car accident is hitting a static object, followed closely by right and left roll on to shoulder.\n",
    "2. for two car in same direction, most accidents are rear-end collision, which clearly increase along road-alignment.\n",
    "3. for two car in different direction, right-angle collision is huge, guess is in intersection.  Left turn also post a lot risk, but right-turn is very low, even lower than head-on collision.  This may be a result of the inherent complexity of left turn.\n",
    "\n",
    "### Conclusion from Road Alignment analysis:\n",
    "From all test performed above, we have following observations:\n",
    "1. Most collisions happened in level and aligned road.  Drivers should pay more attention when drive on good road condition, and follow speed limit.\n",
    "2. However, bad road alignment may post higher risk of fatal accident.  Drivers need to anticipate possible outcome when the view is not so wide, and always be cautious to avoid serious injury as possible.\n",
    "3. Rear-end collision is the most popular collision type.  Keep enough space to the car in front of you, especially on well aligned road.\n",
    "4. Right-angle collision and left-turn collision are also popular, wait one more second before turning your wheel, or rushing into the intersection."
   ]
  },
  {
   "cell_type": "markdown",
   "metadata": {
    "_cell_guid": "20c50e64-35c7-4625-bfde-02451b542e36",
    "_uuid": "781d42437ebbcbf48b3a00d25e6852a089686370"
   },
   "source": [
    "---\n",
    "### 5 Vehicle Type\n",
    "### 5.1) Vehicle Type & Time Relation"
   ]
  },
  {
   "cell_type": "code",
   "execution_count": null,
   "metadata": {
    "_cell_guid": "93042081-b975-4093-8243-a1deba264eb3",
    "_uuid": "54675820ef9782b8d1a95109a7088c05fc459e2d",
    "collapsed": true
   },
   "outputs": [],
   "source": [
    "df1 = df_a.loc[:,['c_mnth','v_type']]\n",
    "\n",
    "#Aggregate the events by month into a summarized dataframe.\n",
    "df2 = df1.groupby(['c_mnth','v_type']).size().unstack()\n",
    "df2.index = df2.index.astype(int)\n",
    "df2.fillna(0, inplace=True)\n",
    "\n",
    "v_type = ['1.Light Duty', '5.Cargo <4.5t', '6.Truck <4.5t',\n",
    "          '7.Truck >4.5t', '8.Road tractor', '9.School bus',\n",
    "          '10.Small school bus', '11.Urban bus', '14.Motorcycle',\n",
    "          '16.Off-road', '17.Bicycle', '18.Motorhome', '19.Farm equip.',\n",
    "          '20.Constru. equip.', '21.Fire engine', '22.Snowmobile',\n",
    "          '23.Street car', 'N.Not vehicle', 'Q.Others', 'U.Unknown']\n",
    "months = ['Jan','Feb','Mar','Apr','May','Jun',\n",
    "          'Jul','Aug','Sep','Oct','Nov','Dec']"
   ]
  },
  {
   "cell_type": "code",
   "execution_count": null,
   "metadata": {
    "_cell_guid": "6e662f40-01a3-48f7-84ac-3ab74075603f",
    "_uuid": "64546e96ae740d379268f007a09ebf47435cf1f5",
    "collapsed": true,
    "scrolled": true
   },
   "outputs": [],
   "source": [
    "df2.iloc[:,[0,1,2,3,4,7]].plot(logy=True, figsize = (15,3), style = 'o--',\n",
    "                               title = 'Urban Vehicle Collisions')\n",
    "plt.legend(v_type[0:5]+[v_type[7]])\n",
    "plt.xticks(range(1,13),months)\n",
    "plt.xlabel('Month of The Year')\n",
    "plt.ylabel('Number of Collisions')\n",
    "plt.grid(axis='y');"
   ]
  },
  {
   "cell_type": "code",
   "execution_count": null,
   "metadata": {
    "_cell_guid": "162f0902-d7f2-4cfb-97fd-5f058718c046",
    "_uuid": "8e8a1ef943cfbfce39f6b1d39265f6e296aad02d",
    "collapsed": true,
    "scrolled": true
   },
   "outputs": [],
   "source": [
    "df2.iloc[:,17:20].plot(logy=True, figsize = (15,3), style = 'o--',\n",
    "                       title = 'Special Collisions')\n",
    "plt.legend(v_type[17:20])\n",
    "plt.xticks(range(1,13),months)\n",
    "plt.xlabel('Month of The Year')\n",
    "plt.ylabel('Number of Collisions')\n",
    "plt.grid(axis='y');"
   ]
  },
  {
   "cell_type": "code",
   "execution_count": null,
   "metadata": {
    "_cell_guid": "8d5afcf5-80ad-403b-ad5d-4f480e83eccb",
    "_uuid": "7bcc4671e09c278aead1321d6847449b571bce03",
    "collapsed": true,
    "scrolled": true
   },
   "outputs": [],
   "source": [
    "df2.iloc[:,5:7].plot(logy=True, figsize = (15,3), style = 'o--',\n",
    "                     title = 'School Bus Collisions')\n",
    "plt.legend(v_type[5:7])\n",
    "plt.xticks(range(1,13),months)\n",
    "plt.xlabel('Month of The Year')\n",
    "plt.ylabel('Number of Collisions')\n",
    "plt.grid(axis='y');"
   ]
  },
  {
   "cell_type": "code",
   "execution_count": null,
   "metadata": {
    "_cell_guid": "429f4001-5894-4fa1-9774-6e33c5d5fe08",
    "_uuid": "7d6ef2e7a163318e322606baf1d9f83ee5a9c91d",
    "collapsed": true,
    "scrolled": true
   },
   "outputs": [],
   "source": [
    "df2.iloc[:,8:12].plot(logy=True, figsize = (15,3), style = 'o--',\n",
    "                      title = 'Recreation Vehicle Collisions')\n",
    "plt.legend(v_type[8:12])\n",
    "plt.xticks(range(1,13),months)\n",
    "plt.xlabel('Month of The Year')\n",
    "plt.ylabel('Number of Collisions')\n",
    "plt.grid(axis='y');"
   ]
  },
  {
   "cell_type": "code",
   "execution_count": null,
   "metadata": {
    "_cell_guid": "b788f0a9-4723-4ca3-aff1-4a9ae314eff7",
    "_uuid": "9faea357d5fa7015e581f877ad5484b26e2c797e",
    "collapsed": true
   },
   "outputs": [],
   "source": [
    "df2.iloc[:,[13,15]].plot(logy=True, figsize = (15,3), style = 'o--',\n",
    "                         title = 'Operation Vehicle Collisions')\n",
    "plt.legend([v_type[13],v_type[15]])\n",
    "plt.xticks(range(1,13),months)\n",
    "plt.xlabel('Month of The Year')\n",
    "plt.ylabel('Number of Collisions')\n",
    "plt.grid(axis='y');"
   ]
  },
  {
   "cell_type": "code",
   "execution_count": null,
   "metadata": {
    "_cell_guid": "a5a64451-eda9-4a78-b463-dd452297163e",
    "_uuid": "c0aea4619ad63b65f3aaa166f03fe9c270ecdc0c",
    "collapsed": true
   },
   "outputs": [],
   "source": [
    "df2.iloc[:,[12,14,16]].plot(logy=True, figsize = (15,3), style = 'o--',\n",
    "                            title = 'City Vehicle Collisions')\n",
    "plt.legend([v_type[12],v_type[14],v_type[16]])\n",
    "plt.xticks(range(1,13),months)\n",
    "plt.xlabel('Month of The Year')\n",
    "plt.ylabel('Number of Collisions')\n",
    "plt.grid(axis='y');"
   ]
  },
  {
   "cell_type": "code",
   "execution_count": null,
   "metadata": {
    "_cell_guid": "f038de3a-dd6a-4fea-ac66-a65c63583077",
    "_uuid": "7d4943f6fe7a3daa5cb6313cb6770c0b4e4fca8c",
    "collapsed": true
   },
   "outputs": [],
   "source": [
    "#Plot the total collisions by different vehicle types (top 10):\n",
    "\n",
    "df3 = pd.DataFrame(df1.groupby('v_type').size().sort_index())\n",
    "df3['types'] = v_type\n",
    "df3 = df3.rename(columns={0:'collisions'}).set_index('types').sort_values(by='collisions')\n",
    "\n",
    "df3[-10:].plot.barh(log=True,color='slateblue',figsize=(15,5),\n",
    "                    title='Collisions by Vehicle Type',legend=None)\n",
    "plt.xlabel('Number of Collisions')\n",
    "plt.ylabel('Vehicle Type')\n",
    "plt.grid(axis='x');"
   ]
  },
  {
   "cell_type": "markdown",
   "metadata": {
    "_cell_guid": "359cd29a-0417-4d7f-b723-710f12454b8a",
    "_uuid": "0e2510af623a4001cf86057d8da53bfac05282c3"
   },
   "source": [
    "#### Conclusion:\n",
    "By looking at the plots above, clear pattern shown in different vehicle types:\n",
    "1. Vast majority collisions are caused by light duty vehicles, followed by light truck, motorcycle and bicycle.  This is due to the dominant population of the personal vehicles, and the unprofessional nature of the drivers.\n",
    "2. The collisions distribution for urban vehicles (light duty, trucks, road tractor, and bus) is flat across all seasons, without showing obvious pattern, indicating urban traffic being busy for all time.\n",
    "3. School bus involved collisions happened much less in July and August, due to summer vacation.\n",
    "4. More accident related to bicycle, motorcycle, off-road vehicle and motorhome happened from April to October, as they are used for outdoor activities during summer time; in opposite, snow-mobile collisions are more from October to April.\n",
    "\n",
    "### 5.2) Vehicle Type & Severity"
   ]
  },
  {
   "cell_type": "code",
   "execution_count": null,
   "metadata": {
    "_cell_guid": "01cedf89-cac1-4b5c-abb8-f99d74a3b082",
    "_uuid": "dae401e82b935bdc1d50b1f7d6d4748bf3ad9d03",
    "collapsed": true,
    "scrolled": false
   },
   "outputs": [],
   "source": [
    "#Use a new dataframe to analyze the relationship between Severity and Road Alignment.\n",
    "#For c_sev, 1 is fatal, and 2 is non-fatal.\n",
    "\n",
    "df1 = df_a.loc[:,['v_type','c_sev']]\n",
    "df4 = df1.groupby(['v_type','c_sev']).size().unstack().fillna(0)\n",
    "\n",
    "#Plot the relationship between Severity and Vehicle Type.\n",
    "\n",
    "#Create a twin y-axis plot area, and define axis parameters.\n",
    "fig,ax1 = plt.subplots()\n",
    "ax2 = ax1.twinx()\n",
    "\n",
    "#Plot the new dataframe in logarithm, since the gap between numbers are huge.\n",
    "df4.plot(kind='bar',rot=30,log=True,color=['red','coral'],figsize=(15,5),\n",
    "         title='Severity on Vehicle Type', ax=ax1)\n",
    "ax1.set_xticklabels(v_type,ha='right')\n",
    "ax1.set_xlabel('Vehicle Type')\n",
    "ax1.set_ylabel('Number of Collisions')\n",
    "ax1.grid(axis='both')\n",
    "ax1.legend(['1.Fatal','2.Non-fatal'])\n",
    "\n",
    "#Calculate the percentage of fatal injury in all accidents by different road alignment,\n",
    "# and plot to right axis.\n",
    "se1 = df4[1]/(df4[1]+df4[2])*100\n",
    "se1.plot(c='b', style='o--', ax=ax2)\n",
    "ax2.set_ylabel('Fatal Percentage (%)')\n",
    "ax2.spines['right'].set_color('b')\n",
    "ax2.yaxis.label.set_color('b')\n",
    "ax2.tick_params(axis='y',colors='b')\n",
    "\n",
    "plt.xticks(np.arange(0,20),v_type);\n"
   ]
  },
  {
   "cell_type": "markdown",
   "metadata": {
    "_cell_guid": "37c8a052-5fb0-489e-a788-f5d220eccbcd",
    "_uuid": "fa060bed6b67498a30038ad5585d4801a24a49bf"
   },
   "source": [
    "#### Conclusion:\n",
    "From the figure above we see most fatal collisions are caused by light-duty vehicles, followed by motorcycle, road tractor, and trucks.  However, the highest percentage of fatal accidents is caused by road tractor and Snowmobile (about 7%), and followed by street car, farm equipment and motorhome (around 6%).\n",
    "Also noticed that small school bus produces least fatal collisions, and bicycle number is also non-surprisingly low.\n",
    "\n",
    "\n",
    "### Conclusion from Vehicle Type analysis:\n",
    "Clear seasonal patterns observed for certain types:\n",
    "- School bus involved in collisions out of summer vacation (July and August);\n",
    "- Vehicles for out-door activities (i.e., bicycle, motorcycle, off-road vehicle and motorhome) involved in collisions mostly during summer time (April to October);\n",
    "- In opposite, snow-mobile collisions are more from October to April.\n",
    "\n",
    "While light duty vehicles, light trucks, motorcycles and bicycles involved in most of the collisions, most fatal collision ratio observed from following types:\n",
    "- Road tractor and Snowmobile is around 7%;\n",
    "- Street car, farm equipment and motorhome is about 6%.\n",
    "\n",
    "If you see those vehicle when you drive, try stay away from them."
   ]
  },
  {
   "cell_type": "markdown",
   "metadata": {
    "_cell_guid": "39396ce4-faaf-463c-a6c1-0f5c95503511",
    "_uuid": "058b7afbd94ed6fac082d1bfcebc8354743f5419"
   },
   "source": [
    "---\n",
    "### 6. Vehicle Model Year\n",
    "### 6.1) Vehicle Model Year & Time Relation"
   ]
  },
  {
   "cell_type": "code",
   "execution_count": null,
   "metadata": {
    "_cell_guid": "77a90bf9-5c7d-4168-86b0-f6f57f4daa6f",
    "_uuid": "5e38c0cbe502e2fa03c06d7175383ea7f30dafa7",
    "collapsed": true
   },
   "outputs": [],
   "source": [
    "#Prepare the dataset and clean it.\n",
    "df1 = df_a.loc[:,['c_year','v_year']]\n",
    "\n",
    "df1.v_year.replace({'NNNN':NA,'UUUU':NA,'XXXX':NA},inplace=True)\n",
    "df1.dropna(inplace=True)\n",
    "df1 = df1.astype(int)\n",
    "\n",
    "#Aggregate the collisions by year into a summarized dataframe (model year as index).\n",
    "df2 = df1.groupby(['v_year','c_year']).size().unstack()\n",
    "df2.fillna(0, inplace=True)\n",
    "df2 = df2.astype(int)\n",
    "df2"
   ]
  },
  {
   "cell_type": "code",
   "execution_count": null,
   "metadata": {
    "_cell_guid": "c38f4b2a-2025-433e-9fd9-d11c23b39f6a",
    "_uuid": "782571ca5f3122e2aefd4bfcfd4989cc163cdd4d",
    "collapsed": true,
    "scrolled": false
   },
   "outputs": [],
   "source": [
    "#Number of collisions grouped by vehicle model year range (12 ranges as columns)\n",
    "bins = list(range(1900,2021,10))\n",
    "df2['cats'] = pd.cut(df2.index,bins,labels=bins[:-1])\n",
    "df3 = df2.groupby('cats').sum().T\n",
    "df3"
   ]
  },
  {
   "cell_type": "code",
   "execution_count": null,
   "metadata": {
    "_cell_guid": "8af6dc9c-1022-4cde-a6de-a34a86995136",
    "_uuid": "ea76698544fadb6a82ae65046146e9b8343b2e77",
    "collapsed": true,
    "scrolled": true
   },
   "outputs": [],
   "source": [
    "#Plot result of most involved model years:\n",
    "se4=df3.sum().sort_values()\n",
    "se4[-5:].plot.barh(log=True,color='slateblue',figsize=(15,5),\n",
    "                   title='Collisions by Vehicle Model Year')\n",
    "plt.xlabel('Number of Collisions')\n",
    "plt.grid(axis='x');"
   ]
  },
  {
   "cell_type": "code",
   "execution_count": null,
   "metadata": {
    "_cell_guid": "f0e6c6b2-68a7-4ec4-bec1-b5a85dd24f4f",
    "_uuid": "9f340f00c60b7f2e5699bad442d723ca463f80db",
    "collapsed": true,
    "scrolled": true
   },
   "outputs": [],
   "source": [
    "#Plot the trending of model year involved in collision.\n",
    "df3.iloc[:,7:].plot(logy=True,style='o--',figsize=(15,5),\n",
    "                    title='Vehicle Model Year Involved in Collisions Over Time')\n",
    "plt.xlabel('Collision Year')\n",
    "plt.ylabel('Number of Collisions')\n",
    "plt.legend(title='Model Year')\n",
    "plt.grid(axis='y');"
   ]
  },
  {
   "cell_type": "markdown",
   "metadata": {
    "_cell_guid": "d503b657-cab8-4345-9924-5a5ac82cdd13",
    "_uuid": "c85555a5d042903bd5e741826ea2a247ee54f4a1"
   },
   "source": [
    "### Conclusion from Vehicle Model Year analysis:\n",
    "As the data covers collisions from 1999 to 2014, most cars involved in collisions are made in recent thirty years.\n",
    "Clear trend observed that the model getting involved in collision peaks in its 10 years' age, which could be a result of the market share growth and the reliability drops for old vehicles.\n",
    "\n",
    "---\n",
    "### 7. Person Sex\n",
    "### 7.1) Sex & Collision Hour"
   ]
  },
  {
   "cell_type": "code",
   "execution_count": null,
   "metadata": {
    "_cell_guid": "c05bc59d-25c3-4c67-9acf-874c60851307",
    "_uuid": "54452aeedca069797bd584201ace36b14203b41e",
    "collapsed": true
   },
   "outputs": [],
   "source": [
    "#Generating working data set 'df_d' by keeping the using elements\n",
    "df_d = df.loc[:,['c_hour','c_vehs','c_wday',\n",
    "                 'c_conf','p_sex','p_age','p_isev','p_user']]\n",
    "df_d"
   ]
  },
  {
   "cell_type": "code",
   "execution_count": null,
   "metadata": {
    "_cell_guid": "49b3fefb-ac47-4466-935b-482cf72fbba3",
    "_uuid": "7a78ae4fb079727f950dedc2e17902acaae4a0cb",
    "collapsed": true
   },
   "outputs": [],
   "source": [
    "# define 0 as men; 1 as women\n",
    "df_d.p_sex.replace({'M':0,'F':1},inplace=True)\n",
    "# Clean the missing variable by droping the row which contains any missing variables\n",
    "df_d.replace('[^0-9]+',np.nan,regex=True,inplace=True)\n",
    "df_d.dropna(inplace=True)"
   ]
  },
  {
   "cell_type": "code",
   "execution_count": null,
   "metadata": {
    "_cell_guid": "18d98123-9f9b-43d3-b8e9-5869b44d49e2",
    "_uuid": "f4661cdf07167fb0005d5a3d6b4b7ca127a266da",
    "collapsed": true
   },
   "outputs": [],
   "source": [
    "num = df_d.groupby(['p_sex']).count()\n",
    "print(num)"
   ]
  },
  {
   "cell_type": "code",
   "execution_count": null,
   "metadata": {
    "_cell_guid": "00805cdd-5e41-4d65-bea0-8aff5b42b0d3",
    "_uuid": "4c2a6b9524ca6a2118f68a0558fb1a7ac7980992",
    "collapsed": true
   },
   "outputs": [],
   "source": [
    "df1 = df_d.loc[:,['p_sex','c_hour']].groupby(['c_hour','p_sex']).size().unstack()\n",
    "df1"
   ]
  },
  {
   "cell_type": "code",
   "execution_count": null,
   "metadata": {
    "_cell_guid": "c6ab705a-8f62-4519-902d-21cdd765e5da",
    "_uuid": "501d3fd67c6171bfbba038249e8a812f37f0f930",
    "collapsed": true
   },
   "outputs": [],
   "source": [
    "df1.plot(rot=0,color=['g','r'],figsize=(15,5),\n",
    "         title='Person sex & Collision hour')\n",
    "plt.legend(['0.Male','1.Female'])\n",
    "plt.xticks(range(0,24),range(0,24))\n",
    "plt.grid();"
   ]
  },
  {
   "cell_type": "code",
   "execution_count": null,
   "metadata": {
    "_cell_guid": "82cc44d5-8d41-4055-ae64-e910ecadc576",
    "_uuid": "a49498cde751307a418d27612d01302f2e6485ef",
    "collapsed": true
   },
   "outputs": [],
   "source": [
    "#8 o'clock:\n",
    "df1.iloc[8,]"
   ]
  },
  {
   "cell_type": "markdown",
   "metadata": {
    "_cell_guid": "d30d5ffa-4db4-40c0-8dc7-587a84e32fee",
    "_uuid": "d1e6558d2c94e2b394b5b290ab58231db9fe4a71"
   },
   "source": [
    "#### Conclusion: \n",
    "Man is more likely to involve in a collision accident at all times. However, the collision times of male and female are very close to each other at 8 am, around 125,047 and 123,961.   \n",
    "\n",
    "Also, for both male and female, the riskiest time period is from 3 pm to 5 pm, and then the risk has a monotonically decreasing trend.\n",
    "\n",
    "### 7.2) Sex & Medical Treatment Required"
   ]
  },
  {
   "cell_type": "code",
   "execution_count": null,
   "metadata": {
    "_cell_guid": "8aeef45b-b315-496e-9fa5-875f9611cc70",
    "_uuid": "05bd5f1e98401840c345e176f909215c4c9b83ca",
    "collapsed": true
   },
   "outputs": [],
   "source": [
    "df2 = df_d.loc[:,['p_sex','p_isev']].groupby(['p_sex','p_isev']).size().unstack()\n",
    "df2"
   ]
  },
  {
   "cell_type": "code",
   "execution_count": null,
   "metadata": {
    "_cell_guid": "2f11496c-7e72-453c-8d5c-31331cb6e1c5",
    "_uuid": "b43c9c05b69fa38abe0126d1405a370388993d33",
    "collapsed": true
   },
   "outputs": [],
   "source": [
    "df2.plot(kind='bar',rot=0, color=['g','orange','r'], figsize=(8,5),\n",
    "         title='Person sex & Medical treatment required')\n",
    "plt.legend(['1.No Injury','2.Injury','3.Fatality'])\n",
    "plt.xticks(range(0,2),['0.Male','1.Female'])\n",
    "plt.grid(axis='y');"
   ]
  },
  {
   "cell_type": "code",
   "execution_count": null,
   "metadata": {
    "_cell_guid": "d5d55a65-c216-4bd5-9792-413e85a1741c",
    "_uuid": "9f5c30f8077b8788a2a7a1f6316697dc97696861",
    "collapsed": true
   },
   "outputs": [],
   "source": [
    "#Same result in logarithm scale.\n",
    "df2.plot(kind='bar',rot=0, color=['g','orange','r'], figsize=(8,5),log= True,\n",
    "         title='Person sex & Medical treatment required (in log)')\n",
    "plt.legend(['1.No Injury','2.Injury','3.Fatality'])\n",
    "plt.xticks(range(0,2),['0.Male','1.Female'])\n",
    "plt.grid(axis='y');"
   ]
  },
  {
   "cell_type": "markdown",
   "metadata": {
    "_cell_guid": "c640dc15-84cb-4ef6-90e6-7080c1d276a4",
    "_uuid": "9b8d811384b2434f9249f41408ff840269a4b813"
   },
   "source": [
    "#### Conclusion:\n",
    "Female are more likely to injure in an accident, compared to male. However, men are twice as likely as women to die in an accident.\n",
    "\n",
    "### 7.3) Sex & Collision Configuration"
   ]
  },
  {
   "cell_type": "code",
   "execution_count": null,
   "metadata": {
    "_cell_guid": "67655b2d-feac-4060-b75d-1f6eb10e6afa",
    "_uuid": "f1977d2541230e0cd5d3da0f56a83baa8e953650",
    "collapsed": true
   },
   "outputs": [],
   "source": [
    "#Prepare sub-dataset\n",
    "df3 = df_d.loc[:,['p_sex','c_conf']].groupby(['c_conf','p_sex']).size().unstack()\n",
    "df3"
   ]
  },
  {
   "cell_type": "code",
   "execution_count": null,
   "metadata": {
    "_cell_guid": "d586031f-04b5-4b5c-a0c7-fb2625aa55ae",
    "_uuid": "f568c12f6b8680bd35cc51870bcf03e4515d5fcf",
    "collapsed": true
   },
   "outputs": [],
   "source": [
    "#Prepare labels for x-axis\n",
    "x_label=['01.SV Hit movible','02.SV Hit stationary','03.SV Ran off left shoulder',\n",
    "         '04.SV Ran off right shoulder','05.SV Rollover on roadway',\n",
    "         '06.SV Others','21.2V SD Rear','22.2V SD side-swipe',\n",
    "         '23.2V SD Lf','24.2V SD Rt','25.2V Others','31.2V DD Head',\n",
    "         '32.2V DD side-swipe','33.2V DD Lf','34.2V DD Rt','35.2V DD Right angle',\n",
    "         '36.2V DD other','41.Hit parked vehicle']\n",
    "len(x_label)"
   ]
  },
  {
   "cell_type": "code",
   "execution_count": null,
   "metadata": {
    "_cell_guid": "b1bb0e3b-0236-4887-8cdc-c4ae804fb405",
    "_uuid": "41e557711355fe2c0786fc6a6e13c34746949d8e",
    "collapsed": true
   },
   "outputs": [],
   "source": [
    "df3.plot(style = 'o--', figsize = (15,5),\n",
    "         title='Person sex & Type of accident')\n",
    "plt.legend(['Male','Female'])\n",
    "plt.xticks(range(0,18),x_label,rotation=30,ha='right');\n",
    "plt.grid();"
   ]
  },
  {
   "cell_type": "markdown",
   "metadata": {
    "_cell_guid": "31e8149f-aaf5-4efa-8695-599b6d799c55",
    "_uuid": "f15620556b51295c437d4d6ee02f150251018b9a"
   },
   "source": [
    "#### Conclusion:\n",
    "for all kinds of collision configurations, the male has higher collision risk. The rear-end collision is the most frequent type of the traffic accidents for both man and woman. Also, the second main type is right-angle side collision. Additionally, Rollover on a roadway is the least common type of accident.\n",
    "\n",
    "---\n",
    "### 8. Person Age\n",
    "### 8.1) Person Age & Collision Hour"
   ]
  },
  {
   "cell_type": "code",
   "execution_count": null,
   "metadata": {
    "_cell_guid": "7d52e3ef-3a18-45e0-a5cd-c309ee6b15d7",
    "_uuid": "be1b8a1c4cf8a20e86866fb485146d500d3adcce",
    "collapsed": true
   },
   "outputs": [],
   "source": [
    "#Prepare sub-dataset, manage NA value\n",
    "df4 = df_d.loc[:,['p_age','c_hour']].astype(int).groupby(['p_age','c_hour']).size().unstack()\n",
    "df4.fillna(0, inplace=True)"
   ]
  },
  {
   "cell_type": "code",
   "execution_count": null,
   "metadata": {
    "_cell_guid": "94a5b1a1-e428-41f6-b845-cfa382d7e1cd",
    "_uuid": "5bd6f12ca404b6b272eb0447a60496aaaf563021",
    "collapsed": true
   },
   "outputs": [],
   "source": [
    "#Bin ages into 10 buckets.\n",
    "bins = list(range(0,101,10))\n",
    "df4['age'] = pd.cut(df4.index,bins,labels=bins[:-1])\n",
    "df5 = df4.groupby('age').sum()\n",
    "df5 = df5.T\n",
    "df5"
   ]
  },
  {
   "cell_type": "code",
   "execution_count": null,
   "metadata": {
    "_cell_guid": "d31c2196-2cbd-4040-8b7d-f6683d17e795",
    "_uuid": "8d20910a457310c2334f15a219faa9ff08dafc4f",
    "collapsed": true
   },
   "outputs": [],
   "source": [
    "df5.plot(rot=0,figsize=(15,5), title='Person age & Collision hour')\n",
    "#plt.legend(['0.Male','1.Female'])\n",
    "plt.xticks(range(0,24),range(0,24))\n",
    "plt.grid();"
   ]
  },
  {
   "cell_type": "markdown",
   "metadata": {
    "_cell_guid": "7773f1e6-713e-41d2-abc7-702739d11504",
    "_uuid": "b0e6a9ad7e6b3b0e0516eba6490ed1f88828a9b8"
   },
   "source": [
    "#### Conlcusion:\n",
    "The most dangerous population is from 21 to 30 years old.   \n",
    "Also, the youth whose age is from 11 to 20 are more likely to involve in a collision at night, especially from 9 pm to 1 am.  \n",
    "At morning (8 am to 11 am), three age-groups (21 to 30; 31 to 40; 41 to 50) has the similar number of accident.  \n",
    "In the end, the graph shows the working people share the same pattern, which is the rush hour is likely to collide.  \n",
    "\n",
    "### 8.2) Age & Day of Week"
   ]
  },
  {
   "cell_type": "code",
   "execution_count": null,
   "metadata": {
    "_cell_guid": "0676a9ed-25a9-4019-894b-67802377d1b8",
    "_uuid": "83089683c407fd927d33f0832d87659da89aa0ef",
    "collapsed": true
   },
   "outputs": [],
   "source": [
    "df6 = df_d.loc[:,['p_age','c_wday']].astype(int).groupby(['c_wday','p_age']).size().unstack().T\n",
    "df6"
   ]
  },
  {
   "cell_type": "code",
   "execution_count": null,
   "metadata": {
    "_cell_guid": "6d9d8254-81e6-4e98-af50-405f5647b220",
    "_uuid": "e217e2ef721708f5f33b7e52a6bf5727d6958be6",
    "collapsed": true
   },
   "outputs": [],
   "source": [
    "bins = list(range(0,101,10))\n",
    "df6['age'] = pd.cut(df6.index,bins,labels=bins[:-1])\n",
    "df7 = df6.groupby('age').sum()\n",
    "df7 = df7.T\n",
    "df7"
   ]
  },
  {
   "cell_type": "code",
   "execution_count": null,
   "metadata": {
    "_cell_guid": "a4e14e90-e24a-44af-9cb0-33b46eea3783",
    "_uuid": "7e11fe777749d6dd05e57e4e9fc0e68da85eca64",
    "collapsed": true
   },
   "outputs": [],
   "source": [
    "df7.plot(rot=0,figsize=(8,5),title='Person age & Days of the week',style='o--')\n",
    "plt.xticks(range(1,8),['Mon','Tue','Wed','Thu','Fri','Sat','Sun']);\n",
    "#plt.grid(axis='y');"
   ]
  },
  {
   "cell_type": "markdown",
   "metadata": {
    "_cell_guid": "4c64a928-a65d-4246-92f9-80f907b84168",
    "_uuid": "37498eb7501841ecbaaf4116cb8d865c93f39cd8"
   },
   "source": [
    "#### Conlusion:\n",
    "During the whole week, young adults (from 21 to 31) are risky population.The risk decrease with age increases, for example, the age from 41 to 50 are less likely to involve in an accident, compared with whose age is from 31 to 40. Also, the collision probabilities of the youth significantly increased over the weekend.\n",
    "\n",
    "### 8.3) Age & Medical Treatment Required"
   ]
  },
  {
   "cell_type": "code",
   "execution_count": null,
   "metadata": {
    "_cell_guid": "848ae906-3219-4a31-9afc-d4fa7df29d61",
    "_uuid": "226e289236dc8bb9598dc4e680524fb8713b388d",
    "collapsed": true
   },
   "outputs": [],
   "source": [
    "df8 = df_d.loc[:,['p_age','p_isev']].astype(int).groupby(['p_age','p_isev']).size().unstack()\n",
    "df8.fillna(0, inplace=True)\n",
    "df8"
   ]
  },
  {
   "cell_type": "code",
   "execution_count": null,
   "metadata": {
    "_cell_guid": "fffb719d-f03f-485c-ae31-277e325f7dbe",
    "_uuid": "4410b452035edc92ad546efb763b0d14fd6338c8",
    "collapsed": true
   },
   "outputs": [],
   "source": [
    "bins = list(range(0,101,10))\n",
    "df8['age'] = pd.cut(df8.index,bins,labels=bins[:-1])\n",
    "df9 = df8.groupby('age').sum()\n",
    "df9 "
   ]
  },
  {
   "cell_type": "code",
   "execution_count": null,
   "metadata": {
    "_cell_guid": "13e88ea8-9b96-43c3-b668-78ba8094bb2b",
    "_uuid": "6e9c5fc7905b60fa1ef1ef534ec22c5609baffc1",
    "collapsed": true
   },
   "outputs": [],
   "source": [
    "df9.plot(kind='bar',rot=0, color=['g','orange','r'],figsize=(15,5),\n",
    "         title='Person age & Medical treatment required')\n",
    "plt.legend(['1.No Injury','2.Injury','3.Fatality'])\n",
    "plt.xticks(range(0,11),['(0, 10]',' (10, 20]',' (20, 30]',' (30, 40]',\n",
    "                        ' (40, 50]',' (50, 60]',' (60, 70]',' (70, 80]',\n",
    "                        ' (80, 90]',' (90, 100]'])\n",
    "plt.grid(axis='y');"
   ]
  },
  {
   "cell_type": "code",
   "execution_count": null,
   "metadata": {
    "_cell_guid": "529f85ca-aa8e-4400-b820-3ff0d983fb87",
    "_uuid": "0900e776b6ffbfb56010da09d66926ef5c0b2881",
    "collapsed": true
   },
   "outputs": [],
   "source": [
    "df9.plot(kind='bar',rot=0, color=['g','orange','r'],figsize=(15,5),log= True,\n",
    "         title='Person age & Medical treatment required (in log)')\n",
    "plt.legend(['1.No Injury','2.Injury','3.Fatality'])\n",
    "plt.xticks(range(0,11),['(0, 10]',' (10, 20]',' (20, 30]',' (30, 40]',\n",
    "                        ' (40, 50]',' (50, 60]',' (60, 70]',' (70, 80]',\n",
    "                        ' (80, 90]',' (90, 100]'])\n",
    "plt.grid(axis='y');"
   ]
  },
  {
   "cell_type": "code",
   "execution_count": null,
   "metadata": {
    "_cell_guid": "873bd30f-2b9f-4332-aed3-57d45f1eb33a",
    "_uuid": "adb4a4b43b2d7c60600c9bc4c6ac3d59301c1b63",
    "collapsed": true
   },
   "outputs": [],
   "source": [
    "#Verifying result using(20,30] age group\n",
    "df_d[(df_d.p_age.astype(int)> 20) & (df_d.p_age.astype(int)<= 30)].p_isev.value_counts()"
   ]
  },
  {
   "cell_type": "code",
   "execution_count": null,
   "metadata": {
    "_cell_guid": "88355bea-a702-41af-9789-617d8deda91b",
    "_uuid": "a17ac6d198c23f03285fb3957382b1a5dc19bc35",
    "collapsed": true
   },
   "outputs": [],
   "source": [
    "#Verifying result using (50,60] age group\n",
    "df_d[(df_d.p_age.astype(int)> 50) & (df_d.p_age.astype(int)<= 60)].p_isev.value_counts()"
   ]
  },
  {
   "cell_type": "markdown",
   "metadata": {
    "_cell_guid": "ee07788f-1f11-4a8c-82bf-b8978911a43a",
    "_uuid": "19cad0c4e4d3b93160aea22b35fd8a904eb25ae3"
   },
   "source": [
    "#### Conlusion:\n",
    "Except for whose age below 10, other age groups show the similar conclusion that people are more likely to injure in a collision.  \n",
    "Same as before, the graph shows the youth are the most dangerous group because they have the highest probability to involve in a collision regardless of the severity (not injure, injure or die).\n",
    "\n",
    "---\n",
    "### 9. Road User Class\n",
    "### 9.1) Road User Class & Medical Treatment Required"
   ]
  },
  {
   "cell_type": "code",
   "execution_count": null,
   "metadata": {
    "_cell_guid": "bb6eb8d9-7efd-4f1d-9ef7-47516a017638",
    "_uuid": "11dcc677fa71cf9b5d8b9df431ff091ecbf75d95",
    "collapsed": true
   },
   "outputs": [],
   "source": [
    "df10 = df_d.loc[:,['p_user','p_isev']].astype(int).groupby(['p_user','p_isev']).size().unstack()\n",
    "df10.fillna(0, inplace=True)\n",
    "df10"
   ]
  },
  {
   "cell_type": "code",
   "execution_count": null,
   "metadata": {
    "_cell_guid": "0d5a36da-1951-495c-ae3a-81f869cb284e",
    "_uuid": "d787204dd985f51052424615b1db965eaa3f084f",
    "collapsed": true
   },
   "outputs": [],
   "source": [
    "df10.plot(kind='bar',rot=0,color=['g','orange','r'],figsize=(8,5),\n",
    "          title='Road user class & Medical treatment required ')\n",
    "plt.legend(['1.No Injury','2.Injury','3.Fatality'])\n",
    "plt.xticks(range(0,5),['Driver','Passenger','Pedestrian',\n",
    "                       'Bicyclist', 'Motorcyclist'])\n",
    "plt.grid(axis='y');"
   ]
  },
  {
   "cell_type": "code",
   "execution_count": null,
   "metadata": {
    "_cell_guid": "0d556ce9-0de7-4617-9bb1-8dd7d43e150b",
    "_uuid": "877cc8000b916942a987f77037fa9fc7aafd8404",
    "collapsed": true
   },
   "outputs": [],
   "source": [
    "df10.plot(kind='bar',rot=0,color=['g','orange','r'],figsize=(8,5),\n",
    "          log = True, title='Road user class & Medical treatment required (in log)')\n",
    "plt.legend(['1.No Injury','2.Injury','3.Fatality'])\n",
    "plt.xticks(range(0,5),['Driver','Passenger','Pedestrian',\n",
    "                       'Bicyclist', 'Motorcyclist'])\n",
    "plt.grid(axis='y');"
   ]
  },
  {
   "cell_type": "markdown",
   "metadata": {
    "_cell_guid": "b745ae06-ade3-426b-a0ff-20f7530e87f3",
    "_uuid": "012d114b092207dcca8c70755e5ce85e570e4e05"
   },
   "source": [
    "#### Conclusion:\n",
    "Drivers are twice likely to get hurt or die than passengers. Among all 5 categories, bicyclists are the safest.\n",
    "### 9.2) Road User Class & Collision Configuration\n"
   ]
  },
  {
   "cell_type": "code",
   "execution_count": null,
   "metadata": {
    "_cell_guid": "64bdfaed-bdf5-4226-9905-f4f22ab1bffd",
    "_uuid": "94c2aef6d8f1318ff63d485822354899c5fc74f2",
    "collapsed": true
   },
   "outputs": [],
   "source": [
    "df11 = df_d.loc[:,['p_user','c_conf']].groupby(['c_conf','p_user']).size().unstack()\n",
    "df11.fillna(0,inplace=True)\n",
    "df11"
   ]
  },
  {
   "cell_type": "code",
   "execution_count": null,
   "metadata": {
    "_cell_guid": "ece2b810-206b-4071-957e-819fa3b27174",
    "_uuid": "d257eba24531a8e283551a4d7e91f37d123bcb09",
    "collapsed": true
   },
   "outputs": [],
   "source": [
    "df11.plot(style = 'o--', logy = True, figsize = (15,5),\n",
    "          title='Road user class & Collision configration' )\n",
    "plt.legend(['Diver','Passenger','Pedestrian',\n",
    "            'Bicyclist', 'Motorcyclist'])\n",
    "plt.xticks(range(0,18),x_label,rotation=30,ha='right')\n",
    "plt.grid();"
   ]
  },
  {
   "cell_type": "markdown",
   "metadata": {
    "_cell_guid": "8f2bcdea-210b-44e7-872a-ae455c50c0a0",
    "_uuid": "0b5ab92b8b7d5cedd016d907597360ef71fea8b4"
   },
   "source": [
    "#### Conclusion:\n",
    "It is no surprise that driver and passenger have an identical pattern, both of them are more likely to involve in a rear-end collision, and the second common type is a right-angle collision.  \n",
    "It is infrequent that a single vehicle rollover on a roadway, causing pedestrian or bicyclists to injure or die.  \n",
    "However, for pedestrian, they are more likely to involve in any other single vehicle collision type; for bicyclists, they are more likely to get hurt in a right-angle collision.  \n",
    "Among all types of accidents, Motorcyclists get a middling ranking.\n",
    "\n",
    "---\n",
    "### 10. Number of Vehicles Involved in Collision\n",
    "### 10.1) Number of Vehicles Involved in Collision & Time Relation"
   ]
  },
  {
   "cell_type": "code",
   "execution_count": null,
   "metadata": {
    "_cell_guid": "477362ad-3b73-421d-89a3-6c6b1b02acd1",
    "_uuid": "6b8f393c6db8a3e7bb801ea27deca819130e1411",
    "collapsed": true
   },
   "outputs": [],
   "source": [
    "#Prepare dataset 'df_c'\n",
    "df_c = dfp.loc[:,['date','c_year','c_mnth','c_wday',\n",
    "                  'c_hour','c_sev','c_vehs','c_conf','p_psn','p_safe']]\n",
    "df_c[['c_sev','c_vehs','c_conf','p_psn','p_safe']] =\\\n",
    "        df_c[['c_sev','c_vehs','c_conf','p_psn','p_safe']].replace('^([A-Za-z])+$', np.nan, regex=True)\n",
    "df_c = df_c.dropna()\n",
    "\n",
    "#This process is to eliminate the '0' preceding a single digit number. ex. 01 --> 1, converting str objects to int\n",
    "df_c[['c_vehs','c_conf','p_safe']] = df_c[['c_vehs','c_conf','p_safe']].fillna(-1).astype(int)\n",
    "df_c"
   ]
  },
  {
   "cell_type": "code",
   "execution_count": null,
   "metadata": {
    "_cell_guid": "e95543a2-0fbb-44b7-9cf2-ca99d95aba30",
    "_uuid": "1bdf0bd34408973e18b2f1dcdcc74cc8f8fd02f2",
    "collapsed": true
   },
   "outputs": [],
   "source": [
    "#Number of vehicles invovled in collision over time\n",
    "df1 = df_c.loc[:,['date','c_vehs']]"
   ]
  },
  {
   "cell_type": "code",
   "execution_count": null,
   "metadata": {
    "_cell_guid": "7f3031dc-a8ec-428f-ba31-c96c31300e28",
    "_uuid": "c279b0477b42ec0187105c8421b6d3173f11cf4d",
    "collapsed": true
   },
   "outputs": [],
   "source": [
    "#Total number of vehicles involved in collision \n",
    "df2 = df1.groupby('c_vehs').size().sort_index()\n",
    "df2.plot(style='x',logy=True, figsize=(10,6),\n",
    "         title='Total number of vehicles involved in Collision')\n",
    "plt.grid(axis='x');\n",
    "plt.xlabel('Number of vehicles involved in each collision')\n",
    "plt.ylabel('Number of collisions');"
   ]
  },
  {
   "cell_type": "code",
   "execution_count": null,
   "metadata": {
    "_cell_guid": "c74b4432-70e8-436c-b9a2-e050408bd85a",
    "_uuid": "f4b7e91d61e5d258242ca8835b41ebead511cbd4",
    "collapsed": true
   },
   "outputs": [],
   "source": [
    "#Visualize the result\n",
    "vehs = df1.groupby(['date','c_vehs']).size().unstack()\n",
    "vehs.plot(style = 'o', figsize=(18,9),\n",
    "                  title = 'Number of vehicles involved in Collision')\n",
    "plt.grid(axis='y')\n",
    "plt.xlabel('Date')\n",
    "plt.legend(ncol=3)\n",
    "plt.ylabel('Number of collisions'); "
   ]
  },
  {
   "cell_type": "markdown",
   "metadata": {
    "_cell_guid": "50c61722-208e-4437-9fe9-0d6072c9182b",
    "_uuid": "fbc8a865d7041b7cffc9118db7e4c36c9be45e60"
   },
   "source": [
    "#### Conclusion:\n",
    "From the graph above, we can see that over time the most frequent number of vehicles involved in collisions is 2 vehicles.  \n",
    "Since it was hard to view the results in detail, I decided to slice the data with the top 5 number of vehicles involved in collision:  \n",
    "c_vehs= 1-5, to view the pattern better. "
   ]
  },
  {
   "cell_type": "code",
   "execution_count": null,
   "metadata": {
    "_cell_guid": "90689040-beee-46e0-9a06-52d66329277f",
    "_uuid": "7b3e20ead1a9410a30a0bfb10102190361b7bf72",
    "collapsed": true
   },
   "outputs": [],
   "source": [
    "#Selected c_vehs 1-5 to view the top 5 most frequent number of vehicles involved in collisions \n",
    "a = vehs.iloc[:,0:5]\n",
    "a.plot(style='o--',figsize=(12,6),\n",
    "       title='Number of vehicles involved in collision over time')\n",
    "plt.xlabel('Date')\n",
    "plt.ylabel('Number of collisions');"
   ]
  },
  {
   "cell_type": "code",
   "execution_count": null,
   "metadata": {
    "_cell_guid": "9b710223-c0be-4428-b745-a3834ea104d6",
    "_uuid": "ab5c260f3786912c6840d1bd53cbc837b6e2c990",
    "collapsed": true
   },
   "outputs": [],
   "source": [
    "#Total number of vehicles involved in collision in regards to weekday\n",
    "df3 = df_c.loc[:,['c_wday','c_vehs']]\n",
    "weekday = ['Mon', 'Tue', 'Wed', 'Thu', 'Fri', 'Sat', 'Sun']\n",
    "w_day = df3.groupby('c_wday')['c_vehs'].size()\n",
    "\n",
    "#Visualize the result\n",
    "w_day.plot(kind='barh', color='c',figsize=(10,6),rot =0,\n",
    "           title='Total Number of vehicles involved in collision by Weekday')\n",
    "plt.yticks(range(0,8),weekday)\n",
    "plt.ylabel('Weekday');"
   ]
  },
  {
   "cell_type": "code",
   "execution_count": null,
   "metadata": {
    "_cell_guid": "377b6fd5-23bd-4d67-950b-99b98ac001d8",
    "_uuid": "eea83565ff665beec40be12c68693f0271c7da0e",
    "collapsed": true
   },
   "outputs": [],
   "source": [
    "#Relationship of number of vehicles involved in collision (1-57 vehicles) on a specific weekday \n",
    "w_day1 = df3.groupby(['c_wday','c_vehs']).size().unstack()\n",
    "\n",
    "w_day1.plot(style = 'o--', figsize=(16,7),\n",
    "            title = 'Number of vehicles involved in Collision')\n",
    "plt.legend(ncol=3,loc=7)\n",
    "plt.xticks(range(0,8),weekday)\n",
    "plt.xlabel('Week day')\n",
    "plt.ylabel('Number of collisions');"
   ]
  },
  {
   "cell_type": "code",
   "execution_count": null,
   "metadata": {
    "_cell_guid": "03d706e6-7ba1-4999-b618-ac75e9a5f0f8",
    "_uuid": "a2f53825d3ba4bc419d9db19994b9c1f8f9923d5",
    "collapsed": true
   },
   "outputs": [],
   "source": [
    "b = w_day1.iloc[:,0:5]\n",
    "b.plot(figsize=(7,4),style='o--')\n",
    "plt.xlabel('Weekday')\n",
    "plt.ylabel('Number of collisions')\n",
    "plt.xticks(range(0,8),weekday);"
   ]
  },
  {
   "cell_type": "markdown",
   "metadata": {
    "_cell_guid": "38c450f3-d1f9-4007-b410-e3b5e4d05f81",
    "_uuid": "c3c5576dd655c207237085291f55ca80a73bddaf"
   },
   "source": [
    "#### Conclusion:\n",
    "From the graph above, we can see that the most frequent number of vehicles involved in collisions over week day was 2 vehicles followed by 1 and 3 vehicles involved in collisions.  \n",
    "Over the week days, it seems that the number of collisions increase from Thursday and peak on Friday and start declining towards Sunday. "
   ]
  },
  {
   "cell_type": "code",
   "execution_count": null,
   "metadata": {
    "_cell_guid": "501c7ae2-68cb-4362-b7b8-6ac7c5251d7c",
    "_uuid": "6b646efee0cff0eb6ce1f8bf8a9a57ec649e6838",
    "collapsed": true
   },
   "outputs": [],
   "source": [
    "#Slice the data with just Number of vehicles involved in collision & hour\n",
    "df4 = df_c.loc[:,['c_hour','c_vehs']]\n",
    "df4"
   ]
  },
  {
   "cell_type": "code",
   "execution_count": null,
   "metadata": {
    "_cell_guid": "34f8712e-d02c-4535-bb50-8ddae2e665ff",
    "_uuid": "c01171bf57c5bc647fa63739a4345a532703b8d1",
    "collapsed": true
   },
   "outputs": [],
   "source": [
    "#Total Number of vehicles involved in collision by hour\n",
    "hour = df4.groupby('c_hour')['c_vehs'].size()\n",
    "hour.plot(kind='bar',color='G',rot=0,\n",
    "          title='Total Number of vehicles involved in collision by hour')\n",
    "plt.xlabel('Hour')\n",
    "plt.ylabel('Number of collisions');"
   ]
  },
  {
   "cell_type": "markdown",
   "metadata": {
    "_cell_guid": "219f1f0c-0a5f-4baf-98e7-a9f1c8ac4c08",
    "_uuid": "cc27627b7f592cacb3409035d9bdee25b8dd5e24"
   },
   "source": [
    "#### Conlusion:\n",
    "From the graph above, it seems that most collisions happen rush hour starting 15:00 till 17:59 and 8:00-8:59. "
   ]
  },
  {
   "cell_type": "code",
   "execution_count": null,
   "metadata": {
    "_cell_guid": "816bddd8-692d-4e4c-af84-f24786ea46f4",
    "_uuid": "b540f19ad8b2abf40959af6b649cd77b6f1a3d18",
    "collapsed": true
   },
   "outputs": [],
   "source": [
    "#Number of vehicles involved in collisions at different hours\n",
    "hour1 = df4.groupby(['c_hour','c_vehs']).size().unstack()\n",
    "hour1.plot(figsize=(16,8),style='o-',alpha=0.9)\n",
    "plt.xticks(range(0,24),range(0,24))\n",
    "plt.xlabel('Hour')\n",
    "plt.ylabel('Number of collisions')\n",
    "plt.legend(ncol=3);"
   ]
  },
  {
   "cell_type": "code",
   "execution_count": null,
   "metadata": {
    "_cell_guid": "f0e24bfd-0dd8-4743-905a-780cb4d45fa5",
    "_uuid": "a458c92e0e9e64e014e540ab55e3d10d7d691be5",
    "collapsed": true
   },
   "outputs": [],
   "source": [
    "#Slice the data into only visualizing c_vehs=1-5 \n",
    "c = hour1.iloc[:,0:5]\n",
    "c.plot(style='o--',figsize=(7,4))\n",
    "plt.xlabel('Hour')\n",
    "plt.ylabel('Number of collisions')\n",
    "plt.xticks(range(0,24),range(0,24));"
   ]
  },
  {
   "cell_type": "markdown",
   "metadata": {
    "_cell_guid": "b7f044a7-c68a-4ffb-a76d-efd5496fa99a",
    "_uuid": "e5aec6490de78aed1ed93d0248271e3bf385a68f"
   },
   "source": [
    "### 10.2) Number of Vehicles Involved in Collision & Collision Severity \n",
    "c_sev == 1 (fatal)  \n",
    "c_sev == 2 (non-fatal)"
   ]
  },
  {
   "cell_type": "code",
   "execution_count": null,
   "metadata": {
    "_cell_guid": "cb54a8f5-c2ae-4bf7-92e0-9a6f54893c4d",
    "_uuid": "6350ba4b4726ffa47c8037f6b3ea3c1b09df2ed4",
    "collapsed": true
   },
   "outputs": [],
   "source": [
    "#Relationship between number of vehicles involved in collision and Collision severity\n",
    "\n",
    "df5 = df_c.loc[:,['c_vehs','c_sev']]\n",
    "vehs_sev = df5.groupby(['c_vehs','c_sev']).size().unstack()\n",
    "vehs_sev.index = vehs_sev.index.astype(str)\n",
    "vehs_sev"
   ]
  },
  {
   "cell_type": "code",
   "execution_count": null,
   "metadata": {
    "_cell_guid": "4fb75fb5-f299-4641-82a0-0fa8385db3e2",
    "_uuid": "eef2b2bdc467d58a3b677ebf10bcca0c8cadbe8c",
    "collapsed": true
   },
   "outputs": [],
   "source": [
    "#Plot the new dataframe in logarithm, since the gap between numbers are huge.\n",
    "vehs_sev.plot(logy=True,style = 'o', figsize=(15,5),\n",
    "              title = 'Number of vehicles involved in Collision & Collision Severity')\n",
    "plt.grid(axis='y')\n",
    "plt.legend(['1.fatal','2.non-fatal'])\n",
    "plt.xlabel('Number of vehicles involved in Collision') \n",
    "plt.ylabel('Number of collisions');"
   ]
  },
  {
   "cell_type": "markdown",
   "metadata": {
    "_cell_guid": "bd9dcdb5-080e-470d-8095-2127384c3ed5",
    "_uuid": "1296d446b97336184ee1927518a8129c56b353f1"
   },
   "source": [
    "### 10.3) Number of Vehicles Involved in Collision & Collision Configuration"
   ]
  },
  {
   "cell_type": "code",
   "execution_count": null,
   "metadata": {
    "_cell_guid": "ca181f05-3070-4ab0-b2cc-e7935b7d4574",
    "_uuid": "a5e47434c47398c3b2c05a9c66308e678cbaf260",
    "collapsed": true
   },
   "outputs": [],
   "source": [
    "#Total Number of vehicles involved in collision & Collision configuration\n",
    "conf = ['1. Hit a moving object','2. Hit a stationary object',\n",
    "        '3.Ran off left shoulder','4.Ran off Right shoulder','5.Rollover on a Roadway',\n",
    "        '6.Other single vehicle collision', '21. Rear End collision', '22. Side Swipe',\n",
    "        '23. 1 vehicle passing to the left of the other/left turn conflict',\n",
    "        '24. 1 vehicle passing to the right of the other/or right turn conflict',\n",
    "        '25. Other 2 vehicle-same direction of travel','31.Head-on collision',\n",
    "        '32.Approaching side-swipe','33.Left turn across opposing traffic',\n",
    "        '34.Right turn,including turning conflicts','35.Right angle collision',\n",
    "        '36.Any other two-vehicle','41.Hit a parked motor vehicle']\n",
    "\n",
    "vehs_conf = df_c.groupby('c_conf')['c_vehs'].count().sort_index(ascending=True)\n",
    "\n",
    "vehs_conf.plot(figsize=(10,6), kind='barh', rot=0)\n",
    "plt.xlabel('Total Number of vehicles involved in collision')\n",
    "plt.ylabel('Collision Configuration')\n",
    "plt.yticks(np.arange(0,18),conf);"
   ]
  },
  {
   "cell_type": "code",
   "execution_count": null,
   "metadata": {
    "_cell_guid": "879013ea-ea17-4097-8857-4d48d107e396",
    "_uuid": "8167c11013be786e4807507515aa9d1eda967cec",
    "collapsed": true
   },
   "outputs": [],
   "source": [
    "#Number of vehicles involved in each collision configuration\n",
    "df6 = df_c.loc[:,['c_vehs','c_conf']].groupby(['c_conf','c_vehs']).size().unstack().fillna(0)\n",
    "df6.index = df6.index.astype(str)\n",
    "df6"
   ]
  },
  {
   "cell_type": "code",
   "execution_count": null,
   "metadata": {
    "_cell_guid": "9b02a76b-07ff-4880-9aba-62dc1624f638",
    "_uuid": "3c70e40fd93ca0bd0bd81c6c3ab57a939deb44d6",
    "collapsed": true
   },
   "outputs": [],
   "source": [
    "#Visualize the result\n",
    "df6.plot(style = 'o-',figsize =(15,9),title='Number of Vehicles & Collision Configuration')\n",
    "plt.xticks(np.arange(0,18),conf,rotation=30,ha='right')\n",
    "plt.grid()\n",
    "plt.xlabel('Collision configuration')\n",
    "plt.ylabel('Number of collision')\n",
    "plt.legend(ncol=3);"
   ]
  },
  {
   "cell_type": "code",
   "execution_count": null,
   "metadata": {
    "_cell_guid": "b8d608e7-2a8c-4698-9c7c-8e0b3d3510b7",
    "_uuid": "aac00221c5242eed77ecea70e5174ab889ead75c",
    "collapsed": true
   },
   "outputs": [],
   "source": [
    "#Select 1-4 number of vehicles involved in collision to\n",
    "# visualize its relationship with collision configuration\n",
    "d = df6.iloc[:,0:4]\n",
    "d.plot(style='o--')\n",
    "plt.xlabel('Collision configuration')\n",
    "plt.xticks(np.arange(0,18),conf,rotation=50,ha='right');"
   ]
  },
  {
   "cell_type": "markdown",
   "metadata": {
    "_cell_guid": "c8f35078-e0fc-4f92-9cc4-6c4a33a5b336",
    "_uuid": "685b3ca3259abbdf4f0b597f807553681c188e89"
   },
   "source": [
    "---\n",
    "### 11. Collision Configuration\n",
    "### 11.1) Collision Configuration & Date"
   ]
  },
  {
   "cell_type": "code",
   "execution_count": null,
   "metadata": {
    "_cell_guid": "1fff6f14-8c1f-4d12-bd1e-ebc1241f35b5",
    "_uuid": "f51d304416dfac83bab15447644ba65e6ed785dd",
    "collapsed": true
   },
   "outputs": [],
   "source": [
    "#Analyze the relationship between collision configuration over date\n",
    "df7 = df_c.loc[:,['date','c_conf']]\n",
    "configuration = df7.groupby(['date','c_conf']).size().unstack()\n",
    "configuration"
   ]
  },
  {
   "cell_type": "code",
   "execution_count": null,
   "metadata": {
    "_cell_guid": "de2adddf-aca5-42b4-9aac-328908e24ea5",
    "_uuid": "459c4f4b8cff28e9cfb422b99efbdc149c293459",
    "collapsed": true
   },
   "outputs": [],
   "source": [
    "configuration.plot(style='',figsize=(15,7))\n",
    "plt.legend(loc=1)\n",
    "plt.xlabel('Date')\n",
    "plt.ylabel('Number of collision');"
   ]
  },
  {
   "cell_type": "code",
   "execution_count": null,
   "metadata": {
    "_cell_guid": "136728be-dac2-472a-8664-94ea8cf9f14e",
    "_uuid": "19ddba9b181004f4a1fd218a54a3eaf53344af83",
    "collapsed": true
   },
   "outputs": [],
   "source": [
    "#Select top 5 frequest configuration collision and plot the data\n",
    "confi = ['1. Hit a moving object','6.Other single vehicle collision',\n",
    "         '21. Rear End collision','31.Head-on collision',\n",
    "         '33.Left turn across opposing traffic',\n",
    "         '35.Right angle collision','36.Any other two-vehicle']\n",
    "e = configuration[[1,6,21,31,33,35,36]]\n",
    "e.plot(figsize=(12,6),style='o--',alpha=0.7)\n",
    "plt.xlabel('Date')\n",
    "plt.ylabel('Number of Collision')\n",
    "plt.legend(confi);"
   ]
  },
  {
   "cell_type": "markdown",
   "metadata": {
    "_cell_guid": "a08b1e3c-abfe-4aaa-8d35-3dc8ed2ebb75",
    "_uuid": "1570af52962002bc7dac0a00eef5a922392282be"
   },
   "source": [
    "### 11.2) Collision Configuration & Collision Severity"
   ]
  },
  {
   "cell_type": "code",
   "execution_count": null,
   "metadata": {
    "_cell_guid": "b8a717d2-8d9e-4366-b891-792cb08a946a",
    "_uuid": "0d710e241373cb59edf9316bbaa87baf8a3aaef4",
    "collapsed": true
   },
   "outputs": [],
   "source": [
    "#Analyze the relationship between collision configuration and collision severity\n",
    "df8 = df_c.loc[:,['c_conf','c_sev']]\n",
    "conf_sev = df8.groupby(['c_conf','c_sev']).size().unstack()\n",
    "conf_sev.index = conf_sev.index.astype(str)\n",
    "conf_sev"
   ]
  },
  {
   "cell_type": "code",
   "execution_count": null,
   "metadata": {
    "_cell_guid": "66f0b34c-cf23-4d2f-90a3-9a64d5f5f65b",
    "_uuid": "ff3d1757165680c2bdab143af5964f1d6d5ff285",
    "collapsed": true
   },
   "outputs": [],
   "source": [
    "#Visualize the results\n",
    "fig,ax1 = plt.subplots()\n",
    "ax2 = ax1.twinx()\n",
    "\n",
    "conf_sev.plot(kind='bar',rot=30,log=True,style='o--',figsize=(12,6),ax=ax1)\n",
    "ax1.set_ylabel('Number of Collisions')\n",
    "ax1.set_xlabel('Collision configuration')\n",
    "ax1.set_xticklabels(conf,ha='right')\n",
    "ax1.grid(axis='y')\n",
    "ax1.legend(['1.Fatal','2.Non-fatal'])\n",
    "\n",
    "se1 = conf_sev[1]/(conf_sev[1]+conf_sev[2])*100\n",
    "se1.plot(c='b', style='o--', ax=ax2)\n",
    "ax2.set_ylabel('Fatal Percentage (%)')\n",
    "ax2.spines['right'].set_color('b')\n",
    "ax2.yaxis.label.set_color('b')\n",
    "ax2.tick_params(axis='y',colors='b')\n",
    "plt.xticks(np.arange(0,18),conf,rotation=50,ha='right')\n",
    "plt.xlim(-0.5,17.5);"
   ]
  },
  {
   "cell_type": "markdown",
   "metadata": {
    "_cell_guid": "c9110f2d-51bf-4a52-a9bd-92669fb9b697",
    "_uuid": "140ce5e8afe58f208f2f8c621965cbd7da7dd0d3"
   },
   "source": [
    "---\n",
    "### 12. Person Position\n",
    "### 12.1) Person Position & Severity"
   ]
  },
  {
   "cell_type": "code",
   "execution_count": null,
   "metadata": {
    "_cell_guid": "364190bd-5f58-4f80-8f3c-4ed61d372600",
    "_uuid": "bd7ac2040c91c0319c2b5526302891a2eeddee83",
    "collapsed": true
   },
   "outputs": [],
   "source": [
    "#Analyze the relationship between person position and collision severity\n",
    "position = ['11.Driver','12. Front row, center','13.Front row: right outboard',\n",
    "            '21.Second row:left outboard','22.Second row:center',\n",
    "            '23.Second row:right outboard','31.Third row:left outboard',\n",
    "            '32.Third row:center','33.Third row:right outboard',\n",
    "            '96.Unknown occupant','97.Sitting on someone’s lap',\n",
    "            '98.Outside passenger compartment','99.Pedestrian']\n",
    "df9 = df_c.loc[:,['p_psn','c_sev']]\n",
    "psn_sev = df9.groupby(['p_psn','c_sev']).size().unstack()\n",
    "psn_sev"
   ]
  },
  {
   "cell_type": "code",
   "execution_count": null,
   "metadata": {
    "_cell_guid": "7d227044-07d1-4ead-a96f-3b784ce76d16",
    "_uuid": "98084d18b8d99dcfab4a5a8d3b9d0c2fe33e2baa",
    "collapsed": true
   },
   "outputs": [],
   "source": [
    "#Visualize the result\n",
    "fig,ax1 = plt.subplots()\n",
    "ax2 = ax1.twinx()\n",
    "\n",
    "psn_sev.plot(kind='bar',rot=30,log=True,style='o--',figsize=(10,6),ax=ax1)\n",
    "ax1.set_ylabel('Number of Collisions')\n",
    "ax1.set_xlabel('Person Position')\n",
    "ax1.set_xticklabels(position,ha='right')\n",
    "ax1.grid(axis='y')\n",
    "ax1.legend(['1.Fatal','2.Non-fatal'])\n",
    "\n",
    "se1 = psn_sev[1]/(psn_sev[1]+psn_sev[2])*100\n",
    "se1.plot(c='b', style='o--', ax=ax2)\n",
    "ax2.set_ylabel('Fatal Percentage (%)')\n",
    "ax2.spines['right'].set_color('b')\n",
    "ax2.yaxis.label.set_color('b')\n",
    "ax2.tick_params(axis='y',colors='b')\n",
    "plt.xticks(np.arange(0,13),position,rotation=40,ha='right')\n",
    "plt.xlim(-0.5,12.5);"
   ]
  },
  {
   "cell_type": "markdown",
   "metadata": {
    "_cell_guid": "f179b75e-4761-4830-8339-d9ee7211e865",
    "_uuid": "22ae57019961ca3c0ace0c201ff8d9c73118e940"
   },
   "source": [
    "### 12.2) Person Position & Configuration "
   ]
  },
  {
   "cell_type": "code",
   "execution_count": null,
   "metadata": {
    "_cell_guid": "85cb45d5-6a7c-47cf-8671-1f1c1f4a8835",
    "_uuid": "649793e0f9005f04349db91b7b79f059c28dec8c",
    "collapsed": true
   },
   "outputs": [],
   "source": [
    "#Relationship between Person position and collision configuration\n",
    "df10 = df_c.loc[:,['p_psn','c_conf']]\n",
    "psn_conf = df10.groupby(['c_conf','p_psn']).size().unstack().fillna(0)\n",
    "psn_conf.index = psn_conf.index.astype(str)\n",
    "psn_conf"
   ]
  },
  {
   "cell_type": "code",
   "execution_count": null,
   "metadata": {
    "_cell_guid": "90bf7164-3062-4e7e-9422-ca582b65e480",
    "_uuid": "8699bd43913abd273c2b908949f0c4b42edfb162",
    "collapsed": true
   },
   "outputs": [],
   "source": [
    "#Visualize the result\n",
    "psn = ['11.Driver','13.Front row: right outboard','21.Second row: left outboard',\n",
    "       '23.Second row:right outboard','99.Pedestrian']\n",
    "f = psn_conf.iloc[:,[0,2,3,5,12]]\n",
    "f.plot(logy=True,style='o--',figsize=(12,6))\n",
    "plt.legend(psn)\n",
    "plt.xlabel('Collision configuration')\n",
    "plt.xticks(np.arange(0,18),conf,rotation=40,ha='right');"
   ]
  },
  {
   "cell_type": "markdown",
   "metadata": {
    "_cell_guid": "c7553975-aa09-416e-8a9f-67c4699127e1",
    "_uuid": "4bee090398c25731afc216b3eb3ea11f78556c98"
   },
   "source": [
    "### 13. Safety Device Used & Severity"
   ]
  },
  {
   "cell_type": "code",
   "execution_count": null,
   "metadata": {
    "_cell_guid": "13b4de4c-039b-478a-8302-8e61dee5d29d",
    "_uuid": "9a52c028ff1e0392b45f205a15919bc75dc01378",
    "collapsed": true
   },
   "outputs": [],
   "source": [
    "#Relationship between safety device used over time\n",
    "df11 = df_c.loc[:,['date','p_safe']]\n",
    "saf_date = df11.groupby(['date','p_safe']).size().unstack()\n",
    "saf_date"
   ]
  },
  {
   "cell_type": "code",
   "execution_count": null,
   "metadata": {
    "_cell_guid": "6b4e946a-8ec7-41e2-96de-5149f0b1f607",
    "_uuid": "f4b5410f17b15dfb40dad74ed7fe31bddc643891",
    "collapsed": true
   },
   "outputs": [],
   "source": [
    "#Visualize the result\n",
    "#13. No safety device equipped => eg. buses\n",
    "safety = ['1.No safety device used','2.Safety device used','9.Helmet',\n",
    "          '10.Reflective clothing','11. Helmet & reflective clothing',\n",
    "          '12.Other safey device','13.No safety device equipped']\n",
    "saf_date.plot(logy=True, style='o--',figsize=(10,6))\n",
    "plt.legend(safety, loc=4)\n",
    "plt.ylabel('Number of collision')\n",
    "plt.xlabel('Date');"
   ]
  },
  {
   "cell_type": "code",
   "execution_count": null,
   "metadata": {
    "_cell_guid": "1838d867-2784-4c9b-81a7-59f04eee0e6d",
    "_uuid": "27f8f5c394666fa8acd949d3b3c4b0ddcf1b709d",
    "collapsed": true
   },
   "outputs": [],
   "source": [
    "#Relationship between safety device used and collision severity\n",
    "df12 = df_c.loc[:,['p_safe','c_sev']]\n",
    "saf_sev = df12.groupby(['p_safe','c_sev']).size().unstack().fillna(0)\n",
    "saf_sev.index = saf_sev.index.astype(str)\n",
    "saf_sev"
   ]
  },
  {
   "cell_type": "code",
   "execution_count": null,
   "metadata": {
    "_cell_guid": "687bd4f5-1433-4d99-95a1-c280b9298689",
    "_uuid": "42437e8fb56ae244ae250db7f5d2093a6a152741",
    "collapsed": true
   },
   "outputs": [],
   "source": [
    "#Visualize the result\n",
    "fig,ax1 = plt.subplots()\n",
    "ax2 = ax1.twinx()\n",
    "\n",
    "saf_sev.plot(kind='bar',rot=30,log=True,style='o--',figsize=(10,6),ax=ax1)\n",
    "ax1.set_ylabel('Number of Collisions')\n",
    "ax1.set_xlabel('Saftey device used')\n",
    "ax1.set_xticklabels(safety,ha='right')\n",
    "ax1.grid(axis='y')\n",
    "ax1.legend(['1.Fatal','2.Non-fatal'])\n",
    "\n",
    "se1 = saf_sev[1]/(saf_sev[1]+saf_sev[2])*100\n",
    "se1.plot(c='b', style='o--', ax=ax2)\n",
    "ax2.set_ylabel('Fatal Percentage (%)')\n",
    "ax2.spines['right'].set_color('b')\n",
    "ax2.yaxis.label.set_color('b')\n",
    "ax2.tick_params(axis='y',colors='b')\n",
    "plt.xticks(range(0,7),safety)\n",
    "plt.xlim(-0.5,6.5);"
   ]
  },
  {
   "cell_type": "markdown",
   "metadata": {
    "_cell_guid": "399c12aa-e3f3-458f-a69a-bdbd1e18134b",
    "_uuid": "b7942c76ac6a44279ba465d22a301248485002c7"
   },
   "source": [
    "## The End"
   ]
  }
 ],
 "metadata": {
  "kernelspec": {
   "display_name": "Python 3 (ipykernel)",
   "language": "python",
   "name": "python3"
  },
  "language_info": {
   "codemirror_mode": {
    "name": "ipython",
    "version": 3
   },
   "file_extension": ".py",
   "mimetype": "text/x-python",
   "name": "python",
   "nbconvert_exporter": "python",
   "pygments_lexer": "ipython3",
   "version": "3.8.0"
  }
 },
 "nbformat": 4,
 "nbformat_minor": 1
}
