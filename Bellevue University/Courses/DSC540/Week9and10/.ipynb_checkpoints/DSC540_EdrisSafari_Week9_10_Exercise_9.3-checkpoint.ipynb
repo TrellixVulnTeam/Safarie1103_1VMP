{
 "cells": [
  {
   "cell_type": "code",
   "execution_count": 2,
   "metadata": {},
   "outputs": [],
   "source": [
    " twitter"
   ]
  },
  {
   "cell_type": "code",
   "execution_count": 3,
   "metadata": {
    "pycharm": {
     "name": "#%%\n"
    }
   },
   "outputs": [
    {
     "ename": "AttributeError",
     "evalue": "module 'twitter' has no attribute 'Api'",
     "output_type": "error",
     "traceback": [
      "\u001b[1;31m---------------------------------------------------------------------------\u001b[0m",
      "\u001b[1;31mAttributeError\u001b[0m                            Traceback (most recent call last)",
      "\u001b[1;32m<ipython-input-3-63585767d44d>\u001b[0m in \u001b[0;36m<module>\u001b[1;34m\u001b[0m\n\u001b[1;32m----> 1\u001b[1;33m api = twitter.Api(consumer_key = 'qIkdnrjuFNiRmyTYaR29jX5Yx', consumer_secret='qnvlOFvnmAwkSdCT5tdaAFRfxLQ9NHBJ5ArPqZeqn0Y39Ednme',\n\u001b[0m\u001b[0;32m      2\u001b[0m     \u001b[0maccess_token_key\u001b[0m\u001b[1;33m=\u001b[0m\u001b[1;34m'1258774419851350017-WnKXHaKVKyAxVPy9dHmQbrYmdg48TX'\u001b[0m\u001b[1;33m,\u001b[0m\u001b[1;33m\u001b[0m\u001b[1;33m\u001b[0m\u001b[0m\n\u001b[0;32m      3\u001b[0m     access_token_secret='O5mHbsttf2uSD8IG1F8lG9aaUvFOaSlpW2J9hWGNQpvmt')\n",
      "\u001b[1;31mAttributeError\u001b[0m: module 'twitter' has no attribute 'Api'"
     ]
    }
   ],
   "source": [
    "api = twitter.Api(consumer_key = 'qIkdnrjuFNiRmyTYaR29jX5Yx', consumer_secret='qnvlOFvnmAwkSdCT5tdaAFRfxLQ9NHBJ5ArPqZeqn0Y39Ednme',\n",
    "    access_token_key='1258774419851350017-WnKXHaKVKyAxVPy9dHmQbrYmdg48TX',\n",
    "    access_token_secret='O5mHbsttf2uSD8IG1F8lG9aaUvFOaSlpW2J9hWGNQpvmt')\n"
   ]
  },
  {
   "cell_type": "code",
   "execution_count": 4,
   "metadata": {},
   "outputs": [],
   "source": [
    "?twitter"
   ]
  }
 ],
 "metadata": {
  "kernelspec": {
   "display_name": "Python 3",
   "language": "python",
   "name": "python3"
  },
  "language_info": {
   "codemirror_mode": {
    "name": "ipython",
    "version": 3
   },
   "file_extension": ".py",
   "mimetype": "text/x-python",
   "name": "python",
   "nbconvert_exporter": "python",
   "pygments_lexer": "ipython3",
   "version": "3.7.4"
  }
 },
 "nbformat": 4,
 "nbformat_minor": 1
}
