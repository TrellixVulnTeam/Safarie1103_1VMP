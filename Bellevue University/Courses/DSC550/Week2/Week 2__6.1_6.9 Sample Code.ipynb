{
 "cells": [
  {
   "cell_type": "code",
   "execution_count": null,
   "metadata": {
    "collapsed": true
   },
   "outputs": [],
   "source": [
    "#CHAPTER 6 - HANDLING TEXT\n",
    "\n",
    "#6.1 - Cleaning Text\n",
    "\n",
    "#create text\n",
    "text_data = [\"     Interrobang. By Aishwarya Henriette          \",\n",
    "             \"Parking and Going.  By Karl Gautier\",\n",
    "             \"       Today Is The night.  By Jarek Prakash     \"]\n",
    "\n",
    "print(text_data)\n",
    "print(\"original data\")\n",
    "\n",
    "#strip whitespaces\n",
    "strip_whitespace = [string.strip() for string in text_data]\n",
    "\n",
    "print(strip_whitespace)\n",
    "print(\"white spaces is gone\")\n",
    "\n",
    "#remove periods\n",
    "remove_periods = [string.replace(\".\", \"\") for string in strip_whitespace]\n",
    "\n",
    "print(remove_periods)\n",
    "print(\"periods removed\")\n",
    "\n",
    "#6.9 Weighting Word Importance - be sure to read the discussion\n",
    "\n",
    "import numpy as np\n",
    "from sklearn.feature_extraction.text import TfidfVectorizer\n",
    "\n",
    "text_data = np.array(['I love Brazil.  Brazil!]',\n",
    "                      'Sweden is best.',\n",
    "                      'Germany beats both'])\n",
    "\n",
    "#create the tf.idf feture matrix\n",
    "tfidf=TfidfVectorizer()\n",
    "feature_matrix = tfidf.fit_transform(text_data)\n",
    "\n",
    "print(feature_matrix)\n",
    "print(\"feature matrix\")\n",
    "\n",
    "print(tfidf.vocabulary_)\n",
    "print (\"word matrix\")\n",
    "\n"
   ]
  }
 ],
 "metadata": {
  "kernelspec": {
   "display_name": "Python 3",
   "language": "python",
   "name": "python3"
  },
  "language_info": {
   "codemirror_mode": {
    "name": "ipython",
    "version": 2
   },
   "file_extension": ".py",
   "mimetype": "text/x-python",
   "name": "python",
   "nbconvert_exporter": "python",
   "pygments_lexer": "ipython2",
   "version": "2.7.6"
  },
  "pycharm": {
   "stem_cell": {
    "cell_type": "raw",
    "source": [],
    "metadata": {
     "collapsed": false
    }
   }
  }
 },
 "nbformat": 4,
 "nbformat_minor": 0
}