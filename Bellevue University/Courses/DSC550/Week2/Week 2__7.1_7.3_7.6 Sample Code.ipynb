{
 "cells": [
  {
   "cell_type": "code",
   "execution_count": null,
   "metadata": {
    "collapsed": true
   },
   "outputs": [],
   "source": [
    "#CHAPTER 7 - HANDLING DATES AND TIMES\n",
    "\n",
    "#7.1 - Converting Strings to Dates\n",
    "\n",
    "import numpy as np\n",
    "import pandas as pd\n",
    "\n",
    "date_strings = np.array(['03-04-2005 11:35 PM',\n",
    "                         '23-05-2010 12:01 AM',\n",
    "                         '04-09-2009 09:09 PM'])\n",
    "\n",
    "print([pd.to_datetime(date, format=\"%d-%m-%Y %I:%M %p\", errors=\"coerce\")for date in date_strings])\n",
    "\n",
    "print(\"dates\")\n",
    "\n",
    "#7.3 Selecting Dates and Times\n",
    "\n",
    "dataframe = pd.DataFrame()\n",
    "dataframe['date'] = pd.date_range('1/1/2001', periods =100000, freq='H')\n",
    "print(dataframe[(dataframe['date'] > '2002-1-1 01:00:00') & (dataframe['date'] <= '2002-1-1 04:00:00')])\n",
    "print(\"dates between range\")\n",
    "\n",
    "#7.6 Encoding Days of the Week\n",
    "\n",
    "dates = pd.Series(pd.date_range(\"2/2/2002\", periods =3, freq = \"M\"))\n",
    "\n",
    "print(dates.dt.weekday_name)\n",
    "print(\"Days of the Week & values\")\n",
    "\n"
   ]
  }
 ],
 "metadata": {
  "kernelspec": {
   "display_name": "Python 3",
   "language": "python",
   "name": "python3"
  },
  "language_info": {
   "codemirror_mode": {
    "name": "ipython",
    "version": 2
   },
   "file_extension": ".py",
   "mimetype": "text/x-python",
   "name": "python",
   "nbconvert_exporter": "python",
   "pygments_lexer": "ipython2",
   "version": "2.7.6"
  },
  "pycharm": {
   "stem_cell": {
    "cell_type": "raw",
    "source": [],
    "metadata": {
     "collapsed": false
    }
   }
  }
 },
 "nbformat": 4,
 "nbformat_minor": 0
}