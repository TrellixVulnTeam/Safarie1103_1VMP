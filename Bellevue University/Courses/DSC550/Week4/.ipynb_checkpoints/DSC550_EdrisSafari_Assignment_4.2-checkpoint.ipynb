{
 "cells": [
  {
   "cell_type": "markdown",
   "metadata": {},
   "source": [
    "#### In this assignment, we wrangle thee data from controvertial comments data set.\n",
    "#### We will perfomr initial cleanup of the data and create new columns to work with\n",
    "#### We will thenvectorize the comments using  CountVectorizer and TF-IDF models.\n",
    "#### we will then calculate the jaccard distance beween two samples of the data set to show similairy\n",
    "#### Using keywords deemed toward 'liberal', 'conservative', 'Positive1','Positive2', and 'negative', we will quantify them and show scatter plot and stats"
   ]
  },
  {
   "cell_type": "code",
   "execution_count": 83,
   "metadata": {},
   "outputs": [],
   "source": [
    "import pandas as pd\n",
    "from sklearn.feature_extraction.text import CountVectorizer\n",
    "import numpy as np\n",
    "import collections\n",
    "import matplotlib.pyplot as plt\n"
   ]
  },
  {
   "cell_type": "code",
   "execution_count": 60,
   "metadata": {},
   "outputs": [],
   "source": [
    "def jaccard(a, b):\n",
    "    c = a.intersection(b)\n",
    "    #print(\"this is intersection\", c)\n",
    "    \n",
    "    d=a.union(b)\n",
    "    #print(\"this is union\", d)\n",
    "    _a = collections.Counter(a)\n",
    "    _b = collections.Counter(b)\n",
    "    c = (_a - _b) + (_b - _a)\n",
    "    #print(\"c\", c)\n",
    "    n = sum(c.values())\n",
    "    #print(_a)\n",
    "    #print(_b)\n",
    "    #print(\"_a and _b\")\n",
    "    #print (\"n\", n)\n",
    "    return float(len(c)) / (len(a) + len(b) - len(c))"
   ]
  },
  {
   "cell_type": "code",
   "execution_count": 144,
   "metadata": {},
   "outputs": [],
   "source": [
    "file ='controversial-comments.jsonl'\n",
    "# possible orient value: split, records, index, columns, and values)\n",
    "# The following file is a subset of above file with the 1st 233537 lines.\n",
    "dataframe = pd.read_json(\"controversial-comments_small.jsonl\",orient=\"columns\",lines=True)"
   ]
  },
  {
   "cell_type": "code",
   "execution_count": 5,
   "metadata": {},
   "outputs": [
    {
     "data": {
      "text/plain": [
       "(233538, 2)"
      ]
     },
     "execution_count": 5,
     "metadata": {},
     "output_type": "execute_result"
    }
   ],
   "source": [
    "dataframe.shape"
   ]
  },
  {
   "cell_type": "code",
   "execution_count": 145,
   "metadata": {},
   "outputs": [],
   "source": [
    "# take a 1000 record sample of data with no duplicate records\n",
    "df1 = dataframe.sample(n=1000, replace=True, random_state=10)\n",
    "df2 = dataframe.sample(n=1000, replace=True, random_state=20)"
   ]
  },
  {
   "cell_type": "code",
   "execution_count": 146,
   "metadata": {},
   "outputs": [
    {
     "data": {
      "text/html": [
       "<div>\n",
       "<style scoped>\n",
       "    .dataframe tbody tr th:only-of-type {\n",
       "        vertical-align: middle;\n",
       "    }\n",
       "\n",
       "    .dataframe tbody tr th {\n",
       "        vertical-align: top;\n",
       "    }\n",
       "\n",
       "    .dataframe thead th {\n",
       "        text-align: right;\n",
       "    }\n",
       "</style>\n",
       "<table border=\"1\" class=\"dataframe\">\n",
       "  <thead>\n",
       "    <tr style=\"text-align: right;\">\n",
       "      <th></th>\n",
       "      <th>con</th>\n",
       "      <th>txt</th>\n",
       "    </tr>\n",
       "  </thead>\n",
       "  <tbody>\n",
       "    <tr>\n",
       "      <th>83209</th>\n",
       "      <td>0</td>\n",
       "      <td>I don't know. But you're right, she certainly ...</td>\n",
       "    </tr>\n",
       "    <tr>\n",
       "      <th>94735</th>\n",
       "      <td>0</td>\n",
       "      <td>Young-earth creationists, evolution deniers, a...</td>\n",
       "    </tr>\n",
       "    <tr>\n",
       "      <th>181568</th>\n",
       "      <td>0</td>\n",
       "      <td>Literally every thing you have said is incorre...</td>\n",
       "    </tr>\n",
       "    <tr>\n",
       "      <th>93553</th>\n",
       "      <td>0</td>\n",
       "      <td>There's a huge difference between violence don...</td>\n",
       "    </tr>\n",
       "    <tr>\n",
       "      <th>105595</th>\n",
       "      <td>0</td>\n",
       "      <td>It's not. \\n\\nReally though any Democrat with ...</td>\n",
       "    </tr>\n",
       "  </tbody>\n",
       "</table>\n",
       "</div>"
      ],
      "text/plain": [
       "        con                                                txt\n",
       "83209     0  I don't know. But you're right, she certainly ...\n",
       "94735     0  Young-earth creationists, evolution deniers, a...\n",
       "181568    0  Literally every thing you have said is incorre...\n",
       "93553     0  There's a huge difference between violence don...\n",
       "105595    0  It's not. \\n\\nReally though any Democrat with ..."
      ]
     },
     "execution_count": 146,
     "metadata": {},
     "output_type": "execute_result"
    }
   ],
   "source": [
    "df1.head()"
   ]
  },
  {
   "cell_type": "code",
   "execution_count": 147,
   "metadata": {},
   "outputs": [
    {
     "data": {
      "text/html": [
       "<div>\n",
       "<style scoped>\n",
       "    .dataframe tbody tr th:only-of-type {\n",
       "        vertical-align: middle;\n",
       "    }\n",
       "\n",
       "    .dataframe tbody tr th {\n",
       "        vertical-align: top;\n",
       "    }\n",
       "\n",
       "    .dataframe thead th {\n",
       "        text-align: right;\n",
       "    }\n",
       "</style>\n",
       "<table border=\"1\" class=\"dataframe\">\n",
       "  <thead>\n",
       "    <tr style=\"text-align: right;\">\n",
       "      <th></th>\n",
       "      <th>con</th>\n",
       "      <th>txt</th>\n",
       "    </tr>\n",
       "  </thead>\n",
       "  <tbody>\n",
       "    <tr>\n",
       "      <th>92634</th>\n",
       "      <td>0</td>\n",
       "      <td>Your post broke my heart. Please don't despair...</td>\n",
       "    </tr>\n",
       "    <tr>\n",
       "      <th>37135</th>\n",
       "      <td>0</td>\n",
       "      <td>That is simply not how evidence functions.</td>\n",
       "    </tr>\n",
       "    <tr>\n",
       "      <th>23775</th>\n",
       "      <td>0</td>\n",
       "      <td>I agree, I think both are true. We tend to deh...</td>\n",
       "    </tr>\n",
       "    <tr>\n",
       "      <th>220060</th>\n",
       "      <td>0</td>\n",
       "      <td>[removed]</td>\n",
       "    </tr>\n",
       "    <tr>\n",
       "      <th>31962</th>\n",
       "      <td>0</td>\n",
       "      <td>If you are implying that we are fucked no matt...</td>\n",
       "    </tr>\n",
       "  </tbody>\n",
       "</table>\n",
       "</div>"
      ],
      "text/plain": [
       "        con                                                txt\n",
       "92634     0  Your post broke my heart. Please don't despair...\n",
       "37135     0         That is simply not how evidence functions.\n",
       "23775     0  I agree, I think both are true. We tend to deh...\n",
       "220060    0                                          [removed]\n",
       "31962     0  If you are implying that we are fucked no matt..."
      ]
     },
     "execution_count": 147,
     "metadata": {},
     "output_type": "execute_result"
    }
   ],
   "source": [
    "df2.head()"
   ]
  },
  {
   "cell_type": "code",
   "execution_count": 197,
   "metadata": {
    "scrolled": true
   },
   "outputs": [],
   "source": [
    "# convert to lower case\n",
    "def ToLower(string: str) -> str:\n",
    "    return string.lower()"
   ]
  },
  {
   "cell_type": "code",
   "execution_count": 198,
   "metadata": {},
   "outputs": [
    {
     "data": {
      "text/html": [
       "<div>\n",
       "<style scoped>\n",
       "    .dataframe tbody tr th:only-of-type {\n",
       "        vertical-align: middle;\n",
       "    }\n",
       "\n",
       "    .dataframe tbody tr th {\n",
       "        vertical-align: top;\n",
       "    }\n",
       "\n",
       "    .dataframe thead th {\n",
       "        text-align: right;\n",
       "    }\n",
       "</style>\n",
       "<table border=\"1\" class=\"dataframe\">\n",
       "  <thead>\n",
       "    <tr style=\"text-align: right;\">\n",
       "      <th></th>\n",
       "      <th>con</th>\n",
       "      <th>txt</th>\n",
       "      <th>lower_txt</th>\n",
       "      <th>Tokenized</th>\n",
       "      <th>CleanText</th>\n",
       "    </tr>\n",
       "  </thead>\n",
       "  <tbody>\n",
       "    <tr>\n",
       "      <th>83209</th>\n",
       "      <td>0</td>\n",
       "      <td>I don't know. But you're right, she certainly ...</td>\n",
       "      <td>i don't know. but you're right, she certainly ...</td>\n",
       "      <td>[i don't know., but you're right, she certainl...</td>\n",
       "      <td>i don't know. but you're right, she certainly ...</td>\n",
       "    </tr>\n",
       "    <tr>\n",
       "      <th>94735</th>\n",
       "      <td>0</td>\n",
       "      <td>Young-earth creationists, evolution deniers, a...</td>\n",
       "      <td>young-earth creationists, evolution deniers, a...</td>\n",
       "      <td>[young-earth creationists, evolution deniers, ...</td>\n",
       "      <td>young-earth creationists, evolution deniers, a...</td>\n",
       "    </tr>\n",
       "    <tr>\n",
       "      <th>181568</th>\n",
       "      <td>0</td>\n",
       "      <td>Literally every thing you have said is incorre...</td>\n",
       "      <td>literally every thing you have said is incorre...</td>\n",
       "      <td>[literally every thing you have said is incorr...</td>\n",
       "      <td>literally every thing you have said is incorre...</td>\n",
       "    </tr>\n",
       "    <tr>\n",
       "      <th>93553</th>\n",
       "      <td>0</td>\n",
       "      <td>There's a huge difference between violence don...</td>\n",
       "      <td>there's a huge difference between violence don...</td>\n",
       "      <td>[there's a huge difference between violence do...</td>\n",
       "      <td>there's a huge difference between violence don...</td>\n",
       "    </tr>\n",
       "    <tr>\n",
       "      <th>105595</th>\n",
       "      <td>0</td>\n",
       "      <td>It's not. \\n\\nReally though any Democrat with ...</td>\n",
       "      <td>it's not. \\n\\nreally though any democrat with ...</td>\n",
       "      <td>[it's not., really though any democrat with an...</td>\n",
       "      <td>it's not. \\n\\nreally though any democrat with ...</td>\n",
       "    </tr>\n",
       "  </tbody>\n",
       "</table>\n",
       "</div>"
      ],
      "text/plain": [
       "        con                                                txt  \\\n",
       "83209     0  I don't know. But you're right, she certainly ...   \n",
       "94735     0  Young-earth creationists, evolution deniers, a...   \n",
       "181568    0  Literally every thing you have said is incorre...   \n",
       "93553     0  There's a huge difference between violence don...   \n",
       "105595    0  It's not. \\n\\nReally though any Democrat with ...   \n",
       "\n",
       "                                                lower_txt  \\\n",
       "83209   i don't know. but you're right, she certainly ...   \n",
       "94735   young-earth creationists, evolution deniers, a...   \n",
       "181568  literally every thing you have said is incorre...   \n",
       "93553   there's a huge difference between violence don...   \n",
       "105595  it's not. \\n\\nreally though any democrat with ...   \n",
       "\n",
       "                                                Tokenized  \\\n",
       "83209   [i don't know., but you're right, she certainl...   \n",
       "94735   [young-earth creationists, evolution deniers, ...   \n",
       "181568  [literally every thing you have said is incorr...   \n",
       "93553   [there's a huge difference between violence do...   \n",
       "105595  [it's not., really though any democrat with an...   \n",
       "\n",
       "                                                CleanText  \n",
       "83209   i don't know. but you're right, she certainly ...  \n",
       "94735   young-earth creationists, evolution deniers, a...  \n",
       "181568  literally every thing you have said is incorre...  \n",
       "93553   there's a huge difference between violence don...  \n",
       "105595  it's not. \\n\\nreally though any democrat with ...  "
      ]
     },
     "execution_count": 198,
     "metadata": {},
     "output_type": "execute_result"
    }
   ],
   "source": [
    "df1['lower_txt'] = [ToLower(string) for string in df1['txt']]\n",
    "df2['lower_txt'] = [ToLower(string) for string in df2['txt']]\n",
    "df1.head(5)"
   ]
  },
  {
   "cell_type": "code",
   "execution_count": 199,
   "metadata": {},
   "outputs": [
    {
     "data": {
      "text/html": [
       "<div>\n",
       "<style scoped>\n",
       "    .dataframe tbody tr th:only-of-type {\n",
       "        vertical-align: middle;\n",
       "    }\n",
       "\n",
       "    .dataframe tbody tr th {\n",
       "        vertical-align: top;\n",
       "    }\n",
       "\n",
       "    .dataframe thead th {\n",
       "        text-align: right;\n",
       "    }\n",
       "</style>\n",
       "<table border=\"1\" class=\"dataframe\">\n",
       "  <thead>\n",
       "    <tr style=\"text-align: right;\">\n",
       "      <th></th>\n",
       "      <th>con</th>\n",
       "      <th>txt</th>\n",
       "      <th>lower_txt</th>\n",
       "      <th>Tokenized</th>\n",
       "      <th>CleanText</th>\n",
       "    </tr>\n",
       "  </thead>\n",
       "  <tbody>\n",
       "    <tr>\n",
       "      <th>83209</th>\n",
       "      <td>0</td>\n",
       "      <td>I don't know. But you're right, she certainly ...</td>\n",
       "      <td>i don't know. but you're right, she certainly ...</td>\n",
       "      <td>[i don't know., but you're right, she certainl...</td>\n",
       "      <td>i don't know. but you're right, she certainly ...</td>\n",
       "    </tr>\n",
       "    <tr>\n",
       "      <th>94735</th>\n",
       "      <td>0</td>\n",
       "      <td>Young-earth creationists, evolution deniers, a...</td>\n",
       "      <td>young-earth creationists, evolution deniers, a...</td>\n",
       "      <td>[young-earth creationists, evolution deniers, ...</td>\n",
       "      <td>young-earth creationists, evolution deniers, a...</td>\n",
       "    </tr>\n",
       "    <tr>\n",
       "      <th>181568</th>\n",
       "      <td>0</td>\n",
       "      <td>Literally every thing you have said is incorre...</td>\n",
       "      <td>literally every thing you have said is incorre...</td>\n",
       "      <td>[literally every thing you have said is incorr...</td>\n",
       "      <td>literally every thing you have said is incorre...</td>\n",
       "    </tr>\n",
       "    <tr>\n",
       "      <th>93553</th>\n",
       "      <td>0</td>\n",
       "      <td>There's a huge difference between violence don...</td>\n",
       "      <td>there's a huge difference between violence don...</td>\n",
       "      <td>[there's a huge difference between violence do...</td>\n",
       "      <td>there's a huge difference between violence don...</td>\n",
       "    </tr>\n",
       "    <tr>\n",
       "      <th>105595</th>\n",
       "      <td>0</td>\n",
       "      <td>It's not. \\n\\nReally though any Democrat with ...</td>\n",
       "      <td>it's not. \\n\\nreally though any democrat with ...</td>\n",
       "      <td>[it's not., really though any democrat with an...</td>\n",
       "      <td>it's not. \\n\\nreally though any democrat with ...</td>\n",
       "    </tr>\n",
       "  </tbody>\n",
       "</table>\n",
       "</div>"
      ],
      "text/plain": [
       "        con                                                txt  \\\n",
       "83209     0  I don't know. But you're right, she certainly ...   \n",
       "94735     0  Young-earth creationists, evolution deniers, a...   \n",
       "181568    0  Literally every thing you have said is incorre...   \n",
       "93553     0  There's a huge difference between violence don...   \n",
       "105595    0  It's not. \\n\\nReally though any Democrat with ...   \n",
       "\n",
       "                                                lower_txt  \\\n",
       "83209   i don't know. but you're right, she certainly ...   \n",
       "94735   young-earth creationists, evolution deniers, a...   \n",
       "181568  literally every thing you have said is incorre...   \n",
       "93553   there's a huge difference between violence don...   \n",
       "105595  it's not. \\n\\nreally though any democrat with ...   \n",
       "\n",
       "                                                Tokenized  \\\n",
       "83209   [i don't know., but you're right, she certainl...   \n",
       "94735   [young-earth creationists, evolution deniers, ...   \n",
       "181568  [literally every thing you have said is incorr...   \n",
       "93553   [there's a huge difference between violence do...   \n",
       "105595  [it's not., really though any democrat with an...   \n",
       "\n",
       "                                                CleanText  \n",
       "83209   i don't know. but you're right, she certainly ...  \n",
       "94735   young-earth creationists, evolution deniers, a...  \n",
       "181568  literally every thing you have said is incorre...  \n",
       "93553   there's a huge difference between violence don...  \n",
       "105595  it's not. \\n\\nreally though any democrat with ...  "
      ]
     },
     "execution_count": 199,
     "metadata": {},
     "output_type": "execute_result"
    }
   ],
   "source": [
    "from nltk import sent_tokenize\n",
    "\n",
    "# Tokenize words\n",
    "df1['Tokenized'] = [sent_tokenize(string) for string in df1['lower_txt']]\n",
    "df2['Tokenized'] = [sent_tokenize(string) for string in df2['lower_txt']]\n",
    "df1.head(5)"
   ]
  },
  {
   "cell_type": "code",
   "execution_count": 200,
   "metadata": {},
   "outputs": [
    {
     "data": {
      "text/plain": [
       "83209     [i don't know., but you're right, she certainl...\n",
       "94735     [young-earth creationists, evolution deniers, ...\n",
       "181568    [literally every thing you have said is incorr...\n",
       "93553     [there's a huge difference between violence do...\n",
       "105595    [it's not., really though any democrat with an...\n",
       "                                ...                        \n",
       "81173     [up and downvoting is the way that the entiret...\n",
       "219185    [how hard is it to vote when you have weeks av...\n",
       "141377    [almost everything around you has something in...\n",
       "123782    [i'm used to that aspect of a lot of trumpers....\n",
       "53634     [on my facebook today i saw someone say that w...\n",
       "Name: Tokenized, Length: 1000, dtype: object"
      ]
     },
     "execution_count": 200,
     "metadata": {},
     "output_type": "execute_result"
    }
   ],
   "source": [
    "df1['Tokenized']"
   ]
  },
  {
   "cell_type": "code",
   "execution_count": 201,
   "metadata": {},
   "outputs": [],
   "source": [
    "import re\n",
    "#remove everything that has numbers in it\n",
    "def removeInvalidWords(text): \n",
    "    return re.sub(r\"\\d+\", '',text)"
   ]
  },
  {
   "cell_type": "code",
   "execution_count": 202,
   "metadata": {},
   "outputs": [
    {
     "data": {
      "text/html": [
       "<div>\n",
       "<style scoped>\n",
       "    .dataframe tbody tr th:only-of-type {\n",
       "        vertical-align: middle;\n",
       "    }\n",
       "\n",
       "    .dataframe tbody tr th {\n",
       "        vertical-align: top;\n",
       "    }\n",
       "\n",
       "    .dataframe thead th {\n",
       "        text-align: right;\n",
       "    }\n",
       "</style>\n",
       "<table border=\"1\" class=\"dataframe\">\n",
       "  <thead>\n",
       "    <tr style=\"text-align: right;\">\n",
       "      <th></th>\n",
       "      <th>con</th>\n",
       "      <th>txt</th>\n",
       "      <th>lower_txt</th>\n",
       "      <th>Tokenized</th>\n",
       "      <th>CleanText</th>\n",
       "    </tr>\n",
       "  </thead>\n",
       "  <tbody>\n",
       "    <tr>\n",
       "      <th>83209</th>\n",
       "      <td>0</td>\n",
       "      <td>I don't know. But you're right, she certainly ...</td>\n",
       "      <td>i don't know. but you're right, she certainly ...</td>\n",
       "      <td>[i don't know., but you're right, she certainl...</td>\n",
       "      <td>i don't know. but you're right, she certainly ...</td>\n",
       "    </tr>\n",
       "    <tr>\n",
       "      <th>94735</th>\n",
       "      <td>0</td>\n",
       "      <td>Young-earth creationists, evolution deniers, a...</td>\n",
       "      <td>young-earth creationists, evolution deniers, a...</td>\n",
       "      <td>[young-earth creationists, evolution deniers, ...</td>\n",
       "      <td>young-earth creationists, evolution deniers, a...</td>\n",
       "    </tr>\n",
       "    <tr>\n",
       "      <th>181568</th>\n",
       "      <td>0</td>\n",
       "      <td>Literally every thing you have said is incorre...</td>\n",
       "      <td>literally every thing you have said is incorre...</td>\n",
       "      <td>[literally every thing you have said is incorr...</td>\n",
       "      <td>literally every thing you have said is incorre...</td>\n",
       "    </tr>\n",
       "    <tr>\n",
       "      <th>93553</th>\n",
       "      <td>0</td>\n",
       "      <td>There's a huge difference between violence don...</td>\n",
       "      <td>there's a huge difference between violence don...</td>\n",
       "      <td>[there's a huge difference between violence do...</td>\n",
       "      <td>there's a huge difference between violence don...</td>\n",
       "    </tr>\n",
       "    <tr>\n",
       "      <th>105595</th>\n",
       "      <td>0</td>\n",
       "      <td>It's not. \\n\\nReally though any Democrat with ...</td>\n",
       "      <td>it's not. \\n\\nreally though any democrat with ...</td>\n",
       "      <td>[it's not., really though any democrat with an...</td>\n",
       "      <td>it's not. \\n\\nreally though any democrat with ...</td>\n",
       "    </tr>\n",
       "  </tbody>\n",
       "</table>\n",
       "</div>"
      ],
      "text/plain": [
       "        con                                                txt  \\\n",
       "83209     0  I don't know. But you're right, she certainly ...   \n",
       "94735     0  Young-earth creationists, evolution deniers, a...   \n",
       "181568    0  Literally every thing you have said is incorre...   \n",
       "93553     0  There's a huge difference between violence don...   \n",
       "105595    0  It's not. \\n\\nReally though any Democrat with ...   \n",
       "\n",
       "                                                lower_txt  \\\n",
       "83209   i don't know. but you're right, she certainly ...   \n",
       "94735   young-earth creationists, evolution deniers, a...   \n",
       "181568  literally every thing you have said is incorre...   \n",
       "93553   there's a huge difference between violence don...   \n",
       "105595  it's not. \\n\\nreally though any democrat with ...   \n",
       "\n",
       "                                                Tokenized  \\\n",
       "83209   [i don't know., but you're right, she certainl...   \n",
       "94735   [young-earth creationists, evolution deniers, ...   \n",
       "181568  [literally every thing you have said is incorr...   \n",
       "93553   [there's a huge difference between violence do...   \n",
       "105595  [it's not., really though any democrat with an...   \n",
       "\n",
       "                                                CleanText  \n",
       "83209   i don't know. but you're right, she certainly ...  \n",
       "94735   young-earth creationists, evolution deniers, a...  \n",
       "181568  literally every thing you have said is incorre...  \n",
       "93553   there's a huge difference between violence don...  \n",
       "105595  it's not. \\n\\nreally though any democrat with ...  "
      ]
     },
     "execution_count": 202,
     "metadata": {},
     "output_type": "execute_result"
    }
   ],
   "source": [
    "df1['CleanText'] = [removeInvalidWords(string) for string in df1['lower_txt']]\n",
    "df1.head(5)"
   ]
  },
  {
   "cell_type": "code",
   "execution_count": 203,
   "metadata": {},
   "outputs": [
    {
     "data": {
      "text/html": [
       "<div>\n",
       "<style scoped>\n",
       "    .dataframe tbody tr th:only-of-type {\n",
       "        vertical-align: middle;\n",
       "    }\n",
       "\n",
       "    .dataframe tbody tr th {\n",
       "        vertical-align: top;\n",
       "    }\n",
       "\n",
       "    .dataframe thead th {\n",
       "        text-align: right;\n",
       "    }\n",
       "</style>\n",
       "<table border=\"1\" class=\"dataframe\">\n",
       "  <thead>\n",
       "    <tr style=\"text-align: right;\">\n",
       "      <th></th>\n",
       "      <th>con</th>\n",
       "      <th>txt</th>\n",
       "      <th>CleanText</th>\n",
       "      <th>lower_txt</th>\n",
       "      <th>Tokenized</th>\n",
       "    </tr>\n",
       "  </thead>\n",
       "  <tbody>\n",
       "    <tr>\n",
       "      <th>92634</th>\n",
       "      <td>0</td>\n",
       "      <td>Your post broke my heart. Please don't despair...</td>\n",
       "      <td>your post broke my heart. please don't despair...</td>\n",
       "      <td>your post broke my heart. please don't despair...</td>\n",
       "      <td>[your post broke my heart., please don't despa...</td>\n",
       "    </tr>\n",
       "    <tr>\n",
       "      <th>37135</th>\n",
       "      <td>0</td>\n",
       "      <td>That is simply not how evidence functions.</td>\n",
       "      <td>that is simply not how evidence functions.</td>\n",
       "      <td>that is simply not how evidence functions.</td>\n",
       "      <td>[that is simply not how evidence functions.]</td>\n",
       "    </tr>\n",
       "    <tr>\n",
       "      <th>23775</th>\n",
       "      <td>0</td>\n",
       "      <td>I agree, I think both are true. We tend to deh...</td>\n",
       "      <td>i agree, i think both are true. we tend to deh...</td>\n",
       "      <td>i agree, i think both are true. we tend to deh...</td>\n",
       "      <td>[i agree, i think both are true., we tend to d...</td>\n",
       "    </tr>\n",
       "    <tr>\n",
       "      <th>220060</th>\n",
       "      <td>0</td>\n",
       "      <td>[removed]</td>\n",
       "      <td>[removed]</td>\n",
       "      <td>[removed]</td>\n",
       "      <td>[[removed]]</td>\n",
       "    </tr>\n",
       "    <tr>\n",
       "      <th>31962</th>\n",
       "      <td>0</td>\n",
       "      <td>If you are implying that we are fucked no matt...</td>\n",
       "      <td>if you are implying that we are fucked no matt...</td>\n",
       "      <td>if you are implying that we are fucked no matt...</td>\n",
       "      <td>[if you are implying that we are fucked no mat...</td>\n",
       "    </tr>\n",
       "  </tbody>\n",
       "</table>\n",
       "</div>"
      ],
      "text/plain": [
       "        con                                                txt  \\\n",
       "92634     0  Your post broke my heart. Please don't despair...   \n",
       "37135     0         That is simply not how evidence functions.   \n",
       "23775     0  I agree, I think both are true. We tend to deh...   \n",
       "220060    0                                          [removed]   \n",
       "31962     0  If you are implying that we are fucked no matt...   \n",
       "\n",
       "                                                CleanText  \\\n",
       "92634   your post broke my heart. please don't despair...   \n",
       "37135          that is simply not how evidence functions.   \n",
       "23775   i agree, i think both are true. we tend to deh...   \n",
       "220060                                          [removed]   \n",
       "31962   if you are implying that we are fucked no matt...   \n",
       "\n",
       "                                                lower_txt  \\\n",
       "92634   your post broke my heart. please don't despair...   \n",
       "37135          that is simply not how evidence functions.   \n",
       "23775   i agree, i think both are true. we tend to deh...   \n",
       "220060                                          [removed]   \n",
       "31962   if you are implying that we are fucked no matt...   \n",
       "\n",
       "                                                Tokenized  \n",
       "92634   [your post broke my heart., please don't despa...  \n",
       "37135        [that is simply not how evidence functions.]  \n",
       "23775   [i agree, i think both are true., we tend to d...  \n",
       "220060                                        [[removed]]  \n",
       "31962   [if you are implying that we are fucked no mat...  "
      ]
     },
     "execution_count": 203,
     "metadata": {},
     "output_type": "execute_result"
    }
   ],
   "source": [
    "df2['CleanText'] = [removeInvalidWords(string) for string in df2['lower_txt']]\n",
    "df2.head(5)"
   ]
  },
  {
   "cell_type": "markdown",
   "metadata": {},
   "source": [
    "#### Use CountVectorizer to create list of words and feature matrix"
   ]
  },
  {
   "cell_type": "code",
   "execution_count": 205,
   "metadata": {},
   "outputs": [
    {
     "name": "stdout",
     "output_type": "stream",
     "text": [
      "['_lfxpiobm', '_r', '_states_by_poverty_rate', 'abandoned', 'abased', 'abba', 'abcnews', 'abe', 'ability', 'able', 'abortion', 'abortions', 'about', 'above', 'abraham', 'abroad', 'absolute', 'absolutely', 'absurd', 'absurdity', 'absurdly', 'abuse', 'abused', 'abusing', 'abysmal', 'aca', 'accelerate', 'accept', 'acceptable', 'acceptance']\n"
     ]
    }
   ],
   "source": [
    "vectorizer = CountVectorizer()\n",
    "X1 = vectorizer.fit_transform(df1['CleanText'])\n",
    "list1 = vectorizer.get_feature_names()\n",
    "print(list1[:30])"
   ]
  },
  {
   "cell_type": "code",
   "execution_count": 181,
   "metadata": {},
   "outputs": [
    {
     "name": "stdout",
     "output_type": "stream",
     "text": [
      "[[0 0 0 ... 0 0 0]\n",
      " [0 0 0 ... 0 0 0]\n",
      " [0 0 1 ... 0 0 0]\n",
      " ...\n",
      " [0 0 0 ... 0 0 0]\n",
      " [0 0 0 ... 0 0 0]\n",
      " [0 0 0 ... 0 0 0]]\n"
     ]
    },
    {
     "data": {
      "text/plain": [
       "(1000, 5352)"
      ]
     },
     "execution_count": 181,
     "metadata": {},
     "output_type": "execute_result"
    }
   ],
   "source": [
    "print( X1.toarray())\n",
    "X2.shape"
   ]
  },
  {
   "cell_type": "code",
   "execution_count": 206,
   "metadata": {},
   "outputs": [
    {
     "name": "stdout",
     "output_type": "stream",
     "text": [
      "['_r', '_x', 'abcnews', 'ability', 'able', 'abolish', 'abomination', 'abort', 'abortion', 'abortions', 'about', 'above', 'abroad', 'absolute', 'absolutely', 'abstain', 'absurd', 'abuser', 'abysmal', 'aca', 'academics', 'accept', 'accepted', 'accepting', 'accident', 'accomodating', 'accomplished', 'accordance', 'according', 'account']\n"
     ]
    }
   ],
   "source": [
    "vectorizer = CountVectorizer()\n",
    "X2 = vectorizer.fit_transform(df2['CleanText'])\n",
    "list2 = vectorizer.get_feature_names()\n",
    "print(list2[:30])"
   ]
  },
  {
   "cell_type": "code",
   "execution_count": 180,
   "metadata": {},
   "outputs": [
    {
     "name": "stdout",
     "output_type": "stream",
     "text": [
      "[[0 0 0 ... 0 0 0]\n",
      " [0 0 0 ... 0 0 0]\n",
      " [0 0 0 ... 0 0 0]\n",
      " ...\n",
      " [0 0 0 ... 0 0 0]\n",
      " [0 0 0 ... 0 0 0]\n",
      " [0 0 0 ... 0 0 0]]\n"
     ]
    },
    {
     "data": {
      "text/plain": [
       "(1000, 5352)"
      ]
     },
     "execution_count": 180,
     "metadata": {},
     "output_type": "execute_result"
    }
   ],
   "source": [
    "print( X2.toarray())\n",
    "X2.shape"
   ]
  },
  {
   "cell_type": "markdown",
   "metadata": {},
   "source": [
    "#### jaccard distance show the two samples are 90%  similar"
   ]
  },
  {
   "cell_type": "code",
   "execution_count": 210,
   "metadata": {},
   "outputs": [
    {
     "name": "stdout",
     "output_type": "stream",
     "text": [
      "this is percent similarity 90.47790154509522\n"
     ]
    }
   ],
   "source": [
    "words1 = set(list1)\n",
    "words2 = set(list2)\n",
    "\n",
    "z = jaccard(words1, words2)\n",
    "print(\"this is percent similarity\", z*100)"
   ]
  },
  {
   "cell_type": "markdown",
   "metadata": {},
   "source": [
    "#### Use TfidVectorizer  to create list of words and feature matrix"
   ]
  },
  {
   "cell_type": "code",
   "execution_count": 211,
   "metadata": {},
   "outputs": [
    {
     "name": "stdout",
     "output_type": "stream",
     "text": [
      "['_lfxpiobm', '_r', '_states_by_poverty_rate', 'abandoned', 'abased', 'abba', 'abcnews', 'abe', 'ability', 'able', 'abortion', 'abortions', 'about', 'above', 'abraham', 'abroad', 'absolute', 'absolutely', 'absurd', 'absurdity', 'absurdly', 'abuse', 'abused', 'abusing', 'abysmal', 'aca', 'accelerate', 'accept', 'acceptable', 'acceptance']\n",
      "(1000, 5250)\n"
     ]
    }
   ],
   "source": [
    "#TfidVectorizer Example\n",
    "#Provide a list of all words in the corpus\n",
    "\n",
    "from sklearn.feature_extraction.text import TfidfVectorizer\n",
    "corpus = df1['CleanText']\n",
    "vectorizer = TfidfVectorizer()\n",
    "X1 = vectorizer.fit_transform(corpus)\n",
    "list1 = vectorizer.get_feature_names()[:30]\n",
    "print(list1)\n",
    "\n",
    "print(X1.shape)\n"
   ]
  },
  {
   "cell_type": "code",
   "execution_count": 212,
   "metadata": {},
   "outputs": [
    {
     "name": "stdout",
     "output_type": "stream",
     "text": [
      "['_r', '_x', 'abcnews', 'ability', 'able', 'abolish', 'abomination', 'abort', 'abortion', 'abortions', 'about', 'above', 'abroad', 'absolute', 'absolutely', 'abstain', 'absurd', 'abuser', 'abysmal', 'aca', 'academics', 'accept', 'accepted', 'accepting', 'accident', 'accomodating', 'accomplished', 'accordance', 'according', 'account']\n",
      "(1000, 5352)\n"
     ]
    }
   ],
   "source": [
    "#TfidVectorizer Example\n",
    "#Provide a list of all words in the corpus\n",
    "\n",
    "from sklearn.feature_extraction.text import TfidfVectorizer\n",
    "corpus = df2['CleanText']\n",
    "vectorizer = TfidfVectorizer()\n",
    "X2 = vectorizer.fit_transform(corpus)\n",
    "list2 = vectorizer.get_feature_names()[:30]\n",
    "print(list2)\n",
    "\n",
    "print(X2.shape)"
   ]
  },
  {
   "cell_type": "code",
   "execution_count": 214,
   "metadata": {},
   "outputs": [
    {
     "name": "stdout",
     "output_type": "stream",
     "text": [
      "this is percent similarity 100.0\n"
     ]
    }
   ],
   "source": [
    "words1 = set(list1)\n",
    "words2 = set(list2)\n",
    "\n",
    "z = jaccard(words1, words2)\n",
    "print(\"this is percent similarity\", z*100)"
   ]
  },
  {
   "cell_type": "markdown",
   "metadata": {},
   "source": [
    "#### TfidVectorizer Vectorization yield 100% similarity"
   ]
  },
  {
   "cell_type": "markdown",
   "metadata": {},
   "source": [
    "## sentiment analyis"
   ]
  },
  {
   "cell_type": "code",
   "execution_count": 215,
   "metadata": {},
   "outputs": [],
   "source": [
    "# Take a 10,000 sample\n",
    "df = dataframe.sample(n=10000, replace=True, random_state=2)"
   ]
  },
  {
   "cell_type": "code",
   "execution_count": 216,
   "metadata": {},
   "outputs": [],
   "source": [
    "df['lower_txt'] = [ToLower(string) for string in df['txt']]\n",
    "df['CleanText'] = [removeInvalidWords(string) for string in df['lower_txt']]"
   ]
  },
  {
   "cell_type": "code",
   "execution_count": 217,
   "metadata": {},
   "outputs": [],
   "source": [
    "df['Liberal'] = df.CleanText.str.count('hillary') +  df.CleanText.str.count('clinton') +  df.CleanText.str.count('liberal') +  df.CleanText.str.count('wellware')\n",
    "df['Conservative']= df.CleanText.str.count('wall') +  df.CleanText.str.count('trump') +  df.CleanText.str.count('activits') + df.CleanText.str.count('taxes') "
   ]
  },
  {
   "cell_type": "code",
   "execution_count": 218,
   "metadata": {},
   "outputs": [
    {
     "data": {
      "text/html": [
       "<div>\n",
       "<style scoped>\n",
       "    .dataframe tbody tr th:only-of-type {\n",
       "        vertical-align: middle;\n",
       "    }\n",
       "\n",
       "    .dataframe tbody tr th {\n",
       "        vertical-align: top;\n",
       "    }\n",
       "\n",
       "    .dataframe thead th {\n",
       "        text-align: right;\n",
       "    }\n",
       "</style>\n",
       "<table border=\"1\" class=\"dataframe\">\n",
       "  <thead>\n",
       "    <tr style=\"text-align: right;\">\n",
       "      <th></th>\n",
       "      <th>Liberal</th>\n",
       "      <th>Conservative</th>\n",
       "    </tr>\n",
       "  </thead>\n",
       "  <tbody>\n",
       "    <tr>\n",
       "      <th>89256</th>\n",
       "      <td>0</td>\n",
       "      <td>0</td>\n",
       "    </tr>\n",
       "    <tr>\n",
       "      <th>100879</th>\n",
       "      <td>0</td>\n",
       "      <td>0</td>\n",
       "    </tr>\n",
       "    <tr>\n",
       "      <th>203245</th>\n",
       "      <td>0</td>\n",
       "      <td>0</td>\n",
       "    </tr>\n",
       "    <tr>\n",
       "      <th>95816</th>\n",
       "      <td>0</td>\n",
       "      <td>0</td>\n",
       "    </tr>\n",
       "    <tr>\n",
       "      <th>175638</th>\n",
       "      <td>0</td>\n",
       "      <td>0</td>\n",
       "    </tr>\n",
       "  </tbody>\n",
       "</table>\n",
       "</div>"
      ],
      "text/plain": [
       "        Liberal  Conservative\n",
       "89256         0             0\n",
       "100879        0             0\n",
       "203245        0             0\n",
       "95816         0             0\n",
       "175638        0             0"
      ]
     },
     "execution_count": 218,
     "metadata": {},
     "output_type": "execute_result"
    }
   ],
   "source": [
    "df[['Liberal','Conservative']].head()"
   ]
  },
  {
   "cell_type": "code",
   "execution_count": 219,
   "metadata": {},
   "outputs": [],
   "source": [
    "NumberofLiberalComments = df['Liberal'][df.Liberal != 0].size\n",
    "NumberofConservativeComments = df['Conservative'][df.Conservative != 0].size"
   ]
  },
  {
   "cell_type": "code",
   "execution_count": 220,
   "metadata": {},
   "outputs": [
    {
     "name": "stdout",
     "output_type": "stream",
     "text": [
      "1006\n",
      "1766\n"
     ]
    }
   ],
   "source": [
    "print(NumberofLiberalComments)\n",
    "print(NumberofConservativeComments)"
   ]
  },
  {
   "cell_type": "code",
   "execution_count": 222,
   "metadata": {
    "scrolled": true
   },
   "outputs": [
    {
     "data": {
      "image/png": "[encoded data removed]",
      "text/plain": [
       "<Figure size 432x288 with 1 Axes>"
      ]
     },
     "metadata": {
      "needs_background": "light"
     },
     "output_type": "display_data"
    }
   ],
   "source": [
    "plt.scatter(range(0,df['Liberal'].size),df['Liberal'],c='blue')\n",
    "plt.scatter(range(0,df['Conservative'].size),df['Conservative'],c='red')\n",
    "plt.title('Scatter Plot')\n",
    "plt.xlabel('comment numbers')\n",
    "plt.ylabel('liberal/Conservative')\n",
    "plt.show()"
   ]
  },
  {
   "cell_type": "markdown",
   "metadata": {},
   "source": [
    "#### positive/negatve sentiment"
   ]
  },
  {
   "cell_type": "code",
   "execution_count": 223,
   "metadata": {},
   "outputs": [],
   "source": [
    "df['positive1'] = df.CleanText.str.count('good')\n",
    "df['positive2']= df.CleanText.str.count('special')\n",
    "df['negative'] = df.CleanText.str.count('bad')\n",
    "df['TotScore'] = df.positive1 + df.positive2 - df.negative"
   ]
  },
  {
   "cell_type": "code",
   "execution_count": 224,
   "metadata": {},
   "outputs": [
    {
     "data": {
      "image/png": "[encoded data removed]",
      "text/plain": [
       "<Figure size 432x288 with 1 Axes>"
      ]
     },
     "metadata": {
      "needs_background": "light"
     },
     "output_type": "display_data"
    }
   ],
   "source": [
    "plt.scatter(range(0,df['positive1'].size),df['positive1'],c='blue')\n",
    "plt.scatter(range(0,df['positive2'].size),df['positive2'],c='green')\n",
    "plt.scatter(range(0,df['negative'].size),df['positive2'],c='red')\n",
    "plt.title('Scatter Plot')\n",
    "plt.xlabel('comment numbers')\n",
    "plt.ylabel('Positive/Negative')\n",
    "plt.show()"
   ]
  },
  {
   "cell_type": "code",
   "execution_count": null,
   "metadata": {},
   "outputs": [],
   "source": []
  }
 ],
 "metadata": {
  "kernelspec": {
   "display_name": "Python 3",
   "language": "python",
   "name": "python3"
  },
  "language_info": {
   "codemirror_mode": {
    "name": "ipython",
    "version": 3
   },
   "file_extension": ".py",
   "mimetype": "text/x-python",
   "name": "python",
   "nbconvert_exporter": "python",
   "pygments_lexer": "ipython3",
   "version": "3.7.4"
  },
  "pycharm": {
   "stem_cell": {
    "cell_type": "raw",
    "metadata": {
     "collapsed": false
    },
    "source": []
   }
  }
 },
 "nbformat": 4,
 "nbformat_minor": 1
}
