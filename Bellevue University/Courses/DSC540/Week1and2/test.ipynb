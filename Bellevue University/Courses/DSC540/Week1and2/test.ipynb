{
 "cells": [
  {
   "cell_type": "code",
   "execution_count": 1,
   "metadata": {},
   "outputs": [
    {
     "name": "stdout",
     "output_type": "stream",
     "text": [
      "[]\n",
      "['a', 'e', 'i', 'o', 'u']\n",
      "['a', 'e', 'i', 'o', 'u']\n",
      "['a', 'e', 'i', 'o', 'u']\n"
     ]
    }
   ],
   "source": [
    "# empty list\n",
    "print(list())\n",
    "\n",
    "# vowel string\n",
    "vowel_string = 'aeiou'\n",
    "print(list(vowel_string))\n",
    "\n",
    "# vowel tuple\n",
    "vowel_tuple = ('a', 'e', 'i', 'o', 'u')\n",
    "print(list(vowel_tuple))\n",
    "\n",
    "# vowel list\n",
    "vowel_list = ['a', 'e', 'i', 'o', 'u']\n",
    "print(list(vowel_list))\n"
   ]
  }
 ],
 "metadata": {
  "kernelspec": {
   "display_name": "Python 3",
   "language": "python",
   "name": "python3"
  },
  "language_info": {
   "codemirror_mode": {
    "name": "ipython",
    "version": 3
   },
   "file_extension": ".py",
   "mimetype": "text/x-python",
   "name": "python",
   "nbconvert_exporter": "python",
   "pygments_lexer": "ipython3",
   "version": "3.7.4"
  },
  "pycharm": {
   "stem_cell": {
    "cell_type": "raw",
    "metadata": {
     "collapsed": false
    },
    "source": []
   }
  }
 },
 "nbformat": 4,
 "nbformat_minor": 1
}
