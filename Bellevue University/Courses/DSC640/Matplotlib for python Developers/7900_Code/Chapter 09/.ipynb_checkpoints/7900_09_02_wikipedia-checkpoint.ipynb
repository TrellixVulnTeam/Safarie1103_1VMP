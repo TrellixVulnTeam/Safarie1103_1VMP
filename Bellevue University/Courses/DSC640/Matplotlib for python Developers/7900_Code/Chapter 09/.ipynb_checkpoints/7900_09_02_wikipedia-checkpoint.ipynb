{
 "cells": [
  {
   "cell_type": "code",
   "execution_count": null,
   "metadata": {},
   "outputs": [],
   "source": []
  }
 ],
 "metadata": {
  "kernelspec": {
   "display_name": "Python 3 (ipykernel)",
   "language": "python",
   "name": "python3"
  },
  "language_info": {
   "codemirror_mode": {
    "name": "ipython",
    "version": 3
   },
   "file_extension": ".py",
   "mimetype": "text/x-python",
   "name": "python",
   "nbconvert_exporter": "python",
   "pygments_lexer": "ipython3",
   "version": "3.8.0"
  },
  "pycharm": {
   "stem_cell": {
    "cell_type": "raw",
    "metadata": {
     "collapsed": false
    },
    "source": [
     "#!/usr/bin/python\n",
     "\n",
     "# to get the web pages\n",
     "import urllib2\n",
     "\n",
     "# lxml submodule for html parsing\n",
     "from lxml.html import parse\n",
     "\n",
     "# regular expression module\n",
     "import re\n",
     "\n",
     "# Matplotlib module\n",
     "import matplotlib.pyplot as plt\n",
     "\n",
     "# general urllib2 config\n",
     "user_agent = 'Mozilla/5.0 (compatible; MSIE 5.5; Windows NT)'\n",
     "headers = { 'User-Agent' : user_agent }\n",
     "url = \"http://it.wikipedia.org/wiki/Demografia_d'Italia\"\n",
     "\n",
     "# prepare the request and open the url\n",
     "req = urllib2.Request(url, headers=headers)\n",
     "response = urllib2.urlopen(req)\n",
     "\n",
     "# we parse the webpage, getroot() return the document root\n",
     "doc = parse(response).getroot()\n",
     "\n",
     "# find the data table, using css elements\n",
     "table = doc.cssselect('table.wikitable')[0]\n",
     "\n",
     "# prepare data structures, will contain actual data\n",
     "years = []\n",
     "people = []\n",
     "\n",
     "# iterate over the rows of the table, except first and last ones\n",
     "for row in table.cssselect('tr')[1:-1]:\n",
     "    # get the row cell (we will use only the first two)\n",
     "    data = row.cssselect('td')\n",
     "\n",
     "    # the first cell is the year\n",
     "    tmp_years = data[0].text_content()\n",
     "    # cleanup for cases like 'YYYY[N]' (date + footnote link)\n",
     "    tmp_years = re.sub('\\[.\\]', '', tmp_years)\n",
     "\n",
     "    # the second cell is the population count\n",
     "    tmp_people = data[1].text_content()\n",
     "    # cleanup from '.', used as separator\n",
     "    tmp_people = tmp_people.replace('.', '')\n",
     "\n",
     "    # append current data to data lists, converting to integers\n",
     "    years.append(int(tmp_years))\n",
     "    people.append(int(tmp_people))\n",
     "\n",
     "# plot data\n",
     "plt.plot(years,people)\n",
     "# ticks every 10 years\n",
     "plt.xticks(range(min(years), max(years), 10))\n",
     "plt.grid()\n",
     "# add a note for 2001 Census\n",
     "plt.annotate(\"2001 Census\", xy=(2001, people[years.index(2001)]),\n",
     "             xytext=(1986, 54.5*10**6),\n",
     "             arrowprops=dict(arrowstyle='fancy'))\n",
     "\n",
     "plt.savefig('7900_09_02.png')\n",
     "plt.show()\n",
     "\n"
    ]
   }
  }
 },
 "nbformat": 4,
 "nbformat_minor": 1
}
