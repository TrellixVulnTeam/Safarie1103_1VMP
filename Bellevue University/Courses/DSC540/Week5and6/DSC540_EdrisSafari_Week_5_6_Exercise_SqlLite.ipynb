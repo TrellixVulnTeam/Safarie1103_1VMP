{
 "cells": [
  {
   "cell_type": "markdown",
   "metadata": {},
   "source": [
    "a. Insert data into a SQL Lite database – create a table with the following data (Hint: Python for Data Analysis page 191):\n",
    "\n",
    "b. Name, Address, City, State, Zip, Phone Number\n",
    "\n",
    "c. Add at least 10 rows of data and submit your code with a query generating your results."
   ]
  },
  {
   "cell_type": "code",
   "execution_count": 42,
   "metadata": {},
   "outputs": [],
   "source": [
    "import sqlite3\n",
    "from sqlite3 import Error\n",
    "import pandas as pd"
   ]
  },
  {
   "cell_type": "code",
   "execution_count": 51,
   "metadata": {},
   "outputs": [
    {
     "data": {
      "text/html": [
       "<div>\n",
       "<style scoped>\n",
       "    .dataframe tbody tr th:only-of-type {\n",
       "        vertical-align: middle;\n",
       "    }\n",
       "\n",
       "    .dataframe tbody tr th {\n",
       "        vertical-align: top;\n",
       "    }\n",
       "\n",
       "    .dataframe thead th {\n",
       "        text-align: right;\n",
       "    }\n",
       "</style>\n",
       "<table border=\"1\" class=\"dataframe\">\n",
       "  <thead>\n",
       "    <tr style=\"text-align: right;\">\n",
       "      <th></th>\n",
       "      <th>Name</th>\n",
       "      <th>Address</th>\n",
       "      <th>City</th>\n",
       "      <th>State</th>\n",
       "      <th>Zip</th>\n",
       "      <th>PhoneNumber</th>\n",
       "    </tr>\n",
       "  </thead>\n",
       "  <tbody>\n",
       "    <tr>\n",
       "      <th>0</th>\n",
       "      <td>Name1</td>\n",
       "      <td>Address1</td>\n",
       "      <td>City1</td>\n",
       "      <td>state1</td>\n",
       "      <td>zip1</td>\n",
       "      <td>phone1</td>\n",
       "    </tr>\n",
       "    <tr>\n",
       "      <th>1</th>\n",
       "      <td>Name2</td>\n",
       "      <td>Address2</td>\n",
       "      <td>City2</td>\n",
       "      <td>state2</td>\n",
       "      <td>zip2</td>\n",
       "      <td>phone2</td>\n",
       "    </tr>\n",
       "    <tr>\n",
       "      <th>2</th>\n",
       "      <td>Name3</td>\n",
       "      <td>Address3</td>\n",
       "      <td>City3</td>\n",
       "      <td>state3</td>\n",
       "      <td>zip3</td>\n",
       "      <td>phone3</td>\n",
       "    </tr>\n",
       "    <tr>\n",
       "      <th>3</th>\n",
       "      <td>Name4</td>\n",
       "      <td>Address4</td>\n",
       "      <td>City4</td>\n",
       "      <td>state4</td>\n",
       "      <td>zip4</td>\n",
       "      <td>phone4</td>\n",
       "    </tr>\n",
       "    <tr>\n",
       "      <th>4</th>\n",
       "      <td>Name5</td>\n",
       "      <td>Address5</td>\n",
       "      <td>City5</td>\n",
       "      <td>state5</td>\n",
       "      <td>zip5</td>\n",
       "      <td>phone5</td>\n",
       "    </tr>\n",
       "    <tr>\n",
       "      <th>5</th>\n",
       "      <td>Name6</td>\n",
       "      <td>Address6</td>\n",
       "      <td>City6</td>\n",
       "      <td>state6</td>\n",
       "      <td>zip6</td>\n",
       "      <td>phone6</td>\n",
       "    </tr>\n",
       "    <tr>\n",
       "      <th>6</th>\n",
       "      <td>Name7</td>\n",
       "      <td>Address7</td>\n",
       "      <td>City7</td>\n",
       "      <td>state7</td>\n",
       "      <td>zip7</td>\n",
       "      <td>phone7</td>\n",
       "    </tr>\n",
       "    <tr>\n",
       "      <th>7</th>\n",
       "      <td>Name8</td>\n",
       "      <td>Address8</td>\n",
       "      <td>City8</td>\n",
       "      <td>state8</td>\n",
       "      <td>zip8</td>\n",
       "      <td>phone8</td>\n",
       "    </tr>\n",
       "    <tr>\n",
       "      <th>8</th>\n",
       "      <td>Name9</td>\n",
       "      <td>Address9</td>\n",
       "      <td>City9</td>\n",
       "      <td>state9</td>\n",
       "      <td>zip9</td>\n",
       "      <td>phone9</td>\n",
       "    </tr>\n",
       "    <tr>\n",
       "      <th>9</th>\n",
       "      <td>Name10</td>\n",
       "      <td>Address10</td>\n",
       "      <td>City10</td>\n",
       "      <td>state10</td>\n",
       "      <td>zip10</td>\n",
       "      <td>phone10</td>\n",
       "    </tr>\n",
       "  </tbody>\n",
       "</table>\n",
       "</div>"
      ],
      "text/plain": [
       "     Name    Address    City    State    Zip PhoneNumber\n",
       "0   Name1   Address1   City1   state1   zip1      phone1\n",
       "1   Name2   Address2   City2   state2   zip2      phone2\n",
       "2   Name3   Address3   City3   state3   zip3      phone3\n",
       "3   Name4   Address4   City4   state4   zip4      phone4\n",
       "4   Name5   Address5   City5   state5   zip5      phone5\n",
       "5   Name6   Address6   City6   state6   zip6      phone6\n",
       "6   Name7   Address7   City7   state7   zip7      phone7\n",
       "7   Name8   Address8   City8   state8   zip8      phone8\n",
       "8   Name9   Address9   City9   state9   zip9      phone9\n",
       "9  Name10  Address10  City10  state10  zip10     phone10"
      ]
     },
     "execution_count": 51,
     "metadata": {},
     "output_type": "execute_result"
    }
   ],
   "source": [
    "# Data is read from the csv file\n",
    "AddressBookFile = \"AddressBook.csv\"\n",
    "AddressBookData = pd.read_csv(AddressBookFile)\n",
    "AddressBookData\n"
   ]
  },
  {
   "cell_type": "code",
   "execution_count": 52,
   "metadata": {},
   "outputs": [],
   "source": [
    "# Create table\n",
    "import sqlite3\n",
    "add_table = \"\"\"\n",
    "CREATE TABLE AddressBook\n",
    "(Name VARCHAR(20), Address VARCHAR(20),\n",
    "City VARCHAR(20),State VARCHAR(20),\n",
    "zip VARCHAR(20),PhoneNumber VARCHAR(20)\n",
    ");\"\"\"\n",
    "drop_table = \"\"\"\n",
    "DROP TABLE AddressBook \n",
    "\"\"\"\n",
    "sqlite_file = 'DSC540_EdrisSafari.sqlite'\n",
    "con = sqlite3.connect(sqlite_file)\n",
    "\n",
    "con.execute(drop_table)\n",
    "con.commit()\n",
    "\n",
    "con.execute(add_table)\n",
    "con.commit()"
   ]
  },
  {
   "cell_type": "code",
   "execution_count": 53,
   "metadata": {},
   "outputs": [],
   "source": [
    "data = AddressBookData.values.tolist()\n",
    "insert_data = \"INSERT INTO AddressBook VALUES(?, ?, ?, ?, ?, ?)\"\n",
    "con.executemany(insert_data, data)\n",
    "con.commit()"
   ]
  },
  {
   "cell_type": "code",
   "execution_count": 54,
   "metadata": {},
   "outputs": [
    {
     "data": {
      "text/plain": [
       "[('Name1', 'Address1', 'City1', 'state1', 'zip1', 'phone1'),\n",
       " ('Name2', 'Address2', 'City2', 'state2', 'zip2', 'phone2'),\n",
       " ('Name3', 'Address3', 'City3', 'state3', 'zip3', 'phone3'),\n",
       " ('Name4', 'Address4', 'City4', 'state4', 'zip4', 'phone4'),\n",
       " ('Name5', 'Address5', 'City5', 'state5', 'zip5', 'phone5'),\n",
       " ('Name6', 'Address6', 'City6', 'state6', 'zip6', 'phone6'),\n",
       " ('Name7', 'Address7', 'City7', 'state7', 'zip7', 'phone7'),\n",
       " ('Name8', 'Address8', 'City8', 'state8', 'zip8', 'phone8'),\n",
       " ('Name9', 'Address9', 'City9', 'state9', 'zip9', 'phone9'),\n",
       " ('Name10', 'Address10', 'City10', 'state10', 'zip10', 'phone10')]"
      ]
     },
     "execution_count": 54,
     "metadata": {},
     "output_type": "execute_result"
    }
   ],
   "source": [
    "cursor = con.execute('select * from AddressBook')\n",
    "rows = cursor.fetchall()\n",
    "rows"
   ]
  }
 ],
 "metadata": {
  "kernelspec": {
   "display_name": "Python 3",
   "language": "python",
   "name": "python3"
  },
  "language_info": {
   "codemirror_mode": {
    "name": "ipython",
    "version": 3
   },
   "file_extension": ".py",
   "mimetype": "text/x-python",
   "name": "python",
   "nbconvert_exporter": "python",
   "pygments_lexer": "ipython3",
   "version": "3.7.4"
  }
 },
 "nbformat": 4,
 "nbformat_minor": 1
}