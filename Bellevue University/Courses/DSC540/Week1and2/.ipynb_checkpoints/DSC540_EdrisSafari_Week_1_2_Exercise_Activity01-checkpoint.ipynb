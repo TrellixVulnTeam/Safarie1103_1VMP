{
 "cells": [
  {
   "cell_type": "markdown",
   "metadata": {
    "pycharm": {
     "name": "#%% md\n"
    }
   },
   "source": [
    "Activity 1"
   ]
  },
  {
   "cell_type": "code",
   "execution_count": 1,
   "metadata": {},
   "outputs": [],
   "source": [
    "#1 - Create a list of 100 random numbers. \n",
    "import random\n",
    "\n",
    "LIMIT = 100\n",
    "RandomNumberlist = [random.randint(0, LIMIT) for x in range(0, LIMIT)]\n"
   ]
  },
  {
   "cell_type": "code",
   "execution_count": 2,
   "metadata": {},
   "outputs": [],
   "source": [
    "#2 - Create a new list from this random list, with numbers that are divisible by 3. "
   ]
  },
  {
   "cell_type": "code",
   "execution_count": 3,
   "metadata": {},
   "outputs": [
    {
     "data": {
      "text/plain": [
       "[39, 60, 60, 15, 69, 24, 39, 33, 0, 30]"
      ]
     },
     "execution_count": 3,
     "metadata": {},
     "output_type": "execute_result"
    }
   ],
   "source": [
    "DivisibleBy3List = [item for item in RandomNumberlist if item % 3 == 0]\n",
    "DivisibleBy3List[:10]"
   ]
  },
  {
   "cell_type": "code",
   "execution_count": 4,
   "metadata": {},
   "outputs": [
    {
     "data": {
      "text/plain": [
       "[0, 0, 0, 0, 0, 0, 0, 0, 0, 0]"
      ]
     },
     "execution_count": 4,
     "metadata": {},
     "output_type": "execute_result"
    }
   ],
   "source": [
    "proof =  [number % 3 for number in DivisibleBy3List]\n",
    "proof[:10]"
   ]
  },
  {
   "cell_type": "code",
   "execution_count": 5,
   "metadata": {},
   "outputs": [
    {
     "name": "stdout",
     "output_type": "stream",
     "text": [
      "Difference in length: 58\n"
     ]
    }
   ],
   "source": [
    "#3 Calculate the length of these two lists and store the difference in a new variable. \n",
    "RandomNumberlistLength = len(RandomNumberlist)\n",
    "DivisibleBy3ListLength = len(DivisibleBy3List)\n",
    "print('Difference in length:' , str(RandomNumberlistLength - DivisibleBy3ListLength))"
   ]
  },
  {
   "cell_type": "code",
   "execution_count": 6,
   "metadata": {},
   "outputs": [],
   "source": [
    "#4 - Using a loop, perform steps 2 and 3 and find the difference variable three times. \n"
   ]
  },
  {
   "cell_type": "code",
   "execution_count": 7,
   "metadata": {},
   "outputs": [
    {
     "name": "stdout",
     "output_type": "stream",
     "text": [
      "Difference in length: [67, 60, 67]\n"
     ]
    }
   ],
   "source": [
    "REPEAT = 3\n",
    "diff_array = []\n",
    "for i in range(0,REPEAT):\n",
    "    RandomeNumberlist = [random.randint(0, LIMIT) for x in range(0, LIMIT)]\n",
    "    DivisibleBy3List = [item for item in RandomeNumberlist if item % 3 == 0]\n",
    "    diff = len(RandomeNumberlist) - len(DivisibleBy3List)\n",
    "    diff_array.append(diff)\n",
    "    \n",
    "print('Difference in length:' , diff_array)\n"
   ]
  },
  {
   "cell_type": "code",
   "execution_count": 8,
   "metadata": {},
   "outputs": [],
   "source": [
    "#5 - Find the arithmetic mean of these three difference values."
   ]
  },
  {
   "cell_type": "code",
   "execution_count": 8,
   "metadata": {
    "pycharm": {
     "name": "#%%\n"
    }
   },
   "outputs": [
    {
     "data": {
      "text/plain": [
       "63.333333333333336"
      ]
     },
     "execution_count": 8,
     "metadata": {},
     "output_type": "execute_result"
    }
   ],
   "source": [
    "meanDiff = sum(diff_array)/len(diff_array)\n",
    "meanDiff\n"
   ]
  }
 ],
 "metadata": {
  "kernelspec": {
   "display_name": "Python 3",
   "language": "python",
   "name": "python3"
  },
  "language_info": {
   "codemirror_mode": {
    "name": "ipython",
    "version": 3
   },
   "file_extension": ".py",
   "mimetype": "text/x-python",
   "name": "python",
   "nbconvert_exporter": "python",
   "pygments_lexer": "ipython3",
   "version": "3.7.4"
  },
  "pycharm": {
   "stem_cell": {
    "cell_type": "raw",
    "metadata": {
     "collapsed": false
    },
    "source": []
   }
  }
 },
 "nbformat": 4,
 "nbformat_minor": 1
}
