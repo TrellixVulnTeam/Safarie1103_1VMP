{
 "cells": [
  {
   "cell_type": "markdown",
   "metadata": {},
   "source": [
    "# What are Regular Expressions\n",
    "\n",
    "## Abstract\n",
    "\n",
    "Any data wrangling that involves text in which data is embedded could benefit from the capabilities that regular expressions provide. This paper introduces regular expressions and provides some examples of how we can write python code to perform regular expressions on given text.\n",
    "\n",
    "*Keywords*:  \n",
    "\n",
    "Regular Expressions\n",
    "\n",
    "\n",
    "## Regular Expressions\n",
    "\n",
    "The simplest explanation for Regular expressions is that it is used to manipulate alphanumeric data. For example if we ever used the \"split(\"<*character to split by*>\") function in pretty much any programming language, we've used regular expression. examples below show we use regular expression function of the string object itself:\n"
   ]
  },
  {
   "cell_type": "code",
   "execution_count": 34,
   "metadata": {},
   "outputs": [
    {
     "name": "stdout",
     "output_type": "stream",
     "text": [
      "['The', 'simplest', 'explanation', 'for', 'Regular', 'expressions', 'is', 'that', 'it', 'is', 'used', 'to', 'manipulate', 'alphanumeric', 'data']\n"
     ]
    }
   ],
   "source": [
    "\n",
    "sentence = 'The simplest explanation for Regular expressions is that it is used to manipulate alphanumeric data'\n",
    "\n",
    "print(sentence.split())\n"
   ]
  },
  {
   "cell_type": "markdown",
   "metadata": {},
   "source": [
    "Note that the sentence was split by the blank space between each word, and the result was returned as a list of words. In the above example, the split function can either be given a character to split by, or use its default separators. For example:"
   ]
  },
  {
   "cell_type": "code",
   "execution_count": 32,
   "metadata": {},
   "outputs": [
    {
     "name": "stdout",
     "output_type": "stream",
     "text": [
      "['Sentence', '1', 'Sentence2.', 'Sentence', '3', 'sentence4']\n"
     ]
    }
   ],
   "source": [
    "sentences = 'Sentence 1\\nSentence2. Sentence 3\\t sentence4'\n",
    "\n",
    "print(sentences.split())"
   ]
  },
  {
   "cell_type": "markdown",
   "metadata": {},
   "source": [
    "Note that the split function split by the \" \",  \"\\n\", \".\", and \"\\t\" characters. Let's see if it works with '&'.\n"
   ]
  },
  {
   "cell_type": "code",
   "execution_count": 31,
   "metadata": {},
   "outputs": [
    {
     "name": "stdout",
     "output_type": "stream",
     "text": [
      "['Sentence1&Sentence2&Sentence3&sentence4']\n"
     ]
    }
   ],
   "source": [
    "sentences = 'Sentence1&Sentence2&Sentence3&sentence4'\n",
    "\n",
    "print(sentences.split())"
   ]
  },
  {
   "cell_type": "markdown",
   "metadata": {},
   "source": [
    "Nope.The character '&' is not in the list of characters the split function was built to split by. Let's try by providng the split chacater explicitly:"
   ]
  },
  {
   "cell_type": "code",
   "execution_count": 30,
   "metadata": {},
   "outputs": [
    {
     "name": "stdout",
     "output_type": "stream",
     "text": [
      "['Sentence1', 'Sentence2', 'Sentence3', 'sentence4']\n"
     ]
    }
   ],
   "source": [
    "sentences = 'Sentence1&Sentence2&Sentence3&sentence4'\n",
    "\n",
    "print(sentences.split('&'))"
   ]
  },
  {
   "cell_type": "markdown",
   "metadata": {},
   "source": [
    "Another way to use regular expression is to use the **'re'** library in python(RegEx in C#, etc.). In python, there **'re'** library provides the following functions:\n",
    "\n",
    "\n",
    "#### findall| \n",
    "    Returns all non-overlapping matching patters in a string as a list.\n",
    "\n",
    "#### finditer\n",
    "    same as findall but returns an iterator rather than a list.\n",
    "\n",
    "#### match\n",
    "    match a pattern at the start of a string\n",
    "    \n",
    "#### search\n",
    "    scan a string for the match in the pattern.\n",
    "    \n",
    "#### split\n",
    "    breaks up a string to peices that are separated by given pattern\n",
    "    \n",
    "#### sub, subn\n",
    "    replace all with **sub** and first n occurances with **subn** of the given patters. \n",
    "\n",
    "\n",
    "Regular expression functions are a quick and easy way to parse data, and in more complex data wrangling exercises, the regular expression pattens can be devised to extract more \"hard to extract\" data. With regular expression patterns, we can define exaclty how to match patterns by creating them. For example the patterns below can be used to identify their respective patterns in agiven text.\n",
    "\n",
    "non-alpha_pattern = \"[^a-zA-Z0-9 -]\"\n",
    "\n",
    "white_space_pattern = \"\\s+\"\n",
    "\n",
    "and we can use these patterns in any of the functions above. For example, let's try replacing non-alphanumeric characters with blanks:"
   ]
  },
  {
   "cell_type": "code",
   "execution_count": 55,
   "metadata": {},
   "outputs": [
    {
     "name": "stdout",
     "output_type": "stream",
     "text": [
      "This sentence has too many non alphanumeric characters\n"
     ]
    }
   ],
   "source": [
    "import re\n",
    "\n",
    "non_alpha_pattern = '[^0-9a-zA-Z]+'\n",
    "sentence = 'This%sentence* has &&too many!non-alphanumeric characters'\n",
    "new_sentence = re.sub(non_alpha_pattern,' ',sentence)\n",
    "print(new_sentence)"
   ]
  },
  {
   "cell_type": "markdown",
   "metadata": {},
   "source": [
    "Let's remove extra blanks."
   ]
  },
  {
   "cell_type": "code",
   "execution_count": 56,
   "metadata": {},
   "outputs": [
    {
     "name": "stdout",
     "output_type": "stream",
     "text": [
      "This sentence has too many spaces between words\n"
     ]
    }
   ],
   "source": [
    "import re\n",
    "\n",
    "white_space_pattern = \"\\s+\"\n",
    "sentence = \"This    sentence   has too many           spaces between     words\"\n",
    "new_sentence = re.sub(white_space_pattern,\" \",sentence)\n",
    "print(new_sentence)"
   ]
  },
  {
   "cell_type": "markdown",
   "metadata": {},
   "source": [
    "The patterns in a regular expression follow a syntax. For example '\\s+' means 1 or more **s**paces. '\\d' matches any decimal digits and '\\D' is any non-decimal digit. Notice that '\\D+' would mean 1 or more non-decimal digit chacater. With these directives, we can write a plathora of patterns  that can do anything we want. "
   ]
  },
  {
   "cell_type": "markdown",
   "metadata": {},
   "source": [
    "## Conclusion\n",
    "\n",
    "This paper touched on the surface of regular expression capabilities. Its application in parsing data from text data is widespread among various deciplines and is a welcome tool to use in data wrangling phase of a data science project."
   ]
  },
  {
   "cell_type": "markdown",
   "metadata": {},
   "source": [
    "## References\n",
    "\n",
    "[Regular Expression HOWTO](https://docs.python.org/3.3/howto/regex.html)\n",
    "\n",
    "[Python RegEx](https://www.w3schools.com/python/python_regex.asp)\n",
    "\n",
    "[Regular Expressions (Regex) Tutorial: How to Match Any Pattern of Text -]( https://www.youtube.com/watch?v=sa-TUpSx1JA)\n",
    "\n",
    "McKinney, Wes. Python for Data Analysis . O'Reilly Media. Kindle Edition.\n"
   ]
  }
 ],
 "metadata": {
  "kernelspec": {
   "display_name": "Python 3",
   "language": "python",
   "name": "python3"
  },
  "language_info": {
   "codemirror_mode": {
    "name": "ipython",
    "version": 3
   },
   "file_extension": ".py",
   "mimetype": "text/x-python",
   "name": "python",
   "nbconvert_exporter": "python",
   "pygments_lexer": "ipython3",
   "version": "3.7.4"
  }
 },
 "nbformat": 4,
 "nbformat_minor": 1
}
