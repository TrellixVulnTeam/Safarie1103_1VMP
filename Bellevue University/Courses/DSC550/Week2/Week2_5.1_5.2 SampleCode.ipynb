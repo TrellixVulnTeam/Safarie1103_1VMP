{
 "cells": [
  {
   "cell_type": "code",
   "execution_count": null,
   "metadata": {
    "collapsed": true
   },
   "outputs": [],
   "source": [
    "#5.1 - Encoding Nominal Categorical Features\n",
    "\n",
    "#create feature\n",
    "feature = np.array([[\"Texas\"],\n",
    "                    [\"California\"],\n",
    "                    [\"Texas\"],\n",
    "                    [\"Delaware\"],\n",
    "                    [\"Texas\"]])\n",
    "print(feature)\n",
    "print(\"feature created\")\n",
    "\n",
    "#create one-hot encoder\n",
    "one_hot = LabelBinarizer()\n",
    "print(one_hot.fit_transform(feature))\n",
    "print(\"States are encoded\")\n",
    "\n",
    "#view feature classes\n",
    "one_hot.classes_\n",
    "print(np.array(['California', 'Delaware', 'Texas', 'Delaware', 'Texas'], dtype='<U10'))\n",
    "print(\"feature classes printed\")\n",
    "\n",
    "#create dummy variables from feature\n",
    "print(pd.get_dummies(feature[:,0]))\n",
    "print(\"dummy variables\")\n",
    "\n",
    "#multiclass features\n",
    "multiclass_feature =[(\"Texas\", \"Florida\"),\n",
    "                    (\"California\", \"Alabama\"),\n",
    "                    (\"Texas\", \"Florida\"),\n",
    "                    (\"Delaware\", \"Florida\"),\n",
    "                    (\"Texas\", \"Alabama\")]\n",
    "print (multiclass_feature)\n",
    "print(\"multiclass_feature\")\n",
    "\n",
    "one_hot_multiclass = MultiLabelBinarizer()\n",
    "print(one_hot_multiclass.fit_transform(multiclass_feature))\n",
    "print(one_hot_multiclass)\n",
    "print(\"one_hot_multiclass\")\n",
    "print(one_hot_multiclass.classes_)\n",
    "print(\"multiclass classes\")\n",
    "\n",
    "#5.2 Encoding Ordinal Categorical Features\n",
    "\n",
    "#create features\n",
    "dataframe = pd.DataFrame({\"Score\":[\"Low\", \"Low\", \"Medium\", \"Medium\", \"High\"]})\n",
    "print(dataframe)\n",
    "print(\"features\")\n",
    "\n",
    "#create mapper\n",
    "scale_mapper = {\"Low\":1,\n",
    "                \"Medium\":2,\n",
    "                \"High\":3}\n",
    "\n",
    "#replace feature values with scale\n",
    "print(dataframe[\"Score\"].replace(scale_mapper))\n",
    "print(\"scaled\")\n",
    "\n",
    "\n",
    "\n",
    "\n",
    "                    \n",
    "\n",
    "\n"
   ]
  }
 ],
 "metadata": {
  "kernelspec": {
   "display_name": "Python 3",
   "language": "python",
   "name": "python3"
  },
  "language_info": {
   "codemirror_mode": {
    "name": "ipython",
    "version": 2
   },
   "file_extension": ".py",
   "mimetype": "text/x-python",
   "name": "python",
   "nbconvert_exporter": "python",
   "pygments_lexer": "ipython2",
   "version": "2.7.6"
  },
  "pycharm": {
   "stem_cell": {
    "cell_type": "raw",
    "source": [],
    "metadata": {
     "collapsed": false
    }
   }
  }
 },
 "nbformat": 4,
 "nbformat_minor": 0
}