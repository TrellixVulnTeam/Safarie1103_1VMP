{
 "cells": [
  {
   "cell_type": "markdown",
   "metadata": {
    "collapsed": true,
    "pycharm": {
     "name": "#%% md\n"
    }
   },
   "source": [
    "# Chapter 10. Chatbots\n",
    "\n",
    "Bengfort, Benjamin; Bilbro, Rebecca; Ojeda, Tony. Applied Text Analysis with Python: Enabling Language-Aware Data Products with Machine Learning (p. 207). O'Reilly Media. Kindle Edition."
   ]
  },
  {
   "cell_type": "code",
   "execution_count": 1,
   "metadata": {
    "pycharm": {
     "name": "#%%\n"
    }
   },
   "outputs": [],
   "source": [
    "import abc"
   ]
  },
  {
   "cell_type": "code",
   "execution_count": null,
   "metadata": {
    "pycharm": {
     "name": "#%%\n"
    }
   },
   "outputs": [],
   "source": [
    "class Dialog( abc.ABC): \n",
    "        \"\"\" \n",
    "            A dialog listens for utterances, parses and interprets them, then updates its internal state. It can then formulate a response on demand. \n",
    "        \"\"\" \n",
    "def listen( self, text, response = True, ** kwargs): \n",
    "        \"\"\" \n",
    "            A text utterance is passed in and parsed. It is then passed to the interpret method to determine how to respond. If a response is requested, the respond method is used to generate a text response based on the most recent input and the current Dialog state. \n",
    "        \"\"\" \n",
    "    # Parse the input \n",
    "    sents = self.parse( text) \n",
    "\n",
    "    # Interpret the input \n",
    "    sents, confidence, kwargs = self.interpret( sents, ** kwargs) \n",
    "    # Determine the response \n",
    "    if response: \n",
    "        reply = self.respond( sents, confidence, ** kwargs) \n",
    "    else: \n",
    "        reply = None \n",
    "    # Return initiative \n",
    "    return reply, confidence\n",
    "\n",
    "\n",
    "@abc.abstractmethod \n",
    "def parse( self, text): \n",
    "    \"\"\" \n",
    "        Every dialog may need its own parsing strategy, some dialogs may need dependency vs. constituency parses, others may simply require regular expressions or chunkers. \n",
    "    \"\"\" \n",
    "return [] \n",
    "\n",
    "\n",
    "\n",
    "\n"
   ]
  }
 ],
 "metadata": {
  "kernelspec": {
   "display_name": "Python 3",
   "language": "python",
   "name": "python3"
  },
  "language_info": {
   "codemirror_mode": {
    "name": "ipython",
    "version": 3
   },
   "file_extension": ".py",
   "mimetype": "text/x-python",
   "name": "python",
   "nbconvert_exporter": "python",
   "pygments_lexer": "ipython3",
   "version": "3.7.4"
  }
 },
 "nbformat": 4,
 "nbformat_minor": 1
}
