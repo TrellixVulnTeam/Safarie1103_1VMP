{
 "cells": [
  {
   "cell_type": "code",
   "execution_count": 2,
   "metadata": {},
   "outputs": [],
   "source": [
    "# Imports\n",
    "\n",
    "# pandas\n",
    "import pandas as pd\n",
    "from pandas import Series,DataFrame\n",
    "\n",
    "# numpy\n",
    "import numpy as np\n",
    "\n",
    "# machine learning\n",
    "from sklearn.linear_model import LogisticRegression\n",
    "from sklearn.svm import SVC, LinearSVC\n",
    "from sklearn.ensemble import RandomForestClassifier\n",
    "from sklearn.neighbors import KNeighborsClassifier\n",
    "from sklearn.naive_bayes import GaussianNB\n",
    "#import xgboost as xgb\n",
    "\n",
    "# Define training and testing sets"
   ]
  },
  {
   "cell_type": "code",
   "execution_count": null,
   "metadata": {
    "pycharm": {
     "name": "#%%\n"
    }
   },
   "outputs": [],
   "source": [
    "train_df = pd.read_csv('data/train.csv', usecols=['hotel_cluster'])\n",
    "\n",
    "# Construct dest_clusters dictionary"
   ]
  },
  {
   "cell_type": "code",
   "execution_count": null,
   "metadata": {
    "pycharm": {
     "name": "#%%\n"
    }
   },
   "outputs": [],
   "source": [
    "from collections import defaultdict\n",
    "from csv import DictReader\n",
    "\n",
    "dest_clusters          = defaultdict(lambda: defaultdict(int))\n",
    "\n",
    "for i, row in enumerate(DictReader(open(\"../input/train.csv\"))):\n",
    "    \n",
    "    # for every destiantion, increment it's hotel_cluster by 1\n",
    "    dest_clusters[row[\"srch_destination_id\"]][row[\"hotel_cluster\"]] += 1\n",
    "    #%%  \n",
    "# Create Submission\n",
    "\n",
    "def get_top_clusters(d, l=5):\n",
    "    return \" \".join(str(x) for x in sorted(d, key=d.get, reverse=True)[:l])\n",
    "\n",
    "# ferq_cluster_default: the most frequent hotel clusters\n",
    "ferq_cluster_default = defaultdict(int, train_df['hotel_cluster'].value_counts()[:5])\n",
    "\n",
    "with open(\"expedia.csv\", \"w\") as outfile:\n",
    "    outfile.write(\"id,hotel_cluster\\n\")\n",
    "    \n",
    "    for i, row in enumerate(DictReader(open(\"../input/test.csv\"))):\n",
    "        \n",
    "        row_id = row[\"id\"]\n",
    "        \n",
    "        # freq_cluster_d:    the frequency of all hotel clusters for a destiantion\n",
    "        freq_cluster_d       = dest_clusters[row[\"srch_destination_id\"]]\n",
    "\n",
    "        if(len(freq_cluster_d) >= 5):\n",
    "            outfile.write(\"{},{}\\n\".format(row_id, get_top_clusters(freq_cluster_d)))\n",
    "        elif(len(freq_cluster_d) < 5 and len(freq_cluster_d) > 0):\n",
    "            top_str = get_top_clusters(freq_cluster_d, len(freq_cluster_d))\n",
    "            top_str = top_str + \" \" + get_top_clusters(ferq_cluster_default, 5 - len(freq_cluster_d))\n",
    "            outfile.write(\"{},{}\\n\".format(row_id, top_str))\n",
    "        else:\n",
    "            outfile.write(\"{},{}\\n\".format(row_id, get_top_clusters(ferq_cluster_default)))\n"
   ]
  }
 ],
 "metadata": {
  "kernelspec": {
   "display_name": "Python 3",
   "language": "python",
   "name": "python3"
  },
  "language_info": {
   "codemirror_mode": {
    "name": "ipython",
    "version": 3
   },
   "file_extension": ".py",
   "mimetype": "text/x-python",
   "name": "python",
   "nbconvert_exporter": "python",
   "pygments_lexer": "ipython3",
   "version": "3.7.4"
  },
  "pycharm": {
   "stem_cell": {
    "cell_type": "raw",
    "metadata": {
     "collapsed": false
    },
    "source": []
   }
  }
 },
 "nbformat": 4,
 "nbformat_minor": 1
}
