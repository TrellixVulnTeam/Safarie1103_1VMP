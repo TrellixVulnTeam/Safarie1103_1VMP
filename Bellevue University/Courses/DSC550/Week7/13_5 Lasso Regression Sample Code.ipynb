{
 "cells": [
  {
   "cell_type": "code",
   "execution_count": null,
   "metadata": {
    "collapsed": true
   },
   "outputs": [],
   "source": [
    "#13.5\n",
    "#Lasso Regression to reduce features\n",
    "\n",
    "#load libraries\n",
    "from sklearn.linear_model import Lasso\n",
    "from sklearn.datasets import load_boston\n",
    "from sklearn.preprocessing import StandardScaler\n",
    "\n",
    "#Create the Datasets\n",
    "# Load the iris dataset\n",
    "boston = load_boston()\n",
    "\n",
    "# Create features\n",
    "features = boston.data\n",
    "\n",
    "# Create target\n",
    "target = boston.target\n",
    "\n",
    "#Display original data\n",
    "print(\"Features:  \", features[0:5])\n",
    "print (\"Target:  \", target)\n",
    "\n",
    "#Standardize features\n",
    "scaler = StandardScaler()\n",
    "features_standardized = scaler.fit_transform(features)\n",
    "\n",
    "#Create lasso regression with alpha value\n",
    "regression = Lasso(alpha=0.5)\n",
    "\n",
    "#Fit the linear regression\n",
    "model = regression.fit(features_standardized, target)\n",
    "print(model)\n",
    "\n"
   ]
  }
 ],
 "metadata": {
  "kernelspec": {
   "display_name": "Python 3",
   "language": "python",
   "name": "python3"
  },
  "language_info": {
   "codemirror_mode": {
    "name": "ipython",
    "version": 2
   },
   "file_extension": ".py",
   "mimetype": "text/x-python",
   "name": "python",
   "nbconvert_exporter": "python",
   "pygments_lexer": "ipython2",
   "version": "2.7.6"
  }
 },
 "nbformat": 4,
 "nbformat_minor": 0
}