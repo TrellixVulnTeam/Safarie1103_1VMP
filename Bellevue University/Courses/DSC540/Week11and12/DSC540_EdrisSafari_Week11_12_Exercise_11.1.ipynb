{
 "cells": [
  {
   "cell_type": "markdown",
   "metadata": {
    "pycharm": {
     "name": "#%% md\n"
    }
   },
   "source": [
    "###  1. Connect to petsDB and check whether the connection has been successful."
   ]
  },
  {
   "cell_type": "code",
   "execution_count": 106,
   "metadata": {
    "pycharm": {
     "name": "#%%\n"
    }
   },
   "outputs": [],
   "source": [
    "import sqlite3"
   ]
  },
  {
   "cell_type": "code",
   "execution_count": 107,
   "metadata": {},
   "outputs": [],
   "source": [
    "def connect():\n",
    "    try:\n",
    "        conn = sqlite3.connect(\"Data/petsdb\")\n",
    "        return conn\n",
    "    except Error:\n",
    "        return None\n",
    "        \n",
    "    \n"
   ]
  },
  {
   "cell_type": "code",
   "execution_count": 108,
   "metadata": {
    "pycharm": {
     "name": "#%%\n"
    }
   },
   "outputs": [],
   "source": [
    "# Check connection by making a query.\n",
    "def checkConnection(conn):\n",
    "    try:\n",
    "        cursor = conn.cursor()\n",
    "        rows = conn.execute(\"SELECT * FROM persons\")\n",
    "        return True\n",
    "    except:\n",
    "        print(\"Error Selecting records. Check connection.\")\n",
    "        return False"
   ]
  },
  {
   "cell_type": "code",
   "execution_count": 109,
   "metadata": {
    "pycharm": {
     "name": "#%%\n"
    }
   },
   "outputs": [
    {
     "data": {
      "text/plain": [
       "True"
      ]
     },
     "execution_count": 109,
     "metadata": {},
     "output_type": "execute_result"
    }
   ],
   "source": [
    "conn = connect()\n",
    "checkConnection(conn)"
   ]
  },
  {
   "cell_type": "code",
   "execution_count": 110,
   "metadata": {},
   "outputs": [],
   "source": [
    "conn.close()"
   ]
  },
  {
   "cell_type": "code",
   "execution_count": 111,
   "metadata": {},
   "outputs": [
    {
     "name": "stdout",
     "output_type": "stream",
     "text": [
      "Error Selecting records. Check connection.\n"
     ]
    },
    {
     "data": {
      "text/plain": [
       "False"
      ]
     },
     "execution_count": 111,
     "metadata": {},
     "output_type": "execute_result"
    }
   ],
   "source": [
    "checkConnection(conn)"
   ]
  },
  {
   "cell_type": "code",
   "execution_count": 112,
   "metadata": {},
   "outputs": [],
   "source": [
    "conn.close()"
   ]
  },
  {
   "cell_type": "markdown",
   "metadata": {},
   "source": [
    "### 2. Find the different age groups in the persons database.\n"
   ]
  },
  {
   "cell_type": "code",
   "execution_count": 113,
   "metadata": {
    "pycharm": {
     "name": "#%%\n"
    }
   },
   "outputs": [],
   "source": [
    "conn = connect()"
   ]
  },
  {
   "cell_type": "code",
   "execution_count": 114,
   "metadata": {
    "pycharm": {
     "name": "#%%\n"
    }
   },
   "outputs": [],
   "source": [
    "cursor = conn.cursor()"
   ]
  },
  {
   "cell_type": "code",
   "execution_count": 115,
   "metadata": {
    "pycharm": {
     "name": "#%%\n"
    }
   },
   "outputs": [
    {
     "name": "stdout",
     "output_type": "stream",
     "text": [
      "Number of people aged 5 is 2\n",
      "Number of people aged 6 is 1\n",
      "Number of people aged 7 is 1\n",
      "Number of people aged 8 is 3\n",
      "Number of people aged 9 is 1\n",
      "Number of people aged 11 is 2\n",
      "Number of people aged 12 is 3\n",
      "Number of people aged 13 is 1\n",
      "Number of people aged 14 is 4\n",
      "Number of people aged 16 is 2\n",
      "Number of people aged 17 is 2\n",
      "Number of people aged 18 is 3\n",
      "Number of people aged 19 is 1\n",
      "Number of people aged 22 is 3\n",
      "Number of people aged 23 is 2\n",
      "Number of people aged 24 is 3\n",
      "Number of people aged 25 is 2\n",
      "Number of people aged 27 is 1\n",
      "Number of people aged 30 is 1\n",
      "Number of people aged 31 is 3\n",
      "Number of people aged 32 is 1\n",
      "Number of people aged 33 is 1\n",
      "Number of people aged 34 is 2\n",
      "Number of people aged 35 is 3\n",
      "Number of people aged 36 is 3\n",
      "Number of people aged 37 is 1\n",
      "Number of people aged 39 is 2\n",
      "Number of people aged 40 is 1\n",
      "Number of people aged 42 is 1\n",
      "Number of people aged 44 is 2\n",
      "Number of people aged 48 is 2\n",
      "Number of people aged 49 is 1\n",
      "Number of people aged 50 is 1\n",
      "Number of people aged 51 is 2\n",
      "Number of people aged 52 is 2\n",
      "Number of people aged 53 is 2\n",
      "Number of people aged 54 is 2\n",
      "Number of people aged 58 is 1\n",
      "Number of people aged 59 is 1\n",
      "Number of people aged 60 is 1\n",
      "Number of people aged 61 is 1\n",
      "Number of people aged 62 is 2\n",
      "Number of people aged 63 is 1\n",
      "Number of people aged 65 is 2\n",
      "Number of people aged 66 is 2\n",
      "Number of people aged 67 is 1\n",
      "Number of people aged 68 is 3\n",
      "Number of people aged 69 is 1\n",
      "Number of people aged 70 is 1\n",
      "Number of people aged 71 is 4\n",
      "Number of people aged 72 is 1\n",
      "Number of people aged 73 is 5\n",
      "Number of people aged 74 is 3\n"
     ]
    }
   ],
   "source": [
    "for ppl, age in cursor.execute(\"SELECT count(*), age FROM persons GROUP BY age\"):\n",
    "    print(\"Number of people aged {} is {}\".format(age, ppl))"
   ]
  },
  {
   "cell_type": "markdown",
   "metadata": {},
   "source": [
    "### 3. Find the age group that has the maximum number of people.\n"
   ]
  },
  {
   "cell_type": "code",
   "execution_count": 116,
   "metadata": {
    "pycharm": {
     "name": "#%%\n"
    }
   },
   "outputs": [
    {
     "name": "stdout",
     "output_type": "stream",
     "text": [
      "Age 73 has the highest number at 5\n"
     ]
    }
   ],
   "source": [
    "for ppl, age in cursor.execute(\"SELECT count(*), age FROM persons GROUP BY age ORDER BY count(*) DESC\"):\n",
    "    print(\"Age {} has the highest number at {}\".format(age,ppl))\n",
    "    break"
   ]
  },
  {
   "cell_type": "markdown",
   "metadata": {},
   "source": [
    "### 4. Find the people who do not have a last name."
   ]
  },
  {
   "cell_type": "code",
   "execution_count": 117,
   "metadata": {
    "pycharm": {
     "name": "#%%\n"
    }
   },
   "outputs": [
    {
     "name": "stdout",
     "output_type": "stream",
     "text": [
      "list of people with missing last name.\n",
      "\n",
      "(1, 'Erica', None, 22, 'south port', 2345678)\n",
      "(2, 'Jordi', None, 73, 'east port', 123456)\n",
      "(3, 'Chasity', None, 70, 'new port', 76856785)\n",
      "(4, 'Gregg', None, 31, 'new port', 76856785)\n",
      "(6, 'Cary', None, 73, 'new port', 76856785)\n",
      "(8, 'Francisca', None, 14, 'west port', 123456)\n",
      "(10, 'Raleigh', None, 68, 'new port', 2345678)\n",
      "(11, 'Maria', None, 42, 'west port', 123456)\n",
      "(12, 'Mariane', None, 62, 'south port', 9756543)\n",
      "(13, 'Mona', None, 44, 'south port', 76856785)\n",
      "(14, 'Kayla', None, 36, 'south port', 2345678)\n",
      "(15, 'Karlie', None, 35, 'west port', 123456)\n",
      "(16, 'Morris', None, 71, 'west port', 76856785)\n",
      "(17, 'Sandy', None, 23, 'east port', 2345678)\n",
      "(18, 'Hector', None, 63, 'east port', 9756543)\n",
      "(19, 'Hiram', None, 52, 'west port', 2345678)\n",
      "(20, 'Tressa', None, 59, 'new port', 123456)\n",
      "(21, 'Berry', None, 22, 'south port', 2345678)\n",
      "(22, 'Pearline', None, 73, 'new port', 9756543)\n",
      "(23, 'Maynard', None, 25, 'east port', 123456)\n",
      "(24, 'Dorian', None, 40, 'east port', 123456)\n",
      "(25, 'Mylene', None, 5, 'east port', 76856785)\n",
      "(26, 'Lafayette', None, 34, 'new port', 2345678)\n",
      "(29, 'Tara', None, 39, 'west port', 123456)\n",
      "(30, 'Destiny', None, 18, 'south port', 2345678)\n",
      "(31, 'Lesly', None, 31, 'west port', 123456)\n",
      "(32, 'Perry', None, 19, 'south port', 76856785)\n",
      "(35, 'Maritza', None, 73, 'east port', 9756543)\n",
      "(37, 'Grant', None, 61, 'east port', 76856785)\n",
      "(39, 'Laury', None, 17, 'east port', 9756543)\n",
      "(40, 'Name', None, 52, 'east port', 9756543)\n",
      "(41, 'Estefania', None, 32, 'new port', 76856785)\n",
      "(42, 'Destiney', None, 65, 'west port', 2345678)\n",
      "(43, 'Jaquelin', None, 73, 'west port', 9756543)\n",
      "(45, 'Alfonzo', None, 16, 'east port', 2345678)\n",
      "(46, 'Lisandro', None, 11, 'new port', 76856785)\n",
      "(49, 'Priscilla', None, 65, 'east port', 76856785)\n",
      "(50, 'Elenora', None, 11, 'new port', 76856785)\n",
      "(52, 'Rudolph', None, 14, 'east port', 76856785)\n",
      "(56, 'Ona', None, 35, 'east port', 9756543)\n",
      "(57, 'Rebeca', None, 50, 'new port', 76856785)\n",
      "(59, 'Sigurd', None, 12, 'west port', 76856785)\n",
      "(63, 'Alice', None, 8, 'west port', 76856785)\n",
      "(64, 'Dane', None, 24, 'west port', 9756543)\n",
      "(65, 'Judge', None, 17, 'south port', 76856785)\n",
      "(66, 'Allene', None, 9, 'new port', 9756543)\n",
      "(67, 'Jalen', None, 33, 'new port', 2345678)\n",
      "(70, 'Myron', None, 36, 'new port', 9756543)\n",
      "(73, 'Travon', None, 16, 'south port', 2345678)\n",
      "(74, 'Shayna', None, 60, 'new port', 2345678)\n",
      "(75, 'Myah', None, 14, 'east port', 2345678)\n",
      "(82, 'Letha', None, 44, 'new port', 9756543)\n",
      "(84, 'Felton', None, 74, 'east port', 2345678)\n",
      "(85, 'London', None, 66, 'east port', 9756543)\n",
      "(86, 'Koby', None, 31, 'west port', 9756543)\n",
      "(87, 'Golden', None, 35, 'east port', 76856785)\n",
      "(89, 'Anissa', None, 8, 'south port', 76856785)\n",
      "(91, 'Sid', None, 22, 'west port', 123456)\n",
      "(96, 'Ernesto', None, 69, 'east port', 9756543)\n",
      "(97, 'Josianne', None, 14, 'west port', 76856785)\n"
     ]
    }
   ],
   "source": [
    "rows = cursor.execute(\"SELECT * FROM persons WHERE last_name IS null\")\n",
    "print(\"list of people with missing last name.\\n\")\n",
    "for row in rows:\n",
    "    print(row)"
   ]
  },
  {
   "cell_type": "markdown",
   "metadata": {},
   "source": [
    "### 5. Find out how many people have more than one pet.\n"
   ]
  },
  {
   "cell_type": "code",
   "execution_count": 118,
   "metadata": {
    "pycharm": {
     "name": "#%%\n"
    }
   },
   "outputs": [
    {
     "name": "stdout",
     "output_type": "stream",
     "text": [
      "43 People has more than one pets\n"
     ]
    }
   ],
   "source": [
    "rows = cursor.execute(\"SELECT count(*) FROM (SELECT count(owner_id) FROM pets GROUP BY owner_id HAVING count(owner_id) >1)\")\n",
    "for row in rows:\n",
    "    print(\"{} People has more than one pets\".format(row[0]))"
   ]
  },
  {
   "cell_type": "markdown",
   "metadata": {},
   "source": [
    "### 6. Find out how many pets have received treatment.\n"
   ]
  },
  {
   "cell_type": "code",
   "execution_count": 119,
   "metadata": {
    "pycharm": {
     "name": "#%%\n"
    }
   },
   "outputs": [
    {
     "name": "stdout",
     "output_type": "stream",
     "text": [
      "number of pets who have recieved treatment\n",
      "(36,)\n"
     ]
    }
   ],
   "source": [
    "rows = cursor.execute(\"SELECT count(*) FROM pets WHERE treatment_done=1\")\n",
    "print(\"number of pets who have recieved treatment\")\n",
    "for row in rows:\n",
    "    print(row)"
   ]
  },
  {
   "cell_type": "markdown",
   "metadata": {},
   "source": [
    "### 7. Find out how many pets have received treatment and the type of pet is known.\n"
   ]
  },
  {
   "cell_type": "code",
   "execution_count": 120,
   "metadata": {
    "pycharm": {
     "name": "#%%\n"
    }
   },
   "outputs": [
    {
     "name": "stdout",
     "output_type": "stream",
     "text": [
      "number of pets with known type\n",
      "(16,)\n"
     ]
    }
   ],
   "source": [
    "rows = cursor.execute(\"SELECT count(*) FROM pets WHERE treatment_done=1 AND pet_type IS NOT null\")\n",
    "print(\"number of pets with known type\")\n",
    "for row in rows:\n",
    "    print(row)"
   ]
  },
  {
   "cell_type": "markdown",
   "metadata": {},
   "source": [
    "### 8. Find out how many pets are from the city called east port.\n"
   ]
  },
  {
   "cell_type": "code",
   "execution_count": 121,
   "metadata": {
    "pycharm": {
     "name": "#%%\n"
    }
   },
   "outputs": [
    {
     "name": "stdout",
     "output_type": "stream",
     "text": [
      "number of pets from east port\n",
      "(49,)\n"
     ]
    }
   ],
   "source": [
    "rows = cursor.execute(\"SELECT count(*) FROM pets JOIN persons ON pets.owner_id = persons.id WHERE persons.city='east port'\")\n",
    "print(\"number of pets from east port\")\n",
    "for row in rows:\n",
    "    print(row)"
   ]
  },
  {
   "cell_type": "markdown",
   "metadata": {},
   "source": [
    "### 9. Find out how many pets are from the city called east port and who received a treatment.\n"
   ]
  },
  {
   "cell_type": "code",
   "execution_count": 122,
   "metadata": {
    "pycharm": {
     "name": "#%%\n"
    }
   },
   "outputs": [
    {
     "name": "stdout",
     "output_type": "stream",
     "text": [
      "number of pets from east port who received treatment\n",
      "(11,)\n"
     ]
    }
   ],
   "source": [
    "rows = cursor.execute(\"SELECT count(*) FROM pets JOIN persons ON pets.owner_id = persons.id WHERE persons.city='east port' AND pets.treatment_done=1\")\n",
    "print(\"number of pets from east port who received treatment\")\n",
    "for row in rows:\n",
    "    print(row)"
   ]
  }
 ],
 "metadata": {
  "kernelspec": {
   "display_name": "Python 3",
   "language": "python",
   "name": "python3"
  },
  "language_info": {
   "codemirror_mode": {
    "name": "ipython",
    "version": 3
   },
   "file_extension": ".py",
   "mimetype": "text/x-python",
   "name": "python",
   "nbconvert_exporter": "python",
   "pygments_lexer": "ipython3",
   "version": "3.7.4"
  }
 },
 "nbformat": 4,
 "nbformat_minor": 1
}