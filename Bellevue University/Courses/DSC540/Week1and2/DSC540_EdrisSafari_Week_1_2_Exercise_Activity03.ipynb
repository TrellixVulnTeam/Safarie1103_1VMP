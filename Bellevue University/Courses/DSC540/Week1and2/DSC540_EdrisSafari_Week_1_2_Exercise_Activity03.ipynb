{
 "cells": [
  {
   "cell_type": "markdown",
   "metadata": {
    "pycharm": {
     "name": "#%% md\n"
    }
   },
   "source": [
    "Activity 3: Permutation, Iterator, Lambda, List \n",
    "\n",
    "In this activity, we will be using permutations to generate all possible three-digit numbers that can be generated using 0, 1, and 2. \n",
    "Then, loop over this iterator, and also use isinstance and assert to make sure that the return types are tuples. Also, use a single \n",
    "line of code involving dropwhile and lambda expressions to convert all the tuples to lists while dropping any leading zeros (for example, (0, 1, 2) becomes [1, 2]).\n",
    "Finally, write a function that takes a list like before and returns the actual number contained in it. \n",
    "\n",
    "These steps will guide you to solve this activity: \n",
    "\n",
    "1. Look up the definition of permutations and dropwhile from itertools. \n",
    "2. Write an expression to generate all the possible three-digit numbers using 0, 1, and 2. \n",
    "3. Loop over the iterator expression you generated before. Print each element that's returned by the iterator. Use assert and isinstance to make sure that the elements are of the tuple type.\n",
    "4. Write the loop again using dropwhile with a lambda expression to drop any leading zeros from the tuples. As an example, (0, 1, 2) will become [0, 2]. Also, cast the output of dropwhile to a list.\n",
    "5. Check the actual type that dropwhile returns. \n",
    "6. Combine the preceding code into one block, and this time write a separate function where you will pass the list generated from dropwhile, and the function will return the whole number contained in the list. As an example, if you pass [1, 2] to the function, it will return 12. Make sure that the return type is indeed a number and not a string. Although this task can be achieved using other tricks, we require that you treat the incoming list as a stack in the function and generate the number by reading the individual digits from the stack. "
   ]
  },
  {
   "cell_type": "code",
   "execution_count": 14,
   "metadata": {
    "pycharm": {
     "name": "#%%\n"
    }
   },
   "outputs": [],
   "source": [
    "# 1 Look up the definition of permutations and dropwhile from itertools. \n",
    "import itertools  \n"
   ]
  },
  {
   "cell_type": "code",
   "execution_count": 18,
   "metadata": {},
   "outputs": [],
   "source": [
    "itertools.permutations?"
   ]
  },
  {
   "cell_type": "code",
   "execution_count": 19,
   "metadata": {},
   "outputs": [],
   "source": [
    "itertools.dropwhile?"
   ]
  },
  {
   "cell_type": "code",
   "execution_count": 46,
   "metadata": {},
   "outputs": [],
   "source": [
    "#2  Write an expression to generate all the possible three-digit numbers using 0, 1, and 2.\n",
    "three_number_perm = itertools.permutations(range(3))"
   ]
  },
  {
   "cell_type": "code",
   "execution_count": null,
   "metadata": {},
   "outputs": [],
   "source": [
    "# Loop over the iterator expression you generated before. Print each element that's returned by the iterator. \n",
    "# Use assert and isinstance to make sure that the elements are of the tuple type."
   ]
  },
  {
   "cell_type": "code",
   "execution_count": 39,
   "metadata": {},
   "outputs": [
    {
     "name": "stdout",
     "output_type": "stream",
     "text": [
      "(0, 1, 2)\n",
      "(0, 2, 1)\n",
      "(1, 0, 2)\n",
      "(1, 2, 0)\n",
      "(2, 0, 1)\n",
      "(2, 1, 0)\n"
     ]
    }
   ],
   "source": [
    "for tripple in three_number_perm:\n",
    "    print(tripple)\n"
   ]
  },
  {
   "cell_type": "code",
   "execution_count": 47,
   "metadata": {},
   "outputs": [],
   "source": [
    "assert isinstance(tripple,tuple)"
   ]
  },
  {
   "cell_type": "code",
   "execution_count": 48,
   "metadata": {},
   "outputs": [
    {
     "name": "stdout",
     "output_type": "stream",
     "text": [
      "[1, 2]\n",
      "[2, 1]\n",
      "[1, 0, 2]\n",
      "[1, 2, 0]\n",
      "[2, 0, 1]\n",
      "[2, 1, 0]\n"
     ]
    }
   ],
   "source": [
    "# 4. Write the loop again using dropwhile with a lambda expression to drop any leading zeros from the tuples. As an example, (0, 1, 2) will become [0, 2]. \n",
    "# Also, cast the output of dropwhile to a list.\n",
    "for tripple in itertools.permutations(range(3)):\n",
    "    print(list(itertools.dropwhile(lambda x:x <= 0,tripple)))"
   ]
  },
  {
   "cell_type": "code",
   "execution_count": 50,
   "metadata": {},
   "outputs": [
    {
     "data": {
      "text/plain": [
       "itertools.dropwhile"
      ]
     },
     "execution_count": 50,
     "metadata": {},
     "output_type": "execute_result"
    }
   ],
   "source": [
    "#5. Check the actual type that dropwhile returns. \n",
    "type(itertools.dropwhile(0,(0,1,2)))"
   ]
  },
  {
   "cell_type": "code",
   "execution_count": null,
   "metadata": {},
   "outputs": [],
   "source": [
    "# 6. Combine the preceding code into one block, and this time write a separate function where you will pass the list generated \n",
    "# from dropwhile, and the function will return the whole number contained in the list. As an example, if you pass [1, 2] to \n",
    "# the function, it will return 12. Make sure that the return type is indeed a number and not a string. Although this task can \n",
    "# be achieved using other tricks, we require that you treat the incoming list as a stack in the function and generate the \n",
    "# number by reading the individual digits from the stack. "
   ]
  },
  {
   "cell_type": "code",
   "execution_count": 55,
   "metadata": {},
   "outputs": [
    {
     "name": "stdout",
     "output_type": "stream",
     "text": [
      "12.0\n",
      "21.0\n",
      "102.0\n",
      "120.0\n",
      "201.0\n",
      "210.0\n"
     ]
    }
   ],
   "source": [
    "def TupleToNumber(number_list):\n",
    "    result  = ''\n",
    "    for n in number_list:\n",
    "        result += str(n)\n",
    "    return float(result)\n",
    "\n",
    "for tripple in itertools.permutations(range(3)):\n",
    "   print(TupleToNumber(list(itertools.dropwhile(lambda x:x <= 0,tripple))))"
   ]
  }
 ],
 "metadata": {
  "kernelspec": {
   "display_name": "Python 3",
   "language": "python",
   "name": "python3"
  },
  "language_info": {
   "codemirror_mode": {
    "name": "ipython",
    "version": 3
   },
   "file_extension": ".py",
   "mimetype": "text/x-python",
   "name": "python",
   "nbconvert_exporter": "python",
   "pygments_lexer": "ipython3",
   "version": "3.7.4"
  },
  "pycharm": {
   "stem_cell": {
    "cell_type": "raw",
    "source": [],
    "metadata": {
     "collapsed": false
    }
   }
  }
 },
 "nbformat": 4,
 "nbformat_minor": 1
}