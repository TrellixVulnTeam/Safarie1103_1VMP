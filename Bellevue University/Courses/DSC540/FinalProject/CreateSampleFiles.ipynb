{
 "cells": [
  {
   "cell_type": "code",
   "execution_count": 15,
   "metadata": {},
   "outputs": [],
   "source": [
    "\n",
    "import pandas as pd\n",
    "\n",
    "\n",
    "\n",
    "transactions_2016 = \"zillowData/transactions_2016.csv\"\n",
    "transactions_2017 = \"zillowData/transactions_2017.csv\"\n",
    "\n",
    "transactions_2016_DataSet = pd.read_csv(transactions_2016)\n",
    "transactions_2017_DataSet = pd.read_csv(transactions_2017)\n",
    "transactions_2016_DataSet.to_json(\"zillowData/transactions_2016.json\")\n",
    "transactions_2017_DataSet.to_json(\"zillowData/transactions_2017.json\")"
   ]
  }
 ],
 "metadata": {
  "kernelspec": {
   "display_name": "Python 3",
   "language": "python",
   "name": "python3"
  },
  "language_info": {
   "codemirror_mode": {
    "name": "ipython",
    "version": 3
   },
   "file_extension": ".py",
   "mimetype": "text/x-python",
   "name": "python",
   "nbconvert_exporter": "python",
   "pygments_lexer": "ipython3",
   "version": "3.7.4"
  },
  "pycharm": {
   "stem_cell": {
    "cell_type": "raw",
    "metadata": {
     "collapsed": false
    },
    "source": []
   }
  }
 },
 "nbformat": 4,
 "nbformat_minor": 1
}
