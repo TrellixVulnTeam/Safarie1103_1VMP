{
 "cells": [
  {
   "cell_type": "markdown",
   "metadata": {},
   "source": [
    "# Activity 9:  Extracting the Top 100 eBooks from Gutenberg \n",
    "\n",
    "Project Gutenberg encourages the creation and distribution of eBooks by encouraging volunteer efforts to digitize and archive cultural works. This activity aims to scrape the URL of Project Gutenberg's Top 100 eBooks to identify the eBooks' links. It uses BeautifulSoup4 to parse the HTML and regular expression code to identify the Top 100 eBook file numbers.\n"
   ]
  },
  {
   "cell_type": "markdown",
   "metadata": {},
   "source": [
    "### 1. Import necessary libraries including regex, and beautifulsoup"
   ]
  },
  {
   "cell_type": "code",
   "execution_count": 1,
   "metadata": {},
   "outputs": [],
   "source": [
    "import urllib.request, urllib.parse, urllib.error\n",
    "import requests\n",
    "from bs4 import BeautifulSoup\n",
    "import ssl\n",
    "import re"
   ]
  },
  {
   "cell_type": "markdown",
   "metadata": {},
   "source": [
    "### 2. Check SSL certificate "
   ]
  },
  {
   "cell_type": "code",
   "execution_count": 2,
   "metadata": {},
   "outputs": [],
   "source": [
    "# Ignore SSL certificate errors\n",
    "ctx = ssl.create_default_context()\n",
    "ctx.check_hostname = False\n",
    "ctx.verify_mode = ssl.CERT_NONE"
   ]
  },
  {
   "cell_type": "markdown",
   "metadata": {},
   "source": [
    "### 3. Read the HTML from the URL"
   ]
  },
  {
   "cell_type": "code",
   "execution_count": 3,
   "metadata": {},
   "outputs": [],
   "source": [
    "# Read the HTML from the URL and pass on to BeautifulSoup\n",
    "top100url = 'https://www.gutenberg.org/browse/scores/top'\n",
    "response = requests.get(top100url)"
   ]
  },
  {
   "cell_type": "markdown",
   "metadata": {},
   "source": [
    "### 4. Write a small function to check the status of web request"
   ]
  },
  {
   "cell_type": "code",
   "execution_count": 4,
   "metadata": {},
   "outputs": [],
   "source": [
    "def status_check(r):\n",
    "    if r.status_code==200:\n",
    "        print(\"Success!\")\n",
    "        return 1\n",
    "    else:\n",
    "        print(\"Failed!\")\n",
    "        return -1"
   ]
  },
  {
   "cell_type": "code",
   "execution_count": 5,
   "metadata": {},
   "outputs": [
    {
     "name": "stdout",
     "output_type": "stream",
     "text": [
      "Success!\n"
     ]
    },
    {
     "data": {
      "text/plain": [
       "1"
      ]
     },
     "execution_count": 5,
     "metadata": {},
     "output_type": "execute_result"
    }
   ],
   "source": [
    "status_check(response)"
   ]
  },
  {
   "cell_type": "markdown",
   "metadata": {},
   "source": [
    "### 5. Decode the response and pass on to `BeautifulSoup` for HTML parsing"
   ]
  },
  {
   "cell_type": "code",
   "execution_count": 6,
   "metadata": {},
   "outputs": [],
   "source": [
    "contents = response.content.decode(response.encoding)"
   ]
  },
  {
   "cell_type": "code",
   "execution_count": 7,
   "metadata": {},
   "outputs": [],
   "source": [
    "soup = BeautifulSoup(contents, 'html.parser')"
   ]
  },
  {
   "cell_type": "markdown",
   "metadata": {},
   "source": [
    "### 6. Find all the _href_ tags and store them in the list of links. Check how the list looks like - print first 30 elements"
   ]
  },
  {
   "cell_type": "code",
   "execution_count": 8,
   "metadata": {},
   "outputs": [],
   "source": [
    "# Empty list to hold all the http links in the HTML page\n",
    "lst_links=[]"
   ]
  },
  {
   "cell_type": "code",
   "execution_count": 13,
   "metadata": {},
   "outputs": [
    {
     "data": {
      "text/plain": [
       "1310"
      ]
     },
     "execution_count": 13,
     "metadata": {},
     "output_type": "execute_result"
    }
   ],
   "source": [
    "# Find all the href tags and store them in the list of links\n",
    "# href tags are in the 'a' tag\n",
    "for link in soup.find_all('a'):\n",
    "    #print(link.get('href'))\n",
    "    lst_links.append(link.get('href'))\n",
    "    \n",
    "len(lst_links)"
   ]
  },
  {
   "cell_type": "code",
   "execution_count": 22,
   "metadata": {},
   "outputs": [
    {
     "data": {
      "text/plain": [
       "[<a class=\"logo\" href=\"/wiki/Main_Page\" tabindex=\"1\" title=\"Go to Main Page\"><img alt=\"\" class=\"logo\" height=\"80\" src=\"/pics/pg-logo-002.png\" width=\"129\"/></a>,\n",
       " <a accesskey=\"1\" class=\"h1\" href=\"/catalog/\" tabindex=\"30\" title=\"Go to the online book catalog section - Accesskey=1\">Online Book Catalog</a>,\n",
       " <a accesskey=\"s\" href=\"/ebooks/\" tabindex=\"30\" title=\"Go to book search page - Accesskey=s\">Book  Search</a>,\n",
       " <a accesskey=\"r\" href=\"/browse/recent/last1\" tabindex=\"31\" title=\"Go to the Most recently posted books page - Accesskey=r\">Recent  Books</a>,\n",
       " <a accesskey=\"p\" href=\"/browse/scores/top\" tabindex=\"32\" title=\"Go to the Top 100 books and authors page - Accesskey=p\">Top  100</a>]"
      ]
     },
     "execution_count": 22,
     "metadata": {},
     "output_type": "execute_result"
    }
   ],
   "source": [
    "soup.find_all('a')[:5]"
   ]
  },
  {
   "cell_type": "code",
   "execution_count": 10,
   "metadata": {},
   "outputs": [
    {
     "data": {
      "text/plain": [
       "['/wiki/Main_Page',\n",
       " '/catalog/',\n",
       " '/ebooks/',\n",
       " '/browse/recent/last1',\n",
       " '/browse/scores/top',\n",
       " '/wiki/Gutenberg:Offline_Catalogs',\n",
       " '/catalog/world/mybookmarks',\n",
       " '/wiki/Main_Page',\n",
       " 'https://www.paypal.com/xclick/business=donate%40gutenberg.org&item_name=Donation+to+Project+Gutenberg',\n",
       " '/wiki/Gutenberg:Project_Gutenberg_Needs_Your_Donation',\n",
       " 'http://www.ibiblio.org',\n",
       " 'http://www.pgdp.net/',\n",
       " 'pretty-pictures',\n",
       " '#books-last1',\n",
       " '#authors-last1',\n",
       " '#books-last7',\n",
       " '#authors-last7',\n",
       " '#books-last30',\n",
       " '#authors-last30',\n",
       " '/ebooks/1342',\n",
       " '/ebooks/11',\n",
       " '/ebooks/84',\n",
       " '/ebooks/1952',\n",
       " '/ebooks/43',\n",
       " '/ebooks/844',\n",
       " '/ebooks/25525',\n",
       " '/ebooks/98',\n",
       " '/ebooks/2542',\n",
       " '/ebooks/74',\n",
       " '/ebooks/215']"
      ]
     },
     "execution_count": 10,
     "metadata": {},
     "output_type": "execute_result"
    }
   ],
   "source": [
    "lst_links[:30]"
   ]
  },
  {
   "cell_type": "markdown",
   "metadata": {},
   "source": [
    "### 7. Use regular expression to find the numeric digits in these links. <br>These are the file number for the Top 100 books."
   ]
  },
  {
   "cell_type": "code",
   "execution_count": 23,
   "metadata": {},
   "outputs": [],
   "source": [
    "booknum=[]\n",
    "for i in range(19,119):\n",
    "    link=lst_links[i]\n",
    "    link=link.strip()\n",
    "    # Regular expression to find the numeric digits in the link (href) string\n",
    "    n=re.findall('[0-9]+',link)\n",
    "    if len(n)==1:\n",
    "        # Append the filenumber casted as integer\n",
    "        booknum.append(int(n[0]))"
   ]
  },
  {
   "cell_type": "markdown",
   "metadata": {},
   "source": [
    "#### Print the file numbers"
   ]
  },
  {
   "cell_type": "code",
   "execution_count": 14,
   "metadata": {},
   "outputs": [
    {
     "name": "stdout",
     "output_type": "stream",
     "text": [
      "\n",
      "The file numbers for the top 100 ebooks on Gutenberg are shown below\n",
      "----------------------------------------------------------------------\n",
      "[1342, 84, 1080, 46, 219, 2542, 98, 345, 2701, 844, 11, 5200, 43, 16328, 76, 74, 1952, 6130, 2591, 1661, 41, 174, 23, 1260, 1497, 408, 3207, 1400, 30254, 58271, 1232, 25344, 58269, 158, 44881, 1322, 205, 2554, 1184, 2600, 120, 16, 58276, 5740, 34901, 28054, 829, 33, 2814, 4300, 100, 55, 160, 1404, 786, 58267, 3600, 19942, 8800, 514, 244, 2500, 2852, 135, 768, 58263, 1251, 3825, 779, 58262, 203, 730, 20203, 35, 1250, 45, 161, 30360, 7370, 58274, 209, 27827, 58256, 33283, 4363, 375, 996, 58270, 521, 58268, 36, 815, 1934, 3296, 58279, 105, 2148, 932, 1064, 13415]\n"
     ]
    }
   ],
   "source": [
    "print (\"\\nThe file numbers for the top 100 ebooks on Gutenberg are shown below\\n\"+\"-\"*70)\n",
    "print(booknum)"
   ]
  },
  {
   "cell_type": "markdown",
   "metadata": {},
   "source": [
    "### 9. What does the soup object's text look like? Use the .text method and print only the first 2,000 characters (do not print the whole thing, as it is too long).\n"
   ]
  },
  {
   "cell_type": "code",
   "execution_count": 32,
   "metadata": {
    "scrolled": false
   },
   "outputs": [
    {
     "data": {
      "text/plain": [
       "26025"
      ]
     },
     "execution_count": 32,
     "metadata": {},
     "output_type": "execute_result"
    }
   ],
   "source": [
    "print(soup.text[:2000])"
   ]
  },
  {
   "cell_type": "markdown",
   "metadata": {},
   "source": [
    "### 10. Search in the extracted text (using regular expression) from the `soup` object to find the names of top 100 Ebooks (Yesterday's rank)"
   ]
  },
  {
   "cell_type": "code",
   "execution_count": 34,
   "metadata": {},
   "outputs": [],
   "source": [
    "# Temp empty list of Ebook names\n",
    "lst_titles_temp=[]"
   ]
  },
  {
   "cell_type": "markdown",
   "metadata": {},
   "source": [
    "### 11. Create a starting index. It should point at the text _\"Top 100 Ebooks yesterday\"_. "
   ]
  },
  {
   "cell_type": "code",
   "execution_count": 35,
   "metadata": {},
   "outputs": [],
   "source": [
    "start_idx=soup.text.splitlines().index('Top 100 EBooks yesterday')"
   ]
  },
  {
   "cell_type": "markdown",
   "metadata": {},
   "source": [
    "### 12.  Loop 1-100 to add the strings of next 100 lines to this temporary list. Hint: `splitlines()` method"
   ]
  },
  {
   "cell_type": "code",
   "execution_count": 36,
   "metadata": {},
   "outputs": [],
   "source": [
    "for i in range(100):\n",
    "    lst_titles_temp.append(soup.text.splitlines()[start_idx+2+i])"
   ]
  },
  {
   "cell_type": "markdown",
   "metadata": {},
   "source": [
    "### 13.  Use regular expression to extract only text from the name strings and append to an empty list\n"
   ]
  },
  {
   "cell_type": "code",
   "execution_count": 48,
   "metadata": {},
   "outputs": [
    {
     "name": "stdout",
     "output_type": "stream",
     "text": [
      "1 Pride and Prejudice by Jane Austen \n",
      "2 Alice\n",
      "3 Frankenstein\n",
      "4 The Yellow Wallpaper by Charlotte Perkins Gilman \n",
      "5 The Strange Case of Dr\n",
      "6 The Importance of Being Earnest\n",
      "7 The Works of Edgar Allan Poe\n",
      "8 A Tale of Two Cities by Charles Dickens \n",
      "9 Et dukkehjem\n",
      "10 The Adventures of Tom Sawyer by Mark Twain \n",
      "11 The Call of the Wild by Jack London \n",
      "12 Ion by Plato \n",
      "13 The Adventures of Sherlock Holmes by Arthur Conan Doyle \n",
      "14 A Modest Proposal by Jonathan Swift \n",
      "15 Moby Dick\n",
      "16 Treasure Island by Robert Louis Stevenson \n",
      "17 Anthem by Ayn Rand \n",
      "18 The Picture of Dorian Gray by Oscar Wilde \n",
      "19 Adventures of Huckleberry Finn by Mark Twain \n",
      "20 Little Women by Louisa May Alcott \n",
      "21 Great Expectations by Charles Dickens \n",
      "22 Peter Pan by J\n",
      "23 A Journal of the Plague Year by Daniel Defoe \n",
      "24 A Christmas Carol in Prose\n",
      "25 Metamorphosis by Franz Kafka \n",
      "26 The Wonderful Wizard of Oz by L\n",
      "27 The Hound of the Baskervilles by Arthur Conan Doyle \n",
      "28 Dracula by Bram Stoker \n",
      "29 Walden\n",
      "30 Beowulf\n",
      "31 Jane Eyre\n",
      "32 Siddhartha by Hermann Hesse \n",
      "33 Dubliners by James Joyce \n",
      "34 Grimms\n",
      "35 War and Peace by graf Leo Tolstoy \n",
      "36 Ulysses by James Joyce \n",
      "37 The Secret Garden by Frances Hodgson Burnett \n",
      "38 Anne of Green Gables by L\n",
      "39 Emma by Jane Austen \n",
      "40 The Scarlet Letter by Nathaniel Hawthorne \n",
      "41 Il Principe\n",
      "42 Tractatus Logico\n",
      "43 Bunner Sisters by Edith Wharton \n",
      "44 The Last Martian by Ray Van Houten \n",
      "45 Wuthering Heights by Emily Bront\n",
      "46 The Awakening\n",
      "47 Heart of Darkness by Joseph Conrad \n",
      "48 The Count of Monte Cristo\n",
      "49 Uncle Tom\n",
      "50 The Masque of the Red Death by Edgar Allan Poe \n",
      "51 The War of the Worlds by H\n",
      "52 The Wonderful Wizard of Oz by L\n",
      "53 An Autobiography by Elizabeth  Butler \n",
      "54 Frankenstein\n",
      "55 Pygmalion by Bernard Shaw \n",
      "56 Prestuplenie i nakazanie\n",
      "57 A History of Epidemics in Britain\n",
      "58 The Brothers Karamazov by Fyodor Dostoyevsky \n",
      "59 The Iliad by Homer \n",
      "60 The Kama Sutra of Vatsyayana by Vatsyayana \n",
      "61 The Republic by Plato \n",
      "62 The Life and Adventures of Robinson Crusoe by Daniel Defoe \n",
      "63 The Sign of the Four by Arthur Conan Doyle \n",
      "64 A Study in Scarlet by Arthur Conan Doyle \n",
      "65 Also sprach Zarathustra\n",
      "66 The Prophet by Kahlil Gibran \n",
      "67 Candide by Voltaire \n",
      "68 Essays of Michel de Montaigne \n",
      "69 The Souls of Black Folk by W\n",
      "70 The Star Mouse by Fredric Brown \n",
      "71 The Odyssey by Homer \n",
      "72 The Jungle Book by Rudyard Kipling \n",
      "73 Les Mis\n",
      "74 The Decameron of Giovanni Boccaccio by Giovanni Boccaccio \n",
      "75 Don Quixote by Miguel de Cervantes Saavedra \n",
      "76 A Pickle for the Knowing Ones by Timothy Dexter \n",
      "77 The Secret Garden by Frances Hodgson Burnett \n",
      "78 The Time Machine by H\n",
      "79 An Index of The Divine Comedy by Dante by Dante Alighieri \n",
      "80 Oliver Twist by Charles Dickens \n",
      "81 The Ballad of Venus Nell by Nelson S\n",
      "82 David Copperfield by Charles Dickens \n",
      "83 The Jungle by Upton Sinclair \n",
      "84 The Mysterious Affair at Styles by Agatha Christie \n",
      "85 Beyond Good and Evil by Friedrich Wilhelm Nietzsche \n",
      "86 Sense and Sensibility by Jane Austen \n",
      "87 Index of Project Gutenberg Works on Black History by Various \n",
      "88 The Voyage Out by Virginia Woolf \n",
      "89 Narrative of the Life of Frederick Douglass\n",
      "90 Meditations by Emperor of Rome Marcus Aurelius \n",
      "91 Leviathan by Thomas Hobbes \n",
      "92 Anna Karenina by graf Leo Tolstoy \n",
      "93 The Roman Index of Forbidden Books by Francis S\n",
      "94 Gulliver\n",
      "95 The Tale of Peter Rabbit by Beatrix Potter \n",
      "96 Calculus Made Easy by Silvanus P\n",
      "97 The Memoirs\n",
      "98 The Devil\n",
      "99 The Works of Edgar Allan Poe \n",
      "100 Songs of Innocence\n"
     ]
    }
   ],
   "source": [
    "lst_titles=[]\n",
    "for i in range(100):\n",
    "    id1,id2=re.match('^[a-zA-Z ]*',lst_titles_temp[i]).span()\n",
    "    lst_titles.append(lst_titles_temp[i][id1:id2])\n",
    "    \n",
    "# Print the list of titles\n",
    "rank = 1\n",
    "for l in lst_titles:\n",
    "    print(str(rank) + ' ' + l)\n",
    "    rank += 1\n",
    "    "
   ]
  }
 ],
 "metadata": {
  "kernelspec": {
   "display_name": "Python 3",
   "language": "python",
   "name": "python3"
  },
  "language_info": {
   "codemirror_mode": {
    "name": "ipython",
    "version": 3
   },
   "file_extension": ".py",
   "mimetype": "text/x-python",
   "name": "python",
   "nbconvert_exporter": "python",
   "pygments_lexer": "ipython3",
   "version": "3.7.4"
  },
  "latex_envs": {
   "LaTeX_envs_menu_present": true,
   "autoclose": false,
   "autocomplete": true,
   "bibliofile": "biblio.bib",
   "cite_by": "apalike",
   "current_citInitial": 1,
   "eqLabelWithNumbers": true,
   "eqNumInitial": 1,
   "hotkeys": {
    "equation": "Ctrl-E",
    "itemize": "Ctrl-I"
   },
   "labels_anchors": false,
   "latex_user_defs": false,
   "report_style_numbering": false,
   "user_envs_cfg": false
  }
 },
 "nbformat": 4,
 "nbformat_minor": 2
}
