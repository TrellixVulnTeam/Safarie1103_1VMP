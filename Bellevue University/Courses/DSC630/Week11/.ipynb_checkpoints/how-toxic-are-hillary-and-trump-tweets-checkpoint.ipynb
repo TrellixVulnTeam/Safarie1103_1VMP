{
 "cells": [
  {
   "cell_type": "markdown",
   "metadata": {
    "_uuid": "916588e9812d878f8a45394d00a7549d09897149"
   },
   "source": [
    "\n",
    "\n",
    "I've been wanting to play with this dataset for a while. I've also been wanting to try to see how do models built on [Toxic Comment Classification Challenge](https://www.kaggle.com/c/jigsaw-toxic-comment-classification-challenge/) perform on non-competition \"real world\" data. Here I will just use one model that was built inside of a [kernel](https://www.kaggle.com/tunguz/bi-gru-lstm-cnn-poolings-fasttext). The kernel scores in the 0.984x AUC range. It's a respectable score, but well below the top solutions that scored in the 0.988x range. \n",
    "\n",
    "---- October 22 2018 Update - Added a few distribution plots and a more extensive lists of the most problematic tweets, 10 per topic. ----\n",
    "\n",
    "---- October 31 2018 Update - Added a few clarifications and explanations. ----"
   ]
  },
  {
   "cell_type": "code",
   "execution_count": 1,
   "metadata": {
    "_cell_guid": "b1076dfc-b9ad-4769-8c92-a6c4dae69d19",
    "_uuid": "8f2839f25d086af736a60e9eeb907d3b93b6e0e5",
    "scrolled": true
   },
   "outputs": [
    {
     "ename": "ModuleNotFoundError",
     "evalue": "No module named 'keras'",
     "output_type": "error",
     "traceback": [
      "\u001b[1;31m---------------------------------------------------------------------------\u001b[0m",
      "\u001b[1;31mModuleNotFoundError\u001b[0m                       Traceback (most recent call last)",
      "\u001b[1;32m<ipython-input-1-fa2cd0e0d29e>\u001b[0m in \u001b[0;36m<module>\u001b[1;34m\u001b[0m\n\u001b[0;32m     15\u001b[0m \u001b[0mnp\u001b[0m\u001b[1;33m.\u001b[0m\u001b[0mrandom\u001b[0m\u001b[1;33m.\u001b[0m\u001b[0mseed\u001b[0m\u001b[1;33m(\u001b[0m\u001b[1;36m32\u001b[0m\u001b[1;33m)\u001b[0m\u001b[1;33m\u001b[0m\u001b[1;33m\u001b[0m\u001b[0m\n\u001b[0;32m     16\u001b[0m \u001b[0mos\u001b[0m\u001b[1;33m.\u001b[0m\u001b[0menviron\u001b[0m\u001b[1;33m[\u001b[0m\u001b[1;34m\"OMP_NUM_THREADS\"\u001b[0m\u001b[1;33m]\u001b[0m \u001b[1;33m=\u001b[0m \u001b[1;34m\"4\"\u001b[0m\u001b[1;33m\u001b[0m\u001b[1;33m\u001b[0m\u001b[0m\n\u001b[1;32m---> 17\u001b[1;33m \u001b[1;32mfrom\u001b[0m \u001b[0mkeras\u001b[0m\u001b[1;33m.\u001b[0m\u001b[0mpreprocessing\u001b[0m\u001b[1;33m.\u001b[0m\u001b[0mtext\u001b[0m \u001b[1;32mimport\u001b[0m \u001b[0mTokenizer\u001b[0m\u001b[1;33m\u001b[0m\u001b[1;33m\u001b[0m\u001b[0m\n\u001b[0m\u001b[0;32m     18\u001b[0m \u001b[1;32mfrom\u001b[0m \u001b[0mkeras\u001b[0m\u001b[1;33m.\u001b[0m\u001b[0mpreprocessing\u001b[0m\u001b[1;33m.\u001b[0m\u001b[0msequence\u001b[0m \u001b[1;32mimport\u001b[0m \u001b[0mpad_sequences\u001b[0m\u001b[1;33m\u001b[0m\u001b[1;33m\u001b[0m\u001b[0m\n\u001b[0;32m     19\u001b[0m \u001b[1;32mfrom\u001b[0m \u001b[0mkeras\u001b[0m\u001b[1;33m.\u001b[0m\u001b[0mlayers\u001b[0m \u001b[1;32mimport\u001b[0m \u001b[0mDense\u001b[0m\u001b[1;33m,\u001b[0m \u001b[0mInput\u001b[0m\u001b[1;33m,\u001b[0m \u001b[0mLSTM\u001b[0m\u001b[1;33m,\u001b[0m \u001b[0mEmbedding\u001b[0m\u001b[1;33m,\u001b[0m \u001b[0mDropout\u001b[0m\u001b[1;33m,\u001b[0m \u001b[0mActivation\u001b[0m\u001b[1;33m,\u001b[0m \u001b[0mConv1D\u001b[0m\u001b[1;33m,\u001b[0m \u001b[0mGRU\u001b[0m\u001b[1;33m\u001b[0m\u001b[1;33m\u001b[0m\u001b[0m\n",
      "\u001b[1;31mModuleNotFoundError\u001b[0m: No module named 'keras'"
     ]
    }
   ],
   "source": [
    "# This Python 3 environment comes with many helpful analytics libraries installed\n",
    "# It is defined by the kaggle/python docker image: https://github.com/kaggle/docker-python\n",
    "# For example, here's several helpful packages to load in \n",
    "\n",
    "import numpy as np # linear algebra\n",
    "import pandas as pd # data processing, CSV file I/O (e.g. pd.read_csv)\n",
    "import seaborn as sns\n",
    "import matplotlib.pyplot as plt\n",
    "%matplotlib inline  \n",
    "\n",
    "import time\n",
    "start_time = time.time()\n",
    "from sklearn.model_selection import train_test_split\n",
    "import sys, os, re, csv, codecs, numpy as np, pandas as pd\n",
    "np.random.seed(32)\n",
    "os.environ[\"OMP_NUM_THREADS\"] = \"4\"\n",
    "from keras.preprocessing.text import Tokenizer\n",
    "from keras.preprocessing.sequence import pad_sequences\n",
    "from keras.layers import Dense, Input, LSTM, Embedding, Dropout, Activation, Conv1D, GRU\n",
    "from keras.layers import Bidirectional, GlobalMaxPool1D, MaxPooling1D, Add, Flatten\n",
    "from keras.layers import GlobalAveragePooling1D, GlobalMaxPooling1D, concatenate, SpatialDropout1D\n",
    "from keras.models import Model, load_model\n",
    "from keras import initializers, regularizers, constraints, optimizers, layers, callbacks\n",
    "from keras import backend as K\n",
    "from keras.engine import InputSpec, Layer\n",
    "from keras.optimizers import Adam, RMSprop\n",
    "from keras.callbacks import EarlyStopping, ModelCheckpoint, LearningRateScheduler\n",
    "from keras.layers import GRU, BatchNormalization, Conv1D, MaxPooling1D\n",
    "\n",
    "import logging\n",
    "from sklearn.metrics import roc_auc_score\n",
    "from keras.callbacks import Callback\n",
    "\n",
    "# Input data files are available in the \"../input/\" directory.\n",
    "# For example, running this (by clicking run or pressing Shift+Enter) will list the files in the input directory\n",
    "\n",
    "import os\n",
    "print(os.listdir(\"../input\"))\n",
    "\n",
    "# Any results you write to the current directory are saved as output."
   ]
  },
  {
   "cell_type": "markdown",
   "metadata": {
    "_uuid": "9de5c9c1de73cb401db70f4136dd19ee3305f8ca"
   },
   "source": [
    "Now, let's load the data and all the vector embeddings. "
   ]
  },
  {
   "cell_type": "code",
   "execution_count": null,
   "metadata": {
    "_cell_guid": "79c7e3d0-c299-4dcb-8224-4455121ee9b0",
    "_uuid": "d629ff2d2480ee46fbb7e2d37f6b5fab8052498a"
   },
   "outputs": [],
   "source": [
    "tweets = pd.read_csv(\"../input/clinton-trump-tweets/tweets.csv\")\n",
    "embedding_path = \"../input/fasttext-crawl-300d-2m/crawl-300d-2M.vec\"\n",
    "tweets.head()"
   ]
  },
  {
   "cell_type": "code",
   "execution_count": null,
   "metadata": {
    "_uuid": "c3fb5b2997d3a57cf7784370d915f389629efd89"
   },
   "outputs": [],
   "source": [
    "tweets.shape"
   ]
  },
  {
   "cell_type": "markdown",
   "metadata": {
    "_uuid": "5b03636f1aced6ec96d0a718da5b405c0dc0c49f"
   },
   "source": [
    "We see that there are a total of 6444 tweets, and as it will be shown below they are almost evenly distributed between Hillary and Trump. This may seem like a lot of tweets, but for text classification this would be a very small amount of data."
   ]
  },
  {
   "cell_type": "markdown",
   "metadata": {
    "_uuid": "6fac676d60c8c545bd3c1d79e9d73beb815a69e4"
   },
   "source": [
    "We will embed words from these tweets into a word-vector space using one of the previously trained word embeddings. Here we use a 300-dimensional vector space that comes curtesy of FastText. We will also limit the length of text to 220 words. This is an overkill for tweets, but for general purpose it is rather small text length. The original was aimed at much longer text sizes, and this was a reasonable length for those purposes. The best embedding that we used in Toxic limited length to 900 words."
   ]
  },
  {
   "cell_type": "code",
   "execution_count": null,
   "metadata": {
    "_uuid": "335e2f117d5589192471f68ba48531e7705f151e"
   },
   "outputs": [],
   "source": [
    "embed_size = 300\n",
    "max_features = 130000\n",
    "max_len = 220\n",
    "\n",
    "tweets[\"text\"].fillna(\"no comment\")\n",
    "list_classes = [\"toxic\", \"severe_toxic\", \"obscene\", \"threat\", \"insult\", \"identity_hate\"]\n",
    "raw_text = tweets[\"text\"].str.lower()\n"
   ]
  },
  {
   "cell_type": "markdown",
   "metadata": {
    "_uuid": "f155cea17d19a9750077b0d80a19d4f10ffce796"
   },
   "source": [
    "In order for our pretrained models to work, we need to transform the text here into the appropriate vectorized format."
   ]
  },
  {
   "cell_type": "code",
   "execution_count": null,
   "metadata": {
    "_uuid": "3e9e4f7a5a4d33270598f1063fd0f91b7dd81004"
   },
   "outputs": [],
   "source": [
    "tk = Tokenizer(num_words = max_features, lower = True)\n",
    "tk.fit_on_texts(raw_text)\n",
    "tweets[\"comment_seq\"] = tk.texts_to_sequences(raw_text)"
   ]
  },
  {
   "cell_type": "markdown",
   "metadata": {
    "_uuid": "f856e3fa77a481337e222b3729934713afbc1aaf"
   },
   "source": [
    "We also need to pad the tweets that are less than 220 words, which is essentially all of them."
   ]
  },
  {
   "cell_type": "code",
   "execution_count": null,
   "metadata": {
    "_uuid": "74d19797081af548c3f8e38f5340312305168332"
   },
   "outputs": [],
   "source": [
    "tweets_pad_sequences = pad_sequences(tweets.comment_seq, maxlen = max_len)"
   ]
  },
  {
   "cell_type": "code",
   "execution_count": null,
   "metadata": {
    "_uuid": "37b607e0a46156de96654ee71a045aeee1380f74"
   },
   "outputs": [],
   "source": [
    "tweets_pad_sequences.shape"
   ]
  },
  {
   "cell_type": "code",
   "execution_count": null,
   "metadata": {
    "_uuid": "ef37ea853f9688615f5313eea7a695e177d8ea59"
   },
   "outputs": [],
   "source": [
    "tweets_pad_sequences"
   ]
  },
  {
   "cell_type": "markdown",
   "metadata": {
    "_uuid": "015144ba1cb1002cdfa25e953f59c2286eb3a056"
   },
   "source": [
    "This is one big 6444x220 array. We'll now need to construc an embedding index, that puts each one of the words into a 300-dimensional vector space:"
   ]
  },
  {
   "cell_type": "markdown",
   "metadata": {
    "_uuid": "505b9be077cddd28edbe9820bbbf439b0161fae8"
   },
   "source": []
  },
  {
   "cell_type": "code",
   "execution_count": null,
   "metadata": {
    "_uuid": "b3bac547a3dc3fabbd1a502e8873f7695218a71e"
   },
   "outputs": [],
   "source": [
    "def get_coefs(word,*arr): return word, np.asarray(arr, dtype='float32')\n",
    "embedding_index = dict(get_coefs(*o.strip().split(\" \")) for o in open(embedding_path))"
   ]
  },
  {
   "cell_type": "code",
   "execution_count": null,
   "metadata": {
    "_uuid": "9fc88ffde55c48378190c923e811dfa18abc60a1"
   },
   "outputs": [],
   "source": [
    "word_index = tk.word_index\n",
    "nb_words = min(max_features, len(word_index))\n",
    "embedding_matrix = np.zeros((nb_words, embed_size))\n",
    "for word, i in word_index.items():\n",
    "    if i >= max_features: continue\n",
    "    embedding_vector = embedding_index.get(word)\n",
    "    if embedding_vector is not None: embedding_matrix[i] = embedding_vector"
   ]
  },
  {
   "cell_type": "markdown",
   "metadata": {
    "_uuid": "2e965b2b78b120f311f606f7fb46e7ce73c40481"
   },
   "source": [
    "Now we'll load the actual trained model and make the predictions on our data."
   ]
  },
  {
   "cell_type": "code",
   "execution_count": null,
   "metadata": {
    "_uuid": "fb57e6c28f8e3871fecc1d7e31f460626fb1acb2"
   },
   "outputs": [],
   "source": [
    "model = load_model(\"../input/bi-gru-lstm-cnn-poolings-fasttext/best_model.hdf5\")"
   ]
  },
  {
   "cell_type": "code",
   "execution_count": null,
   "metadata": {
    "_uuid": "d578146b62edd00979d4eab83530c1e21a177392"
   },
   "outputs": [],
   "source": [
    "pred = model.predict(tweets_pad_sequences, batch_size = 1024, verbose = 1)"
   ]
  },
  {
   "cell_type": "markdown",
   "metadata": {
    "_uuid": "3a35909f6f05f875ab2226e4dd6d287afcef9ab2"
   },
   "source": [
    "Let's see what's the maximum probability for this model:"
   ]
  },
  {
   "cell_type": "code",
   "execution_count": null,
   "metadata": {
    "_uuid": "7586783e70fe3e2e71e7d681709a1d008751b8b8"
   },
   "outputs": [],
   "source": [
    "pred.max()"
   ]
  },
  {
   "cell_type": "markdown",
   "metadata": {
    "_uuid": "8244e11aafbcfa55bc1ecb468e426fa0259654a5"
   },
   "source": [
    "In other words, at nearly 1.0 probability the model seems pretty confident about the \"toxicity\" of some of the tweets.\n",
    "\n",
    "Now let's put the predictions into a dataframe, so we can have a better view of them and how they relate to the actual tweets."
   ]
  },
  {
   "cell_type": "code",
   "execution_count": null,
   "metadata": {
    "_uuid": "b31535fc354647f78f6e2a6b0fc93d898bbe0e85"
   },
   "outputs": [],
   "source": [
    "toxic_predictions = pd.DataFrame(columns=list_classes, data=pred)"
   ]
  },
  {
   "cell_type": "code",
   "execution_count": null,
   "metadata": {
    "_uuid": "7e7b86d173c2c260d117dcc15611f4eabbbe30b9"
   },
   "outputs": [],
   "source": [
    "toxic_predictions.head()"
   ]
  },
  {
   "cell_type": "code",
   "execution_count": null,
   "metadata": {
    "_uuid": "1bbc5bda143590b8078c76430e25b22f1d603a37"
   },
   "outputs": [],
   "source": [
    "toxic_predictions['id'] = tweets['id'].values\n",
    "toxic_predictions['handle'] = tweets['handle'].values\n",
    "toxic_predictions['text'] = tweets['text'].values"
   ]
  },
  {
   "cell_type": "code",
   "execution_count": null,
   "metadata": {
    "_uuid": "cbe592c2aedee0c4261baa4f187edd84d24309a6"
   },
   "outputs": [],
   "source": [
    "toxic_predictions.tail()"
   ]
  },
  {
   "cell_type": "code",
   "execution_count": null,
   "metadata": {
    "_uuid": "221918c1766e3947fd0f31e857b96898d971de26"
   },
   "outputs": [],
   "source": [
    "Hillary_predictions = toxic_predictions[toxic_predictions['handle'] == 'HillaryClinton']\n",
    "Trump_predictions = toxic_predictions[toxic_predictions['handle'] == 'realDonaldTrump']"
   ]
  },
  {
   "cell_type": "code",
   "execution_count": null,
   "metadata": {
    "_uuid": "6bd05dd0371740dfd8d5f37b6559e024fe4c19d8"
   },
   "outputs": [],
   "source": [
    "Hillary_predictions[list_classes].describe()"
   ]
  },
  {
   "cell_type": "code",
   "execution_count": null,
   "metadata": {
    "_uuid": "23fdbf507ee2c181d436c064998f5e981fcc119a"
   },
   "outputs": [],
   "source": [
    "Trump_predictions[list_classes].describe()"
   ]
  },
  {
   "cell_type": "markdown",
   "metadata": {
    "_uuid": "0d39e6250fd82a99678617980d345913e59c03f0"
   },
   "source": []
  },
  {
   "cell_type": "markdown",
   "metadata": {
    "_uuid": "8a9ae8d21aeeedc561094de1d9de8d895a57738f"
   },
   "source": []
  },
  {
   "cell_type": "code",
   "execution_count": null,
   "metadata": {
    "_uuid": "fc6506506a1c1da16cf3f5234dc1247ff63664e4"
   },
   "outputs": [],
   "source": [
    "melt_df = pd.melt(toxic_predictions, value_vars=list_classes, id_vars='handle')"
   ]
  },
  {
   "cell_type": "code",
   "execution_count": null,
   "metadata": {
    "_uuid": "47daa52450c4ed7a4e438c933163c1a958082bd0"
   },
   "outputs": [],
   "source": [
    "melt_df.head()"
   ]
  },
  {
   "cell_type": "markdown",
   "metadata": {
    "_uuid": "cb4a037529b262e374199f75d27cf43cea1da7dd"
   },
   "source": [
    "Let's plot the distributions of various values for both Hillary and Trump tweets. We'll use 'violing plots', as they seem very visually intutive and easy to understand."
   ]
  },
  {
   "cell_type": "code",
   "execution_count": null,
   "metadata": {
    "_uuid": "c372ea3ee5e7ed18e1dc3920175a0f4d4f8038c0"
   },
   "outputs": [],
   "source": [
    "sns.violinplot(x='variable', y='value', hue='handle', data=melt_df)\n",
    "plt.show()"
   ]
  },
  {
   "cell_type": "markdown",
   "metadata": {
    "_uuid": "094a34eaf2a5c2a3e09007d08106e112fc0ff12c"
   },
   "source": [
    "We see that for each one of the categories the outliers really skew the distributions. Maybe if we clip them we can see how the \"main\" distributions behave:"
   ]
  },
  {
   "cell_type": "code",
   "execution_count": null,
   "metadata": {
    "_uuid": "b6daae1eb74916e1343d73e1801b8114892e374c"
   },
   "outputs": [],
   "source": [
    "melt_df['value'] = np.clip(melt_df['value'].values, 0, 0.2)"
   ]
  },
  {
   "cell_type": "code",
   "execution_count": null,
   "metadata": {
    "_uuid": "bacda06d8a1e4fd3d47e30f1cb272a1758a41035"
   },
   "outputs": [],
   "source": [
    "sns.violinplot(x='variable', y='value', hue='handle', data=melt_df)\n",
    "plt.show()"
   ]
  },
  {
   "cell_type": "markdown",
   "metadata": {
    "_uuid": "db38590fb0e31487ea54e78a0e5f2febcb4aaa39"
   },
   "source": [
    "Still very skewed distributions. How about one more clipping?"
   ]
  },
  {
   "cell_type": "code",
   "execution_count": null,
   "metadata": {
    "_uuid": "d5a494972d1932196eb1bed24c864e317bb40c80"
   },
   "outputs": [],
   "source": [
    "melt_df['value'] = np.clip(melt_df['value'].values, 0, 0.05)\n",
    "sns.violinplot(x='variable', y='value', hue='handle', data=melt_df)\n",
    "plt.show()"
   ]
  },
  {
   "cell_type": "markdown",
   "metadata": {
    "_uuid": "fff3c0117d104d5794c1732f68c068234e8cae32"
   },
   "source": [
    "Nope, still no luck. Looks like the distributions are to some extent \"scale independant\". "
   ]
  },
  {
   "cell_type": "markdown",
   "metadata": {
    "_uuid": "c73dd4a9d8495530e7be23c7458ea9d9c86c5fea"
   },
   "source": [
    "Based on this summary statistics, it would seem that both of them score pretty low on average for all of the \"Toxic\" categories. However, there do seem to be a few notable \"highly probable\" problemeatic tweets in each one of the six categories, with notable exception of \"threat\". Which, I think, is a good thing. For what it's worth (not much at all, IMHO), Hillary's tweets seem to be, on the average, toxic, severaly toxic, and obscene, while Trump's tweets score higher on the average for threat, insult, and identity hate. \n",
    "\n",
    "Let's see what the \"worst offenders\" are in for both candidates. Let's start with the most toxic Hillary tweet."
   ]
  },
  {
   "cell_type": "code",
   "execution_count": null,
   "metadata": {
    "_uuid": "a91580eb370993074bbaa8077d8b2494a2809434"
   },
   "outputs": [],
   "source": [
    "Hillary_predictions.loc[Hillary_predictions['toxic'].idxmax()]['text']"
   ]
  },
  {
   "cell_type": "markdown",
   "metadata": {
    "_uuid": "ead3a65cbc8618412c6a68eb45ed40418a28c95e"
   },
   "source": [
    "Meh, not really toxic. Seems like the word \"mad\", or the high frequency of special characters, have flagged this tweet as toxic. The same tweet was also marked as the top tweet in both \"severe toxic\" and \"obscene\" categories. \n",
    "\n",
    "Now let's look at \"threats\":"
   ]
  },
  {
   "cell_type": "code",
   "execution_count": null,
   "metadata": {
    "_uuid": "9c6ec654b49e788ad55d05ca7e8bcc8436890f29"
   },
   "outputs": [],
   "source": [
    "print(Hillary_predictions.sort_values(by=['toxic'], ascending=False)['text'].head(10).values)"
   ]
  },
  {
   "cell_type": "code",
   "execution_count": null,
   "metadata": {
    "_uuid": "ca4b9ce48ef8f09effd4c5c9cffc9fa95c9ca7ee"
   },
   "outputs": [],
   "source": [
    "print(Hillary_predictions.sort_values(by=['severe_toxic'], ascending=False)['text'].head(10).values)"
   ]
  },
  {
   "cell_type": "code",
   "execution_count": null,
   "metadata": {
    "_uuid": "b95a9da25781c61381e92273338a97b2e8dd3831"
   },
   "outputs": [],
   "source": [
    "print(Hillary_predictions.sort_values(by=['obscene'], ascending=False)['text'].head(10).values)"
   ]
  },
  {
   "cell_type": "markdown",
   "metadata": {
    "_uuid": "a7ce87eb3d91d684186606f0282f60da8c47f5a7"
   },
   "source": [
    "Not really toxic, severely toxic, or obscene IMHO. Not very inspiring or humanlike either. As if a chatbot was coming up with these ..."
   ]
  },
  {
   "cell_type": "markdown",
   "metadata": {
    "_uuid": "ade415deb47eac453180b80089052285e1629b4e"
   },
   "source": [
    "How about threats?"
   ]
  },
  {
   "cell_type": "code",
   "execution_count": null,
   "metadata": {
    "_uuid": "d4cf39f5e1f523d49d2ab9f30de5a6a9d94167d8"
   },
   "outputs": [],
   "source": [
    "Hillary_predictions.loc[Hillary_predictions['threat'].idxmax()]['text']"
   ]
  },
  {
   "cell_type": "markdown",
   "metadata": {
    "_uuid": "f5f0ceac0c8cf43c14de5dbe3ce00ef133478ee3"
   },
   "source": [
    "Yeah, not much going on there. As predicted with very low probability of this actually being a threat."
   ]
  },
  {
   "cell_type": "code",
   "execution_count": null,
   "metadata": {
    "_uuid": "808a4595d703ff012cec985dd87c88f99242e0bd"
   },
   "outputs": [],
   "source": [
    "print(Hillary_predictions.sort_values(by=['threat'], ascending=False)['text'].head(10).values)"
   ]
  },
  {
   "cell_type": "code",
   "execution_count": null,
   "metadata": {
    "_uuid": "1b545aa3b6e1dc5a369700fff135d8ee9c60992a"
   },
   "outputs": [],
   "source": []
  },
  {
   "cell_type": "markdown",
   "metadata": {
    "_uuid": "a03e033a6f8b957a4fb730b3436393387d8ce3bd"
   },
   "source": []
  },
  {
   "cell_type": "markdown",
   "metadata": {
    "_uuid": "edc1788abbd70d9decdf572a1ac47a70ee89c41f"
   },
   "source": [
    "What's Hillary's worst insult?"
   ]
  },
  {
   "cell_type": "code",
   "execution_count": null,
   "metadata": {
    "_uuid": "73886826b029bca7857599e087c7fc6056786ad3"
   },
   "outputs": [],
   "source": [
    "Hillary_predictions.loc[Hillary_predictions['insult'].idxmax()]['text']"
   ]
  },
  {
   "cell_type": "markdown",
   "metadata": {
    "_uuid": "b74ba511b0006d073562c550fd33862afe0ef29f"
   },
   "source": [
    "Ouch. That's definitely below the belt, but in a more indirect kind of way. And yeah, insluting. Good job, predictive modeling!\n",
    "\n",
    "Here are the top 10 \"insults\""
   ]
  },
  {
   "cell_type": "code",
   "execution_count": null,
   "metadata": {
    "_uuid": "0dcaea720efa359aa20634775c9f43f08d70bc96"
   },
   "outputs": [],
   "source": [
    "print(Hillary_predictions.sort_values(by=['insult'], ascending=False)['text'].head(10).values)"
   ]
  },
  {
   "cell_type": "markdown",
   "metadata": {
    "_uuid": "4d129932d38422e20a96d554643c1c931597bc36"
   },
   "source": [
    "Let's look at identity hate:"
   ]
  },
  {
   "cell_type": "code",
   "execution_count": null,
   "metadata": {
    "_uuid": "8acbc493edce18331733d79b48310de1252dc433"
   },
   "outputs": [],
   "source": [
    "Hillary_predictions.loc[Hillary_predictions['identity_hate'].idxmax()]['text']"
   ]
  },
  {
   "cell_type": "code",
   "execution_count": null,
   "metadata": {
    "_uuid": "74b1edde74658dc2f9614e1c12ff2cdf9051676b"
   },
   "outputs": [],
   "source": []
  },
  {
   "cell_type": "markdown",
   "metadata": {
    "_uuid": "f165cbc1ef39d50c4813e077cde4072fbe165e38"
   },
   "source": [
    "Hmm, that's interesting: seem the algorithm has marked Hillary's ReTweet of Trump's tweet. Seems like there is something deep going on here. Or the algorithm is just plain unreliable. \n",
    "\n",
    "Let's look at the top 10 \"hateful\" Hillary tweets:"
   ]
  },
  {
   "cell_type": "code",
   "execution_count": null,
   "metadata": {
    "_uuid": "72e283692c87b6e14134fa2abbaa8530281f2569"
   },
   "outputs": [],
   "source": [
    "print(Hillary_predictions.sort_values(by=['identity_hate'], ascending=False)['text'].head(10).values)"
   ]
  },
  {
   "cell_type": "markdown",
   "metadata": {
    "_uuid": "604cfb19347f23d460cd760b942ff2afd3742e64"
   },
   "source": [
    "OK, let's move onto Trump. First, his most toxic tweet:"
   ]
  },
  {
   "cell_type": "code",
   "execution_count": null,
   "metadata": {
    "_uuid": "035a3063d33b824b1d8acd8b629b759f9c0a132d"
   },
   "outputs": [],
   "source": [
    "Trump_predictions.loc[Trump_predictions['toxic'].idxmax()]['text']"
   ]
  },
  {
   "cell_type": "markdown",
   "metadata": {
    "_uuid": "007cf612dd1418f23dd20c3844e0fa2551f164fc"
   },
   "source": [
    "That's just weird: there is nothign toxic about it. The same tweet has been flagged as the most severly toxic and obscene tweet as well. Not very informative.\n",
    "\n",
    "But let's take a closer look at the top 10 flagged tweets in each one of those categories.\n",
    "\n",
    "First toxic:"
   ]
  },
  {
   "cell_type": "code",
   "execution_count": null,
   "metadata": {
    "_uuid": "95287542eb81ec5c516cd5ead1feb5485b2b9844"
   },
   "outputs": [],
   "source": [
    "print(Trump_predictions.sort_values(by=['toxic'], ascending=False)['text'].head(10).values)"
   ]
  },
  {
   "cell_type": "markdown",
   "metadata": {
    "_uuid": "f40b17e3fb4ac6bd6e11fbd1477b7acce0b43ce4"
   },
   "source": [
    "Severe toxic:"
   ]
  },
  {
   "cell_type": "code",
   "execution_count": null,
   "metadata": {
    "_uuid": "564fd1566803145d43387c76509a48ea861c07b2"
   },
   "outputs": [],
   "source": [
    "print(Trump_predictions.sort_values(by=['severe_toxic'], ascending=False)['text'].head(10).values)"
   ]
  },
  {
   "cell_type": "markdown",
   "metadata": {
    "_uuid": "45441595a935064fcd4e069922f0d6b3fce3e527"
   },
   "source": [
    "Obscene:"
   ]
  },
  {
   "cell_type": "code",
   "execution_count": null,
   "metadata": {
    "_uuid": "a81b79d3d6b6f7434b0e11fee56799dc7fbc7d27"
   },
   "outputs": [],
   "source": [
    "print(Trump_predictions.sort_values(by=['obscene'], ascending=False)['text'].head(10).values)"
   ]
  },
  {
   "cell_type": "markdown",
   "metadata": {
    "_uuid": "8c0ff9405e63503a7ba3b326b3b5cd533da7f445"
   },
   "source": [
    "Now how about threats?"
   ]
  },
  {
   "cell_type": "code",
   "execution_count": null,
   "metadata": {
    "_uuid": "85cc640110a454224582fe28644d23509ba7510e"
   },
   "outputs": [],
   "source": [
    "Trump_predictions.loc[Trump_predictions['threat'].idxmax()]['text']"
   ]
  },
  {
   "cell_type": "markdown",
   "metadata": {
    "_uuid": "91ed2ff4cdd7c7c803bac0bfecaf8603cf865598"
   },
   "source": [
    "Massive tax increases? yeah, I can see how this could be viewed as threatening.\n",
    "\n",
    "Let's take a closer look at the top 10 worst 'threat' tweets:"
   ]
  },
  {
   "cell_type": "code",
   "execution_count": null,
   "metadata": {
    "_uuid": "1c86f0579b4e62dca6977693502aa7444d4aef08"
   },
   "outputs": [],
   "source": [
    "print(Trump_predictions.sort_values(by=['threat'], ascending=False)['text'].head(10).values)"
   ]
  },
  {
   "cell_type": "markdown",
   "metadata": {
    "_uuid": "0e8ad0c5096a56364e89807b23a47c1bba672cdf"
   },
   "source": [
    "\n",
    "\n",
    "How about the most insulting tweet?"
   ]
  },
  {
   "cell_type": "code",
   "execution_count": null,
   "metadata": {
    "_uuid": "860ca0da6fd4ece6caae575c1cb9f707de184e85"
   },
   "outputs": [],
   "source": [
    "Trump_predictions.loc[Trump_predictions['insult'].idxmax()]['text']"
   ]
  },
  {
   "cell_type": "markdown",
   "metadata": {
    "_uuid": "e853310f9298861ed658558c0b738235f953d4a2"
   },
   "source": [
    "Yeah, definitely insulting. On so many levels. I can't even ..."
   ]
  },
  {
   "cell_type": "markdown",
   "metadata": {
    "_uuid": "5a7c009384fba2882d6895abf839d375d27295e9"
   },
   "source": [
    "Let's take a closer look at the top 10 worst 'insult' tweets:"
   ]
  },
  {
   "cell_type": "code",
   "execution_count": null,
   "metadata": {
    "_uuid": "83d647f82492b1844b8dde0fbae5aab3b70fa16f"
   },
   "outputs": [],
   "source": [
    "print(Trump_predictions.sort_values(by=['insult'], ascending=False)['text'].head(10).values)"
   ]
  },
  {
   "cell_type": "markdown",
   "metadata": {
    "_uuid": "0944d1c30e1151fa680bfa9dba5572fbe9f48630"
   },
   "source": [
    "Seems that back then Fox News was not exactly his favorite TV network. \n",
    "\n",
    "And what about identity hate?"
   ]
  },
  {
   "cell_type": "code",
   "execution_count": null,
   "metadata": {
    "_uuid": "1aff025d9f6fb36f605947db4f2126470d0b3f91"
   },
   "outputs": [],
   "source": [
    "Trump_predictions.loc[Trump_predictions['identity_hate'].idxmax()]['text']"
   ]
  },
  {
   "cell_type": "markdown",
   "metadata": {
    "_uuid": "4cf836d893f7f4e5da6f8969fc42719007a3d59a"
   },
   "source": [
    "That one really made me LOL. And think. Is he mocking him for his \"identity\" of bing Jeb? Or mommy's boy? Or W's brother? Or a weakling? All of the above? So many choices  ...\n",
    "\n",
    "Let's take a closer look at the top 10 worst 'identity hate' tweets:"
   ]
  },
  {
   "cell_type": "code",
   "execution_count": null,
   "metadata": {
    "_uuid": "2733faa1ea7cb9b4cc970a130fd52515d1e6e232"
   },
   "outputs": [],
   "source": [
    "print(Trump_predictions.sort_values(by=['identity_hate'], ascending=False)['text'].head(10).values)"
   ]
  },
  {
   "cell_type": "markdown",
   "metadata": {
    "_uuid": "e249a4906e712e863d76cb7fc75e4539e80610cc"
   },
   "source": [
    "Seeems that Jeb really got under his skin!"
   ]
  },
  {
   "cell_type": "markdown",
   "metadata": {
    "_uuid": "911df9d7eb90e116070dbc52a4f06ed04558c834"
   },
   "source": [
    "\n",
    "In the end, this exercise shows both the strengths and limitations of algorithmic approach to toxic comment classification. Since the AUC score for the training sets is relatively high (almost 0.99 for  the top models), it is most likely that in the case human insight is even more relevant than for most other ML areas. Furthermore, even though we had a pretty large dataset to work with, it is very likely that in order to get even close to human level toxic text classification, we'd need several orders of magnitude larger training set, and/or deeper natural text understanding models. "
   ]
  },
  {
   "cell_type": "code",
   "execution_count": null,
   "metadata": {
    "_uuid": "04364c1b79ed1f71e5227d3475db61a8898baeed"
   },
   "outputs": [],
   "source": []
  },
  {
   "cell_type": "code",
   "execution_count": null,
   "metadata": {
    "_uuid": "3e39470297590e5a3b9f175739371273d1c10486"
   },
   "outputs": [],
   "source": []
  }
 ],
 "metadata": {
  "kernelspec": {
   "display_name": "Python 3",
   "language": "python",
   "name": "python3"
  },
  "language_info": {
   "codemirror_mode": {
    "name": "ipython",
    "version": 3
   },
   "file_extension": ".py",
   "mimetype": "text/x-python",
   "name": "python",
   "nbconvert_exporter": "python",
   "pygments_lexer": "ipython3",
   "version": "3.7.4"
  }
 },
 "nbformat": 4,
 "nbformat_minor": 1
}
