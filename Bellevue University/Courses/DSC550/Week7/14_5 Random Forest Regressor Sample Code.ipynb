{
 "cells": [
  {
   "cell_type": "code",
   "execution_count": null,
   "metadata": {
    "collapsed": true
   },
   "outputs": [],
   "source": [
    "\n",
    "#14.5\n",
    "#Training a Random Forest Regressor\n",
    "\n",
    "#load libraries\n",
    "from sklearn.ensemble import RandomForestRegressor\n",
    "from sklearn import datasets\n",
    "\n",
    "#Create the Datasets\n",
    "# Load the iris dataset\n",
    "boston = datasets.load_boston()\n",
    "\n",
    "# Create features\n",
    "features = boston.data[:,0:2]\n",
    "\n",
    "# Create target\n",
    "target = boston.target\n",
    "\n",
    "#Display original data\n",
    "print(\"Features:  \", features)\n",
    "print (\"Target:  \", target)\n",
    "\n",
    "#create random forest classifier object\n",
    "randomforest=RandomForestRegressor(random_state=0, n_jobs=-1)\n",
    "\n",
    "#train model\n",
    "model = randomforest.fit(features, target)\n",
    "print(model)\n"
   ]
  }
 ],
 "metadata": {
  "kernelspec": {
   "display_name": "Python 3",
   "language": "python",
   "name": "python3"
  },
  "language_info": {
   "codemirror_mode": {
    "name": "ipython",
    "version": 2
   },
   "file_extension": ".py",
   "mimetype": "text/x-python",
   "name": "python",
   "nbconvert_exporter": "python",
   "pygments_lexer": "ipython2",
   "version": "2.7.6"
  }
 },
 "nbformat": 4,
 "nbformat_minor": 0
}