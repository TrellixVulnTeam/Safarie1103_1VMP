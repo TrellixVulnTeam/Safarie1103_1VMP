{
 "cells": [
  {
   "cell_type": "code",
   "execution_count": null,
   "metadata": {
    "collapsed": true
   },
   "outputs": [],
   "source": [
    "#jacard  - comparing words\n",
    "\n",
    "import collections"
   ]
  },
  {
   "cell_type": "code",
   "execution_count": null,
   "outputs": [],
   "source": [
    "def jaccard(a, b):\n",
    "    c = a.intersection(b)\n",
    "    print(\"this is intersection\", c)\n",
    "    d=a.union(b)\n",
    "    print(\"this is union\", d)\n",
    "    _a = collections.Counter(a)\n",
    "    _b = collections.Counter(b)\n",
    "    c = (_a - _b) + (_b - _a)\n",
    "    print(\"c\", c)\n",
    "    n = sum(c.values())\n",
    "    print(_a)\n",
    "    print(_b)\n",
    "    print(\"_a and _b\")\n",
    "    print (\"n\", n)\n",
    "    return float(len(c)) / (len(a) + len(b) - len(c))"
   ],
   "metadata": {
    "collapsed": false,
    "pycharm": {
     "name": "#%%\n"
    }
   }
  },
  {
   "cell_type": "code",
   "execution_count": null,
   "outputs": [],
   "source": [
    "list1 = ['dog', 'cat', 'rat', 'gerbil', 'rat', 'rat']\n",
    "list2 = ['dog', 'cat', 'mouse', 'cow', 'horse', 'rat']\n",
    "\n",
    "words1 = set(list1)\n",
    "words2 = set(list2)\n",
    "print(\"words1:  \", words1)\n",
    "print(\"words2:  \", words2)\n",
    "z = jaccard(words1, words2)\n",
    "print(\"this is z\", z*100)\n",
    "\n"
   ],
   "metadata": {
    "collapsed": false,
    "pycharm": {
     "name": "#%%\n"
    }
   }
  }
 ],
 "metadata": {
  "kernelspec": {
   "display_name": "Python 3",
   "language": "python",
   "name": "python3"
  },
  "language_info": {
   "codemirror_mode": {
    "name": "ipython",
    "version": 2
   },
   "file_extension": ".py",
   "mimetype": "text/x-python",
   "name": "python",
   "nbconvert_exporter": "python",
   "pygments_lexer": "ipython2",
   "version": "2.7.6"
  },
  "pycharm": {
   "stem_cell": {
    "cell_type": "raw",
    "source": [],
    "metadata": {
     "collapsed": false
    }
   }
  }
 },
 "nbformat": 4,
 "nbformat_minor": 0
}