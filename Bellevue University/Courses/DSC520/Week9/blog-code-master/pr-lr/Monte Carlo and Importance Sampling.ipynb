{
 "cells": [
  {
   "cell_type": "code",
   "execution_count": 1,
   "metadata": {},
   "outputs": [],
   "source": [
    "import numpy as np\n",
    "import seaborn as sns\n",
    "import matplotlib.pyplot as plt\n",
    "import matplotlib.lines as mlines\n",
    "\n",
    "from scipy.stats import norm\n",
    "from tqdm import trange\n",
    "\n",
    "# plotting params\n",
    "%matplotlib inline\n",
    "plt.rcParams['font.size'] = 10\n",
    "plt.rcParams['axes.labelsize'] = 10\n",
    "plt.rcParams['axes.titlesize'] = 10\n",
    "plt.rcParams['xtick.labelsize'] = 8\n",
    "plt.rcParams['ytick.labelsize'] = 8\n",
    "plt.rcParams['legend.fontsize'] = 10\n",
    "plt.rcParams['figure.titlesize'] = 12\n",
    "# plt.rcParams['figure.figsize'] = (15.0, 8.0)\n",
    "sns.set_style(\"white\")\n",
    "\n",
    "# path params\n",
    "plot_dir = './'"
   ]
  },
  {
   "cell_type": "markdown",
   "metadata": {},
   "source": [
    "## Question Prompt\n",
    "\n",
    "Given the following current equation\n",
    "\n",
    "$$I(\\Delta L, \\Delta V_{TH}) = \\frac{50}{0.1 + \\Delta L} (0.6 - \\Delta V_{TH})^2$$\n",
    "\n",
    "* $\\Delta L \\sim \\ N(0, 0.01^2)$\n",
    "* $\\Delta V_{TH} \\sim \\ N(0, 0.03^2)$\n",
    "\n",
    "We would like to calculate $P(I > 275)$ using direct Monte-Carlo and Importance Sampling."
   ]
  },
  {
   "cell_type": "markdown",
   "metadata": {},
   "source": [
    "## Direct Monte-Carlo Estimation\n",
    "\n",
    "In MC estimation, we approximate an integral by the sample mean of a function of simulated random variables. In more mathematical terms,\n",
    "\n",
    "$$\\int p(x)\\ f(x)\\ dx = \\mathbb{E}_{p(x)} \\big[\\ f(x) \\big] \\approx \\frac{1}{N} \\sum_{n=1}^{N}f(x_n)$$\n",
    "\n",
    "where $x_n \\sim \\ p(x)$.\n",
    "\n",
    "A useful application of MC is probability estimation. In fact, we can cast a probability as an expectation using the indicator function. In our case, given that $A = \\{I \\ | \\ I > 275\\}$, we define $f(x)$ as\n",
    "\n",
    "$$f(x) = I_{A}(x)= \\begin{cases} \n",
    "      1 & I \\geq 275 \\\\\n",
    "      0 & I < 275 \n",
    "   \\end{cases}$$\n",
    "   \n",
    "Replacing in our equation above, we get\n",
    "\n",
    "$$\\int p(x) \\ f(x) \\ dx = \\int I(x)\\ p(x) \\ d(x) = \\int_{x \\in A} p(x)\\ d(x) \\approx \\frac{1}{N} \\sum_{n=1}^{N}I_{A}(x_n)$$"
   ]
  },
  {
   "cell_type": "code",
   "execution_count": 2,
   "metadata": {},
   "outputs": [],
   "source": [
    "def monte_carlo_proba(num_simulations, num_samples, verbose=True, plot=False):\n",
    "    \n",
    "    if verbose:\n",
    "        print(\"===========================================\")\n",
    "        print(\"{} Monte Carlo Simulations of size {}\".format(num_simulations, num_samples))\n",
    "        print(\"===========================================\\n\")\n",
    "    \n",
    "    num_samples = int(num_samples)\n",
    "    num_simulations = int(num_simulations)\n",
    "    \n",
    "    probas = []\n",
    "    for i in range(num_simulations):\n",
    "        mu_1, sigma_1 = 0, 0.01\n",
    "        mu_2, sigma_2 = 0, 0.03\n",
    "\n",
    "        length = np.random.normal(mu_1, sigma_1, num_samples)\n",
    "        voltage = np.random.normal(mu_2, sigma_2, num_samples)\n",
    "\n",
    "        num = 50 * np.square((0.6 - voltage))\n",
    "        denum = 0.1 + length\n",
    "        I = num / denum\n",
    "        \n",
    "        true_condition = np.where(I >= 275)\n",
    "        false_condition = np.where(I < 275)\n",
    "        num_true = true_condition[0].shape[0]\n",
    "        proba = num_true / num_samples\n",
    "        probas.append(proba)\n",
    "        \n",
    "        if plot:\n",
    "            if i == (num_simulations - 1):\n",
    "                plt.scatter(length[true_condition], voltage[true_condition], color='r')\n",
    "                plt.scatter(length[false_condition], voltage[false_condition], color='b')\n",
    "                plt.xlabel(r'$\\Delta L$ [$\\mu$m]')\n",
    "                plt.ylabel(r'$\\Delta V_{TH}$ [V]')\n",
    "                plt.title(\"Monte Carlo Estimation of P(I > 275)\")\n",
    "                plt.grid(True)\n",
    "                plt.savefig(plot_dir + 'monte_carlo_{}.pdf'.format(num_samples), format='pdf', dpi=300)\n",
    "                plt.show()\n",
    "    \n",
    "    \n",
    "    mean_proba = np.mean(probas)\n",
    "    std_proba = np.std(probas)\n",
    "    \n",
    "    if verbose:\n",
    "        print(\"Probability Mean: {:0.5f}\".format(mean_proba))\n",
    "        print(\"Probability Std: {:0.5f}\".format(std_proba))\n",
    "    \n",
    "    return probas"
   ]
  },
  {
   "cell_type": "code",
   "execution_count": 3,
   "metadata": {},
   "outputs": [
    {
     "name": "stdout",
     "output_type": "stream",
     "text": [
      "===========================================\n",
      "10 Monte Carlo Simulations of size 10000\n",
      "===========================================\n",
      "\n",
      "Probability Mean: 0.00199\n",
      "Probability Std: 0.00050\n"
     ]
    }
   ],
   "source": [
    "probas = monte_carlo_proba(10, 10000, plot=False)"
   ]
  },
  {
   "cell_type": "code",
   "execution_count": 4,
   "metadata": {},
   "outputs": [],
   "source": [
    "def MC_histogram(num_samples, plot=True):\n",
    "    \n",
    "    num_samples = int(num_samples)\n",
    "    \n",
    "    mu_1, sigma_1 = 0, 0.01\n",
    "    mu_2, sigma_2 = 0, 0.03\n",
    "\n",
    "    length = np.random.normal(mu_1, sigma_1, num_samples)\n",
    "    voltage = np.random.normal(mu_2, sigma_2, num_samples)\n",
    "\n",
    "    num = 50 * np.square((0.6 - voltage))\n",
    "    denum = 0.1 + length\n",
    "    I = num / denum\n",
    "    \n",
    "    if plot:\n",
    "        n, bins, patches = plt.hist(I, 50, density=1, facecolor='green', alpha=0.75)\n",
    "        plt.ylabel('Number of Samples')\n",
    "        plt.xlabel(r'$I_{DS}$ [$\\mu$A]')\n",
    "        plt.title(\"Monte Carlo Estimation of P(I > 275)\")\n",
    "        plt.grid(True)\n",
    "        plt.savefig(plot_dir + 'mc_histogram_{}.pdf'.format(num_samples), format='pdf', dpi=300)\n",
    "        plt.show()"
   ]
  },
  {
   "cell_type": "code",
   "execution_count": 5,
   "metadata": {},
   "outputs": [
    {
     "data": {
      "image/png": "[encoded data removed]",
      "text/plain": [
       "<Figure size 432x288 with 1 Axes>"
      ]
     },
     "metadata": {},
     "output_type": "display_data"
    }
   ],
   "source": [
    "MC_histogram(1e6)"
   ]
  },
  {
   "cell_type": "code",
   "execution_count": 6,
   "metadata": {},
   "outputs": [
    {
     "name": "stdout",
     "output_type": "stream",
     "text": [
      "Iter 1/4\n",
      "Iter 2/4\n",
      "Iter 3/4\n",
      "Iter 4/4\n"
     ]
    }
   ],
   "source": [
    "num_samples = [1e3, 1e4, 1e5, 1e6]\n",
    "num_repetitions = 25\n",
    "\n",
    "total_probas = []\n",
    "for i, num_sample in enumerate(num_samples):\n",
    "    print(\"Iter {}/{}\".format(i+1, len(num_samples)))\n",
    "    probas = monte_carlo_proba(num_repetitions, num_sample, verbose=False)\n",
    "    total_probas.append(probas)"
   ]
  },
  {
   "cell_type": "code",
   "execution_count": 7,
   "metadata": {},
   "outputs": [
    {
     "data": {
      "image/png": "[encoded data removed]",
      "text/plain": [
       "<Figure size 432x288 with 1 Axes>"
      ]
     },
     "metadata": {},
     "output_type": "display_data"
    }
   ],
   "source": [
    "# plt.figure(figsize=(8, 10))\n",
    "y_axis_monte = np.asarray(total_probas)\n",
    "x_axis_monte = np.asarray(num_samples)\n",
    "\n",
    "for x, y in zip(x_axis_monte, y_axis_monte):\n",
    "    plt.scatter([x] * len(y), y, s=0.5)\n",
    "\n",
    "plt.xscale('log')\n",
    "plt.title(\"Direct Monte-Carlo Estimation\")\n",
    "plt.ylabel(\"Probability Estimate\")\n",
    "plt.xlabel('Number of Samples')\n",
    "plt.grid(True)\n",
    "plt.savefig(plot_dir + 'monte_carlo_convergence_speed.jpg', format='jpg', dpi=300)\n",
    "plt.show()"
   ]
  },
  {
   "cell_type": "markdown",
   "metadata": {},
   "source": [
    "## Importance Sampling"
   ]
  },
  {
   "cell_type": "markdown",
   "metadata": {
    "collapsed": true
   },
   "source": [
    "With importance sampling, we try to reduce the variance of our Monte-Carlo integral estimation by choosing a better distribution from which to simulate our random variables. It involves multiplying the integrand by 1 (usually dressed up in a “tricky fashion”) to yield an expectation of a quantity that varies less than the original integrand over the region of integration. Concretely,\n",
    "\n",
    "$$\\mathbb{E}_{p(x)} \\big[\\ f(x) \\big] = \\int f(x)\\ p(x)\\ dx = \\int f(x)\\ p(x)\\ \\frac{q(x)}{q(x)}\\ dx = \\int \\frac{p(x)}{q(x)}\\cdot f(x)\\ q(x)\\ dx = \\mathbb{E}_{q(x)}  \\big[\\ f(x)\\cdot \\frac{p(x)}{q(x)} \\big]$$\n",
    "\n",
    "Thus, the MC estimation of the expectation becomes:\n",
    "\n",
    "$$\\mathbb{E}_{q(x)}  \\big[\\ f(x)\\cdot \\frac{p(x)}{q(x)} \\big] \\approx \\frac{1}{N} \\sum_{n=1}^{N} w_n \\cdot f(x_n)$$\n",
    "\n",
    "where $w_n = \\dfrac{p(x_n)}{q(x_n)}$"
   ]
  },
  {
   "cell_type": "markdown",
   "metadata": {},
   "source": [
    "In our current example above, we can alter the mean and/or standard deviation of $\\Delta L$ and $\\Delta V_{TH}$ in the hopes that more of our sampling points will fall in the failure region (red area). For example, let us define 2 new distributions with altered $\\sigma^2$.\n",
    "\n",
    "* $\\Delta \\hat{L} \\sim \\ N(0, 0.02^2)$\n",
    "* $\\Delta \\hat{V}_{TH} \\sim \\ N(0, 0.06^2)$"
   ]
  },
  {
   "cell_type": "code",
   "execution_count": 8,
   "metadata": {},
   "outputs": [],
   "source": [
    "def importance_sampling(num_simulations, num_samples, verbose=True, plot=False):\n",
    "    \n",
    "    if verbose:\n",
    "        print(\"===================================================\")\n",
    "        print(\"{} Importance Sampling Simulations of size {}\".format(num_simulations, num_samples))\n",
    "        print(\"===================================================\\n\")\n",
    "    \n",
    "    num_simulations = int(num_simulations)\n",
    "    num_samples = int(num_samples)\n",
    "    \n",
    "    probas = []\n",
    "    for i in range(num_simulations):\n",
    "        mu_1, sigma_1 = 0, 0.01\n",
    "        mu_2, sigma_2 = 0, 0.03\n",
    "        mu_1_n, sigma_1_n = 0, 0.02\n",
    "        mu_2_n, sigma_2_n = 0, 0.06\n",
    "        \n",
    "        # setup pdfs\n",
    "        old_pdf_1 = norm(mu_1, sigma_1)\n",
    "        new_pdf_1 = norm(mu_1_n, sigma_1_n)\n",
    "        old_pdf_2 = norm(mu_2, sigma_2)\n",
    "        new_pdf_2 = norm(mu_2_n, sigma_2_n)\n",
    "\n",
    "        length = np.random.normal(mu_1_n, sigma_1_n, num_samples)\n",
    "        voltage = np.random.normal(mu_2_n, sigma_2_n, num_samples)\n",
    "        \n",
    "        # calculate current\n",
    "        num = 50 * np.square((0.6 - voltage))\n",
    "        denum = 0.1 + length\n",
    "        I = num / denum\n",
    "        \n",
    "        # calculate f\n",
    "        true_condition = np.where(I >= 275)\n",
    "\n",
    "        # calculate weight\n",
    "        num = old_pdf_1.pdf(length) * old_pdf_2.pdf(voltage)\n",
    "        denum = new_pdf_1.pdf(length) * new_pdf_2.pdf(voltage)\n",
    "        weights = num / denum\n",
    "\n",
    "        # select weights for nonzero f\n",
    "        weights = weights[true_condition]\n",
    "\n",
    "        # compute unbiased proba\n",
    "        proba = np.sum(weights) / num_samples\n",
    "        probas.append(proba)\n",
    "        \n",
    "        false_condition = np.where(I < 275)\n",
    "        if plot:\n",
    "            if i == num_simulations -1:\n",
    "                plt.scatter(length[true_condition], voltage[true_condition], color='r')\n",
    "                plt.scatter(length[false_condition], voltage[false_condition], color='b')\n",
    "                plt.xlabel(r'$\\Delta L$ [$\\mu$m]')\n",
    "                plt.ylabel(r'$\\Delta V_{TH}$ [V]')\n",
    "                plt.title(\"Monte Carlo Estimation of P(I > 275)\")\n",
    "                plt.grid(True)\n",
    "                plt.savefig(plot_dir + 'imp_sampling_{}.pdf'.format(num_samples), format='pdf', dpi=300)\n",
    "                plt.show()\n",
    "    \n",
    "    \n",
    "    mean_proba = np.mean(probas)\n",
    "    std_proba = np.std(probas)\n",
    "    \n",
    "    if verbose:\n",
    "        print(\"Probability Mean: {}\".format(mean_proba))\n",
    "        print(\"Probability Std: {}\".format(std_proba))\n",
    "    \n",
    "    return probas"
   ]
  },
  {
   "cell_type": "code",
   "execution_count": 9,
   "metadata": {},
   "outputs": [
    {
     "name": "stdout",
     "output_type": "stream",
     "text": [
      "===================================================\n",
      "10 Importance Sampling Simulations of size 10000\n",
      "===================================================\n",
      "\n",
      "Probability Mean: 0.002236025696537488\n",
      "Probability Std: 0.00015573742910298226\n"
     ]
    }
   ],
   "source": [
    "probas = importance_sampling(10, 10000, plot=False)"
   ]
  },
  {
   "cell_type": "code",
   "execution_count": 10,
   "metadata": {},
   "outputs": [],
   "source": [
    "def IS_histogram(num_samples, plot=True):\n",
    "    \n",
    "    num_samples = int(num_samples)\n",
    "\n",
    "    mu_1_n, sigma_1_n = 0, 0.02\n",
    "    mu_2_n, sigma_2_n = 0, 0.06\n",
    "\n",
    "    length = np.random.normal(mu_1_n, sigma_1_n, num_samples)\n",
    "    voltage = np.random.normal(mu_2_n, sigma_2_n, num_samples)\n",
    "\n",
    "    # calculate biased current\n",
    "    num = 50 * np.square((0.6 - voltage))\n",
    "    denum = 0.1 + length\n",
    "    I = num / denum\n",
    "\n",
    "    if plot:\n",
    "        n, bins, patches = plt.hist(I, 50, density=1, facecolor='green', alpha=0.75)\n",
    "        plt.ylabel('Number of Samples')\n",
    "        plt.xlabel(r'$I_{DS}$ [$\\mu$A]')\n",
    "        plt.title(\"Importance Sampling of P(I > 275)\")\n",
    "        plt.grid(True)\n",
    "        plt.savefig(plot_dir + 'is_histogram_{}.pdf'.format(num_samples), format='pdf', dpi=300)\n",
    "        plt.show()"
   ]
  },
  {
   "cell_type": "code",
   "execution_count": 11,
   "metadata": {},
   "outputs": [
    {
     "data": {
      "image/png": "[encoded data removed]",
      "text/plain": [
       "<Figure size 432x288 with 1 Axes>"
      ]
     },
     "metadata": {},
     "output_type": "display_data"
    }
   ],
   "source": [
    "IS_histogram(1e5)"
   ]
  },
  {
   "cell_type": "code",
   "execution_count": 12,
   "metadata": {},
   "outputs": [
    {
     "name": "stdout",
     "output_type": "stream",
     "text": [
      "Iter 1/4\n",
      "Iter 2/4\n",
      "Iter 3/4\n",
      "Iter 4/4\n"
     ]
    }
   ],
   "source": [
    "num_samples = [1e3, 1e4, 1e5, 1e6]\n",
    "num_repetitions = 25\n",
    "\n",
    "total_probas = []\n",
    "for i, num_sample in enumerate(num_samples):\n",
    "    print(\"Iter {}/{}\".format(i+1, len(num_samples)))\n",
    "    probas = importance_sampling(num_repetitions, num_sample, verbose=False)\n",
    "    total_probas.append(probas)"
   ]
  },
  {
   "cell_type": "code",
   "execution_count": 13,
   "metadata": {},
   "outputs": [
    {
     "data": {
      "image/png": "[encoded data removed]",
      "text/plain": [
       "<Figure size 432x288 with 1 Axes>"
      ]
     },
     "metadata": {},
     "output_type": "display_data"
    }
   ],
   "source": [
    "# plt.figure(figsize=(8, 10))\n",
    "\n",
    "y_axis_imp = np.asarray(total_probas)\n",
    "x_axis_imp = np.asarray(num_samples)\n",
    "\n",
    "for x, y in zip(x_axis_imp, y_axis_imp):\n",
    "    plt.scatter([x] * len(y), y, s=0.5)\n",
    "    \n",
    "plt.xscale('log')\n",
    "plt.title(\"Importance Sampling\")\n",
    "plt.ylabel(\"Probability Estimate\")\n",
    "plt.xlabel('Number of Samples')\n",
    "plt.grid(True)\n",
    "plt.savefig(plot_dir + 'imp_sampling_convergence_speed.jpg', format='jpg', dpi=300)\n",
    "plt.show()"
   ]
  },
  {
   "cell_type": "markdown",
   "metadata": {},
   "source": [
    "## Side by Side"
   ]
  },
  {
   "cell_type": "code",
   "execution_count": 21,
   "metadata": {},
   "outputs": [
    {
     "data": {
      "image/png": "[encoded data removed]",
      "text/plain": [
       "<Figure size 432x288 with 1 Axes>"
      ]
     },
     "metadata": {},
     "output_type": "display_data"
    }
   ],
   "source": [
    "fig, ax = plt.subplots(1, 1)\n",
    "\n",
    "# monte carlo\n",
    "for x, y in zip(x_axis_imp, y_axis_monte):\n",
    "    ax.scatter([x] * len(y), y, s=0.5, c='r', alpha=0.3)\n",
    "\n",
    "# importance sampling\n",
    "for x, y in zip(x_axis_imp, y_axis_imp):\n",
    "    ax.scatter([x] * len(y), y, s=0.5, c='b', alpha=0.3)\n",
    "    \n",
    "blue = mlines.Line2D([], [], color='blue', marker='_', linestyle='None', markersize=10, label='importance sampling')\n",
    "red = mlines.Line2D([], [], color='red', marker='_', linestyle='None', markersize=10, label='monte carlo')\n",
    "    \n",
    "plt.xscale('log')\n",
    "plt.grid(True)\n",
    "plt.legend(handles=[blue, red], loc='lower right')\n",
    "plt.savefig('/Users/kevin/Desktop/plot.jpg', format='jpg', dpi=300, bbox_inches='tight')\n",
    "plt.tight_layout()\n",
    "plt.show()"
   ]
  },
  {
   "cell_type": "markdown",
   "metadata": {},
   "source": [
    "## References\n",
    "\n",
    "* http://ib.berkeley.edu/labs/slatkin/eriq/classes/guest_lect/mc_lecture_notes.pdf"
   ]
  }
 ],
 "metadata": {
  "kernelspec": {
   "display_name": "Python 3",
   "language": "python",
   "name": "python3"
  },
  "language_info": {
   "codemirror_mode": {
    "name": "ipython",
    "version": 3
   },
   "file_extension": ".py",
   "mimetype": "text/x-python",
   "name": "python",
   "nbconvert_exporter": "python",
   "pygments_lexer": "ipython3",
   "version": "3.6.5"
  }
 },
 "nbformat": 4,
 "nbformat_minor": 2
}
