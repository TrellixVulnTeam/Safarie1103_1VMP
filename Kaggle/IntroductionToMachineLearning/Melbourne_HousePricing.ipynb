{
 "cells": [
  {
   "cell_type": "code",
   "execution_count": 3,
   "metadata": {
    "collapsed": true,
    "pycharm": {
     "is_executing": false
    }
   },
   "outputs": [],
   "source": [
    "import pandas as pd\n",
    "\n",
    "# Path of the file to read\n",
    "iowa_file_path = 'input/melb_data.csv'\n",
    "\n",
    "\n",
    "# Fill in the line below to read the file into a variable home_data\n",
    "home_data = pd.read_csv(iowa_file_path)"
   ]
  },
  {
   "cell_type": "code",
   "execution_count": 5,
   "outputs": [
    {
     "data": {
      "text/plain": "'              Suburb           Address  Rooms Type      Price Method  \\\\\\n0         Abbotsford      85 Turner St      2    h  1480000.0      S   \\n1         Abbotsford   25 Bloomburg St      2    h  1035000.0      S   \\n2         Abbotsford      5 Charles St      3    h  1465000.0     SP   \\n3         Abbotsford  40 Federation La      3    h   850000.0     PI   \\n4         Abbotsford       55a Park St      4    h  1600000.0     VB   \\n...              ...               ...    ...  ...        ...    ...   \\n13575  Wheelers Hill      12 Strada Cr      4    h  1245000.0      S   \\n13576   Williamstown     77 Merrett Dr      3    h  1031000.0     SP   \\n13577   Williamstown       83 Power St      3    h  1170000.0      S   \\n13578   Williamstown      96 Verdon St      4    h  2500000.0     PI   \\n13579     Yarraville        6 Agnes St      4    h  1285000.0     SP   \\n\\n        SellerG        Date  Distance  Postcode  ...  Bathroom  Car  Landsize  \\\\\\n0        Biggin   3/12/2016       2.5    3067.0  ...       1.0  1.0     202.0   \\n1        Biggin   4/02/2016       2.5    3067.0  ...       1.0  0.0     156.0   \\n2        Biggin   4/03/2017       2.5    3067.0  ...       2.0  0.0     134.0   \\n3        Biggin   4/03/2017       2.5    3067.0  ...       2.0  1.0      94.0   \\n4        Nelson   4/06/2016       2.5    3067.0  ...       1.0  2.0     120.0   \\n...         ...         ...       ...       ...  ...       ...  ...       ...   \\n13575     Barry  26/08/2017      16.7    3150.0  ...       2.0  2.0     652.0   \\n13576  Williams  26/08/2017       6.8    3016.0  ...       2.0  2.0     333.0   \\n13577     Raine  26/08/2017       6.8    3016.0  ...       2.0  4.0     436.0   \\n13578   Sweeney  26/08/2017       6.8    3016.0  ...       1.0  5.0     866.0   \\n13579   Village  26/08/2017       6.3    3013.0  ...       1.0  1.0     362.0   \\n\\n       BuildingArea  YearBuilt  CouncilArea Lattitude  Longtitude  \\\\\\n0               NaN        NaN        Yarra -37.79960   144.99840   \\n1              79.0     1900.0        Yarra -37.80790   144.99340   \\n2             150.0     1900.0        Yarra -37.80930   144.99440   \\n3               NaN        NaN        Yarra -37.79690   144.99690   \\n4             142.0     2014.0        Yarra -37.80720   144.99410   \\n...             ...        ...          ...       ...         ...   \\n13575           NaN     1981.0          NaN -37.90562   145.16761   \\n13576         133.0     1995.0          NaN -37.85927   144.87904   \\n13577           NaN     1997.0          NaN -37.85274   144.88738   \\n13578         157.0     1920.0          NaN -37.85908   144.89299   \\n13579         112.0     1920.0          NaN -37.81188   144.88449   \\n\\n                       Regionname Propertycount  \\n0           Northern Metropolitan        4019.0  \\n1           Northern Metropolitan        4019.0  \\n2           Northern Metropolitan        4019.0  \\n3           Northern Metropolitan        4019.0  \\n4           Northern Metropolitan        4019.0  \\n...                           ...           ...  \\n13575  South-Eastern Metropolitan        7392.0  \\n13576        Western Metropolitan        6380.0  \\n13577        Western Metropolitan        6380.0  \\n13578        Western Metropolitan        6380.0  \\n13579        Western Metropolitan        6543.0  \\n\\n[13580 rows x 21 columns]'"
     },
     "metadata": {},
     "output_type": "execute_result",
     "execution_count": 5
    }
   ],
   "source": [
    "# Call line below with no argument to check that you've loaded the data correctly\n",
    "home_data.head()\n",
    "str(home_data)\n",
    "#home_data['LotArea']"
   ],
   "metadata": {
    "collapsed": false,
    "pycharm": {
     "name": "#%%\n",
     "is_executing": false
    }
   }
  },
  {
   "cell_type": "code",
   "execution_count": null,
   "outputs": [],
   "source": [
    "\n"
   ],
   "metadata": {
    "collapsed": false,
    "pycharm": {
     "name": "#%%\n"
    }
   }
  }
 ],
 "metadata": {
  "kernelspec": {
   "display_name": "Python 3",
   "language": "python",
   "name": "python3"
  },
  "language_info": {
   "codemirror_mode": {
    "name": "ipython",
    "version": 2
   },
   "file_extension": ".py",
   "mimetype": "text/x-python",
   "name": "python",
   "nbconvert_exporter": "python",
   "pygments_lexer": "ipython2",
   "version": "2.7.6"
  },
  "pycharm": {
   "stem_cell": {
    "cell_type": "raw",
    "source": [],
    "metadata": {
     "collapsed": false
    }
   }
  }
 },
 "nbformat": 4,
 "nbformat_minor": 0
}