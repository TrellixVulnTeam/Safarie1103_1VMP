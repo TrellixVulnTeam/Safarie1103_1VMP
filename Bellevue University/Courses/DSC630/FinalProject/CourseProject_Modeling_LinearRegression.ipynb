{
 "cells": [
  {
   "cell_type": "markdown",
   "metadata": {},
   "source": [
    "# Modeling with Linear Regression "
   ]
  },
  {
   "cell_type": "markdown",
   "metadata": {},
   "source": [
    "## Importing the libraries"
   ]
  },
  {
   "cell_type": "code",
   "execution_count": 1,
   "metadata": {
    "pycharm": {
     "is_executing": false,
     "name": "#%%\n"
    }
   },
   "outputs": [],
   "source": [
    "import numpy as np\n",
    "import matplotlib.pyplot as plt\n",
    "import pandas as pd\n",
    "\n",
    "from sklearn.linear_model import LinearRegression\n",
    "from sklearn.model_selection import train_test_split\n",
    "from sklearn.preprocessing import StandardScaler\n",
    "from sklearn.decomposition import PCA\n",
    "import seaborn as sns\n",
    "\n"
   ]
  },
  {
   "cell_type": "markdown",
   "metadata": {},
   "source": [
    "## Importing the dataset"
   ]
  },
  {
   "cell_type": "code",
   "execution_count": 2,
   "metadata": {
    "pycharm": {
     "is_executing": true,
     "name": "#%%\n"
    }
   },
   "outputs": [
    {
     "name": "stdout",
     "output_type": "stream",
     "text": [
      "     Salary  Children  Catalogs  Old  Young  Gender  OwnHome  Married  \\\n",
      "0     47500         0         6    1      0       0        0        1   \n",
      "1     63600         0         6    0      0       1        1        1   \n",
      "2     13500         0        18    0      1       0        1        1   \n",
      "3     85600         1        18    0      0       1        0        0   \n",
      "4     68400         0        12    0      0       0        0        1   \n",
      "..      ...       ...       ...  ...    ...     ...      ...      ...   \n",
      "995   19400         1        18    0      1       0        1        1   \n",
      "996   40500         1        18    0      0       1        1        1   \n",
      "997   44800         0        24    1      0       1        0        1   \n",
      "998   79000         2        18    0      0       1        0        0   \n",
      "999   53600         1        24    0      1       1        1        0   \n",
      "\n",
      "     Distance  AmountSpent  \n",
      "0           1          755  \n",
      "1           0         1318  \n",
      "2           0          296  \n",
      "3           0         2436  \n",
      "4           0         1304  \n",
      "..        ...          ...  \n",
      "995         0          384  \n",
      "996         1         1073  \n",
      "997         0         1417  \n",
      "998         0          671  \n",
      "999         0          973  \n",
      "\n",
      "[1000 rows x 10 columns]\n"
     ]
    }
   ],
   "source": [
    "data = pd.read_csv('Data/DirectMarketing_Cln_LR.csv')\n",
    "\n",
    "print(data)\n",
    "\n",
    "\n"
   ]
  },
  {
   "cell_type": "code",
   "execution_count": 3,
   "metadata": {
    "pycharm": {
     "name": "#%%\n"
    }
   },
   "outputs": [
    {
     "name": "stdout",
     "output_type": "stream",
     "text": [
      "Index(['Salary', 'Children', 'Catalogs', 'Old', 'Young', 'Gender', 'OwnHome',\n",
      "       'Married', 'Distance', 'AmountSpent'],\n",
      "      dtype='object')\n"
     ]
    }
   ],
   "source": [
    "print(data.columns)"
   ]
  },
  {
   "cell_type": "code",
   "execution_count": 4,
   "metadata": {},
   "outputs": [],
   "source": [
    "#seperating independent and dependent variables\n",
    "X = data.drop(['AmountSpent'], axis=1).values\n",
    "y = data['AmountSpent'].values\n",
    "sc = StandardScaler()\n",
    "X = sc.fit_transform(X)\n"
   ]
  },
  {
   "cell_type": "code",
   "execution_count": 5,
   "metadata": {},
   "outputs": [
    {
     "name": "stdout",
     "output_type": "stream",
     "text": [
      "Original number of features: 9\n",
      "Reduced number of features: 1\n"
     ]
    }
   ],
   "source": [
    "# Attempt at feature reduction using PCA \n",
    "\n",
    "# Create a PCA that will retain 99% of variance\n",
    "pca = PCA(n_components=0.1, whiten=True)\n",
    "\n",
    "# Conduct PCA\n",
    "features_pca = pca.fit_transform(X)\n",
    "\n",
    "# Show results\n",
    "print(\"Original number of features:\", X.shape[1])\n",
    "print(\"Reduced number of features:\", features_pca.shape[1])"
   ]
  },
  {
   "cell_type": "markdown",
   "metadata": {},
   "source": [
    "#### Run Model with all features"
   ]
  },
  {
   "cell_type": "code",
   "execution_count": 6,
   "metadata": {
    "pycharm": {
     "name": "#%%\n"
    }
   },
   "outputs": [
    {
     "name": "stdout",
     "output_type": "stream",
     "text": [
      "coefficient of determination: 0.7116840833488567\n",
      "intercept: 1212.2696546624393\n",
      "slope: [ 659.9865722  -242.52033347  277.79307114    8.29311373   41.7857009\n",
      "  -13.83307476  -28.35909887   20.89203709  216.99246537]\n"
     ]
    }
   ],
   "source": [
    "X_train, X_test, y_train, y_test = train_test_split(X, y, test_size = 0.2, random_state = 1)\n",
    "model = LinearRegression()\n",
    "model.fit(X_train, y_train)\n",
    "r_sq = model.score(X_train, y_train)\n",
    "print('coefficient of determination:', r_sq)\n",
    "print('intercept:', model.intercept_)\n",
    "print('slope:', model.coef_)\n",
    "\n",
    "y_pred_all_features = model.predict(X_test)"
   ]
  },
  {
   "cell_type": "markdown",
   "metadata": {},
   "source": [
    "## Coefficient of determination\n",
    "#### The $R^2$ value of 0.71 or confidence interval of 71% \n",
    "\n",
    "\n",
    "## Intercept\n",
    "#### Intercept of 1203.845 is the amount that would be spent if all independent variables were zero. \n",
    "\n",
    "## Slope\n",
    "#### For each predictor 'Salary', 'Children', 'Catalogs', 'Old', 'Young', 'Gender', 'OwnHome','Married', 'Distance',  if their value goes up by one, 'AmountSpent', will be their respective slope in  [656.57093037 -243.50236366  277.64981606    8.34886099   41.6982116 -13.83389792  -28.37283187   20.89161662  218.61659718]. For example, for every one dollar increase in salary, amount spent will increase by 656.57, and decrease by 243.50 for every added child. It is worth noting the variations of increase/decrease among features.\n",
    "       "
   ]
  },
  {
   "cell_type": "markdown",
   "metadata": {},
   "source": [
    "#### Run Model with reduced   dimentianlity using PCA"
   ]
  },
  {
   "cell_type": "code",
   "execution_count": 7,
   "metadata": {},
   "outputs": [
    {
     "name": "stdout",
     "output_type": "stream",
     "text": [
      "coefficient of determination: 0.4735520252325828\n",
      "intercept: 1203.845\n",
      "slope: [658.74085737]\n"
     ]
    }
   ],
   "source": [
    "X = features_pca\n",
    "X_train, X_test, y_train, y_test = train_test_split(X, y, test_size = 0.2, random_state = 1)\n",
    "from sklearn.preprocessing import StandardScaler\n",
    "sc = StandardScaler()\n",
    "X_train = sc.fit_transform(X_train)\n",
    "X_test = sc.transform(X_test)\n",
    "\n",
    "\n",
    "from sklearn.linear_model import LinearRegression\n",
    "model = LinearRegression()\n",
    "model.fit(X_train, y_train)\n",
    "\n",
    "r_sq = model.score(X_train, y_train)\n",
    "print('coefficient of determination:', r_sq)\n",
    "print('intercept:', model.intercept_)\n",
    "print('slope:', model.coef_)\n",
    "\n",
    "y_pred_pca = model.predict(X_test)"
   ]
  },
  {
   "cell_type": "markdown",
   "metadata": {},
   "source": [
    "#### Note that reduced dimentianility lowered $R^2$ to 47%. Intercept did not change and 1 dollar increase in salary added 659 to amount spent which is only 3 dollars more than all features included in the model."
   ]
  },
  {
   "cell_type": "markdown",
   "metadata": {},
   "source": [
    "#### Run Model with ['Salary', 'Children', 'Catalogs','Gender']"
   ]
  },
  {
   "cell_type": "code",
   "execution_count": 8,
   "metadata": {},
   "outputs": [
    {
     "name": "stdout",
     "output_type": "stream",
     "text": [
      "coefficient of determination: 0.6597996191982207\n",
      "intercept: 1203.845\n",
      "slope: [ 614.7067424  -240.54417011  313.69381329  -16.59658213]\n"
     ]
    }
   ],
   "source": [
    "X = data[['Salary', 'Children', 'Catalogs','Gender']]\n",
    "X_train, X_test, y_train, y_test = train_test_split(X, y, test_size = 0.2, random_state = 1)\n",
    "from sklearn.preprocessing import StandardScaler\n",
    "sc = StandardScaler()\n",
    "X_train = sc.fit_transform(X_train)\n",
    "X_test = sc.transform(X_test)\n",
    "\n",
    "\n",
    "from sklearn.linear_model import LinearRegression\n",
    "model = LinearRegression()\n",
    "model.fit(X_train, y_train)\n",
    "\n",
    "r_sq = model.score(X_train, y_train)\n",
    "print('coefficient of determination:', r_sq)\n",
    "print('intercept:', model.intercept_)\n",
    "print('slope:', model.coef_)\n",
    "\n",
    "y_pred_selected_features = model.predict(X_test)"
   ]
  },
  {
   "cell_type": "markdown",
   "metadata": {},
   "source": [
    "#### In this case, $R^2$ went up to 65% . Intercept did not change and 1 dollar increase in salary added 614 to amount spent which is lower than the previous 2 models"
   ]
  },
  {
   "cell_type": "markdown",
   "metadata": {},
   "source": [
    "## Evaluating results"
   ]
  },
  {
   "cell_type": "code",
   "execution_count": 25,
   "metadata": {},
   "outputs": [
    {
     "data": {
      "text/plain": [
       "{'TestData': array([ 857, 2191, 1071,  983, 1485, 1634,  917, 1120,  821, 2574, 1437,\n",
       "        2339, 2279,  616, 1047, 3079,  550,  782,  909, 5878, 1355, 1781,\n",
       "        1398,  417,  314,  451, 2150,  863, 1322,  617,  791, 1905,  197,\n",
       "        1021, 3941, 1308,  220, 2610,  788,  160,  947, 1011, 1513, 1753,\n",
       "         470,  619,  260, 3082, 1699,  384,  654, 2226, 1594,  183, 1081,\n",
       "         567, 1197,  630, 1666, 1384, 2070,  690,  881, 1757,  824, 2904,\n",
       "        2710,   65,  245, 1956,  216, 2224, 1512,  606,  173, 1310,  708,\n",
       "        1523,  915,  422, 1789,  705,  907,  445,  529,  941,  409,  642,\n",
       "         794,  170,  358, 2681,  753, 1685,  192,  841,  164,  191, 2183,\n",
       "         581, 1012, 2136, 1473,  474,  788,  167, 3293, 1414, 1560,  395,\n",
       "         233,  954,  422,  614,  929, 1582,  163, 2632,  344,  195,  473,\n",
       "        2321, 2436,  202,  902, 2935, 3168, 2561, 1821, 1062,  586, 1654,\n",
       "         206,  296, 1417, 1320, 2523, 2318, 3063, 1500,  615, 1702, 1773,\n",
       "        1944, 1153,  371, 2090,  269, 2107,  491,  448,  510,  158, 3126,\n",
       "        1263, 2838, 2840, 1408, 1821,  774, 3237,  202,  436, 1611, 2258,\n",
       "         418, 1165,  919, 1566, 1298, 1721,  704,  438, 1699,  392, 1985,\n",
       "        1457,  968,  172, 2177, 5830, 1116,  550,  737,   47, 1186, 3491,\n",
       "        1583,  322, 1692,  180, 1332, 2479, 2491,  754, 1985,  757,  526,\n",
       "         340,  459], dtype=int64),\n",
       " 'PredAllFeatures': array([1295.53443363, 1887.88890675, 1550.03208641, 1410.27558746,\n",
       "        2265.45939896, 1510.61876306, 1348.90566786, 1056.21589218,\n",
       "        1112.63533914, 2025.54067521, 2011.98791417, 2916.05677005,\n",
       "        2131.54790235,  498.93652933,  917.12220099, 2012.52023515,\n",
       "        1017.07043013,  978.67033662,  888.37654668, 3332.30916904,\n",
       "        1596.93170871, 1748.96257072, 1071.18879269,  463.20928107,\n",
       "         567.972887  ,  310.6276305 , 2005.18509195, 1676.84503111,\n",
       "        1402.95923964,  328.10388738,  733.63814793, 1632.27726489,\n",
       "         129.99310424,  952.83374423, 2498.6626125 , 1720.19948842,\n",
       "         133.99655106, 2225.13038805, 1249.79542727,  341.31140761,\n",
       "         963.47572038, 1072.21535307, 1850.12924707, 1103.21426084,\n",
       "         154.34475551,  627.31485982,  680.99782899, 2333.20527448,\n",
       "        1587.87088538,  472.99601604,  642.78168175, 1851.93244601,\n",
       "        2308.52422259, -133.15234953,  855.89093802,  783.07981896,\n",
       "         647.99708373, 1085.33285411, 1550.70252608, 1319.8436222 ,\n",
       "        1830.75909966, 1804.15966085, 1366.41283571, 2223.34923594,\n",
       "        1073.64255335, 1419.33453431, 2520.60488889, -421.02465825,\n",
       "         649.22194563, 2123.5913493 ,  468.63347967, 1745.87617886,\n",
       "        1858.5113843 ,  858.26202312, -217.93733566, 1654.53736203,\n",
       "        1148.63481828, 1700.41260301,  570.12322117,  550.59593217,\n",
       "        2402.97160694, 1270.84410867, 1290.26262369,  692.27291984,\n",
       "         306.90423044, 1639.33799813,  490.82662298, 1009.19056573,\n",
       "        1254.5197669 ,  229.20352058,  231.33809311, 2471.86321198,\n",
       "        1297.2573512 , 1952.75132854,  243.01804622,  802.18657041,\n",
       "         265.03385959,  488.02068046, 2089.54351892,  624.41792437,\n",
       "         888.70094474, 2331.18664501, 1450.9935341 ,  343.48899854,\n",
       "        1054.10011502,  307.43085799, 2309.87187448, 2050.80938144,\n",
       "        1409.44700561,  428.70131017,   43.70100134, 1757.35214269,\n",
       "         574.68974682, 1001.8493374 , 1269.84793221, 1273.90270586,\n",
       "         203.3225424 , 2325.12575206,  796.04072392,  702.64357639,\n",
       "         479.84979049, 1283.23712746, 1795.68567477, -179.40374229,\n",
       "        1440.03792916, 1785.168965  , 2471.39569266, 1830.53231935,\n",
       "        2517.6488452 ,  923.85116824,  570.96497938, 2248.13527352,\n",
       "        -389.31568813,  576.59987973, 1460.70357974, 1531.49322113,\n",
       "        1788.81805089, 2061.51317137, 2757.04789333,  971.90580418,\n",
       "         820.13453857, 1962.59841031, 1547.20353116, 2379.69691258,\n",
       "         793.15442783,  512.81448924, 2554.23361331,  301.3376513 ,\n",
       "        1960.57293995,   94.54766252,  739.86314458, -365.04398784,\n",
       "         131.24153279, 2791.59279681, 1774.45686664, 2387.49356367,\n",
       "        1848.01308511,  863.27537846, 2667.63936129,  514.4431182 ,\n",
       "        2646.93076671,  760.34195445, -367.37862167, 1328.41885102,\n",
       "        2597.07894326,  530.57862001, 1643.67191036, 1404.79253786,\n",
       "        2032.84802373, 1160.03166061, 2241.66502897, 1084.68413088,\n",
       "         797.15049585, 1503.25406609,  834.91108584, 1928.59407963,\n",
       "         817.50607911, 1338.63383206,  100.93795608, 2052.67738203,\n",
       "        3255.78159098, 1425.45034353,  727.44928304,  887.54120249,\n",
       "        -595.81604324, 1611.04845676, 2838.41383552, 1332.39362946,\n",
       "         442.67857213, 1531.05524539,    9.76267639, 1359.65295749,\n",
       "        1833.19270775, 2131.82791462,  693.72261376, 1821.6405925 ,\n",
       "         614.88261201,  492.11847252,  540.84580159,  378.64656637]),\n",
       " 'PredPca': array([1061.92588511, 1364.2541873 , 1341.56035285, 1299.30857892,\n",
       "        2286.92976524,  959.28891341, 1067.24939317, 1705.31936525,\n",
       "         894.93626643, 1872.96395273, 2005.09076288, 2149.69664992,\n",
       "        1901.38005665,  683.31479422, 1683.92044271, 1911.72471712,\n",
       "         818.27308284,  814.14031664,  982.1097271 , 2288.03784592,\n",
       "        1149.68067576, 1818.28656542, 1396.6256328 ,  332.94213329,\n",
       "         200.45547015,  294.64611219, 2020.70862039, 1948.82818281,\n",
       "         781.03233983,  514.73639253,  943.09691224, 1760.27657591,\n",
       "         141.06939045, 1162.31160725, 2078.89285908, 1938.78879603,\n",
       "         450.22495398, 1932.1015722 , 1013.49316281,   49.59516721,\n",
       "        1674.4972335 ,  889.48382001, 1326.87602139,  843.11801884,\n",
       "         118.48893085, 1233.46423272,  243.61829134, 1887.27216671,\n",
       "        1906.84330259,  211.9780716 , 1393.49501053, 1085.13866374,\n",
       "        2078.81563003,  869.30175029, 1663.95083358,  765.33523478,\n",
       "        1456.57577377,  867.84885972, 1472.81517375, 1643.64452828,\n",
       "        1931.64778229, 1154.6476326 , 1864.29614608, 2075.33655153,\n",
       "        1779.40853047, 1757.66795962, 2030.30231755,  971.22551847,\n",
       "         301.22035103, 2029.76770251,  830.56248361, 1676.74055936,\n",
       "         983.50398556,  929.01308747,  515.03916882, 1083.01813566,\n",
       "        1335.77180187, 1022.36676444, 1487.8475535 ,   76.06263513,\n",
       "        1998.40286102, 1506.4495958 ,  421.27825392, 1596.77755551,\n",
       "         972.46615071, 1936.74330506, 1117.14970456, 1388.4349497 ,\n",
       "        1641.54445801,  174.04190349,  990.43989601, 1707.62897262,\n",
       "        1822.67248075, 1677.19794535,  184.23221164,  910.37644967,\n",
       "        1379.25543274,  686.96545934, 1889.9655098 ,  374.10532943,\n",
       "         337.72293162, 2111.17623961, 1947.90896573, 1027.71317162,\n",
       "         261.66123036,    7.66127605, 1736.18802626, 2017.99305059,\n",
       "         944.29233763,  321.4734331 ,  928.07883875, 1500.83542848,\n",
       "         238.96058799,  888.00035326, 1589.4856592 , 1969.80097085,\n",
       "         165.44037835, 1897.00132765,  263.8392729 ,  895.17217542,\n",
       "        1551.00764507, 1498.15402239, 1963.87657769,   19.98223377,\n",
       "        1305.003871  , 1490.85062099, 1651.97110967, 1553.40202679,\n",
       "        2191.40615187, 1307.18909986,  721.72782265, 2058.7454047 ,\n",
       "          23.97995683,  203.32264519, 1628.08763202,  703.3187495 ,\n",
       "        2128.51834391, 2064.63854636, 2270.97025942, 1590.70600219,\n",
       "         426.73722576, 1448.00277035, 1014.53593432, 2102.46982416,\n",
       "        1152.33039585,  349.42838981, 2246.65317278,  722.07847083,\n",
       "        1475.38419775,  467.78785725, 1103.94536082,   44.46102419,\n",
       "        1366.81429808, 2077.65742076, 1534.76538898, 2060.20523223,\n",
       "        1937.38213239,  800.01573011, 2222.99606643,  476.30781987,\n",
       "        2115.75529265,  939.92597742,  186.16111593,  862.83058313,\n",
       "        2062.91429958, 1077.4778929 , 1432.38016813, 1687.21776555,\n",
       "        2085.78541844, 1410.51229186, 2056.59502341, 1597.51408682,\n",
       "        1277.49460391, 1457.04571099,  797.40420161, 1858.37670506,\n",
       "        1129.74993625, 1476.09610305,  512.9997655 , 1627.23178424,\n",
       "        1781.62921802, 1710.76750117,  134.83972359,  461.55416836,\n",
       "         -32.23590831, 1331.1653872 , 2123.8920745 , 1610.27267829,\n",
       "          83.28447401, 1029.56455526,  113.52527578, 1664.07101635,\n",
       "        1975.96145544,  900.22044543,  788.52078992, 1940.47802426,\n",
       "        1596.26626826, 1229.00078288, 1645.4219983 ,  193.03548207]),\n",
       " 'PredSelect': array([ 1.49379264e+03,  1.53767216e+03,  1.21930285e+03,  1.69636937e+03,\n",
       "         2.31988982e+03,  1.24744659e+03,  1.59250274e+03,  1.29252339e+03,\n",
       "         7.65440441e+02,  2.20736001e+03,  2.10181299e+03,  2.58608933e+03,\n",
       "         1.80286029e+03,  5.10891993e+02,  1.06481473e+03,  2.18325474e+03,\n",
       "         1.14221448e+03,  1.15568007e+03,  1.05193893e+03,  2.97580070e+03,\n",
       "         1.82471418e+03,  1.80219128e+03,  1.31092862e+03,  5.79313653e+02,\n",
       "         7.33428868e+02,  3.87718970e+02,  2.18098454e+03,  1.72735429e+03,\n",
       "         1.10519933e+03,  3.46326525e+02,  8.58325016e+02,  1.23794024e+03,\n",
       "         2.99545405e+02,  1.11518880e+03,  2.08591012e+03,  1.86545642e+03,\n",
       "         1.64595835e+02,  1.89044760e+03,  8.00653250e+02,  9.31538237e-01,\n",
       "         1.20569651e+03,  1.23735044e+03,  1.59980397e+03,  1.32102477e+03,\n",
       "         2.85517471e+02,  7.05623964e+02,  2.86757475e+02,  2.02386106e+03,\n",
       "         1.69279522e+03,  6.32592856e+02,  7.12814982e+02,  1.51825555e+03,\n",
       "         2.47692544e+03, -1.09516843e+01,  1.00751587e+03,  8.25659699e+02,\n",
       "         7.91351598e+02,  1.34111039e+03,  1.67956179e+03,  9.94141681e+02,\n",
       "         1.85494222e+03,  1.33158523e+03,  1.52231282e+03,  2.29969752e+03,\n",
       "         1.19946819e+03,  1.61597662e+03,  2.16708209e+03, -2.99701559e+02,\n",
       "         8.34409170e+02,  2.25504231e+03,  5.87767018e+02,  1.88196790e+03,\n",
       "         2.02954230e+03,  1.03565961e+03, -3.72016729e+01,  1.78254251e+03,\n",
       "         1.28135545e+03,  1.42513882e+03,  7.72170682e+02,  2.08786735e+02,\n",
       "         2.56072525e+03,  1.48596668e+03,  9.54658256e+02,  9.03044179e+02,\n",
       "         4.12961111e+02,  1.69226696e+03,  6.65490330e+02,  1.20414159e+03,\n",
       "         1.38801699e+03,  3.92429980e+02,  3.30298167e+02,  2.62961122e+03,\n",
       "         1.37196983e+03,  2.18502300e+03, -1.47125988e+02,  9.83159631e+02,\n",
       "        -1.72415308e+01,  1.80624192e+02,  2.25706154e+03,  7.78985255e+02,\n",
       "         1.07053359e+03,  2.40065902e+03,  1.54084353e+03,  4.35298122e+02,\n",
       "         7.65755354e+02, -6.76156030e+01,  1.97211796e+03,  2.13815913e+03,\n",
       "         1.11836017e+03,  5.47005974e+02,  1.54625167e+02,  1.99748559e+03,\n",
       "         2.24054674e+02,  5.80431710e+02,  1.34864024e+03,  1.34281471e+03,\n",
       "         3.68199222e+02,  1.96755478e+03,  9.95696598e+02,  9.75504299e+02,\n",
       "         6.06681699e+02,  1.54631142e+03,  1.93612946e+03, -7.56925226e+01,\n",
       "         1.11632213e+03,  1.56852295e+03,  2.68983048e+03,  1.99029103e+03,\n",
       "         2.66080084e+03,  1.08073641e+03,  7.62055726e+02,  2.42038700e+03,\n",
       "        -2.47308257e+02,  7.41505788e+02,  1.62481042e+03,  1.17149508e+03,\n",
       "         1.87364001e+03,  2.13626538e+03,  2.88493536e+03,  1.11150798e+03,\n",
       "         1.01096454e+03,  1.56873630e+03,  1.26978360e+03,  2.54356002e+03,\n",
       "         9.53775890e+02,  6.25755940e+02,  2.68313785e+03,  3.87631102e+02,\n",
       "         1.70783101e+03,  1.64489159e+02,  8.67055680e+02, -2.73326088e+02,\n",
       "         2.63789063e+02,  2.43273454e+03,  1.93779106e+03,  2.06739821e+03,\n",
       "         1.87109606e+03,  4.60787691e+02,  2.71565888e+03,  9.79800549e+01,\n",
       "         2.27346634e+03,  8.12133693e+02, -2.34059548e+02,  1.47259249e+03,\n",
       "         2.74245594e+03,  6.59200483e+02,  1.85422694e+03,  1.51848771e+03,\n",
       "         2.14625486e+03,  1.20437375e+03,  2.41432931e+03,  1.18026847e+03,\n",
       "         9.13372486e+02,  1.63513873e+03,  9.37979690e+02,  1.51533515e+03,\n",
       "         9.39747956e+02,  1.50592682e+03,  1.58556952e+02,  2.19827171e+03,\n",
       "         2.96457122e+03,  1.49930679e+03,  3.74363586e+02,  1.02533130e+03,\n",
       "        -4.89383687e+02,  1.23960183e+03,  2.51339706e+03,  1.40719791e+03,\n",
       "         9.58353432e+01,  1.71567577e+03,  1.38239171e+02,  1.53518862e+03,\n",
       "         1.97121679e+03,  1.83771546e+03,  7.85507258e+02,  1.55413738e+03,\n",
       "         7.33132763e+02,  6.71297056e+02,  6.88728512e+02,  4.95517380e+02])}"
      ]
     },
     "execution_count": 25,
     "metadata": {},
     "output_type": "execute_result"
    }
   ],
   "source": [
    "data = {'TestData': y_test, 'PredAllFeatures': y_pred_all_features, 'PredPca':y_pred_pca,'PredSelect':y_pred_selected_features}\n",
    "data"
   ]
  },
  {
   "cell_type": "code",
   "execution_count": 26,
   "metadata": {},
   "outputs": [
    {
     "data": {
      "text/html": [
       "<div>\n",
       "<style scoped>\n",
       "    .dataframe tbody tr th:only-of-type {\n",
       "        vertical-align: middle;\n",
       "    }\n",
       "\n",
       "    .dataframe tbody tr th {\n",
       "        vertical-align: top;\n",
       "    }\n",
       "\n",
       "    .dataframe thead th {\n",
       "        text-align: right;\n",
       "    }\n",
       "</style>\n",
       "<table border=\"1\" class=\"dataframe\">\n",
       "  <thead>\n",
       "    <tr style=\"text-align: right;\">\n",
       "      <th></th>\n",
       "      <th>TestData</th>\n",
       "      <th>PredAllFeatures</th>\n",
       "      <th>PredPca</th>\n",
       "      <th>PredSelect</th>\n",
       "    </tr>\n",
       "  </thead>\n",
       "  <tbody>\n",
       "    <tr>\n",
       "      <th>0</th>\n",
       "      <td>857</td>\n",
       "      <td>1295.534434</td>\n",
       "      <td>1061.925885</td>\n",
       "      <td>1493.792637</td>\n",
       "    </tr>\n",
       "    <tr>\n",
       "      <th>1</th>\n",
       "      <td>2191</td>\n",
       "      <td>1887.888907</td>\n",
       "      <td>1364.254187</td>\n",
       "      <td>1537.672161</td>\n",
       "    </tr>\n",
       "    <tr>\n",
       "      <th>2</th>\n",
       "      <td>1071</td>\n",
       "      <td>1550.032086</td>\n",
       "      <td>1341.560353</td>\n",
       "      <td>1219.302853</td>\n",
       "    </tr>\n",
       "    <tr>\n",
       "      <th>3</th>\n",
       "      <td>983</td>\n",
       "      <td>1410.275587</td>\n",
       "      <td>1299.308579</td>\n",
       "      <td>1696.369370</td>\n",
       "    </tr>\n",
       "    <tr>\n",
       "      <th>4</th>\n",
       "      <td>1485</td>\n",
       "      <td>2265.459399</td>\n",
       "      <td>2286.929765</td>\n",
       "      <td>2319.889819</td>\n",
       "    </tr>\n",
       "  </tbody>\n",
       "</table>\n",
       "</div>"
      ],
      "text/plain": [
       "   TestData  PredAllFeatures      PredPca   PredSelect\n",
       "0       857      1295.534434  1061.925885  1493.792637\n",
       "1      2191      1887.888907  1364.254187  1537.672161\n",
       "2      1071      1550.032086  1341.560353  1219.302853\n",
       "3       983      1410.275587  1299.308579  1696.369370\n",
       "4      1485      2265.459399  2286.929765  2319.889819"
      ]
     },
     "execution_count": 26,
     "metadata": {},
     "output_type": "execute_result"
    }
   ],
   "source": [
    "df = pd.DataFrame(data=data)\n",
    "df.head()"
   ]
  },
  {
   "cell_type": "code",
   "execution_count": 27,
   "metadata": {},
   "outputs": [
    {
     "data": {
      "text/html": [
       "<div>\n",
       "<style scoped>\n",
       "    .dataframe tbody tr th:only-of-type {\n",
       "        vertical-align: middle;\n",
       "    }\n",
       "\n",
       "    .dataframe tbody tr th {\n",
       "        vertical-align: top;\n",
       "    }\n",
       "\n",
       "    .dataframe thead th {\n",
       "        text-align: right;\n",
       "    }\n",
       "</style>\n",
       "<table border=\"1\" class=\"dataframe\">\n",
       "  <thead>\n",
       "    <tr style=\"text-align: right;\">\n",
       "      <th></th>\n",
       "      <th>TestData</th>\n",
       "      <th>PredAllFeatures</th>\n",
       "      <th>PredPca</th>\n",
       "      <th>PredSelect</th>\n",
       "      <th>Test_cls</th>\n",
       "      <th>PredPca_cls</th>\n",
       "    </tr>\n",
       "  </thead>\n",
       "  <tbody>\n",
       "    <tr>\n",
       "      <th>0</th>\n",
       "      <td>857</td>\n",
       "      <td>1295.534434</td>\n",
       "      <td>1061.925885</td>\n",
       "      <td>1493.792637</td>\n",
       "      <td>Low</td>\n",
       "      <td>Low</td>\n",
       "    </tr>\n",
       "    <tr>\n",
       "      <th>1</th>\n",
       "      <td>2191</td>\n",
       "      <td>1887.888907</td>\n",
       "      <td>1364.254187</td>\n",
       "      <td>1537.672161</td>\n",
       "      <td>High</td>\n",
       "      <td>Med</td>\n",
       "    </tr>\n",
       "    <tr>\n",
       "      <th>2</th>\n",
       "      <td>1071</td>\n",
       "      <td>1550.032086</td>\n",
       "      <td>1341.560353</td>\n",
       "      <td>1219.302853</td>\n",
       "      <td>Med</td>\n",
       "      <td>Med</td>\n",
       "    </tr>\n",
       "    <tr>\n",
       "      <th>3</th>\n",
       "      <td>983</td>\n",
       "      <td>1410.275587</td>\n",
       "      <td>1299.308579</td>\n",
       "      <td>1696.369370</td>\n",
       "      <td>Low</td>\n",
       "      <td>Low</td>\n",
       "    </tr>\n",
       "    <tr>\n",
       "      <th>4</th>\n",
       "      <td>1485</td>\n",
       "      <td>2265.459399</td>\n",
       "      <td>2286.929765</td>\n",
       "      <td>2319.889819</td>\n",
       "      <td>Med</td>\n",
       "      <td>High</td>\n",
       "    </tr>\n",
       "    <tr>\n",
       "      <th>...</th>\n",
       "      <td>...</td>\n",
       "      <td>...</td>\n",
       "      <td>...</td>\n",
       "      <td>...</td>\n",
       "      <td>...</td>\n",
       "      <td>...</td>\n",
       "    </tr>\n",
       "    <tr>\n",
       "      <th>195</th>\n",
       "      <td>1985</td>\n",
       "      <td>1821.640592</td>\n",
       "      <td>1940.478024</td>\n",
       "      <td>1554.137377</td>\n",
       "      <td>High</td>\n",
       "      <td>High</td>\n",
       "    </tr>\n",
       "    <tr>\n",
       "      <th>196</th>\n",
       "      <td>757</td>\n",
       "      <td>614.882612</td>\n",
       "      <td>1596.266268</td>\n",
       "      <td>733.132763</td>\n",
       "      <td>Low</td>\n",
       "      <td>Med</td>\n",
       "    </tr>\n",
       "    <tr>\n",
       "      <th>197</th>\n",
       "      <td>526</td>\n",
       "      <td>492.118473</td>\n",
       "      <td>1229.000783</td>\n",
       "      <td>671.297056</td>\n",
       "      <td>Low</td>\n",
       "      <td>Low</td>\n",
       "    </tr>\n",
       "    <tr>\n",
       "      <th>198</th>\n",
       "      <td>340</td>\n",
       "      <td>540.845802</td>\n",
       "      <td>1645.421998</td>\n",
       "      <td>688.728512</td>\n",
       "      <td>Low</td>\n",
       "      <td>Med</td>\n",
       "    </tr>\n",
       "    <tr>\n",
       "      <th>199</th>\n",
       "      <td>459</td>\n",
       "      <td>378.646566</td>\n",
       "      <td>193.035482</td>\n",
       "      <td>495.517380</td>\n",
       "      <td>Low</td>\n",
       "      <td>Low</td>\n",
       "    </tr>\n",
       "  </tbody>\n",
       "</table>\n",
       "<p>200 rows × 6 columns</p>\n",
       "</div>"
      ],
      "text/plain": [
       "     TestData  PredAllFeatures      PredPca   PredSelect Test_cls PredPca_cls\n",
       "0         857      1295.534434  1061.925885  1493.792637      Low         Low\n",
       "1        2191      1887.888907  1364.254187  1537.672161     High         Med\n",
       "2        1071      1550.032086  1341.560353  1219.302853      Med         Med\n",
       "3         983      1410.275587  1299.308579  1696.369370      Low         Low\n",
       "4        1485      2265.459399  2286.929765  2319.889819      Med        High\n",
       "..        ...              ...          ...          ...      ...         ...\n",
       "195      1985      1821.640592  1940.478024  1554.137377     High        High\n",
       "196       757       614.882612  1596.266268   733.132763      Low         Med\n",
       "197       526       492.118473  1229.000783   671.297056      Low         Low\n",
       "198       340       540.845802  1645.421998   688.728512      Low         Med\n",
       "199       459       378.646566   193.035482   495.517380      Low         Low\n",
       "\n",
       "[200 rows x 6 columns]"
      ]
     },
     "execution_count": 27,
     "metadata": {},
     "output_type": "execute_result"
    }
   ],
   "source": [
    "TestData = pd.Series(df['TestData'])\n",
    "# Med\n",
    "Median_bound = TestData.quantile(0.50)\n",
    "# Third\n",
    "Third_bound = TestData.quantile(0.75)\n",
    "\n",
    "df.loc[(df['TestData'] <= Median_bound),'Test_cls'] = 'Low'  \n",
    "df.loc[(df['TestData'] > Median_bound) & (df['TestData'] <= Third_bound), 'Test_cls'] = 'Med'  \n",
    "df.loc[(df['TestData'] > Third_bound), 'Test_cls'] = 'High'  \n",
    "\n",
    "PredPcaData = pd.Series(df['PredPca'])\n",
    "\n",
    "# Med\n",
    "Median_bound = PredPcaData.quantile(0.50)\n",
    "\n",
    "# Third\n",
    "Third_bound = PredPcaData.quantile(0.75)\n",
    "\n",
    "df.loc[(df['PredPca'] <= Median_bound),'PredPca_cls'] = 'Low'  \n",
    "df.loc[(df['PredPca'] > Median_bound) & (df['PredPca'] <= Third_bound), 'PredPca_cls'] = 'Med'  \n",
    "df.loc[(df['PredPca'] > Third_bound), 'PredPca_cls'] = 'High'  \n",
    "df"
   ]
  },
  {
   "cell_type": "code",
   "execution_count": 29,
   "metadata": {
    "pycharm": {
     "name": "#%%\n"
    }
   },
   "outputs": [
    {
     "data": {
      "text/html": [
       "<div>\n",
       "<style scoped>\n",
       "    .dataframe tbody tr th:only-of-type {\n",
       "        vertical-align: middle;\n",
       "    }\n",
       "\n",
       "    .dataframe tbody tr th {\n",
       "        vertical-align: top;\n",
       "    }\n",
       "\n",
       "    .dataframe thead th {\n",
       "        text-align: right;\n",
       "    }\n",
       "</style>\n",
       "<table border=\"1\" class=\"dataframe\">\n",
       "  <thead>\n",
       "    <tr style=\"text-align: right;\">\n",
       "      <th></th>\n",
       "      <th>predicted high</th>\n",
       "      <th>predicted low</th>\n",
       "      <th>predicted med</th>\n",
       "    </tr>\n",
       "  </thead>\n",
       "  <tbody>\n",
       "    <tr>\n",
       "      <th>actual high</th>\n",
       "      <td>34</td>\n",
       "      <td>3</td>\n",
       "      <td>13</td>\n",
       "    </tr>\n",
       "    <tr>\n",
       "      <th>actual low</th>\n",
       "      <td>4</td>\n",
       "      <td>78</td>\n",
       "      <td>18</td>\n",
       "    </tr>\n",
       "    <tr>\n",
       "      <th>actual med</th>\n",
       "      <td>12</td>\n",
       "      <td>19</td>\n",
       "      <td>19</td>\n",
       "    </tr>\n",
       "  </tbody>\n",
       "</table>\n",
       "</div>"
      ],
      "text/plain": [
       "             predicted high  predicted low  predicted med\n",
       "actual high              34              3             13\n",
       "actual low                4             78             18\n",
       "actual med               12             19             19"
      ]
     },
     "execution_count": 29,
     "metadata": {},
     "output_type": "execute_result"
    }
   ],
   "source": [
    "from sklearn import metrics \n",
    "conf_matrix_lr = pd.DataFrame(metrics.confusion_matrix(df['Test_cls'], df['PredPca_cls']), index = ['actual high', 'actual med', 'actual low'], \n",
    "                               columns = ['predicted high', 'predicted med', 'predicted low'])\n",
    "\n",
    "conf_matrix_lr"
   ]
  },
  {
   "cell_type": "code",
   "execution_count": 185,
   "metadata": {},
   "outputs": [
    {
     "data": {
      "text/plain": [
       "array([0.68, 0.78, 0.38])"
      ]
     },
     "execution_count": 185,
     "metadata": {},
     "output_type": "execute_result"
    }
   ],
   "source": [
    "# accuracy score\n",
    "metrics.accuracy_score(df['Test_cls'], df['PredPca_cls'])"
   ]
  },
  {
   "cell_type": "code",
   "execution_count": 186,
   "metadata": {
    "pycharm": {
     "name": "#%%\n"
    }
   },
   "outputs": [
    {
     "data": {
      "image/png": "[encoded data removed]",
      "text/plain": [
       "<Figure size 720x576 with 2 Axes>"
      ]
     },
     "metadata": {
      "needs_background": "light"
     },
     "output_type": "display_data"
    }
   ],
   "source": [
    "fig, ax = plt.subplots(figsize = (10,8))\n",
    "\n",
    "\n",
    "sns.heatmap(conf_matrix_lr/np.sum(conf_matrix_lr), annot=True, \n",
    "            fmt='.2%', cmap='Blues')\n",
    "\n",
    "ax.set_title('Linear Regression  Confusion Matrix', fontsize = 16, loc='left')\n",
    "\n",
    "plt.show()"
   ]
  },
  {
   "cell_type": "code",
   "execution_count": 187,
   "metadata": {},
   "outputs": [
    {
     "data": {
      "image/png": "[encoded data removed]",
      "text/plain": [
       "<Figure size 720x576 with 2 Axes>"
      ]
     },
     "metadata": {
      "needs_background": "light"
     },
     "output_type": "display_data"
    }
   ],
   "source": [
    "fig, ax = plt.subplots(figsize = (10,8))\n",
    "\n",
    "\n",
    "sns.heatmap(conf_matrix_lr/np.sum(conf_matrix_lr), annot=True, \n",
    "            fmt='.2%', cmap='Blues')\n",
    "\n",
    "ax.set_title('Linear Regression  Confusion Matrix', fontsize = 16, loc='left')\n",
    "\n",
    "plt.show()"
   ]
  },
  {
   "cell_type": "code",
   "execution_count": null,
   "metadata": {},
   "outputs": [],
   "source": []
  }
 ],
 "metadata": {
  "kernelspec": {
   "display_name": "Python 3",
   "language": "python",
   "name": "python3"
  },
  "language_info": {
   "codemirror_mode": {
    "name": "ipython",
    "version": 3
   },
   "file_extension": ".py",
   "mimetype": "text/x-python",
   "name": "python",
   "nbconvert_exporter": "python",
   "pygments_lexer": "ipython3",
   "version": "3.7.4"
  },
  "pycharm": {
   "stem_cell": {
    "cell_type": "raw",
    "source": [],
    "metadata": {
     "collapsed": false
    }
   }
  }
 },
 "nbformat": 4,
 "nbformat_minor": 1
}