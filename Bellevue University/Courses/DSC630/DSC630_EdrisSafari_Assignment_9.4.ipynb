{
 "cells": [
  {
   "cell_type": "markdown",
   "metadata": {},
   "source": [
    "# Binomial Distribution- Theory\n",
    "\n",
    "\n",
    "**Binomial distribution** is a probability distribution that summarises the likelihood that a variable will take one of two independent values under a given set of parameters. The distribution is obtained by performing a number of **Bernoulli** trials.\n",
    "\n",
    "A Bernoulli trial is assumed to meet each of these criteria :\n",
    "\n",
    "- There must be only 2 possible outcomes.\n",
    "- Each outcome has a fixed probability of occurring. A success has the probability of p, and a failure has the probability of 1 – p.\n",
    "- Each trial is completely independent of all others.\n",
    "\n",
    "The binomial random variable represents the number of successes(r) in n successive independent trials of a Bernoulli experiment.\n",
    "\n",
    "Probability of achieving r success and n-r failure is :\n",
    "\n",
    "$$p^r * (1-p)^{n-r}$$\n",
    "\n",
    "The number of ways we can achieve r successes is : \n",
    "\n",
    "$$\\frac{n!}{(n-r)!\\ *\\ r!}$$\n",
    "\n",
    "Hence, the probability mass function(pmf), which is the total probability of achieving r success and n-r failure is :\n",
    "\n",
    "$$\\frac{n!}{(n-r)!\\ *\\ r!}\\ *\\ p^r * (1-p)^{n-r}$$\n",
    "\n",
    "An example illustrating the distribution :\n",
    "Consider a random experiment of tossing a biased coin 6 times where the probability of getting a head is 0.6. If ‘getting a head’ is considered as ‘success’ then, the binomial distribution table will contain the probability of r successes for each possible value of r.\n",
    "\n",
    "\n"
   ]
  },
  {
   "cell_type": "markdown",
   "metadata": {},
   "source": [
    "# Binomial Distribution in model ensemble validation\n",
    "\n",
    "The ensemble in entirety, makes an error in case (M+1)/2 or more models make an error $\\epsilon$ simultaneously. Here, M is number of independent models and is assumed to be an odd number. The probability that exactly k independet models make an error is:\n",
    "\n",
    "$${P(exactly\\ k\\ hypotheses\\ make\\ an\\ error)} = \\binom{M}{k}\\ \\varepsilon^k{(1-\\varepsilon)}^{(M-k)}$$\n",
    "\n",
    "and probability of at least $(M+1)/2$ errors is the sum of errors for K, K+1, ...,M:\n",
    "\n",
    "$$P(errors) = \\sum_{k=(M+1)/2}^{M}{P(exactly\\ k\\ hypotheses\\ make\\ an\\ error)} = \\sum_{k=(M+1)/2}^{M}{\\binom{M}{k}\\ \\varepsilon^k{(1-\\varepsilon)}^{(M-k)}}$$\n",
    "\n",
    ", where\n",
    "\n",
    "$$\\binom{M}{k}\\ = \\frac{M!}{k!(M-k)!}$$\n",
    "\n",
    "\n",
    "\n"
   ]
  },
  {
   "cell_type": "code",
   "execution_count": 154,
   "metadata": {},
   "outputs": [],
   "source": [
    "import math"
   ]
  },
  {
   "cell_type": "code",
   "execution_count": 170,
   "metadata": {},
   "outputs": [],
   "source": [
    "# This function computes the probability that (M+1)/2 or more models make an error 'e'.\n",
    "def ComputeErrorProbability(M,e):\n",
    "\n",
    "    # k is the minimum number of models making error 'e'.\n",
    "    k = int((M+1)/2)\n",
    "    prob = 0\n",
    "    # total probability is the sum of probabilities for values of k, K+1,..M\n",
    "    # M+1 because the range function is inclusive on lower bound of k, and exclusive on upper bound M+1 \n",
    "    for i in range(k,M+1):\n",
    "        prob += (math.factorial(M)/(math.factorial(i)* math.factorial(M-i)))*pow(e,i)*(pow((1-e),M-i))\n",
    "        \n",
    "    \n",
    "    return prob\n"
   ]
  },
  {
   "cell_type": "markdown",
   "metadata": {},
   "source": [
    "## 1. The ensemble contains 11 independent models, all of which have an error rate of 0.2.\n",
    "\n"
   ]
  },
  {
   "cell_type": "code",
   "execution_count": 171,
   "metadata": {},
   "outputs": [
    {
     "name": "stdout",
     "output_type": "stream",
     "text": [
      "0.011654205440000008\n"
     ]
    }
   ],
   "source": [
    "print(ComputeErrorProbability(11,.2))"
   ]
  },
  {
   "cell_type": "markdown",
   "metadata": {},
   "source": [
    "## 2. The ensemble contains 11 independent models, all of which have an error rate of 0.49.\n"
   ]
  },
  {
   "cell_type": "code",
   "execution_count": 172,
   "metadata": {},
   "outputs": [
    {
     "name": "stdout",
     "output_type": "stream",
     "text": [
      "0.47294772571497457\n"
     ]
    }
   ],
   "source": [
    "print(ComputeErrorProbability(11,.49))"
   ]
  },
  {
   "cell_type": "markdown",
   "metadata": {},
   "source": [
    "## 3. The ensemble contains 21 independent models, all of which have an error rate of 0.49."
   ]
  },
  {
   "cell_type": "code",
   "execution_count": 173,
   "metadata": {},
   "outputs": [
    {
     "name": "stdout",
     "output_type": "stream",
     "text": [
      "0.46304790101273546\n"
     ]
    }
   ],
   "source": [
    "print(ComputeErrorProbability(21,.49))"
   ]
  }
 ],
 "metadata": {
  "kernelspec": {
   "display_name": "Python 3",
   "language": "python",
   "name": "python3"
  },
  "language_info": {
   "codemirror_mode": {
    "name": "ipython",
    "version": 3
   },
   "file_extension": ".py",
   "mimetype": "text/x-python",
   "name": "python",
   "nbconvert_exporter": "python",
   "pygments_lexer": "ipython3",
   "version": "3.7.4"
  },
  "pycharm": {
   "stem_cell": {
    "cell_type": "raw",
    "metadata": {
     "collapsed": false
    },
    "source": []
   }
  }
 },
 "nbformat": 4,
 "nbformat_minor": 1
}
