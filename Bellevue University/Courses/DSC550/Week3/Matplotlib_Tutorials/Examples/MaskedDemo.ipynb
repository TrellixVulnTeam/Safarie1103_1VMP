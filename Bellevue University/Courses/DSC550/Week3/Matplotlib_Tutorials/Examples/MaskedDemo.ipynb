{
 "cells": [
  {
   "cell_type": "code",
   "execution_count": 3,
   "metadata": {
    "pycharm": {
     "is_executing": false
    }
   },
   "outputs": [
    {
     "name": "stdout",
     "output_type": "stream",
     "text": [
      "[-1.57079633 -1.46607657 -1.36135682 -1.25663706 -1.15191731 -1.04719755\n",
      " -0.9424778  -0.83775804 -0.73303829 -0.62831853 -0.52359878 -0.41887902\n",
      " -0.31415927 -0.20943951 -0.10471976  0.          0.10471976  0.20943951\n",
      "  0.31415927  0.41887902  0.52359878  0.62831853  0.73303829  0.83775804\n",
      "  0.9424778   1.04719755  1.15191731  1.25663706  1.36135682  1.46607657\n",
      "  1.57079633]\n",
      "[2.29584502e-49 1.14209886e-03 8.98745504e-03 2.95084972e-02\n",
      " 6.72883532e-02 1.25000000e-01 2.03074810e-01 2.99593706e-01\n",
      " 4.10412306e-01 5.29508497e-01 6.49519053e-01 7.62413342e-01\n",
      " 8.60238700e-01 9.35864949e-01 9.83655551e-01 1.00000000e+00\n",
      " 9.83655551e-01 9.35864949e-01 8.60238700e-01 7.62413342e-01\n",
      " 6.49519053e-01 5.29508497e-01 4.10412306e-01 2.99593706e-01\n",
      " 2.03074810e-01 1.25000000e-01 6.72883532e-02 2.95084972e-02\n",
      " 8.98745504e-03 1.14209886e-03 2.29584502e-49]\n"
     ]
    }
   ],
   "source": [
    "import matplotlib.pyplot as plt\n",
    "import numpy as np\n",
    "\n",
    "\n",
    "x = np.linspace(-np.pi/2, np.pi/2, 31)\n",
    "y = np.cos(x)**3\n",
    "print(x)\n",
    "print(y)"
   ]
  },
  {
   "cell_type": "code",
   "execution_count": 5,
   "metadata": {},
   "outputs": [
    {
     "name": "stdout",
     "output_type": "stream",
     "text": [
      "-3.292502829545205e-26\n"
     ]
    }
   ],
   "source": [
    "print(np.cos(-1.57079633)**3)"
   ]
  },
  {
   "cell_type": "code",
   "execution_count": 6,
   "metadata": {
    "pycharm": {
     "is_executing": false,
     "name": "#%%\n"
    }
   },
   "outputs": [
    {
     "name": "stdout",
     "output_type": "stream",
     "text": [
      "[-1.57079633 -1.46607657 -1.36135682 -1.25663706 -1.15191731 -1.04719755\n",
      " -0.9424778  -0.83775804 -0.73303829 -0.62831853 -0.52359878  0.52359878\n",
      "  0.62831853  0.73303829  0.83775804  0.9424778   1.04719755  1.15191731\n",
      "  1.25663706  1.36135682  1.46607657  1.57079633]\n",
      "[2.29584502e-49 1.14209886e-03 8.98745504e-03 2.95084972e-02\n",
      " 6.72883532e-02 1.25000000e-01 2.03074810e-01 2.99593706e-01\n",
      " 4.10412306e-01 5.29508497e-01 6.49519053e-01 6.49519053e-01\n",
      " 5.29508497e-01 4.10412306e-01 2.99593706e-01 2.03074810e-01\n",
      " 1.25000000e-01 6.72883532e-02 2.95084972e-02 8.98745504e-03\n",
      " 1.14209886e-03 2.29584502e-49]\n"
     ]
    }
   ],
   "source": [
    "# 1) remove points where y > 0.7\n",
    "x2 = x[y <= 0.7]\n",
    "y2 = y[y <= 0.7]\n",
    "\n",
    "print(x2)\n",
    "print(y2)\n"
   ]
  },
  {
   "cell_type": "code",
   "execution_count": 9,
   "metadata": {},
   "outputs": [
    {
     "name": "stdout",
     "output_type": "stream",
     "text": [
      "31 [2.2958450216584675e-49 0.001142098857003247 0.008987455040201235\n",
      " 0.02950849718747372 0.06728835323306176 0.12499999999999992\n",
      " 0.20307481014556647 0.2995937061754068 0.4104123060349274\n",
      " 0.5295084971874737 0.6495190528383289 -- -- -- -- -- -- -- -- --\n",
      " 0.6495190528383291 0.5295084971874737 0.4104123060349278\n",
      " 0.299593706175407 0.20307481014556647 0.12500000000000025\n",
      " 0.06728835323306184 0.02950849718747372 0.008987455040201264\n",
      " 0.0011420988570032544 2.2958450216584675e-49]\n"
     ]
    }
   ],
   "source": [
    "# 2) mask points where y > 0.7\n",
    "y3 = np.ma.masked_where(y > 0.7, y)\n",
    "\n",
    "print(len(y3),y3)"
   ]
  },
  {
   "cell_type": "code",
   "execution_count": null,
   "metadata": {
    "pycharm": {
     "name": "#%%\n"
    }
   },
   "outputs": [],
   "source": [
    "# 3) set to NaN where y > 0.7\n",
    "y4 = y.copy()\n",
    "y4[y3 > 0.7] = np.nan\n",
    "\n",
    "plt.plot(x*0.1, y, 'o-', color='lightgrey', label='No mask')\n",
    "plt.plot(x2*0.4, y2, 'o-', label='Points removed')\n",
    "plt.plot(x*0.7, y3, 'o-', label='Masked values')\n",
    "plt.plot(x*1.0, y4, 'o-', label='NaN values')\n",
    "plt.legend()\n",
    "plt.title('Masked and NaN data')\n",
    "plt.show()\n"
   ]
  }
 ],
 "metadata": {
  "kernelspec": {
   "display_name": "Python 3",
   "language": "python",
   "name": "python3"
  },
  "language_info": {
   "codemirror_mode": {
    "name": "ipython",
    "version": 3
   },
   "file_extension": ".py",
   "mimetype": "text/x-python",
   "name": "python",
   "nbconvert_exporter": "python",
   "pygments_lexer": "ipython3",
   "version": "3.7.4"
  },
  "pycharm": {
   "stem_cell": {
    "cell_type": "raw",
    "metadata": {
     "collapsed": false
    },
    "source": []
   }
  }
 },
 "nbformat": 4,
 "nbformat_minor": 1
}
